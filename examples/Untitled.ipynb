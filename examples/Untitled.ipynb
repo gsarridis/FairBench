{
 "cells": [
  {
   "cell_type": "code",
   "execution_count": 1,
   "id": "6c9a85c6",
   "metadata": {},
   "outputs": [
    {
     "name": "stderr",
     "output_type": "stream",
     "text": [
      "The default pygrank backend has been set to \"numpy\" by the file C:\\Users\\manio\\.pygrank\\config.json\n",
      "Set your preferred backend as one of [\"numpy\", \"pytorch\", \"tensorflow\", \"torch_sparse\", \"matvec\", \"sparse_dot_mkl\"] and \"reminder\": false in that file to remove this message from future runs.\n"
     ]
    }
   ],
   "source": [
    "import pygrank as pg\n",
    "import fairbench as fb"
   ]
  },
  {
   "cell_type": "code",
   "execution_count": 4,
   "id": "b3d2541e",
   "metadata": {},
   "outputs": [
    {
     "name": "stderr",
     "output_type": "stream",
     "text": [
      "REQUIRED CITATION: Please visit the url http://www.sociopatterns.org/datasets/high-school-contact-and-friendship-networks for instructions on how to cite the dataset highschool in your research\n"
     ]
    },
    {
     "name": "stdout",
     "output_type": "stream",
     "text": [
      "Loaded highschool communities 11/20s\\manio\\.pygrank/data\r"
     ]
    }
   ],
   "source": [
    "_, graph, communities = next(pg.load_datasets_multiple_communities([\"highschool\"]))\n",
    "train, test = pg.split(pg.to_signal(graph, communities[0]), 0.5)\n",
    "sensitive_signal = pg.to_signal(graph, communities[1])\n",
    "labels = test.filter(exclude=train)\n",
    "sensitive_attribute = sensitive_signal.filter(exclude=train)"
   ]
  },
  {
   "cell_type": "code",
   "execution_count": 9,
   "id": "7813b5dc",
   "metadata": {},
   "outputs": [
    {
     "data": {
      "text/html": [
       "<table><tr><td><strong>gender0.0</strong></td><td>[1 0 0 0 1 0 1 1 1 0 1 1 0 1 0 0 0 0 0 1 0 1 0 1 1 0 0 0 0 1 0 0 0 1 0 1 1\n",
       " 1 1 0 0 1 1 1 1 1 1 1 1 1 1 1 0 1 1 1 1 1 1 0 0 0 1 0 1 1 1 1 1 0 1 1 0 1\n",
       " 1 0 0 0 1 0 0 0 1 0 1 0 0 0 1 0 0 0 0 0 0 0 0 0 1 1 1 0 0 1 1 0 1 1 1 1 0\n",
       " 1 1 0 0 1 0 0 1 1 1 0 1 1 1 1 1 1 1 0 1 0 0 0 1 1 0 0 1 1 1 1 0 1 1 1 1 1]</td></tr><tr><td><strong>gender1.0</strong></td><td>[0 1 1 1 0 1 0 0 0 1 0 0 1 0 1 1 1 1 1 0 1 0 1 0 0 1 1 1 1 0 1 1 1 0 1 0 0\n",
       " 0 0 1 1 0 0 0 0 0 0 0 0 0 0 0 1 0 0 0 0 0 0 1 1 1 0 1 0 0 0 0 0 1 0 0 1 0\n",
       " 0 1 1 1 0 1 1 1 0 1 0 1 1 1 0 1 1 1 1 1 1 1 1 1 0 0 0 1 1 0 0 1 0 0 0 0 1\n",
       " 0 0 1 1 0 1 1 0 0 0 1 0 0 0 0 0 0 0 1 0 1 1 1 0 0 1 1 0 0 0 0 1 0 0 0 0 0]</td></tr></table>"
      ],
      "text/plain": [
       "<fairbench.core.fork.Fork object at 0x00000230CEC06290>"
      ]
     },
     "execution_count": 9,
     "metadata": {},
     "output_type": "execute_result"
    }
   ],
   "source": [
    "sensitive = fb.Fork(gender=fb.categories @ sensitive_attribute)\n",
    "sensitive"
   ]
  },
  {
   "cell_type": "code",
   "execution_count": 10,
   "id": "44da2874",
   "metadata": {},
   "outputs": [
    {
     "data": {
      "text/plain": [
       "array([0.08441262, 0.09228937, 0.10078006, 0.05443014, 0.09033315,\n",
       "       0.09365017, 0.10861075, 0.06738911, 0.07250801, 0.08408919,\n",
       "       0.10651925, 0.0570073 , 0.10775795, 0.06393586, 0.08494535,\n",
       "       0.07769155, 0.09414253, 0.11834839, 0.08759787, 0.08846908,\n",
       "       0.11369663, 0.05320497, 0.09673177, 0.0733297 , 0.10710138,\n",
       "       0.13318806, 0.09332352, 0.06970426, 0.07100357, 0.05812314,\n",
       "       0.10177231, 0.07546912, 0.09470125, 0.03422945, 0.03703833,\n",
       "       0.01710846, 0.03111027, 0.01458516, 0.01695388, 0.01689512,\n",
       "       0.03710284, 0.07036256, 0.01565964, 0.0171823 , 0.00939737,\n",
       "       0.02108168, 0.01090504, 0.01444807, 0.0097317 , 0.01244548,\n",
       "       0.01023392, 0.01857298, 0.01328622, 0.0147618 , 0.01245283,\n",
       "       0.01143013, 0.01193768, 0.01120722, 0.02515559, 0.0160504 ,\n",
       "       0.01283806, 0.0073031 , 0.01919921, 0.01234127, 0.01254129,\n",
       "       0.01244651, 0.01459912, 0.01273068, 0.01466043, 0.01582932,\n",
       "       0.01040348, 0.01404293, 0.00924871, 0.02774275, 0.13350687,\n",
       "       0.13187545, 0.08384749, 0.04661466, 0.08695512, 0.0892382 ,\n",
       "       0.09044025, 0.03145746, 0.03096817, 0.02767087, 0.02209629,\n",
       "       0.08562414, 0.06723747, 0.07858337, 0.07873445, 0.0799833 ,\n",
       "       0.03089073, 0.05182654, 0.01793592, 0.01834657, 0.01920112,\n",
       "       0.07556934, 0.01844978, 0.08880449, 0.0637348 , 0.02265575,\n",
       "       0.03694335, 0.01609274, 0.01477844, 0.02101995, 0.01907501,\n",
       "       0.03084359, 0.02396628, 0.02582515, 0.0177997 , 0.00577723,\n",
       "       0.00577723, 0.00544864, 0.00577723, 0.05470968, 0.0521256 ,\n",
       "       0.06302651, 0.01551526, 0.00982766, 0.01465145, 0.00833146,\n",
       "       0.01019954, 0.0103141 , 0.01044168, 0.00948323, 0.00925779,\n",
       "       0.01019954, 0.00938184, 0.01388241, 0.01315766, 0.01047098,\n",
       "       0.00954591, 0.08535625, 0.06674692, 0.00791548, 0.01596851,\n",
       "       0.01199949, 0.00983937, 0.01521734, 0.00483287, 0.00466069,\n",
       "       0.00802534, 0.01244773, 0.01183378, 0.00462143, 0.01071102,\n",
       "       0.01503236, 0.01047077, 0.00489717])"
      ]
     },
     "execution_count": 10,
     "metadata": {},
     "output_type": "execute_result"
    }
   ],
   "source": [
    "algorithm = pg.PageRank(alpha=0.85)\n",
    "scores = algorithm(train).filter(exclude=train)\n",
    "scores"
   ]
  },
  {
   "cell_type": "code",
   "execution_count": 18,
   "id": "195fccb6",
   "metadata": {},
   "outputs": [
    {
     "data": {
      "text/html": [
       "<div style=\"display: inline-block; float: left;\"><h3>min</h3><table><tr><td><strong>auc</strong></td><td>0.680</td></tr><tr><td><strong>phi</strong></td><td>0.030</td></tr><tr><td><strong>tophr</strong></td><td>0.040</td></tr><tr><td><strong>toprec</strong></td><td>1.000</td></tr><tr><td><strong>avghr</strong></td><td>0.005</td></tr><tr><td><strong>avgrepr</strong></td><td>0.556</td></tr></table></div><div style=\"display: inline-block; float: left;\"><h3>wmean</h3><table><tr><td><strong>auc</strong></td><td>0.780</td></tr><tr><td><strong>phi</strong></td><td>0.041</td></tr><tr><td><strong>tophr</strong></td><td>0.084</td></tr><tr><td><strong>toprec</strong></td><td>1.000</td></tr><tr><td><strong>avghr</strong></td><td>0.016</td></tr><tr><td><strong>avgrepr</strong></td><td>1.000</td></tr></table></div><div style=\"display: inline-block; float: left;\"><h3>minratio</h3><table><tr><td><strong>auc</strong></td><td>0.792</td></tr><tr><td><strong>phi</strong></td><td>0.540</td></tr><tr><td><strong>tophr</strong></td><td>0.286</td></tr><tr><td><strong>toprec</strong></td><td>1.000</td></tr><tr><td><strong>avghr</strong></td><td>0.147</td></tr><tr><td><strong>avgrepr</strong></td><td>0.355</td></tr></table></div><div style=\"display: inline-block; float: left;\"><h3>maxdiff</h3><table><tr><td><strong>auc</strong></td><td>0.178</td></tr><tr><td><strong>phi</strong></td><td>0.025</td></tr><tr><td><strong>tophr</strong></td><td>0.100</td></tr><tr><td><strong>toprec</strong></td><td>0.000</td></tr><tr><td><strong>avghr</strong></td><td>0.026</td></tr><tr><td><strong>avgrepr</strong></td><td>1.011</td></tr></table></div><div style=\"display: inline-block; float: left;\"><h3>maxbarea</h3><table><tr><td><strong>auc</strong></td><td>0.169</td></tr><tr><td><strong>phi</strong></td><td>---</td></tr><tr><td><strong>tophr</strong></td><td>---</td></tr><tr><td><strong>toprec</strong></td><td>---</td></tr><tr><td><strong>avghr</strong></td><td>0.035</td></tr><tr><td><strong>avgrepr</strong></td><td>1.083</td></tr></table></div><div style=\"display: inline-block; float: left;\"><h3>maxbdcg</h3><table><tr><td><strong>auc</strong></td><td>0.184</td></tr><tr><td><strong>phi</strong></td><td>---</td></tr><tr><td><strong>tophr</strong></td><td>---</td></tr><tr><td><strong>toprec</strong></td><td>---</td></tr><tr><td><strong>avghr</strong></td><td>0.047</td></tr><tr><td><strong>avgrepr</strong></td><td>1.094</td></tr></table></div>"
      ],
      "text/plain": [
       "<fairbench.core.fork.Fork object at 0x00000230FFD4D690>"
      ]
     },
     "execution_count": 18,
     "metadata": {},
     "output_type": "execute_result"
    }
   ],
   "source": [
    "report = fb.multireport(labels=labels, scores=scores, sensitive=sensitive, top=50)\n",
    "report"
   ]
  },
  {
   "cell_type": "code",
   "execution_count": 19,
   "id": "77b01d2e",
   "metadata": {},
   "outputs": [
    {
     "data": {
      "image/png": "[encoded data removed]",
      "text/plain": [
       "<Figure size 640x480 with 1 Axes>"
      ]
     },
     "metadata": {},
     "output_type": "display_data"
    }
   ],
   "source": [
    "fb.visualize(report.maxbarea.auc.explain.explain.curve)"
   ]
  },
  {
   "cell_type": "code",
   "execution_count": 23,
   "id": "c60ecb21",
   "metadata": {},
   "outputs": [],
   "source": [
    "fair_algorithm = pg.LFPR(alpha=0.85, redistributor=\"original\")\n",
    "fair_scores = fair_algorithm(train, sensitive=sensitive_signal).filter(exclude=train)\n",
    "fair_report = fb.multireport(\n",
    "    labels=labels, scores=fair_scores, sensitive=sensitive, top=50\n",
    ")"
   ]
  },
  {
   "cell_type": "code",
   "execution_count": 25,
   "id": "f2bbb61f",
   "metadata": {},
   "outputs": [
    {
     "data": {
      "text/html": [
       "<table><tr><td><strong>ppr</strong></td><td>min: \n",
       "   auc: 0.680\n",
       "   phi: 0.030\n",
       "   tophr: 0.040\n",
       "   toprec: 1.000\n",
       "   avghr: 0.005\n",
       "   avgrepr: 0.556\n",
       "wmean: \n",
       "   auc: 0.780\n",
       "   phi: 0.041\n",
       "   tophr: 0.084\n",
       "   toprec: 1.000\n",
       "   avghr: 0.016\n",
       "   avgrepr: 1.000\n",
       "minratio: \n",
       "   auc: 0.792\n",
       "   phi: 0.540\n",
       "   tophr: 0.286\n",
       "   toprec: 1.000\n",
       "   avghr: 0.147\n",
       "   avgrepr: 0.355\n",
       "maxdiff: \n",
       "   auc: 0.178\n",
       "   phi: 0.025\n",
       "   tophr: 0.100\n",
       "   toprec: 0.000\n",
       "   avghr: 0.026\n",
       "   avgrepr: 1.011\n",
       "maxbarea: \n",
       "   auc: 0.169\n",
       "   phi: ---\n",
       "   tophr: ---\n",
       "   toprec: ---\n",
       "   avghr: 0.035\n",
       "   avgrepr: 1.083\n",
       "maxbdcg: \n",
       "   auc: 0.184\n",
       "   phi: ---\n",
       "   tophr: ---\n",
       "   toprec: ---\n",
       "   avghr: 0.047\n",
       "   avgrepr: 1.094</td></tr><tr><td><strong>lfpr</strong></td><td>min: \n",
       "   auc: 0.589\n",
       "   phi: 0.039\n",
       "   tophr: 0.040\n",
       "   toprec: 1.000\n",
       "   avghr: 0.005\n",
       "   avgrepr: 0.984\n",
       "wmean: \n",
       "   auc: 0.743\n",
       "   phi: 0.040\n",
       "   tophr: 0.084\n",
       "   toprec: 1.000\n",
       "   avghr: 0.012\n",
       "   avgrepr: 1.000\n",
       "minratio: \n",
       "   auc: 0.681\n",
       "   phi: 0.941\n",
       "   tophr: 0.286\n",
       "   toprec: 1.000\n",
       "   avghr: 0.227\n",
       "   avgrepr: 0.972\n",
       "maxdiff: \n",
       "   auc: 0.276\n",
       "   phi: 0.002\n",
       "   tophr: 0.100\n",
       "   toprec: 0.000\n",
       "   avghr: 0.016\n",
       "   avgrepr: 0.028\n",
       "maxbarea: \n",
       "   auc: 0.262\n",
       "   phi: ---\n",
       "   tophr: ---\n",
       "   toprec: ---\n",
       "   avghr: 0.025\n",
       "   avgrepr: 0.518\n",
       "maxbdcg: \n",
       "   auc: 0.276\n",
       "   phi: ---\n",
       "   tophr: ---\n",
       "   toprec: ---\n",
       "   avghr: 0.024\n",
       "   avgrepr: 0.705</td></tr></table>"
      ],
      "text/plain": [
       "<fairbench.core.fork.Fork object at 0x00000230FFB6E170>"
      ]
     },
     "execution_count": 25,
     "metadata": {},
     "output_type": "execute_result"
    }
   ],
   "source": [
    "combined = fb.Fork(ppr=report, lfpr=fair_report)\n",
    "combined"
   ]
  },
  {
   "cell_type": "code",
   "execution_count": 28,
   "id": "23d6ecca",
   "metadata": {},
   "outputs": [
    {
     "data": {
      "text/html": [
       "<style>\n",
       "        .bk-notebook-logo {\n",
       "            display: block;\n",
       "            width: 20px;\n",
       "            height: 20px;\n",
       "            background-image: url(data:image/png;base64,iVBORw0KGgoAAAANSUhEUgAAABQAAAAUCAYAAACNiR0NAAAABHNCSVQICAgIfAhkiAAAAAlwSFlzAAALEgAACxIB0t1+/AAAABx0RVh0U29mdHdhcmUAQWRvYmUgRmlyZXdvcmtzIENTNui8sowAAAOkSURBVDiNjZRtaJVlGMd/1/08zzln5zjP1LWcU9N0NkN8m2CYjpgQYQXqSs0I84OLIC0hkEKoPtiH3gmKoiJDU7QpLgoLjLIQCpEsNJ1vqUOdO7ppbuec5+V+rj4ctwzd8IIbbi6u+8f1539dt3A78eXC7QizUF7gyV1fD1Yqg4JWz84yffhm0qkFqBogB9rM8tZdtwVsPUhWhGcFJngGeWrPzHm5oaMmkfEg1usvLFyc8jLRqDOMru7AyC8saQr7GG7f5fvDeH7Ej8CM66nIF+8yngt6HWaKh7k49Soy9nXurCi1o3qUbS3zWfrYeQDTB/Qj6kX6Ybhw4B+bOYoLKCC9H3Nu/leUTZ1JdRWkkn2ldcCamzrcf47KKXdAJllSlxAOkRgyHsGC/zRday5Qld9DyoM4/q/rUoy/CXh3jzOu3bHUVZeU+DEn8FInkPBFlu3+nW3Nw0mk6vCDiWg8CeJaxEwuHS3+z5RgY+YBR6V1Z1nxSOfoaPa4LASWxxdNp+VWTk7+4vzaou8v8PN+xo+KY2xsw6une2frhw05CTYOmQvsEhjhWjn0bmXPjpE1+kplmmkP3suftwTubK9Vq22qKmrBhpY4jvd5afdRA3wGjFAgcnTK2s4hY0/GPNIb0nErGMCRxWOOX64Z8RAC4oCXdklmEvcL8o0BfkNK4lUg9HTl+oPlQxdNo3Mg4Nv175e/1LDGzZen30MEjRUtmXSfiTVu1kK8W4txyV6BMKlbgk3lMwYCiusNy9fVfvvwMxv8Ynl6vxoByANLTWplvuj/nF9m2+PDtt1eiHPBr1oIfhCChQMBw6Aw0UulqTKZdfVvfG7VcfIqLG9bcldL/+pdWTLxLUy8Qq38heUIjh4XlzZxzQm19lLFlr8vdQ97rjZVOLf8nclzckbcD4wxXMidpX30sFd37Fv/GtwwhzhxGVAprjbg0gCAEeIgwCZyTV2Z1REEW8O4py0wsjeloKoMr6iCY6dP92H6Vw/oTyICIthibxjm/DfN9lVz8IqtqKYLUXfoKVMVQVVJOElGjrnnUt9T9wbgp8AyYKaGlqingHZU/uG2NTZSVqwHQTWkx9hxjkpWDaCg6Ckj5qebgBVbT3V3NNXMSiWSDdGV3hrtzla7J+duwPOToIg42ChPQOQjspnSlp1V+Gjdged7+8UN5CRAV7a5EdFNwCjEaBR27b3W890TE7g24NAP/mMDXRWrGoFPQI9ls/MWO2dWFAar/xcOIImbbpA3zgAAAABJRU5ErkJggg==);\n",
       "        }\n",
       "    </style>\n",
       "    <div>\n",
       "        <a href=\"https://bokeh.org\" target=\"_blank\" class=\"bk-notebook-logo\"></a>\n",
       "        <span id=\"p1001\">Loading BokehJS ...</span>\n",
       "    </div>\n"
      ]
     },
     "metadata": {},
     "output_type": "display_data"
    },
    {
     "data": {
      "application/javascript": [
       "(function(root) {\n",
       "  function now() {\n",
       "    return new Date();\n",
       "  }\n",
       "\n",
       "  const force = true;\n",
       "\n",
       "  if (typeof root._bokeh_onload_callbacks === \"undefined\" || force === true) {\n",
       "    root._bokeh_onload_callbacks = [];\n",
       "    root._bokeh_is_loading = undefined;\n",
       "  }\n",
       "\n",
       "const JS_MIME_TYPE = 'application/javascript';\n",
       "  const HTML_MIME_TYPE = 'text/html';\n",
       "  const EXEC_MIME_TYPE = 'application/vnd.bokehjs_exec.v0+json';\n",
       "  const CLASS_NAME = 'output_bokeh rendered_html';\n",
       "\n",
       "  /**\n",
       "   * Render data to the DOM node\n",
       "   */\n",
       "  function render(props, node) {\n",
       "    const script = document.createElement(\"script\");\n",
       "    node.appendChild(script);\n",
       "  }\n",
       "\n",
       "  /**\n",
       "   * Handle when an output is cleared or removed\n",
       "   */\n",
       "  function handleClearOutput(event, handle) {\n",
       "    const cell = handle.cell;\n",
       "\n",
       "    const id = cell.output_area._bokeh_element_id;\n",
       "    const server_id = cell.output_area._bokeh_server_id;\n",
       "    // Clean up Bokeh references\n",
       "    if (id != null && id in Bokeh.index) {\n",
       "      Bokeh.index[id].model.document.clear();\n",
       "      delete Bokeh.index[id];\n",
       "    }\n",
       "\n",
       "    if (server_id !== undefined) {\n",
       "      // Clean up Bokeh references\n",
       "      const cmd_clean = \"from bokeh.io.state import curstate; print(curstate().uuid_to_server['\" + server_id + \"'].get_sessions()[0].document.roots[0]._id)\";\n",
       "      cell.notebook.kernel.execute(cmd_clean, {\n",
       "        iopub: {\n",
       "          output: function(msg) {\n",
       "            const id = msg.content.text.trim();\n",
       "            if (id in Bokeh.index) {\n",
       "              Bokeh.index[id].model.document.clear();\n",
       "              delete Bokeh.index[id];\n",
       "            }\n",
       "          }\n",
       "        }\n",
       "      });\n",
       "      // Destroy server and session\n",
       "      const cmd_destroy = \"import bokeh.io.notebook as ion; ion.destroy_server('\" + server_id + \"')\";\n",
       "      cell.notebook.kernel.execute(cmd_destroy);\n",
       "    }\n",
       "  }\n",
       "\n",
       "  /**\n",
       "   * Handle when a new output is added\n",
       "   */\n",
       "  function handleAddOutput(event, handle) {\n",
       "    const output_area = handle.output_area;\n",
       "    const output = handle.output;\n",
       "\n",
       "    // limit handleAddOutput to display_data with EXEC_MIME_TYPE content only\n",
       "    if ((output.output_type != \"display_data\") || (!Object.prototype.hasOwnProperty.call(output.data, EXEC_MIME_TYPE))) {\n",
       "      return\n",
       "    }\n",
       "\n",
       "    const toinsert = output_area.element.find(\".\" + CLASS_NAME.split(' ')[0]);\n",
       "\n",
       "    if (output.metadata[EXEC_MIME_TYPE][\"id\"] !== undefined) {\n",
       "      toinsert[toinsert.length - 1].firstChild.textContent = output.data[JS_MIME_TYPE];\n",
       "      // store reference to embed id on output_area\n",
       "      output_area._bokeh_element_id = output.metadata[EXEC_MIME_TYPE][\"id\"];\n",
       "    }\n",
       "    if (output.metadata[EXEC_MIME_TYPE][\"server_id\"] !== undefined) {\n",
       "      const bk_div = document.createElement(\"div\");\n",
       "      bk_div.innerHTML = output.data[HTML_MIME_TYPE];\n",
       "      const script_attrs = bk_div.children[0].attributes;\n",
       "      for (let i = 0; i < script_attrs.length; i++) {\n",
       "        toinsert[toinsert.length - 1].firstChild.setAttribute(script_attrs[i].name, script_attrs[i].value);\n",
       "        toinsert[toinsert.length - 1].firstChild.textContent = bk_div.children[0].textContent\n",
       "      }\n",
       "      // store reference to server id on output_area\n",
       "      output_area._bokeh_server_id = output.metadata[EXEC_MIME_TYPE][\"server_id\"];\n",
       "    }\n",
       "  }\n",
       "\n",
       "  function register_renderer(events, OutputArea) {\n",
       "\n",
       "    function append_mime(data, metadata, element) {\n",
       "      // create a DOM node to render to\n",
       "      const toinsert = this.create_output_subarea(\n",
       "        metadata,\n",
       "        CLASS_NAME,\n",
       "        EXEC_MIME_TYPE\n",
       "      );\n",
       "      this.keyboard_manager.register_events(toinsert);\n",
       "      // Render to node\n",
       "      const props = {data: data, metadata: metadata[EXEC_MIME_TYPE]};\n",
       "      render(props, toinsert[toinsert.length - 1]);\n",
       "      element.append(toinsert);\n",
       "      return toinsert\n",
       "    }\n",
       "\n",
       "    /* Handle when an output is cleared or removed */\n",
       "    events.on('clear_output.CodeCell', handleClearOutput);\n",
       "    events.on('delete.Cell', handleClearOutput);\n",
       "\n",
       "    /* Handle when a new output is added */\n",
       "    events.on('output_added.OutputArea', handleAddOutput);\n",
       "\n",
       "    /**\n",
       "     * Register the mime type and append_mime function with output_area\n",
       "     */\n",
       "    OutputArea.prototype.register_mime_type(EXEC_MIME_TYPE, append_mime, {\n",
       "      /* Is output safe? */\n",
       "      safe: true,\n",
       "      /* Index of renderer in `output_area.display_order` */\n",
       "      index: 0\n",
       "    });\n",
       "  }\n",
       "\n",
       "  // register the mime type if in Jupyter Notebook environment and previously unregistered\n",
       "  if (root.Jupyter !== undefined) {\n",
       "    const events = require('base/js/events');\n",
       "    const OutputArea = require('notebook/js/outputarea').OutputArea;\n",
       "\n",
       "    if (OutputArea.prototype.mime_types().indexOf(EXEC_MIME_TYPE) == -1) {\n",
       "      register_renderer(events, OutputArea);\n",
       "    }\n",
       "  }\n",
       "  if (typeof (root._bokeh_timeout) === \"undefined\" || force === true) {\n",
       "    root._bokeh_timeout = Date.now() + 5000;\n",
       "    root._bokeh_failed_load = false;\n",
       "  }\n",
       "\n",
       "  const NB_LOAD_WARNING = {'data': {'text/html':\n",
       "     \"<div style='background-color: #fdd'>\\n\"+\n",
       "     \"<p>\\n\"+\n",
       "     \"BokehJS does not appear to have successfully loaded. If loading BokehJS from CDN, this \\n\"+\n",
       "     \"may be due to a slow or bad network connection. Possible fixes:\\n\"+\n",
       "     \"</p>\\n\"+\n",
       "     \"<ul>\\n\"+\n",
       "     \"<li>re-rerun `output_notebook()` to attempt to load from CDN again, or</li>\\n\"+\n",
       "     \"<li>use INLINE resources instead, as so:</li>\\n\"+\n",
       "     \"</ul>\\n\"+\n",
       "     \"<code>\\n\"+\n",
       "     \"from bokeh.resources import INLINE\\n\"+\n",
       "     \"output_notebook(resources=INLINE)\\n\"+\n",
       "     \"</code>\\n\"+\n",
       "     \"</div>\"}};\n",
       "\n",
       "  function display_loaded() {\n",
       "    const el = document.getElementById(\"p1001\");\n",
       "    if (el != null) {\n",
       "      el.textContent = \"BokehJS is loading...\";\n",
       "    }\n",
       "    if (root.Bokeh !== undefined) {\n",
       "      if (el != null) {\n",
       "        el.textContent = \"BokehJS \" + root.Bokeh.version + \" successfully loaded.\";\n",
       "      }\n",
       "    } else if (Date.now() < root._bokeh_timeout) {\n",
       "      setTimeout(display_loaded, 100)\n",
       "    }\n",
       "  }\n",
       "\n",
       "  function run_callbacks() {\n",
       "    try {\n",
       "      root._bokeh_onload_callbacks.forEach(function(callback) {\n",
       "        if (callback != null)\n",
       "          callback();\n",
       "      });\n",
       "    } finally {\n",
       "      delete root._bokeh_onload_callbacks\n",
       "    }\n",
       "    console.debug(\"Bokeh: all callbacks have finished\");\n",
       "  }\n",
       "\n",
       "  function load_libs(css_urls, js_urls, callback) {\n",
       "    if (css_urls == null) css_urls = [];\n",
       "    if (js_urls == null) js_urls = [];\n",
       "\n",
       "    root._bokeh_onload_callbacks.push(callback);\n",
       "    if (root._bokeh_is_loading > 0) {\n",
       "      console.debug(\"Bokeh: BokehJS is being loaded, scheduling callback at\", now());\n",
       "      return null;\n",
       "    }\n",
       "    if (js_urls == null || js_urls.length === 0) {\n",
       "      run_callbacks();\n",
       "      return null;\n",
       "    }\n",
       "    console.debug(\"Bokeh: BokehJS not loaded, scheduling load and callback at\", now());\n",
       "    root._bokeh_is_loading = css_urls.length + js_urls.length;\n",
       "\n",
       "    function on_load() {\n",
       "      root._bokeh_is_loading--;\n",
       "      if (root._bokeh_is_loading === 0) {\n",
       "        console.debug(\"Bokeh: all BokehJS libraries/stylesheets loaded\");\n",
       "        run_callbacks()\n",
       "      }\n",
       "    }\n",
       "\n",
       "    function on_error(url) {\n",
       "      console.error(\"failed to load \" + url);\n",
       "    }\n",
       "\n",
       "    for (let i = 0; i < css_urls.length; i++) {\n",
       "      const url = css_urls[i];\n",
       "      const element = document.createElement(\"link\");\n",
       "      element.onload = on_load;\n",
       "      element.onerror = on_error.bind(null, url);\n",
       "      element.rel = \"stylesheet\";\n",
       "      element.type = \"text/css\";\n",
       "      element.href = url;\n",
       "      console.debug(\"Bokeh: injecting link tag for BokehJS stylesheet: \", url);\n",
       "      document.body.appendChild(element);\n",
       "    }\n",
       "\n",
       "    for (let i = 0; i < js_urls.length; i++) {\n",
       "      const url = js_urls[i];\n",
       "      const element = document.createElement('script');\n",
       "      element.onload = on_load;\n",
       "      element.onerror = on_error.bind(null, url);\n",
       "      element.async = false;\n",
       "      element.src = url;\n",
       "      console.debug(\"Bokeh: injecting script tag for BokehJS library: \", url);\n",
       "      document.head.appendChild(element);\n",
       "    }\n",
       "  };\n",
       "\n",
       "  function inject_raw_css(css) {\n",
       "    const element = document.createElement(\"style\");\n",
       "    element.appendChild(document.createTextNode(css));\n",
       "    document.body.appendChild(element);\n",
       "  }\n",
       "\n",
       "  const js_urls = [\"https://cdn.bokeh.org/bokeh/release/bokeh-3.0.3.min.js\", \"https://cdn.bokeh.org/bokeh/release/bokeh-gl-3.0.3.min.js\", \"https://cdn.bokeh.org/bokeh/release/bokeh-widgets-3.0.3.min.js\", \"https://cdn.bokeh.org/bokeh/release/bokeh-tables-3.0.3.min.js\", \"https://cdn.bokeh.org/bokeh/release/bokeh-mathjax-3.0.3.min.js\"];\n",
       "  const css_urls = [];\n",
       "\n",
       "  const inline_js = [    function(Bokeh) {\n",
       "      Bokeh.set_log_level(\"info\");\n",
       "    },\n",
       "function(Bokeh) {\n",
       "    }\n",
       "  ];\n",
       "\n",
       "  function run_inline_js() {\n",
       "    if (root.Bokeh !== undefined || force === true) {\n",
       "          for (let i = 0; i < inline_js.length; i++) {\n",
       "      inline_js[i].call(root, root.Bokeh);\n",
       "    }\n",
       "if (force === true) {\n",
       "        display_loaded();\n",
       "      }} else if (Date.now() < root._bokeh_timeout) {\n",
       "      setTimeout(run_inline_js, 100);\n",
       "    } else if (!root._bokeh_failed_load) {\n",
       "      console.log(\"Bokeh: BokehJS failed to load within specified timeout.\");\n",
       "      root._bokeh_failed_load = true;\n",
       "    } else if (force !== true) {\n",
       "      const cell = $(document.getElementById(\"p1001\")).parents('.cell').data().cell;\n",
       "      cell.output_area.append_execute_result(NB_LOAD_WARNING)\n",
       "    }\n",
       "  }\n",
       "\n",
       "  if (root._bokeh_is_loading === 0) {\n",
       "    console.debug(\"Bokeh: BokehJS loaded, going straight to plotting\");\n",
       "    run_inline_js();\n",
       "  } else {\n",
       "    load_libs(css_urls, js_urls, function() {\n",
       "      console.debug(\"Bokeh: BokehJS plotting callback run at\", now());\n",
       "      run_inline_js();\n",
       "    });\n",
       "  }\n",
       "}(window));"
      ],
      "application/vnd.bokehjs_load.v0+json": "(function(root) {\n  function now() {\n    return new Date();\n  }\n\n  const force = true;\n\n  if (typeof root._bokeh_onload_callbacks === \"undefined\" || force === true) {\n    root._bokeh_onload_callbacks = [];\n    root._bokeh_is_loading = undefined;\n  }\n\n\n  if (typeof (root._bokeh_timeout) === \"undefined\" || force === true) {\n    root._bokeh_timeout = Date.now() + 5000;\n    root._bokeh_failed_load = false;\n  }\n\n  const NB_LOAD_WARNING = {'data': {'text/html':\n     \"<div style='background-color: #fdd'>\\n\"+\n     \"<p>\\n\"+\n     \"BokehJS does not appear to have successfully loaded. If loading BokehJS from CDN, this \\n\"+\n     \"may be due to a slow or bad network connection. Possible fixes:\\n\"+\n     \"</p>\\n\"+\n     \"<ul>\\n\"+\n     \"<li>re-rerun `output_notebook()` to attempt to load from CDN again, or</li>\\n\"+\n     \"<li>use INLINE resources instead, as so:</li>\\n\"+\n     \"</ul>\\n\"+\n     \"<code>\\n\"+\n     \"from bokeh.resources import INLINE\\n\"+\n     \"output_notebook(resources=INLINE)\\n\"+\n     \"</code>\\n\"+\n     \"</div>\"}};\n\n  function display_loaded() {\n    const el = document.getElementById(\"p1001\");\n    if (el != null) {\n      el.textContent = \"BokehJS is loading...\";\n    }\n    if (root.Bokeh !== undefined) {\n      if (el != null) {\n        el.textContent = \"BokehJS \" + root.Bokeh.version + \" successfully loaded.\";\n      }\n    } else if (Date.now() < root._bokeh_timeout) {\n      setTimeout(display_loaded, 100)\n    }\n  }\n\n  function run_callbacks() {\n    try {\n      root._bokeh_onload_callbacks.forEach(function(callback) {\n        if (callback != null)\n          callback();\n      });\n    } finally {\n      delete root._bokeh_onload_callbacks\n    }\n    console.debug(\"Bokeh: all callbacks have finished\");\n  }\n\n  function load_libs(css_urls, js_urls, callback) {\n    if (css_urls == null) css_urls = [];\n    if (js_urls == null) js_urls = [];\n\n    root._bokeh_onload_callbacks.push(callback);\n    if (root._bokeh_is_loading > 0) {\n      console.debug(\"Bokeh: BokehJS is being loaded, scheduling callback at\", now());\n      return null;\n    }\n    if (js_urls == null || js_urls.length === 0) {\n      run_callbacks();\n      return null;\n    }\n    console.debug(\"Bokeh: BokehJS not loaded, scheduling load and callback at\", now());\n    root._bokeh_is_loading = css_urls.length + js_urls.length;\n\n    function on_load() {\n      root._bokeh_is_loading--;\n      if (root._bokeh_is_loading === 0) {\n        console.debug(\"Bokeh: all BokehJS libraries/stylesheets loaded\");\n        run_callbacks()\n      }\n    }\n\n    function on_error(url) {\n      console.error(\"failed to load \" + url);\n    }\n\n    for (let i = 0; i < css_urls.length; i++) {\n      const url = css_urls[i];\n      const element = document.createElement(\"link\");\n      element.onload = on_load;\n      element.onerror = on_error.bind(null, url);\n      element.rel = \"stylesheet\";\n      element.type = \"text/css\";\n      element.href = url;\n      console.debug(\"Bokeh: injecting link tag for BokehJS stylesheet: \", url);\n      document.body.appendChild(element);\n    }\n\n    for (let i = 0; i < js_urls.length; i++) {\n      const url = js_urls[i];\n      const element = document.createElement('script');\n      element.onload = on_load;\n      element.onerror = on_error.bind(null, url);\n      element.async = false;\n      element.src = url;\n      console.debug(\"Bokeh: injecting script tag for BokehJS library: \", url);\n      document.head.appendChild(element);\n    }\n  };\n\n  function inject_raw_css(css) {\n    const element = document.createElement(\"style\");\n    element.appendChild(document.createTextNode(css));\n    document.body.appendChild(element);\n  }\n\n  const js_urls = [\"https://cdn.bokeh.org/bokeh/release/bokeh-3.0.3.min.js\", \"https://cdn.bokeh.org/bokeh/release/bokeh-gl-3.0.3.min.js\", \"https://cdn.bokeh.org/bokeh/release/bokeh-widgets-3.0.3.min.js\", \"https://cdn.bokeh.org/bokeh/release/bokeh-tables-3.0.3.min.js\", \"https://cdn.bokeh.org/bokeh/release/bokeh-mathjax-3.0.3.min.js\"];\n  const css_urls = [];\n\n  const inline_js = [    function(Bokeh) {\n      Bokeh.set_log_level(\"info\");\n    },\nfunction(Bokeh) {\n    }\n  ];\n\n  function run_inline_js() {\n    if (root.Bokeh !== undefined || force === true) {\n          for (let i = 0; i < inline_js.length; i++) {\n      inline_js[i].call(root, root.Bokeh);\n    }\nif (force === true) {\n        display_loaded();\n      }} else if (Date.now() < root._bokeh_timeout) {\n      setTimeout(run_inline_js, 100);\n    } else if (!root._bokeh_failed_load) {\n      console.log(\"Bokeh: BokehJS failed to load within specified timeout.\");\n      root._bokeh_failed_load = true;\n    } else if (force !== true) {\n      const cell = $(document.getElementById(\"p1001\")).parents('.cell').data().cell;\n      cell.output_area.append_execute_result(NB_LOAD_WARNING)\n    }\n  }\n\n  if (root._bokeh_is_loading === 0) {\n    console.debug(\"Bokeh: BokehJS loaded, going straight to plotting\");\n    run_inline_js();\n  } else {\n    load_libs(css_urls, js_urls, function() {\n      console.debug(\"Bokeh: BokehJS plotting callback run at\", now());\n      run_inline_js();\n    });\n  }\n}(window));"
     },
     "metadata": {},
     "output_type": "display_data"
    },
    {
     "data": {
      "application/vnd.bokehjs_exec.v0+json": "",
      "text/html": [
       "<script id=\"p1002\">\n",
       "  (function() {\n",
       "    const xhr = new XMLHttpRequest()\n",
       "    xhr.responseType = 'blob';\n",
       "    xhr.open('GET', \"http://localhost:59441/autoload.js?bokeh-autoload-element=p1002&bokeh-absolute-url=http://localhost:59441&resources=none\", true);\n",
       "    xhr.onload = function (event) {\n",
       "      const script = document.createElement('script');\n",
       "      const src = URL.createObjectURL(event.target.response);\n",
       "      script.src = src;\n",
       "      document.body.appendChild(script);\n",
       "    };\n",
       "    xhr.send();\n",
       "  })();\n",
       "</script>"
      ]
     },
     "metadata": {
      "application/vnd.bokehjs_exec.v0+json": {
       "server_id": "3eb2562300024a2eaa98339d2f4ed2d6"
      }
     },
     "output_type": "display_data"
    }
   ],
   "source": [
    "fb.interactive(combined)"
   ]
  },
  {
   "cell_type": "code",
   "execution_count": 21,
   "id": "30ee91c5",
   "metadata": {},
   "outputs": [
    {
     "data": {
      "text/html": [
       "<table><tr><td><strong>gender1.0</strong></td><td>0.680</td></tr><tr><td><strong>gender0.0</strong></td><td>0.858</td></tr></table>"
      ],
      "text/plain": [
       "<fairbench.core.fork.Fork object at 0x00000230FFD992A0>"
      ]
     },
     "execution_count": 21,
     "metadata": {},
     "output_type": "execute_result"
    }
   ],
   "source": [
    "fb.auc(scores=scores, sensitive=sensitive)"
   ]
  },
  {
   "cell_type": "code",
   "execution_count": 22,
   "id": "f8949521",
   "metadata": {},
   "outputs": [
    {
     "data": {
      "text/plain": [
       "0.1688311688311688"
      ]
     },
     "execution_count": 22,
     "metadata": {},
     "output_type": "execute_result"
    }
   ],
   "source": [
    "value = fb.areduce(\n",
    "    fb.auc(labels=labels, scores=scores, sensitive=sensitive),\n",
    "    reducer=fb.reducers.max,\n",
    "    expand=fb.expanders.barea,\n",
    ")\n",
    "value"
   ]
  },
  {
   "cell_type": "code",
   "execution_count": null,
   "id": "e4c5a9e6",
   "metadata": {},
   "outputs": [],
   "source": [
    "report = fb.Fork(auc=fb.reduce(fb.auc(scores=scores, labels=labels, sensitive=sensitive), fb.reducers.max, fb.expanders.barea))\n",
    "report"
   ]
  }
 ],
 "metadata": {
  "kernelspec": {
   "display_name": "Python 3 (ipykernel)",
   "language": "python",
   "name": "python3"
  },
  "language_info": {
   "codemirror_mode": {
    "name": "ipython",
    "version": 3
   },
   "file_extension": ".py",
   "mimetype": "text/x-python",
   "name": "python",
   "nbconvert_exporter": "python",
   "pygments_lexer": "ipython3",
   "version": "3.10.4"
  }
 },
 "nbformat": 4,
 "nbformat_minor": 5
}
