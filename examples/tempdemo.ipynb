{
 "cells": [
  {
   "cell_type": "code",
   "execution_count": 1,
   "id": "a76b8719",
   "metadata": {},
   "outputs": [],
   "source": [
    "import fairbench as fb\n",
    "import numpy as np\n",
    "import sklearn"
   ]
  },
  {
   "cell_type": "code",
   "execution_count": 11,
   "id": "1fc193b4",
   "metadata": {},
   "outputs": [
    {
     "data": {
      "text/html": [
       "<table><tr><td><strong>Female</strong></td><td>5421</td></tr><tr><td><strong>Male</strong></td><td>10860</td></tr><tr><td><strong>Black</strong></td><td>1561</td></tr><tr><td><strong>Other</strong></td><td>135</td></tr><tr><td><strong>Amer-Indian-Eskimo</strong></td><td>159</td></tr><tr><td><strong>White</strong></td><td>13946</td></tr><tr><td><strong>Asian-Pac-Islander</strong></td><td>480</td></tr></table>"
      ],
      "text/plain": [
       "<fairbench.forks.fork.Fork object at 0x000001DE2C4D2140>"
      ]
     },
     "execution_count": 11,
     "metadata": {},
     "output_type": "execute_result"
    }
   ],
   "source": [
    "data, y, yhat = fb.demos.adult()#predict=\"probabilities\")\n",
    "sensitive = fb.Fork(fb.categories@data[9], fb.categories@data[8])\n",
    "sensitive.sum()"
   ]
  },
  {
   "cell_type": "code",
   "execution_count": 18,
   "id": "7debdc2e",
   "metadata": {},
   "outputs": [
    {
     "data": {
      "text/html": [
       "<div style=\"display: inline-block; float: left;\"><h3>min</h3><table><tr><td><strong>accuracy</strong></td><td>0.799</td></tr><tr><td><strong>pr</strong></td><td>0.054</td></tr><tr><td><strong>tpr</strong></td><td>0.614</td></tr><tr><td><strong>tnr</strong></td><td>0.834</td></tr></table></div><div style=\"display: inline-block; float: left;\"><h3>minratio</h3><table><tr><td><strong>accuracy</strong></td><td>0.871</td></tr><tr><td><strong>pr</strong></td><td>0.202</td></tr><tr><td><strong>tpr</strong></td><td>0.726</td></tr><tr><td><strong>tnr</strong></td><td>0.898</td></tr></table></div><div style=\"display: inline-block; float: left;\"><h3>maxdiff</h3><table><tr><td><strong>accuracy</strong></td><td>0.118</td></tr><tr><td><strong>pr</strong></td><td>0.213</td></tr><tr><td><strong>tpr</strong></td><td>0.232</td></tr><tr><td><strong>tnr</strong></td><td>0.095</td></tr></table></div>"
      ],
      "text/plain": [
       "<fairbench.forks.fork.Fork object at 0x000001DE754A76A0>"
      ]
     },
     "execution_count": 18,
     "metadata": {},
     "output_type": "execute_result"
    }
   ],
   "source": [
    "report = fb.multireport(predictions=yhat, labels=y, sensitive=sensitive)\n",
    "report"
   ]
  },
  {
   "cell_type": "code",
   "execution_count": 22,
   "id": "e91264ac",
   "metadata": {},
   "outputs": [
    {
     "data": {
      "text/html": [
       "<table><tr><td><strong>Black</strong></td><td>samples: 1561.000\n",
       "positives: 127.000</td></tr><tr><td><strong>Other</strong></td><td>samples: 135.000\n",
       "positives: 13.000</td></tr><tr><td><strong>Amer-Indian-Eskimo</strong></td><td>samples: 159.000\n",
       "positives: 13.000</td></tr><tr><td><strong>Male</strong></td><td>samples: 10860.000\n",
       "positives: 2764.000</td></tr><tr><td><strong>Female</strong></td><td>samples: 5421.000\n",
       "positives: 292.000</td></tr><tr><td><strong>White</strong></td><td>samples: 13946.000\n",
       "positives: 2775.000</td></tr><tr><td><strong>Asian-Pac-Islander</strong></td><td>samples: 480.000\n",
       "positives: 128.000</td></tr></table>"
      ],
      "text/plain": [
       "<fairbench.forks.fork.Fork object at 0x000001DE7539D090>"
      ]
     },
     "execution_count": 22,
     "metadata": {},
     "output_type": "execute_result"
    }
   ],
   "source": [
    "report.min.pr.explain.explain"
   ]
  },
  {
   "cell_type": "code",
   "execution_count": null,
   "id": "ddd1c849",
   "metadata": {},
   "outputs": [],
   "source": []
  }
 ],
 "metadata": {
  "kernelspec": {
   "display_name": "Python 3 (ipykernel)",
   "language": "python",
   "name": "python3"
  },
  "language_info": {
   "codemirror_mode": {
    "name": "ipython",
    "version": 3
   },
   "file_extension": ".py",
   "mimetype": "text/x-python",
   "name": "python",
   "nbconvert_exporter": "python",
   "pygments_lexer": "ipython3",
   "version": "3.10.4"
  }
 },
 "nbformat": 4,
 "nbformat_minor": 5
}
