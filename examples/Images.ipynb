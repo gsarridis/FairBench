{
 "cells": [
  {
   "cell_type": "code",
   "execution_count": 11,
   "id": "b533ade9",
   "metadata": {},
   "outputs": [
    {
     "name": "stdout",
     "output_type": "stream",
     "text": [
      "Files already downloaded and verified\n",
      "Files already downloaded and verified\n"
     ]
    }
   ],
   "source": [
    "import torch\n",
    "import torchvision\n",
    "import torchvision.transforms as transforms\n",
    "\n",
    "transform = transforms.Compose([transforms.ToTensor(), transforms.Normalize((0.5, 0.5, 0.5), (0.5, 0.5, 0.5))])\n",
    "\n",
    "trainset = torchvision.datasets.CIFAR10(root='./data', train=True, download=True, transform=transform)\n",
    "trainloader = torch.utils.data.DataLoader(trainset, batch_size=64, shuffle=True, num_workers=2)\n",
    "\n",
    "testset = torchvision.datasets.CIFAR10(root='./data', train=False, download=True, transform=transform)\n",
    "testloader = torch.utils.data.DataLoader(testset, batch_size=64, shuffle=False, num_workers=2)\n",
    "\n",
    "classes = ('plane', 'car', 'bird', 'cat', 'deer', 'dog', 'frog', 'horse', 'ship', 'truck')"
   ]
  },
  {
   "cell_type": "code",
   "execution_count": 32,
   "id": "5287d642",
   "metadata": {},
   "outputs": [],
   "source": [
    "import torch.nn as nn\n",
    "import torch.nn.functional as F\n",
    "\n",
    "\n",
    "class Net(nn.Module):\n",
    "    def __init__(self):\n",
    "        super().__init__()\n",
    "        dims = 64\n",
    "        self.conv1 = nn.Conv2d(3, dims, 5)\n",
    "        self.pool = nn.MaxPool2d(2, 2)\n",
    "        self.conv2 = nn.Conv2d(dims, 16, 5)\n",
    "        self.fc1 = nn.Linear(16 * 5 * 5, 120)\n",
    "        self.fc2 = nn.Linear(120, 84)\n",
    "        self.fc3 = nn.Linear(84, 10)\n",
    "\n",
    "    def forward(self, x):\n",
    "        x = self.pool(F.relu(self.conv1(x)))\n",
    "        x = self.pool(F.relu(self.conv2(x)))\n",
    "        x = torch.flatten(x, 1) # flatten all dimensions except batch\n",
    "        x = F.relu(self.fc1(x))\n",
    "        x = F.relu(self.fc2(x))\n",
    "        x = self.fc3(x)\n",
    "        return x"
   ]
  },
  {
   "cell_type": "code",
   "execution_count": 34,
   "id": "972c78cc",
   "metadata": {},
   "outputs": [
    {
     "name": "stdout",
     "output_type": "stream",
     "text": [
      "cuda:0\n",
      "[5] loss: 1.520\n",
      "Finished training\n"
     ]
    }
   ],
   "source": [
    "import torch.optim as optim\n",
    "\n",
    "device = torch.device('cuda:0' if torch.cuda.is_available() else 'cpu')\n",
    "print(device)\n",
    "net = Net()\n",
    "net.to(device)\n",
    "lossfunc = nn.CrossEntropyLoss()\n",
    "optimizer = optim.SGD(net.parameters(), lr=0.001, momentum=0.9)\n",
    "\n",
    "for epoch in range(5):\n",
    "    for inputs, labels in trainloader:\n",
    "        inputs, labels = inputs.to(device), labels.to(device)\n",
    "        optimizer.zero_grad()\n",
    "        outputs = net(inputs)\n",
    "        loss = lossfunc(outputs, labels)\n",
    "        loss.backward()\n",
    "        optimizer.step()\n",
    "        print(f'\\r[{epoch + 1}] loss: {loss.item():.3f}', end='')\n",
    "\n",
    "print(\"\\nFinished training\")\n",
    "torch.save(net.state_dict(), './cifar_net.pth')"
   ]
  },
  {
   "cell_type": "code",
   "execution_count": 35,
   "id": "a233f6b0",
   "metadata": {},
   "outputs": [
    {
     "data": {
      "text/plain": [
       "<All keys matched successfully>"
      ]
     },
     "execution_count": 35,
     "metadata": {},
     "output_type": "execute_result"
    }
   ],
   "source": [
    "net = Net()\n",
    "net.load_state_dict(torch.load('./cifar_net.pth'))"
   ]
  },
  {
   "cell_type": "code",
   "execution_count": 36,
   "id": "debbc94d",
   "metadata": {},
   "outputs": [],
   "source": [
    "import fairbench as fb\n",
    "\n",
    "fb.setbackend(\"torch\")\n",
    "n_classes = len(classes)\n",
    "kwargs = dict()\n",
    "with torch.no_grad():\n",
    "    for images, labels in testloader:\n",
    "        outputs = net(images)\n",
    "        _, predicted = torch.max(outputs.data, 1)\n",
    "        for cl in range(n_classes):\n",
    "            ret = fb.kwargs(predictions=predicted==cl, \n",
    "                          labels=labels==cl, \n",
    "                          sensitive=fb.Fork({f\"sensitive={classes[i]}\": labels==i for i in range(n_classes)}))\n",
    "            kwargs[cl] = fb.concatenate(kwargs.get(cl, None), ret)"
   ]
  },
  {
   "cell_type": "code",
   "execution_count": 39,
   "id": "37b2e0fd",
   "metadata": {},
   "outputs": [
    {
     "data": {
      "image/png": "[encoded data removed]",
      "text/plain": [
       "<Figure size 640x480 with 1 Axes>"
      ]
     },
     "metadata": {},
     "output_type": "display_data"
    }
   ],
   "source": [
    "report = fb.combine(*[fb.reduce(fb.accuracy(**kwargs[i]), fb.min, name=classes[i]) for i in range(n_classes)])\n",
    "\n",
    "fb.visualize(report)"
   ]
  },
  {
   "cell_type": "code",
   "execution_count": 31,
   "id": "3131d8cd",
   "metadata": {},
   "outputs": [
    {
     "data": {
      "text/html": [
       "<table><tr><td><strong>sensitive=deer</strong></td><td>0.958</td></tr><tr><td><strong>sensitive=frog</strong></td><td>0.981</td></tr><tr><td><strong>sensitive=dog</strong></td><td>0.956</td></tr><tr><td><strong>sensitive=car</strong></td><td>0.969</td></tr><tr><td><strong>sensitive=horse</strong></td><td>0.965</td></tr><tr><td><strong>sensitive=bird</strong></td><td>0.06299999999999994</td></tr><tr><td><strong>sensitive=truck</strong></td><td>0.977</td></tr><tr><td><strong>sensitive=plane</strong></td><td>0.986</td></tr><tr><td><strong>sensitive=ship</strong></td><td>0.988</td></tr><tr><td><strong>sensitive=cat</strong></td><td>0.946</td></tr></table>"
      ],
      "text/plain": [
       "<fairbench.forks.fork.Fork object at 0x00000167824930D0>"
      ]
     },
     "execution_count": 31,
     "metadata": {},
     "output_type": "execute_result"
    }
   ],
   "source": [
    "report.bird.explain"
   ]
  },
  {
   "cell_type": "code",
   "execution_count": null,
   "id": "1102adc8",
   "metadata": {},
   "outputs": [],
   "source": []
  }
 ],
 "metadata": {
  "kernelspec": {
   "display_name": "Python 3 (ipykernel)",
   "language": "python",
   "name": "python3"
  },
  "language_info": {
   "codemirror_mode": {
    "name": "ipython",
    "version": 3
   },
   "file_extension": ".py",
   "mimetype": "text/x-python",
   "name": "python",
   "nbconvert_exporter": "python",
   "pygments_lexer": "ipython3",
   "version": "3.10.4"
  }
 },
 "nbformat": 4,
 "nbformat_minor": 5
}
