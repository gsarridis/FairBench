{
 "cells": [
  {
   "cell_type": "code",
   "execution_count": 12,
   "id": "a3b66791",
   "metadata": {},
   "outputs": [],
   "source": [
    "import wget\n",
    "import os\n",
    "if not os.path.exists(\"colour_mnist.py\"):\n",
    "    wget.download(\"https://raw.githubusercontent.com/clovaai/rebias/master/datasets/colour_mnist.py\", \"colour_mnist.py\")\n",
    "\n",
    "if not os.path.exists(\"flac.py\"):\n",
    "    wget.download(\"https://raw.githubusercontent.com/gsarridis/FLAC/main/flac.py\", \"flac.py\")"
   ]
  },
  {
   "cell_type": "code",
   "execution_count": 13,
   "id": "a4cf13a3",
   "metadata": {},
   "outputs": [],
   "source": [
    "from colour_mnist import get_biased_mnist_dataloader\n",
    "trainloader = get_biased_mnist_dataloader(root='./data', batch_size=128, data_label_correlation=0.99, train=True)\n",
    "testloader = get_biased_mnist_dataloader(root='./data', batch_size=128, data_label_correlation=0.1, train=False)"
   ]
  },
  {
   "cell_type": "code",
   "execution_count": 14,
   "id": "6598e088",
   "metadata": {},
   "outputs": [],
   "source": [
    "import torch\n",
    "import torch.nn as nn\n",
    "import torch.nn.functional as F\n",
    "\n",
    "\n",
    "class Net(nn.Module):\n",
    "    def __init__(self):\n",
    "        # https://github.com/gsarridis/FLAC/blob/main/models/simple_conv.py\n",
    "        super().__init__()\n",
    "        dims = 6\n",
    "        self.conv1 = nn.Conv2d(3, dims, 5)\n",
    "        self.pool = nn.MaxPool2d(2, 2)\n",
    "        self.conv2 = nn.Conv2d(dims, 16, 5)\n",
    "        self.fc = nn.Linear(256, 10)\n",
    "\n",
    "    def forward(self, x):\n",
    "        x = self.pool(F.relu(self.conv1(x)))\n",
    "        x = self.pool(F.relu(self.conv2(x)))\n",
    "        x = torch.flatten(x, 1) # flatten all dimensions except batch\n",
    "        x = F.normalize(x, dim=1)\n",
    "        features = x\n",
    "        x = self.fc(x)\n",
    "        return x, features"
   ]
  },
  {
   "cell_type": "code",
   "execution_count": 23,
   "id": "9e68df29",
   "metadata": {},
   "outputs": [],
   "source": [
    "import fairbench as fb\n",
    "import tqdm\n",
    "\n",
    "fb.setbackend(\"torch\")\n",
    "\n",
    "def evaluate(net):\n",
    "    n_classes = 10\n",
    "    n_sensitive = 10\n",
    "    class_evals = dict()\n",
    "    with torch.no_grad():\n",
    "        for data in tqdm.tqdm(testloader):\n",
    "            images, labels, sensitive = data\n",
    "            outputs, _ = net(images)\n",
    "            _, predicted = torch.max(outputs.data, 1)\n",
    "            for cl in range(n_classes):\n",
    "                ret = fb.todict(predictions=(predicted==cl), \n",
    "                              labels=(labels==cl), \n",
    "                              sensitive=fb.Fork({f\"sensitive{i}\": sensitive==i for i in range(n_sensitive)}))\n",
    "                class_name = f\"class{cl}\"\n",
    "                class_evals[class_name] = fb.concatenate(class_evals.get(class_name, None), ret)\n",
    "    return class_evals"
   ]
  },
  {
   "cell_type": "code",
   "execution_count": 21,
   "id": "6be8e3c2",
   "metadata": {},
   "outputs": [
    {
     "name": "stderr",
     "output_type": "stream",
     "text": [
      "100%|█████████████████████████████████████████████████████████████████████████████████████████████████████████████████████████████████████████████████████| 79/79 [00:19<00:00,  4.03it/s]\n"
     ]
    }
   ],
   "source": [
    "net = Net()\n",
    "net.load_state_dict(torch.load('./data/model.pth'))\n",
    "net.eval()\n",
    "kwargs = evaluate(net)"
   ]
  },
  {
   "cell_type": "code",
   "execution_count": 22,
   "id": "03369189",
   "metadata": {},
   "outputs": [
    {
     "name": "stderr",
     "output_type": "stream",
     "text": [
      "100%|█████████████████████████████████████████████████████████████████████████████████████████████████████████████████████████████████████████████████████| 79/79 [00:20<00:00,  3.83it/s]\n"
     ]
    }
   ],
   "source": [
    "fair_net = Net()\n",
    "fair_net.load_state_dict(torch.load('./data/fair_model.pth'))\n",
    "fair_net.eval()\n",
    "fair_kwargs = evaluate(fair_net)"
   ]
  },
  {
   "cell_type": "code",
   "execution_count": 10,
   "id": "738dcfe1",
   "metadata": {},
   "outputs": [
    {
     "data": {
      "image/png": "[encoded data removed]",
      "text/plain": [
       "<Figure size 640x480 with 10 Axes>"
      ]
     },
     "metadata": {},
     "output_type": "display_data"
    }
   ],
   "source": [
    "#accuracy = fb.reduce(fb.report(fb.Fork(kwargs), metrics=[fb.accuracy]).accuracy, fb.min, name=None)\n",
    "accuracy = fb.areduce(fb.areport(fb.Fork(kwargs), metrics=fb.accuracy), fb.min)\n",
    "fair_accuracy = fb.multireport(fb.Fork(fair_kwargs)).min.accuracy\n",
    "comparison = fb.Fork(net=accuracy, fair_net=fair_accuracy)\n",
    "fb.visualize(comparison)"
   ]
  },
  {
   "cell_type": "code",
   "execution_count": 8,
   "id": "1d3e544f",
   "metadata": {},
   "outputs": [
    {
     "data": {
      "text/html": [
       "<table><tr><td><strong>net</strong></td><td>sensitive0: tensor(0.8994, dtype=torch.float64)\n",
       "sensitive9: tensor(0.8987, dtype=torch.float64)\n",
       "sensitive7: tensor(0.8993, dtype=torch.float64)\n",
       "sensitive6: tensor(0.8986, dtype=torch.float64)\n",
       "sensitive2: tensor(0.8985, dtype=torch.float64)\n",
       "sensitive5: tensor(0.8986, dtype=torch.float64)\n",
       "sensitive1: tensor(0.8993, dtype=torch.float64)\n",
       "sensitive4: tensor(0.8989, dtype=torch.float64)\n",
       "sensitive3: tensor(0.1006, dtype=torch.float64)\n",
       "sensitive8: tensor(0.8993, dtype=torch.float64)</td></tr><tr><td><strong>fair_net</strong></td><td>sensitive0: tensor(0.9711, dtype=torch.float64)\n",
       "sensitive9: tensor(0.9739, dtype=torch.float64)\n",
       "sensitive7: tensor(0.9741, dtype=torch.float64)\n",
       "sensitive6: tensor(0.9508, dtype=torch.float64)\n",
       "sensitive2: tensor(0.9055, dtype=torch.float64)\n",
       "sensitive5: tensor(0.9187, dtype=torch.float64)\n",
       "sensitive1: tensor(0.9681, dtype=torch.float64)\n",
       "sensitive4: tensor(0.9600, dtype=torch.float64)\n",
       "sensitive3: tensor(0.7400, dtype=torch.float64)\n",
       "sensitive8: tensor(0.9382, dtype=torch.float64)</td></tr></table>"
      ],
      "text/plain": [
       "<fairbench.forks.fork.Fork object at 0x0000029222A1EA70>"
      ]
     },
     "execution_count": 8,
     "metadata": {},
     "output_type": "execute_result"
    }
   ],
   "source": [
    "comparison.class3.explain"
   ]
  },
  {
   "cell_type": "code",
   "execution_count": 11,
   "id": "6a3a67a5",
   "metadata": {},
   "outputs": [
    {
     "data": {
      "text/html": [
       "<table><tr><td><strong>sensitive0</strong></td><td>0.899402390438247</td></tr><tr><td><strong>sensitive9</strong></td><td>0.8986960882647944</td></tr><tr><td><strong>sensitive7</strong></td><td>0.8993020937188435</td></tr><tr><td><strong>sensitive6</strong></td><td>0.8985943775100401</td></tr><tr><td><strong>sensitive2</strong></td><td>0.8984924623115578</td></tr><tr><td><strong>sensitive5</strong></td><td>0.8985943775100401</td></tr><tr><td><strong>sensitive1</strong></td><td>0.8993020937188435</td></tr><tr><td><strong>sensitive4</strong></td><td>0.8988988988988988</td></tr><tr><td><strong>sensitive3</strong></td><td>0.10059760956175301</td></tr><tr><td><strong>sensitive8</strong></td><td>0.8993020937188435</td></tr></table>"
      ],
      "text/plain": [
       "<fairbench.forks.fork.Fork object at 0x0000029222A1FD90>"
      ]
     },
     "execution_count": 11,
     "metadata": {},
     "output_type": "execute_result"
    }
   ],
   "source": [
    "comparison.class3.explain.net"
   ]
  },
  {
   "cell_type": "code",
   "execution_count": null,
   "id": "9b95cf4e",
   "metadata": {},
   "outputs": [],
   "source": []
  }
 ],
 "metadata": {
  "kernelspec": {
   "display_name": "Python 3 (ipykernel)",
   "language": "python",
   "name": "python3"
  },
  "language_info": {
   "codemirror_mode": {
    "name": "ipython",
    "version": 3
   },
   "file_extension": ".py",
   "mimetype": "text/x-python",
   "name": "python",
   "nbconvert_exporter": "python",
   "pygments_lexer": "ipython3",
   "version": "3.10.4"
  }
 },
 "nbformat": 4,
 "nbformat_minor": 5
}
