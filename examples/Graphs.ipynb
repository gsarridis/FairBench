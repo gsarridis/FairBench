{
 "cells": [
  {
   "cell_type": "code",
   "execution_count": 1,
   "id": "631d661e",
   "metadata": {},
   "outputs": [
    {
     "name": "stderr",
     "output_type": "stream",
     "text": [
      "The default pygrank backend has been set to \"numpy\" by the file C:\\Users\\manio\\.pygrank\\config.json\n",
      "Set your preferred backend as one of [\"numpy\", \"pytorch\", \"tensorflow\", \"torch_sparse\", \"matvec\", \"sparse_dot_mkl\"] and \"reminder\": false in that file to remove this message from future runs.\n"
     ]
    }
   ],
   "source": [
    "import pygrank\n",
    "import networkx\n",
    "import fairbench as fb"
   ]
  },
  {
   "cell_type": "markdown",
   "id": "9d857a1e",
   "metadata": {},
   "source": [
    "## Load data"
   ]
  },
  {
   "cell_type": "code",
   "execution_count": 2,
   "id": "e04fc27c",
   "metadata": {},
   "outputs": [
    {
     "name": "stderr",
     "output_type": "stream",
     "text": [
      "REQUIRED CITATION: Please visit the url http://www.sociopatterns.org/datasets/high-school-contact-and-friendship-networks for instructions on how to cite the dataset highschool in your research\n"
     ]
    },
    {
     "name": "stdout",
     "output_type": "stream",
     "text": [
      "Graph with 156 nodes and 1437 edges                     \n"
     ]
    }
   ],
   "source": [
    "_, graph, communities = next(pygrank.load_datasets_multiple_communities([\"highschool\"], graph_api=networkx))\n",
    "print(graph, \" \"*20)"
   ]
  },
  {
   "cell_type": "code",
   "execution_count": 3,
   "id": "26601e13",
   "metadata": {},
   "outputs": [
    {
     "data": {
      "text/plain": [
       "{'1': 0.0,\n",
       " '883': 0.0,\n",
       " '132': 0.0,\n",
       " '339': 0.0,\n",
       " '653': 0.0,\n",
       " '545': 0.0,\n",
       " '171': 0.0,\n",
       " '117': 0.0,\n",
       " '196': 0.0,\n",
       " '587': 0.0,\n",
       " '372': 0.0,\n",
       " '147': 0.0,\n",
       " '55': 0.0,\n",
       " '859': 0.0,\n",
       " '106': 0.0,\n",
       " '504': 0.0,\n",
       " '471': 1.0,\n",
       " '425': 0.0,\n",
       " '170': 0.0,\n",
       " '939': 0.0,\n",
       " '272': 0.0,\n",
       " '3': 0.0,\n",
       " '119': 0.0,\n",
       " '494': 0.0,\n",
       " '205': 0.0,\n",
       " '265': 0.0,\n",
       " '779': 0.0,\n",
       " '364': 0.0,\n",
       " '240': 0.0,\n",
       " '477': 0.0,\n",
       " '101': 0.0,\n",
       " '884': 0.0,\n",
       " '441': 0.0,\n",
       " '9': 0.0,\n",
       " '1594': 0.0,\n",
       " '488': 0.0,\n",
       " '190': 0.0,\n",
       " '325': 0.0,\n",
       " '14': 0.0,\n",
       " '232': 0.0,\n",
       " '520': 0.0,\n",
       " '65': 0.0,\n",
       " '605': 0.0,\n",
       " '621': 0.0,\n",
       " '20': 0.0,\n",
       " '387': 0.0,\n",
       " '615': 0.0,\n",
       " '151': 0.0,\n",
       " '977': 0.0,\n",
       " '1232': 0.0,\n",
       " '513': 0.0,\n",
       " '634': 0.0,\n",
       " '156': 0.0,\n",
       " '691': 0.0,\n",
       " '34': 0.0,\n",
       " '1870': 0.0,\n",
       " '869': 0.0,\n",
       " '452': 0.0,\n",
       " '866': 0.0,\n",
       " '1332': 0.0,\n",
       " '502': 0.0,\n",
       " '454': 0.0,\n",
       " '201': 0.0,\n",
       " '245': 0.0,\n",
       " '687': 0.0,\n",
       " '582': 0.0,\n",
       " '642': 0.0,\n",
       " '564': 0.0,\n",
       " '1401': 0.0,\n",
       " '753': 0.0,\n",
       " '38': 0.0,\n",
       " '159': 0.0,\n",
       " '577': 0.0,\n",
       " '857': 0.0,\n",
       " '124': 0.0,\n",
       " '725': 0.0,\n",
       " '274': 0.0,\n",
       " '871': 0.0,\n",
       " '111': 1.0,\n",
       " '202': 0.0,\n",
       " '62': 0.0,\n",
       " '428': 0.0,\n",
       " '544': 0.0,\n",
       " '122': 0.0,\n",
       " '275': 0.0,\n",
       " '63': 0.0,\n",
       " '991': 0.0,\n",
       " '448': 0.0,\n",
       " '145': 0.0,\n",
       " '343': 0.0,\n",
       " '923': 0.0,\n",
       " '346': 0.0,\n",
       " '70': 0.0,\n",
       " '649': 0.0,\n",
       " '429': 0.0,\n",
       " '763': 0.0,\n",
       " '80': 0.0,\n",
       " '941': 0.0,\n",
       " '85': 0.0,\n",
       " '214': 0.0,\n",
       " '213': 0.0,\n",
       " '650': 0.0,\n",
       " '440': 0.0,\n",
       " '447': 0.0,\n",
       " '184': 0.0,\n",
       " '1218': 0.0,\n",
       " '181': 0.0,\n",
       " '777': 0.0,\n",
       " '525': 0.0,\n",
       " '1214': 0.0,\n",
       " '1828': 0.0,\n",
       " '487': 0.0,\n",
       " '280': 0.0,\n",
       " '1339': 0.0,\n",
       " '149': 0.0,\n",
       " '1212': 0.0,\n",
       " '970': 0.0,\n",
       " '116': 0.0,\n",
       " '836': 0.0,\n",
       " '826': 0.0,\n",
       " '194': 0.0,\n",
       " '601': 0.0,\n",
       " '954': 1.0,\n",
       " '353': 0.0,\n",
       " '179': 0.0,\n",
       " '125': 0.0,\n",
       " '1423': 0.0,\n",
       " '1336': 0.0,\n",
       " '466': 0.0,\n",
       " '797': 0.0,\n",
       " '959': 0.0,\n",
       " '624': 0.0,\n",
       " '769': 0.0,\n",
       " '376': 0.0,\n",
       " '638': 0.0,\n",
       " '1237': 0.0,\n",
       " '1067': 0.0,\n",
       " '694': 0.0,\n",
       " '841': 0.0,\n",
       " '945': 1.0,\n",
       " '984': 0.0,\n",
       " '908': 0.0,\n",
       " '1228': 0.0,\n",
       " '290': 0.0,\n",
       " '576': 0.0,\n",
       " '1201': 0.0,\n",
       " '496': 0.0,\n",
       " '640': 0.0,\n",
       " '219': 0.0,\n",
       " '1238': 0.0,\n",
       " '491': 0.0,\n",
       " '246': 0.0,\n",
       " '1543': 0.0,\n",
       " '1260': 0.0,\n",
       " '1784': 0.0,\n",
       " '335': 0.0}"
      ]
     },
     "execution_count": 3,
     "metadata": {},
     "output_type": "execute_result"
    }
   ],
   "source": [
    "seeds = pygrank.to_signal(graph, communities[0]) # 2BIO1 class\n",
    "sensitive = pygrank.to_signal(graph, communities[1]) # females\n",
    "train, test = pygrank.split(seeds, 0.8)\n",
    "dict(test)  # what graph signals look like"
   ]
  },
  {
   "cell_type": "code",
   "execution_count": 4,
   "id": "1d8c2504",
   "metadata": {},
   "outputs": [
    {
     "data": {
      "text/plain": [
       "array([0., 0., 0., 0., 0., 0., 0., 0., 0., 0., 0., 0., 0., 0., 0., 0., 1.,\n",
       "       0., 0., 0., 0., 0., 0., 0., 0., 0., 0., 0., 0., 0., 0., 0., 0., 0.,\n",
       "       0., 0., 0., 0., 0., 0., 0., 0., 0., 0., 0., 0., 0., 0., 0., 0., 0.,\n",
       "       0., 0., 0., 0., 0., 0., 0., 0., 0., 0., 0., 0., 0., 0., 0., 0., 0.,\n",
       "       0., 0., 0., 0., 0., 0., 0., 0., 0., 0., 1., 0., 0., 0., 0., 0., 0.,\n",
       "       0., 0., 0., 0., 0., 0., 0., 0., 0., 0., 0., 0., 0., 0., 0., 0., 0.,\n",
       "       0., 0., 0., 0., 0., 0., 0., 0., 0., 0., 0., 0., 0., 0., 0., 0., 0.,\n",
       "       0., 0., 0., 1., 0., 0., 0., 0., 0., 0., 0., 0., 0., 0., 0., 0., 0.,\n",
       "       0., 0., 0., 1., 0., 0., 0., 0., 0., 0., 0., 0., 0., 0., 0., 0., 0.,\n",
       "       0., 0., 0.])"
      ]
     },
     "execution_count": 4,
     "metadata": {},
     "output_type": "execute_result"
    }
   ],
   "source": [
    "test.np  # internal array representation"
   ]
  },
  {
   "cell_type": "code",
   "execution_count": 5,
   "id": "59cea9f1",
   "metadata": {},
   "outputs": [
    {
     "data": {
      "text/plain": [
       "array([0., 0., 0., 0., 0., 0., 0., 0., 0., 0., 0., 0., 0., 0., 0., 1., 0.,\n",
       "       0., 0., 0., 0., 0., 0., 0., 0., 0., 0., 0., 0., 0., 0., 0., 0., 0.,\n",
       "       0., 0., 0., 0., 0., 0., 0., 0., 0., 0., 0., 0., 0., 0., 0., 0., 0.,\n",
       "       0., 0., 0., 0., 0., 0., 0., 0., 0., 0., 0., 0., 0., 0., 0., 0., 0.,\n",
       "       0., 0., 0., 0., 0., 1., 0., 0., 0., 0., 0., 0., 0., 0., 0., 0., 0.,\n",
       "       0., 0., 0., 0., 0., 0., 0., 0., 0., 0., 0., 0., 0., 0., 0., 0., 0.,\n",
       "       0., 0., 0., 0., 0., 0., 0., 0., 1., 0., 0., 0., 0., 0., 0., 0., 0.,\n",
       "       0., 0., 0., 0., 0., 0., 0., 0., 1., 0., 0., 0., 0., 0., 0., 0., 0.,\n",
       "       0., 0., 0., 0., 0., 0., 0.])"
      ]
     },
     "execution_count": 5,
     "metadata": {},
     "output_type": "execute_result"
    }
   ],
   "source": [
    "test.filter(exclude=train)  # the array representation without elements for which train==1"
   ]
  },
  {
   "cell_type": "markdown",
   "id": "f81b488a",
   "metadata": {},
   "source": [
    "## Run a node ranking algorithm"
   ]
  },
  {
   "cell_type": "code",
   "execution_count": 6,
   "id": "1d869ef6",
   "metadata": {},
   "outputs": [
    {
     "name": "stdout",
     "output_type": "stream",
     "text": [
      "Positive train 13\n",
      "Positive preds 20\n"
     ]
    }
   ],
   "source": [
    "algorithm = pygrank.PageRank(alpha=0.85)\n",
    "predictions = algorithm(train)\n",
    "predictions = predictions*(1-train) >> pygrank.Top(20)  # set training scores to zero to not suggest them in the top20\n",
    "print(f\"Positive train {train.np.sum():.0f}\")\n",
    "print(f\"Positive preds {predictions.np.sum():.0f}\")"
   ]
  },
  {
   "cell_type": "code",
   "execution_count": 7,
   "id": "0bf19a45",
   "metadata": {},
   "outputs": [
    {
     "data": {
      "text/html": [
       "<table><tr><td><strong>sensitive0.0</strong></td><td>81</td></tr><tr><td><strong>sensitive1.0</strong></td><td>62</td></tr></table>"
      ],
      "text/plain": [
       "<fairbench.forks.fork.Fork object at 0x00000279D252A1A0>"
      ]
     },
     "execution_count": 7,
     "metadata": {},
     "output_type": "execute_result"
    }
   ],
   "source": [
    "test_labels = test.filter(exclude=train)\n",
    "test_preds = predictions.filter(exclude=train)\n",
    "test_sensitive = sensitive.filter(exclude=train)\n",
    "test_sensitive = fb.Fork(sensitive=fb.categories@test_sensitive)\n",
    "test_sensitive.sum()"
   ]
  },
  {
   "cell_type": "code",
   "execution_count": 8,
   "id": "daebae38",
   "metadata": {},
   "outputs": [
    {
     "data": {
      "text/html": [
       "<div style=\"display: inline-block; float: left;\"><h3>min</h3><table><tr><td><strong>accuracy</strong></td><td>0.7580645161290323</td></tr><tr><td><strong>pr</strong></td><td>0.06172839506172839</td></tr><tr><td><strong>tpr</strong></td><td>0.0</td></tr><tr><td><strong>tnr</strong></td><td>0.9574468085106383</td></tr></table></div><div style=\"display: inline-block; float: left;\"><h3>minratio</h3><table><tr><td><strong>accuracy</strong></td><td>0.8079371816638371</td></tr><tr><td><strong>pr</strong></td><td>0.2551440329218107</td></tr><tr><td><strong>tpr</strong></td><td>0.0</td></tr><tr><td><strong>tnr</strong></td><td>0.9574468085106383</td></tr></table></div><div style=\"display: inline-block; float: left;\"><h3>maxdiff</h3><table><tr><td><strong>accuracy</strong></td><td>0.1802070888092393</td></tr><tr><td><strong>pr</strong></td><td>0.18020708880923936</td></tr><tr><td><strong>tpr</strong></td><td>0.13333333333333333</td></tr><tr><td><strong>tnr</strong></td><td>0.04255319148936165</td></tr></table></div>"
      ],
      "text/plain": [
       "<fairbench.forks.fork.Fork object at 0x00000279D252A950>"
      ]
     },
     "execution_count": 8,
     "metadata": {},
     "output_type": "execute_result"
    }
   ],
   "source": [
    "report = fb.multireport(labels=test_labels, predictions=test_preds, sensitive=test_sensitive)\n",
    "report"
   ]
  },
  {
   "cell_type": "markdown",
   "id": "32ad3850",
   "metadata": {},
   "source": [
    "## Run a fairness-aware node ranking algorithm"
   ]
  },
  {
   "cell_type": "code",
   "execution_count": 9,
   "id": "9a8dfd59",
   "metadata": {},
   "outputs": [
    {
     "data": {
      "text/html": [
       "<div style=\"display: inline-block; float: left;\"><h3>min</h3><table><tr><td><strong>accuracy</strong></td><td>0.7903225806451613</td></tr><tr><td><strong>pr</strong></td><td>0.13580246913580246</td></tr><tr><td><strong>tpr</strong></td><td>0.0</td></tr><tr><td><strong>tnr</strong></td><td>0.9245283018867925</td></tr></table></div><div style=\"display: inline-block; float: left;\"><h3>minratio</h3><table><tr><td><strong>accuracy</strong></td><td>0.914516129032258</td></tr><tr><td><strong>pr</strong></td><td>0.9355281207133058</td></tr><tr><td><strong>tpr</strong></td><td>inf</td></tr><tr><td><strong>tnr</strong></td><td>0.9245283018867925</td></tr></table></div><div style=\"display: inline-block; float: left;\"><h3>maxdiff</h3><table><tr><td><strong>accuracy</strong></td><td>0.07387495021903634</td></tr><tr><td><strong>pr</strong></td><td>0.009358821186778193</td></tr><tr><td><strong>tpr</strong></td><td>0.0</td></tr><tr><td><strong>tnr</strong></td><td>0.07547169811320753</td></tr></table></div>"
      ],
      "text/plain": [
       "<fairbench.forks.fork.Fork object at 0x00000279D25E2920>"
      ]
     },
     "execution_count": 9,
     "metadata": {},
     "output_type": "execute_result"
    }
   ],
   "source": [
    "fair_algorithm = pygrank.LFPR(alpha=0.85, redistributor=\"original\")\n",
    "fair_predictions = fair_algorithm(train, sensitive=sensitive)\n",
    "fair_predictions = fair_predictions*(1-train) >> pygrank.Top(20)\n",
    "fair_test_preds = fair_predictions.filter(exclude=train)\n",
    "\n",
    "fair_report = fb.multireport(labels=test_labels, predictions=fair_test_preds, sensitive=test_sensitive)\n",
    "fair_report"
   ]
  },
  {
   "cell_type": "code",
   "execution_count": 10,
   "id": "96c380b8",
   "metadata": {},
   "outputs": [
    {
     "data": {
      "image/png": "[encoded data removed]",
      "text/plain": [
       "<Figure size 640x480 with 2 Axes>"
      ]
     },
     "metadata": {},
     "output_type": "display_data"
    }
   ],
   "source": [
    "compare = fb.Fork(ppr=report, lfpro=fair_report)\n",
    "compare = fb.extract(accuracy=compare.min, pr=compare.minratio)\n",
    "fb.visualize(compare)"
   ]
  },
  {
   "cell_type": "markdown",
   "id": "e5d8b31a",
   "metadata": {},
   "source": [
    "## Cheatsheet on report manipulation\n",
    "\n",
    "### Fork.branch1 ...\n",
    "Get a view of the fork's branch, if it exists. If it is a fork of forks, `branch1` can be the name of an internal fork branch.\n",
    "\n",
    "### Fork.attr\n",
    "If `attr` is not a fork branch, this creates a new fork with each branch values the namesake attribute obtained from respective branches. This lets forks overload operations of their branch values, e.g. can call `fork.sum()` if each branch is a numpy array.\n",
    "\n",
    "### fb.extract\n",
    "Get entries from forks of dicts. All forks should have the same branches. <br>\n",
    "**Example**: Use when gathering measure values from a fork of forks of dicts.\n",
    "\n",
    "### fb.combine\n",
    "Create a fork that creates a super-fork whose branches are a collection of all individual fork branches.<br>\n",
    "**Example**: Use to add more columns to a fork of dicts.\n",
    "\n",
    "### dictionary combination |\n",
    "Applies dictionary combination to all branches between forks (the forks should have the same branch names).<br>\n",
    "**Example**: Use to combine reports with the same branches but different metrics.\n",
    "\n",
    "### fb.reduce\n",
    "Reduce all branches to one with an appropriate procedure. <br>\n",
    "If the fork has dictionary branches, these should have identical key sets. <br>\n",
    "The result will also have the same key set.\n",
    "*If `name=None` is provided, the result will be a raw tensor instead.*\n",
    "**Example**: Aggregate all branch results into one greater result."
   ]
  },
  {
   "cell_type": "code",
   "execution_count": null,
   "id": "a3e643cb",
   "metadata": {},
   "outputs": [],
   "source": []
  }
 ],
 "metadata": {
  "kernelspec": {
   "display_name": "Python 3 (ipykernel)",
   "language": "python",
   "name": "python3"
  },
  "language_info": {
   "codemirror_mode": {
    "name": "ipython",
    "version": 3
   },
   "file_extension": ".py",
   "mimetype": "text/x-python",
   "name": "python",
   "nbconvert_exporter": "python",
   "pygments_lexer": "ipython3",
   "version": "3.10.4"
  }
 },
 "nbformat": 4,
 "nbformat_minor": 5
}
