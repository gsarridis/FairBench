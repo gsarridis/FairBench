{
 "cells": [
  {
   "cell_type": "code",
   "execution_count": 1,
   "id": "631d661e",
   "metadata": {},
   "outputs": [
    {
     "name": "stderr",
     "output_type": "stream",
     "text": [
      "The default pygrank backend has been set to \"numpy\" by the file C:\\Users\\manio\\.pygrank\\config.json\n",
      "Set your preferred backend as one of [\"numpy\", \"pytorch\", \"tensorflow\", \"torch_sparse\", \"matvec\", \"sparse_dot_mkl\"] and \"reminder\": false in that file to remove this message from future runs.\n"
     ]
    }
   ],
   "source": [
    "import pygrank\n",
    "import networkx\n",
    "import fairbench as fb"
   ]
  },
  {
   "cell_type": "markdown",
   "id": "9d857a1e",
   "metadata": {},
   "source": [
    "## Load data"
   ]
  },
  {
   "cell_type": "code",
   "execution_count": 3,
   "id": "e04fc27c",
   "metadata": {},
   "outputs": [
    {
     "name": "stderr",
     "output_type": "stream",
     "text": [
      "REQUIRED CITATION: Please visit the url http://www.sociopatterns.org/datasets/high-school-contact-and-friendship-networks for instructions on how to cite the dataset highschool in your research\n"
     ]
    },
    {
     "name": "stdout",
     "output_type": "stream",
     "text": [
      "Graph with 156 nodes and 1437 edges                     \n"
     ]
    }
   ],
   "source": [
    "_, graph, communities = next(pygrank.load_datasets_multiple_communities([\"highschool\"], graph_api=networkx))\n",
    "print(graph, \" \"*20)"
   ]
  },
  {
   "cell_type": "code",
   "execution_count": 4,
   "id": "26601e13",
   "metadata": {},
   "outputs": [],
   "source": [
    "seeds = pygrank.to_signal(graph, communities[0]) # 2BIO1 class\n",
    "sensitive = pygrank.to_signal(graph, communities[1]) # females\n",
    "train, test = pygrank.split(seeds, 0.5)"
   ]
  },
  {
   "cell_type": "markdown",
   "id": "f81b488a",
   "metadata": {},
   "source": [
    "## Run a node ranking algorithm"
   ]
  },
  {
   "cell_type": "code",
   "execution_count": 5,
   "id": "1d869ef6",
   "metadata": {},
   "outputs": [
    {
     "name": "stdout",
     "output_type": "stream",
     "text": [
      "Positive train 8\n",
      "Positive preds 20\n"
     ]
    }
   ],
   "source": [
    "algorithm = pygrank.PageRank(alpha=0.85)\n",
    "predictions = algorithm(train)\n",
    "predictions = predictions*(1-train) >> pygrank.Top(20)\n",
    "print(f\"Positive train {train.np.sum():.0f}\")\n",
    "print(f\"Positive preds {predictions.np.sum():.0f}\")"
   ]
  },
  {
   "cell_type": "code",
   "execution_count": 7,
   "id": "0bf19a45",
   "metadata": {},
   "outputs": [
    {
     "data": {
      "text/html": [
       "<table><tr><td><strong>sensitive0.0</strong></td><td>83</td></tr><tr><td><strong>sensitive1.0</strong></td><td>65</td></tr></table>"
      ],
      "text/plain": [
       "<fairbench.forks.fork.Fork object at 0x00000290D7033100>"
      ]
     },
     "execution_count": 7,
     "metadata": {},
     "output_type": "execute_result"
    }
   ],
   "source": [
    "test_labels = test.filter(exclude=train)\n",
    "test_preds = predictions.filter(exclude=train)\n",
    "test_sensitive = sensitive.filter(exclude=train)\n",
    "test_sensitive = fb.Fork(sensitive=fb.categories@test_sensitive)\n",
    "test_sensitive.sum()"
   ]
  },
  {
   "cell_type": "code",
   "execution_count": 8,
   "id": "daebae38",
   "metadata": {},
   "outputs": [
    {
     "data": {
      "text/html": [
       "<div style=\"display: inline-block; float: left;\"><h3>min</h3><table><tr><td><strong>accuracy</strong></td><td>0.7230769230769231</td></tr><tr><td><strong>pr</strong></td><td>0.060240963855421686</td></tr><tr><td><strong>tpr</strong></td><td>0.0</td></tr><tr><td><strong>tnr</strong></td><td>0.9</td></tr></table></div><div style=\"display: inline-block; float: left;\"><h3>minratio</h3><table><tr><td><strong>accuracy</strong></td><td>0.7896761133603238</td></tr><tr><td><strong>pr</strong></td><td>0.2610441767068273</td></tr><tr><td><strong>tpr</strong></td><td>0.0</td></tr><tr><td><strong>tnr</strong></td><td>0.9236842105263159</td></tr></table></div><div style=\"display: inline-block; float: left;\"><h3>maxdiff</h3><table><tr><td><strong>accuracy</strong></td><td>0.19258572752548664</td></tr><tr><td><strong>pr</strong></td><td>0.1705282669138091</td></tr><tr><td><strong>tpr</strong></td><td>0.13333333333333333</td></tr><tr><td><strong>tnr</strong></td><td>0.07435897435897432</td></tr></table></div>"
      ],
      "text/plain": [
       "<fairbench.forks.fork.Fork object at 0x00000290D7031270>"
      ]
     },
     "execution_count": 8,
     "metadata": {},
     "output_type": "execute_result"
    }
   ],
   "source": [
    "report = fb.multireport(labels=test_labels, predictions=test_preds, sensitive=test_sensitive)\n",
    "report"
   ]
  },
  {
   "cell_type": "markdown",
   "id": "32ad3850",
   "metadata": {},
   "source": [
    "## Run a fairness-aware node ranking algorithm"
   ]
  },
  {
   "cell_type": "code",
   "execution_count": 9,
   "id": "9a8dfd59",
   "metadata": {},
   "outputs": [
    {
     "data": {
      "text/html": [
       "<div style=\"display: inline-block; float: left;\"><h3>min</h3><table><tr><td><strong>accuracy</strong></td><td>0.7846153846153846</td></tr><tr><td><strong>pr</strong></td><td>0.13253012048192772</td></tr><tr><td><strong>tpr</strong></td><td>0.09090909090909091</td></tr><tr><td><strong>tnr</strong></td><td>0.8928571428571429</td></tr></table></div><div style=\"display: inline-block; float: left;\"><h3>minratio</h3><table><tr><td><strong>accuracy</strong></td><td>0.9044871794871795</td></tr><tr><td><strong>pr</strong></td><td>0.9571619812583668</td></tr><tr><td><strong>tpr</strong></td><td>0.8181818181818182</td></tr><tr><td><strong>tnr</strong></td><td>0.9054325955734407</td></tr></table></div><div style=\"display: inline-block; float: left;\"><h3>maxdiff</h3><table><tr><td><strong>accuracy</strong></td><td>0.0828544949026877</td></tr><tr><td><strong>pr</strong></td><td>0.005931417979610748</td></tr><tr><td><strong>tpr</strong></td><td>0.020202020202020193</td></tr><tr><td><strong>tnr</strong></td><td>0.09325396825396826</td></tr></table></div>"
      ],
      "text/plain": [
       "<fairbench.forks.fork.Fork object at 0x00000290D7033C40>"
      ]
     },
     "execution_count": 9,
     "metadata": {},
     "output_type": "execute_result"
    }
   ],
   "source": [
    "fair_algorithm = pygrank.LFPR(alpha=0.85, redistributor=\"original\")\n",
    "fair_predictions = fair_algorithm(train, sensitive=sensitive)\n",
    "fair_predictions = fair_predictions*(1-train) >> pygrank.Top(20)\n",
    "fair_test_preds = fair_predictions.filter(exclude=train)\n",
    "\n",
    "fair_report = fb.multireport(labels=test_labels, predictions=fair_test_preds, sensitive=test_sensitive)\n",
    "fair_report"
   ]
  },
  {
   "cell_type": "code",
   "execution_count": 18,
   "id": "96c380b8",
   "metadata": {},
   "outputs": [
    {
     "data": {
      "image/png": "[encoded data removed]",
      "text/plain": [
       "<Figure size 640x480 with 2 Axes>"
      ]
     },
     "metadata": {},
     "output_type": "display_data"
    }
   ],
   "source": [
    "compare = fb.Fork(ppr=report, lfpro=fair_report)\n",
    "compare = fb.extract(accuracy=compare.min, pr=compare.minratio)\n",
    "fb.visualize(compare)"
   ]
  },
  {
   "cell_type": "markdown",
   "id": "e5d8b31a",
   "metadata": {},
   "source": [
    "## fb.extract\n",
    "Get entries from forks of dicts. All forks should have the same branches. <br>\n",
    "**Example**: Use when gathering measure values from a fork of forks of dicts.\n",
    "\n",
    "## fb.combine\n",
    "Create a fork that creates a super-fork whose branches are a collection of all individual fork branches.<br>\n",
    "**Example**: Use to add more columns to a fork of dicts.\n",
    "\n",
    "## dictionary combination |\n",
    "Applies dictionary combination to all branches between forks (the forks should have the same branch names).<br>\n",
    "**Example**: Use to add more rows to a fork of dicts.\n",
    "\n",
    "## fb.reduce\n",
    "Reduce all branches to one with an appropriate procedure. <br>\n",
    "If the fork has dictionary branches, these should have identical key sets. <br>\n",
    "The result will also have the same key set.\n",
    "*If `name=None` is provided, the result will be a raw tensor instead.*\n",
    "**Example**: Aggregate all branch results into one greater result."
   ]
  },
  {
   "cell_type": "code",
   "execution_count": null,
   "id": "a3e643cb",
   "metadata": {},
   "outputs": [],
   "source": []
  }
 ],
 "metadata": {
  "kernelspec": {
   "display_name": "Python 3 (ipykernel)",
   "language": "python",
   "name": "python3"
  },
  "language_info": {
   "codemirror_mode": {
    "name": "ipython",
    "version": 3
   },
   "file_extension": ".py",
   "mimetype": "text/x-python",
   "name": "python",
   "nbconvert_exporter": "python",
   "pygments_lexer": "ipython3",
   "version": "3.10.4"
  }
 },
 "nbformat": 4,
 "nbformat_minor": 5
}
