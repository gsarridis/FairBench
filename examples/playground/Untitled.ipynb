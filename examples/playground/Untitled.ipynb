{
 "cells": [
  {
   "cell_type": "code",
   "execution_count": 1,
   "id": "6ee76c51",
   "metadata": {},
   "outputs": [],
   "source": [
    "import fairbench as fb"
   ]
  },
  {
   "cell_type": "code",
   "execution_count": 2,
   "id": "205bfc77",
   "metadata": {},
   "outputs": [],
   "source": [
    "test, y, yhat = fb.demos.adult()"
   ]
  },
  {
   "cell_type": "code",
   "execution_count": 6,
   "id": "d34b4a40",
   "metadata": {},
   "outputs": [
    {
     "data": {
      "text/html": [
       "<table><tr><td><strong>Female&Amer-Indian-Eskimo</strong></td><td>[0 0 0 ... 0 0 0]</td></tr><tr><td><strong>Female&Black</strong></td><td>[0 0 0 ... 0 0 0]</td></tr><tr><td><strong>Female&White</strong></td><td>[0 0 0 ... 0 0 0]</td></tr><tr><td><strong>Female&Other</strong></td><td>[0 0 0 ... 0 0 0]</td></tr><tr><td><strong>Female&Asian-Pac-Islander</strong></td><td>[0 0 0 ... 0 0 0]</td></tr><tr><td><strong>Male&Amer-Indian-Eskimo</strong></td><td>[0 0 0 ... 0 0 0]</td></tr><tr><td><strong>Male&Black</strong></td><td>[1 0 0 ... 0 0 0]</td></tr><tr><td><strong>Male&White</strong></td><td>[0 1 1 ... 1 0 1]</td></tr><tr><td><strong>Male&Other</strong></td><td>[0 0 0 ... 0 0 0]</td></tr><tr><td><strong>Male&Asian-Pac-Islander</strong></td><td>[0 0 0 ... 0 1 0]</td></tr></table>"
      ],
      "text/plain": [
       "<fairbench.forks.fork.Fork object at 0x0000021EE9E6DA80>"
      ]
     },
     "execution_count": 6,
     "metadata": {},
     "output_type": "execute_result"
    }
   ],
   "source": [
    "sensitive = fb.Fork(fb.categories@test[9] & fb.categories@test[8])\n",
    "sensitive"
   ]
  },
  {
   "cell_type": "code",
   "execution_count": 11,
   "id": "9e9254b6",
   "metadata": {},
   "outputs": [
    {
     "data": {
      "text/html": [
       "<div style=\"display: inline-block; float: left;\"><h3>min</h3><table><tr><td><strong>accuracy</strong></td><td>0.783</td></tr><tr><td><strong>pr</strong></td><td>0.015</td></tr><tr><td><strong>tpr</strong></td><td>0.000</td></tr><tr><td><strong>tnr</strong></td><td>0.827</td></tr></table></div><div style=\"display: inline-block; float: left;\"><h3>wmean</h3><table><tr><td><strong>accuracy</strong></td><td>0.838</td></tr><tr><td><strong>pr</strong></td><td>0.188</td></tr><tr><td><strong>tpr</strong></td><td>0.703</td></tr><tr><td><strong>tnr</strong></td><td>0.865</td></tr></table></div><div style=\"display: inline-block; float: left;\"><h3>minratio</h3><table><tr><td><strong>accuracy</strong></td><td>0.822</td></tr><tr><td><strong>pr</strong></td><td>0.043</td></tr><tr><td><strong>tpr</strong></td><td>0.000</td></tr><tr><td><strong>tnr</strong></td><td>0.858</td></tr></table></div><div style=\"display: inline-block; float: left;\"><h3>maxdiff</h3><table><tr><td><strong>accuracy</strong></td><td>0.169</td></tr><tr><td><strong>pr</strong></td><td>0.334</td></tr><tr><td><strong>tpr</strong></td><td>0.900</td></tr><tr><td><strong>tnr</strong></td><td>0.137</td></tr></table></div><div style=\"display: inline-block; float: left;\"><h3>maxbarea</h3><table><tr><td><strong>accuracy</strong></td><td>---</td></tr><tr><td><strong>pr</strong></td><td>---</td></tr><tr><td><strong>tpr</strong></td><td>---</td></tr><tr><td><strong>tnr</strong></td><td>---</td></tr></table></div>"
      ],
      "text/plain": [
       "<fairbench.forks.fork.Fork object at 0x0000021E9B296D10>"
      ]
     },
     "execution_count": 11,
     "metadata": {},
     "output_type": "execute_result"
    }
   ],
   "source": [
    "report = fb.multireport(predictions=yhat, labels=y, sensitive=sensitive)\n",
    "report"
   ]
  },
  {
   "cell_type": "code",
   "execution_count": 14,
   "id": "5f88a617",
   "metadata": {
    "scrolled": true
   },
   "outputs": [
    {
     "data": {
      "text/plain": [
       "{'metric_name': 0.7831715210355987, 'prule': 0.04335016835016835}"
      ]
     },
     "execution_count": 14,
     "metadata": {},
     "output_type": "execute_result"
    }
   ],
   "source": [
    "metrics = fb.extract(fb.definitions.spff)\n",
    "metrics"
   ]
  },
  {
   "cell_type": "code",
   "execution_count": null,
   "id": "bbe0035d",
   "metadata": {},
   "outputs": [],
   "source": []
  }
 ],
 "metadata": {
  "kernelspec": {
   "display_name": "Python 3 (ipykernel)",
   "language": "python",
   "name": "python3"
  },
  "language_info": {
   "codemirror_mode": {
    "name": "ipython",
    "version": 3
   },
   "file_extension": ".py",
   "mimetype": "text/x-python",
   "name": "python",
   "nbconvert_exporter": "python",
   "pygments_lexer": "ipython3",
   "version": "3.10.4"
  }
 },
 "nbformat": 4,
 "nbformat_minor": 5
}
