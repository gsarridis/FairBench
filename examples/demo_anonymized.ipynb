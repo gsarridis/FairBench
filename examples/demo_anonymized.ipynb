{
 "cells": [
  {
   "cell_type": "code",
   "execution_count": 1,
   "id": "df0c67ff",
   "metadata": {},
   "outputs": [],
   "source": [
    "import alibrary as al  # anonymized library\n",
    "import numpy as np"
   ]
  },
  {
   "attachments": {},
   "cell_type": "markdown",
   "id": "0b03ead2",
   "metadata": {},
   "source": [
    "# Load data\n",
    "Automatically download the adult dataset, read it (with pandas)."
   ]
  },
  {
   "cell_type": "code",
   "execution_count": 2,
   "id": "ae9691ef",
   "metadata": {},
   "outputs": [
    {
     "data": {
      "text/html": [
       "<div>\n",
       "<style scoped>\n",
       "    .dataframe tbody tr th:only-of-type {\n",
       "        vertical-align: middle;\n",
       "    }\n",
       "\n",
       "    .dataframe tbody tr th {\n",
       "        vertical-align: top;\n",
       "    }\n",
       "\n",
       "    .dataframe thead th {\n",
       "        text-align: right;\n",
       "    }\n",
       "</style>\n",
       "<table border=\"1\" class=\"dataframe\">\n",
       "  <thead>\n",
       "    <tr style=\"text-align: right;\">\n",
       "      <th></th>\n",
       "      <th>0</th>\n",
       "      <th>1</th>\n",
       "      <th>2</th>\n",
       "      <th>3</th>\n",
       "      <th>4</th>\n",
       "      <th>5</th>\n",
       "      <th>6</th>\n",
       "      <th>7</th>\n",
       "      <th>8</th>\n",
       "      <th>9</th>\n",
       "      <th>10</th>\n",
       "      <th>11</th>\n",
       "      <th>12</th>\n",
       "      <th>13</th>\n",
       "      <th>14</th>\n",
       "    </tr>\n",
       "  </thead>\n",
       "  <tbody>\n",
       "    <tr>\n",
       "      <th>0</th>\n",
       "      <td>39</td>\n",
       "      <td>State-gov</td>\n",
       "      <td>77516</td>\n",
       "      <td>Bachelors</td>\n",
       "      <td>13</td>\n",
       "      <td>Never-married</td>\n",
       "      <td>Adm-clerical</td>\n",
       "      <td>Not-in-family</td>\n",
       "      <td>White</td>\n",
       "      <td>Male</td>\n",
       "      <td>2174</td>\n",
       "      <td>0</td>\n",
       "      <td>40</td>\n",
       "      <td>United-States</td>\n",
       "      <td>&lt;=50K</td>\n",
       "    </tr>\n",
       "    <tr>\n",
       "      <th>1</th>\n",
       "      <td>50</td>\n",
       "      <td>Self-emp-not-inc</td>\n",
       "      <td>83311</td>\n",
       "      <td>Bachelors</td>\n",
       "      <td>13</td>\n",
       "      <td>Married-civ-spouse</td>\n",
       "      <td>Exec-managerial</td>\n",
       "      <td>Husband</td>\n",
       "      <td>White</td>\n",
       "      <td>Male</td>\n",
       "      <td>0</td>\n",
       "      <td>0</td>\n",
       "      <td>13</td>\n",
       "      <td>United-States</td>\n",
       "      <td>&lt;=50K</td>\n",
       "    </tr>\n",
       "    <tr>\n",
       "      <th>2</th>\n",
       "      <td>38</td>\n",
       "      <td>Private</td>\n",
       "      <td>215646</td>\n",
       "      <td>HS-grad</td>\n",
       "      <td>9</td>\n",
       "      <td>Divorced</td>\n",
       "      <td>Handlers-cleaners</td>\n",
       "      <td>Not-in-family</td>\n",
       "      <td>White</td>\n",
       "      <td>Male</td>\n",
       "      <td>0</td>\n",
       "      <td>0</td>\n",
       "      <td>40</td>\n",
       "      <td>United-States</td>\n",
       "      <td>&lt;=50K</td>\n",
       "    </tr>\n",
       "    <tr>\n",
       "      <th>3</th>\n",
       "      <td>53</td>\n",
       "      <td>Private</td>\n",
       "      <td>234721</td>\n",
       "      <td>11th</td>\n",
       "      <td>7</td>\n",
       "      <td>Married-civ-spouse</td>\n",
       "      <td>Handlers-cleaners</td>\n",
       "      <td>Husband</td>\n",
       "      <td>Black</td>\n",
       "      <td>Male</td>\n",
       "      <td>0</td>\n",
       "      <td>0</td>\n",
       "      <td>40</td>\n",
       "      <td>United-States</td>\n",
       "      <td>&lt;=50K</td>\n",
       "    </tr>\n",
       "    <tr>\n",
       "      <th>4</th>\n",
       "      <td>28</td>\n",
       "      <td>Private</td>\n",
       "      <td>338409</td>\n",
       "      <td>Bachelors</td>\n",
       "      <td>13</td>\n",
       "      <td>Married-civ-spouse</td>\n",
       "      <td>Prof-specialty</td>\n",
       "      <td>Wife</td>\n",
       "      <td>Black</td>\n",
       "      <td>Female</td>\n",
       "      <td>0</td>\n",
       "      <td>0</td>\n",
       "      <td>40</td>\n",
       "      <td>Cuba</td>\n",
       "      <td>&lt;=50K</td>\n",
       "    </tr>\n",
       "  </tbody>\n",
       "</table>\n",
       "</div>"
      ],
      "text/plain": [
       "   0                 1       2          3   4                   5   \\\n",
       "0  39         State-gov   77516  Bachelors  13       Never-married   \n",
       "1  50  Self-emp-not-inc   83311  Bachelors  13  Married-civ-spouse   \n",
       "2  38           Private  215646    HS-grad   9            Divorced   \n",
       "3  53           Private  234721       11th   7  Married-civ-spouse   \n",
       "4  28           Private  338409  Bachelors  13  Married-civ-spouse   \n",
       "\n",
       "                  6              7      8       9     10  11  12  \\\n",
       "0       Adm-clerical  Not-in-family  White    Male  2174   0  40   \n",
       "1    Exec-managerial        Husband  White    Male     0   0  13   \n",
       "2  Handlers-cleaners  Not-in-family  White    Male     0   0  40   \n",
       "3  Handlers-cleaners        Husband  Black    Male     0   0  40   \n",
       "4     Prof-specialty           Wife  Black  Female     0   0  40   \n",
       "\n",
       "              13     14  \n",
       "0  United-States  <=50K  \n",
       "1  United-States  <=50K  \n",
       "2  United-States  <=50K  \n",
       "3  United-States  <=50K  \n",
       "4           Cuba  <=50K  "
      ]
     },
     "execution_count": 2,
     "metadata": {},
     "output_type": "execute_result"
    }
   ],
   "source": [
    "train = al.read_csv(\"adult/adult.data\", \n",
    "                    header=None, \n",
    "                    skipinitialspace=True)\n",
    "test = al.read_csv(\"adult/adult.test\", \n",
    "                   header=None, \n",
    "                   skipinitialspace=True, \n",
    "                   skiprows=[0])\n",
    "train.head()"
   ]
  },
  {
   "attachments": {},
   "cell_type": "markdown",
   "id": "919221c1",
   "metadata": {},
   "source": [
    "Convert training and test data into numpy arrays by considering some numeric and categorical columns."
   ]
  },
  {
   "cell_type": "code",
   "execution_count": 3,
   "id": "aa1ddcc3",
   "metadata": {},
   "outputs": [],
   "source": [
    "numeric = [0, 4, 11, 12]\n",
    "categorical = [1, 3, 5, 6]\n",
    "\n",
    "x_train = al.features(train, numeric, categorical)\n",
    "y_train = (train[14]==\">50K\").values\n",
    "\n",
    "x = al.features(test, numeric, categorical)\n",
    "y = (test[14]==\">50K.\").values"
   ]
  },
  {
   "attachments": {},
   "cell_type": "markdown",
   "id": "62d98a9d",
   "metadata": {},
   "source": [
    "# Make AI predictions\n",
    "This demonstration will use sklearn for simplicity, but this library also accepts pytorch or tensorflow tensors or any kind of numpy array. Inputs are scaled."
   ]
  },
  {
   "cell_type": "code",
   "execution_count": 4,
   "id": "bc12a521",
   "metadata": {},
   "outputs": [],
   "source": [
    "import sklearn\n",
    "from sklearn.linear_model import LogisticRegression\n",
    "\n",
    "x_train_scaled = sklearn.preprocessing.MinMaxScaler().fit_transform(x_train)\n",
    "x = sklearn.preprocessing.MinMaxScaler().fit_transform(x)\n",
    "\n",
    "classifier = LogisticRegression(max_iter=1000)\n",
    "classifier = classifier.fit(x_train_scaled, y_train)\n",
    "yhat = classifier.predict(x)"
   ]
  },
  {
   "attachments": {},
   "cell_type": "markdown",
   "id": "98f27094",
   "metadata": {},
   "source": [
    "# Define sensitive attribute Fork\n",
    "Determine sensitive attribute columns and organize them into Forks of fairness attributes. Forks define computational branches of population groups (a branch is a sensitive attribute column with binary values indicating membership to each group, e.g., Male, Female). Base measures will be computed independently on each branch to be compared. Fork branches can be automatically unpacked from iterables (e.g., arrays, lists, pandas columns) or manually by naming branches with keyword arguments in the Fork contructor. "
   ]
  },
  {
   "cell_type": "code",
   "execution_count": 5,
   "id": "3a90cd39",
   "metadata": {},
   "outputs": [
    {
     "name": "stdout",
     "output_type": "stream",
     "text": [
      "NumPyTensor(array([1, 1, 1, ..., 1, 1, 1]))\n"
     ]
    },
    {
     "data": {
      "text/html": [
       "<table><tr><td><strong>Female</strong></td><td>[0 0 0 ... 0 0 0]</td></tr><tr><td><strong>Male</strong></td><td>[1 1 1 ... 1 1 1]</td></tr></table>"
      ],
      "text/plain": [
       "<fairbench.forks.fork.Fork object at 0x0000025723EBBAF0>"
      ]
     },
     "execution_count": 5,
     "metadata": {},
     "output_type": "execute_result"
    }
   ],
   "source": [
    "sensitive = al.Fork(al.categories@test[9])  \n",
    "# or sensitive = al.Fork(Male=np.array(...), Female=np.array(...))\n",
    "print(sensitive.Male)\n",
    "sensitive"
   ]
  },
  {
   "attachments": {},
   "cell_type": "markdown",
   "id": "89fe1f84",
   "metadata": {},
   "source": [
    "Most operations are overloaded in forks. Here we will sum the sensitive attribute columns to obtain the presence of population groups in the data. Forks of numeric values and reports later on can be visualized or outputted in text form."
   ]
  },
  {
   "cell_type": "code",
   "execution_count": 6,
   "id": "50705085",
   "metadata": {},
   "outputs": [
    {
     "name": "stdout",
     "output_type": "stream",
     "text": [
      "Female: 5421\n",
      "Male: 10860\n"
     ]
    },
    {
     "data": {
      "image/png": "[encoded data removed]",
      "text/plain": [
       "<Figure size 640x480 with 1 Axes>"
      ]
     },
     "metadata": {},
     "output_type": "display_data"
    }
   ],
   "source": [
    "presence = sensitive.sum()\n",
    "print(presence)\n",
    "al.visualize(presence)"
   ]
  },
  {
   "attachments": {},
   "cell_type": "markdown",
   "id": "f366e506",
   "metadata": {},
   "source": [
    "# Performance measures and reports\n",
    "Individual performance measures can be computed per branch, i.e., sensitive attribute column. Can use the ipython display to show prettier representations instead of printing them."
   ]
  },
  {
   "cell_type": "code",
   "execution_count": 7,
   "id": "f565298c",
   "metadata": {},
   "outputs": [
    {
     "data": {
      "image/png": "[encoded data removed]",
      "text/plain": [
       "<Figure size 640x480 with 1 Axes>"
      ]
     },
     "metadata": {},
     "output_type": "display_data"
    },
    {
     "data": {
      "text/html": [
       "<table><tr><td><strong>Female</strong></td><td>0.9166205497140749</td></tr><tr><td><strong>Male</strong></td><td>0.7985267034990792</td></tr></table>"
      ],
      "text/plain": [
       "<fairbench.forks.fork.Fork object at 0x0000025772E02B00>"
      ]
     },
     "execution_count": 7,
     "metadata": {},
     "output_type": "execute_result"
    }
   ],
   "source": [
    "acc = al.accuracy(predictions=yhat, labels=y, sensitive=sensitive)\n",
    "al.visualize(acc)\n",
    "acc"
   ]
  },
  {
   "attachments": {},
   "cell_type": "markdown",
   "id": "e1ae1b94",
   "metadata": {},
   "source": [
    "Multiple measures can be computed and organized into reports, whose arguments will automatically be determined from keyword arguments."
   ]
  },
  {
   "cell_type": "code",
   "execution_count": 8,
   "id": "8cce1c5b",
   "metadata": {},
   "outputs": [
    {
     "data": {
      "text/html": [
       "<div style=\"display: inline-block; float: left;\"><h3>Female</h3><table><tr><td><strong>accuracy</strong></td><td>0.9166205497140749</td></tr><tr><td><strong>pr</strong></td><td>0.053864600627190555</td></tr><tr><td><strong>tpr</strong></td><td>0.7363013698630136</td></tr><tr><td><strong>tnr</strong></td><td>0.9268863326184441</td></tr></table></div><div style=\"display: inline-block; float: left;\"><h3>Male</h3><table><tr><td><strong>accuracy</strong></td><td>0.7985267034990792</td></tr><tr><td><strong>pr</strong></td><td>0.25451197053407</td></tr><tr><td><strong>tpr</strong></td><td>0.6931982633863966</td></tr><tr><td><strong>tnr</strong></td><td>0.8344861660079052</td></tr></table></div>"
      ],
      "text/plain": [
       "<fairbench.forks.fork.Fork object at 0x000002572481B550>"
      ]
     },
     "execution_count": 8,
     "metadata": {},
     "output_type": "execute_result"
    }
   ],
   "source": [
    "report = al.report(predictions=yhat, labels=y, sensitive=sensitive, \n",
    "                   metrics=[al.accuracy, al.pr, al.tpr, al.tnr])\n",
    "report"
   ]
  },
  {
   "attachments": {},
   "cell_type": "markdown",
   "id": "3e5257f3",
   "metadata": {},
   "source": [
    "Some popular measures are provided by the binreport. This and previous code analyse each sensitive attribute branch independently (make an one-vs-all analysis for sensitive attribute values)."
   ]
  },
  {
   "cell_type": "code",
   "execution_count": 9,
   "id": "b1e5d66c",
   "metadata": {},
   "outputs": [
    {
     "data": {
      "text/html": [
       "<div style=\"display: inline-block; float: left;\"><h3>Female</h3><table><tr><td><strong>accuracy</strong></td><td>0.9166205497140749</td></tr><tr><td><strong>prule</strong></td><td>0.2116387709158066</td></tr><tr><td><strong>dfpr</strong></td><td>-0.04310310647661719</td></tr><tr><td><strong>dfnr</strong></td><td>-0.09240016661053899</td></tr></table></div><div style=\"display: inline-block; float: left;\"><h3>Male</h3><table><tr><td><strong>accuracy</strong></td><td>0.7985267034990792</td></tr><tr><td><strong>prule</strong></td><td>0.2116387709158066</td></tr><tr><td><strong>dfpr</strong></td><td>0.04310310647661719</td></tr><tr><td><strong>dfnr</strong></td><td>0.09240016661053899</td></tr></table></div>"
      ],
      "text/plain": [
       "<fairbench.forks.fork.Fork object at 0x0000025772E027A0>"
      ]
     },
     "execution_count": 9,
     "metadata": {},
     "output_type": "execute_result"
    }
   ],
   "source": [
    "report = al.binreport(predictions=yhat, labels=y, sensitive=sensitive)\n",
    "report"
   ]
  },
  {
   "attachments": {},
   "cell_type": "markdown",
   "id": "5e22843f",
   "metadata": {},
   "source": [
    "Reports can be printed, outputted as textual tables, or visualized."
   ]
  },
  {
   "cell_type": "code",
   "execution_count": 10,
   "id": "bef1a981",
   "metadata": {},
   "outputs": [
    {
     "name": "stdout",
     "output_type": "stream",
     "text": [
      "Female: \n",
      "   accuracy: 0.917\n",
      "   prule: 0.212\n",
      "   dfpr: -0.043\n",
      "   dfnr: -0.092\n",
      "Male: \n",
      "   accuracy: 0.799\n",
      "   prule: 0.212\n",
      "   dfpr: 0.043\n",
      "   dfnr: 0.092\n"
     ]
    }
   ],
   "source": [
    "print(report)"
   ]
  },
  {
   "cell_type": "code",
   "execution_count": 11,
   "id": "d6ba6284",
   "metadata": {},
   "outputs": [
    {
     "name": "stdout",
     "output_type": "stream",
     "text": [
      "Metric          Female          Male           \n",
      "accuracy        0.917           0.799          \n",
      "prule           0.212           0.212          \n",
      "dfpr            -0.043          0.043          \n",
      "dfnr            -0.092          0.092          \n",
      "\n"
     ]
    }
   ],
   "source": [
    "al.describe(report)"
   ]
  },
  {
   "cell_type": "code",
   "execution_count": 12,
   "id": "cd433c00",
   "metadata": {},
   "outputs": [
    {
     "data": {
      "image/png": "[encoded data removed]",
      "text/plain": [
       "<Figure size 640x480 with 4 Axes>"
      ]
     },
     "metadata": {},
     "output_type": "display_data"
    }
   ],
   "source": [
    "al.visualize(report)"
   ]
  },
  {
   "attachments": {},
   "cell_type": "markdown",
   "id": "15b4cac4",
   "metadata": {},
   "source": [
    "# Reports and customization\n",
    "The preferred type of reporting for complex fairness assessment settings should be multireports. These make pairwise comparisons between all sensitive attribute branches (i.e., columns) and run reduction operations to summarize the result in terms of minimum measure values, minimum ratio of group assessment, or maximum difference of group assessment. These three types of reductions will always produce three branches, no matter how many sensitive attribute branches are there. That is, multireports are forks with three branches, where each branch holds the outcome of a different reduction."
   ]
  },
  {
   "cell_type": "code",
   "execution_count": 13,
   "id": "181596de",
   "metadata": {},
   "outputs": [
    {
     "data": {
      "text/html": [
       "<div style=\"display: inline-block; float: left;\"><h3>min</h3><table><tr><td><strong>accuracy</strong></td><td>0.799</td></tr><tr><td><strong>pr</strong></td><td>0.054</td></tr><tr><td><strong>tpr</strong></td><td>0.693</td></tr><tr><td><strong>tnr</strong></td><td>0.834</td></tr></table></div><div style=\"display: inline-block; float: left;\"><h3>minratio</h3><table><tr><td><strong>accuracy</strong></td><td>0.871</td></tr><tr><td><strong>pr</strong></td><td>0.212</td></tr><tr><td><strong>tpr</strong></td><td>0.941</td></tr><tr><td><strong>tnr</strong></td><td>0.900</td></tr></table></div><div style=\"display: inline-block; float: left;\"><h3>maxdiff</h3><table><tr><td><strong>accuracy</strong></td><td>0.118</td></tr><tr><td><strong>pr</strong></td><td>0.201</td></tr><tr><td><strong>tpr</strong></td><td>0.043</td></tr><tr><td><strong>tnr</strong></td><td>0.092</td></tr></table></div>"
      ],
      "text/plain": [
       "<fairbench.forks.fork.Fork object at 0x00000257241F11B0>"
      ]
     },
     "execution_count": 13,
     "metadata": {},
     "output_type": "execute_result"
    }
   ],
   "source": [
    "report = al.multireport(predictions=yhat, labels=y, sensitive=sensitive)\n",
    "report"
   ]
  },
  {
   "attachments": {},
   "cell_type": "markdown",
   "id": "3c750294",
   "metadata": {},
   "source": [
    "All reports can be computed on specific measures."
   ]
  },
  {
   "cell_type": "code",
   "execution_count": 14,
   "id": "4499550f",
   "metadata": {},
   "outputs": [
    {
     "data": {
      "text/html": [
       "<div style=\"display: inline-block; float: left;\"><h3>min</h3><table><tr><td><strong>accuracy</strong></td><td>0.799</td></tr><tr><td><strong>pr</strong></td><td>0.054</td></tr><tr><td><strong>tpr</strong></td><td>0.693</td></tr></table></div><div style=\"display: inline-block; float: left;\"><h3>minratio</h3><table><tr><td><strong>accuracy</strong></td><td>0.871</td></tr><tr><td><strong>pr</strong></td><td>0.212</td></tr><tr><td><strong>tpr</strong></td><td>0.941</td></tr></table></div><div style=\"display: inline-block; float: left;\"><h3>maxdiff</h3><table><tr><td><strong>accuracy</strong></td><td>0.118</td></tr><tr><td><strong>pr</strong></td><td>0.201</td></tr><tr><td><strong>tpr</strong></td><td>0.043</td></tr></table></div>"
      ],
      "text/plain": [
       "<fairbench.forks.fork.Fork object at 0x0000025724253AC0>"
      ]
     },
     "execution_count": 14,
     "metadata": {},
     "output_type": "execute_result"
    }
   ],
   "source": [
    "report = al.multireport(predictions=yhat, labels=y, sensitive=sensitive, metrics=[al.accuracy, al.pr, al.tpr])\n",
    "report"
   ]
  },
  {
   "attachments": {},
   "cell_type": "markdown",
   "id": "aceb1b20",
   "metadata": {},
   "source": [
    "Can unpack reports by accessing rows or columns as members."
   ]
  },
  {
   "cell_type": "code",
   "execution_count": 15,
   "id": "ebd2ce84",
   "metadata": {},
   "outputs": [
    {
     "data": {
      "text/html": [
       "<table><tr><td><strong>min</strong></td><td>0.799</td></tr><tr><td><strong>minratio</strong></td><td>0.871</td></tr><tr><td><strong>maxdiff</strong></td><td>0.118</td></tr></table>"
      ],
      "text/plain": [
       "<fairbench.forks.fork.Fork object at 0x0000025724253C10>"
      ]
     },
     "execution_count": 15,
     "metadata": {},
     "output_type": "execute_result"
    }
   ],
   "source": [
    "report.accuracy # this is also a Fork, since it would obtain a unique value for each branch"
   ]
  },
  {
   "cell_type": "code",
   "execution_count": 16,
   "id": "a05e37d8",
   "metadata": {},
   "outputs": [
    {
     "data": {
      "text/plain": [
       "{'accuracy': 0.7985267034990792,\n",
       " 'pr': 0.053864600627190555,\n",
       " 'tpr': 0.6931982633863966}"
      ]
     },
     "execution_count": 16,
     "metadata": {},
     "output_type": "execute_result"
    }
   ],
   "source": [
    "report.min  # this is a dictionary of assessments"
   ]
  },
  {
   "attachments": {},
   "cell_type": "markdown",
   "id": "c10d6ea5",
   "metadata": {},
   "source": [
    "You can also erase entries from each branch thank to transparent wrapping of of branch data objects, i.e., the same mechanism that let us compute sensitive.sum() for each branch."
   ]
  },
  {
   "cell_type": "code",
   "execution_count": 17,
   "id": "969999e5",
   "metadata": {},
   "outputs": [
    {
     "data": {
      "text/html": [
       "<div style=\"display: inline-block; float: left;\"><h3>min</h3><table><tr><td><strong>pr</strong></td><td>0.054</td></tr><tr><td><strong>tpr</strong></td><td>0.693</td></tr></table></div><div style=\"display: inline-block; float: left;\"><h3>minratio</h3><table><tr><td><strong>pr</strong></td><td>0.212</td></tr><tr><td><strong>tpr</strong></td><td>0.941</td></tr></table></div><div style=\"display: inline-block; float: left;\"><h3>maxdiff</h3><table><tr><td><strong>pr</strong></td><td>0.201</td></tr><tr><td><strong>tpr</strong></td><td>0.043</td></tr></table></div>"
      ],
      "text/plain": [
       "<fairbench.forks.fork.Fork object at 0x0000025724253AC0>"
      ]
     },
     "execution_count": 17,
     "metadata": {},
     "output_type": "execute_result"
    }
   ],
   "source": [
    "del report[\"accuracy\"]\n",
    "report"
   ]
  },
  {
   "attachments": {},
   "cell_type": "markdown",
   "id": "a0e405af",
   "metadata": {},
   "source": [
    "Custom reductions can be created with the corresponding interface. These will be reports."
   ]
  },
  {
   "cell_type": "code",
   "execution_count": 18,
   "id": "f673a20c",
   "metadata": {},
   "outputs": [
    {
     "data": {
      "text/html": [
       "<table><tr><td><strong>minratio</strong></td><td>0.860</td></tr></table>"
      ],
      "text/plain": [
       "<fairbench.forks.fork.Fork object at 0x0000025724268940>"
      ]
     },
     "execution_count": 18,
     "metadata": {},
     "output_type": "execute_result"
    }
   ],
   "source": [
    "fpr = al.fpr(predictions=yhat, labels=y, sensitive=sensitive)\n",
    "al.reduce(fpr, al.min, al.ratio)"
   ]
  },
  {
   "attachments": {},
   "cell_type": "markdown",
   "id": "6e9eb759",
   "metadata": {},
   "source": [
    "A Fork combining the branches of several Forks can be created."
   ]
  },
  {
   "cell_type": "code",
   "execution_count": 19,
   "id": "9b3185c2",
   "metadata": {},
   "outputs": [
    {
     "data": {
      "text/html": [
       "<table><tr><td><strong>min</strong></td><td>0.264</td></tr><tr><td><strong>minratio</strong></td><td>0.860</td></tr><tr><td><strong>maxdiff</strong></td><td>0.043</td></tr></table>"
      ],
      "text/plain": [
       "<fairbench.forks.fork.Fork object at 0x0000025724253E80>"
      ]
     },
     "execution_count": 19,
     "metadata": {},
     "output_type": "execute_result"
    }
   ],
   "source": [
    "fpr_reduced = al.combine(al.reduce(fpr, al.min), \n",
    "                         al.reduce(fpr, al.min, al.ratio), \n",
    "                         al.reduce(fpr, al.max, al.diff))\n",
    "fpr_reduced"
   ]
  },
  {
   "attachments": {},
   "cell_type": "markdown",
   "id": "59a7d22c",
   "metadata": {},
   "source": [
    "Seveal Forks with the same branches can be converted to reports via a todict method, which takes any number of keyword arguments to create corresponding dictionary entries on each branch."
   ]
  },
  {
   "cell_type": "code",
   "execution_count": 20,
   "id": "fad59661",
   "metadata": {},
   "outputs": [
    {
     "data": {
      "text/html": [
       "<div style=\"display: inline-block; float: left;\"><h3>min</h3><table><tr><td><strong>fpr</strong></td><td>0.264</td></tr></table></div><div style=\"display: inline-block; float: left;\"><h3>minratio</h3><table><tr><td><strong>fpr</strong></td><td>0.860</td></tr></table></div><div style=\"display: inline-block; float: left;\"><h3>maxdiff</h3><table><tr><td><strong>fpr</strong></td><td>0.043</td></tr></table></div>"
      ],
      "text/plain": [
       "<fairbench.forks.fork.Fork object at 0x0000025723EBBAC0>"
      ]
     },
     "execution_count": 20,
     "metadata": {},
     "output_type": "execute_result"
    }
   ],
   "source": [
    "fpr_report = al.todict(fpr=fpr_reduced)\n",
    "fpr_report"
   ]
  },
  {
   "attachments": {},
   "cell_type": "markdown",
   "id": "82d45e44",
   "metadata": {},
   "source": [
    "For multiple reports with the same branch names, dictionaries of measure values on each branch can be combined with the | operator (in Python 3.9 or later)."
   ]
  },
  {
   "cell_type": "code",
   "execution_count": 21,
   "id": "17b9e344",
   "metadata": {},
   "outputs": [
    {
     "data": {
      "text/html": [
       "<div style=\"display: inline-block; float: left;\"><h3>min</h3><table><tr><td><strong>pr</strong></td><td>0.054</td></tr><tr><td><strong>tpr</strong></td><td>0.693</td></tr><tr><td><strong>fpr</strong></td><td>0.264</td></tr></table></div><div style=\"display: inline-block; float: left;\"><h3>minratio</h3><table><tr><td><strong>pr</strong></td><td>0.212</td></tr><tr><td><strong>tpr</strong></td><td>0.941</td></tr><tr><td><strong>fpr</strong></td><td>0.860</td></tr></table></div><div style=\"display: inline-block; float: left;\"><h3>maxdiff</h3><table><tr><td><strong>pr</strong></td><td>0.201</td></tr><tr><td><strong>tpr</strong></td><td>0.043</td></tr><tr><td><strong>fpr</strong></td><td>0.043</td></tr></table></div>"
      ],
      "text/plain": [
       "<fairbench.forks.fork.Fork object at 0x0000025724253E20>"
      ]
     },
     "execution_count": 21,
     "metadata": {},
     "output_type": "execute_result"
    }
   ],
   "source": [
    "report | fpr_report"
   ]
  },
  {
   "attachments": {},
   "cell_type": "markdown",
   "id": "46b679a7",
   "metadata": {},
   "source": [
    "# Explain report values\n",
    "Report values are of type Explainable. This has a value and an explain field. "
   ]
  },
  {
   "cell_type": "code",
   "execution_count": 22,
   "id": "d36db08e",
   "metadata": {},
   "outputs": [
    {
     "name": "stdout",
     "output_type": "stream",
     "text": [
      "0.212\n"
     ]
    },
    {
     "data": {
      "text/plain": [
       "fairbench.forks.explanation.Explainable"
      ]
     },
     "execution_count": 22,
     "metadata": {},
     "output_type": "execute_result"
    }
   ],
   "source": [
    "print(report.minratio.pr)\n",
    "type(report.minratio.pr)"
   ]
  },
  {
   "cell_type": "code",
   "execution_count": 23,
   "id": "f23238b4",
   "metadata": {},
   "outputs": [
    {
     "name": "stdout",
     "output_type": "stream",
     "text": [
      "0.2116387709158066\n",
      "Female: 0.054\n",
      "Male: 0.255\n"
     ]
    }
   ],
   "source": [
    "print(report.minratio.pr.value)\n",
    "print(report.minratio.pr.explain)"
   ]
  },
  {
   "attachments": {},
   "cell_type": "markdown",
   "id": "25fd48a0",
   "metadata": {},
   "source": [
    "The explain field is a Fork that keeps track of individual evaluations that have contributed to the result. This way, we can backtrack explanations and find which groups are more disadvantaged after finding measures on which imbalances exist."
   ]
  },
  {
   "cell_type": "code",
   "execution_count": 24,
   "id": "d2b37bdd",
   "metadata": {},
   "outputs": [
    {
     "data": {
      "image/png": "[encoded data removed]",
      "text/plain": [
       "<Figure size 640x480 with 1 Axes>"
      ]
     },
     "metadata": {},
     "output_type": "display_data"
    }
   ],
   "source": [
    "al.visualize(report.minratio.pr.explain)"
   ]
  },
  {
   "attachments": {},
   "cell_type": "markdown",
   "id": "798c8d9e",
   "metadata": {},
   "source": [
    "# Intersectional fainress\n",
    "More than one unpacked sensitive attributes or multiple columns from several attributes can be provided to Fork consutructors."
   ]
  },
  {
   "cell_type": "code",
   "execution_count": 25,
   "id": "57b5d1aa",
   "metadata": {},
   "outputs": [
    {
     "data": {
      "text/html": [
       "<table><tr><td><strong>Female</strong></td><td>5421</td></tr><tr><td><strong>Male</strong></td><td>10860</td></tr><tr><td><strong>Asian-Pac-Islander</strong></td><td>480</td></tr><tr><td><strong>White</strong></td><td>13946</td></tr><tr><td><strong>Amer-Indian-Eskimo</strong></td><td>159</td></tr><tr><td><strong>Black</strong></td><td>1561</td></tr><tr><td><strong>Other</strong></td><td>135</td></tr></table>"
      ],
      "text/plain": [
       "<fairbench.forks.fork.Fork object at 0x00000257242A1240>"
      ]
     },
     "execution_count": 25,
     "metadata": {},
     "output_type": "execute_result"
    }
   ],
   "source": [
    "sensitive = al.Fork(al.categories@test[9], al.categories@test[8])\n",
    "sensitive.sum()"
   ]
  },
  {
   "attachments": {},
   "cell_type": "markdown",
   "id": "f15e5fd4",
   "metadata": {},
   "source": [
    "Appending all non-empty intersections of pairs of columns to the sensitive attribute to perform intersectional analyasis."
   ]
  },
  {
   "cell_type": "code",
   "execution_count": 26,
   "id": "38e124cf",
   "metadata": {},
   "outputs": [
    {
     "data": {
      "text/html": [
       "<table><tr><td><strong>Other</strong></td><td>135</td></tr><tr><td><strong>Black</strong></td><td>1561</td></tr><tr><td><strong>Amer-Indian-Eskimo</strong></td><td>159</td></tr><tr><td><strong>White</strong></td><td>13946</td></tr><tr><td><strong>Asian-Pac-Islander</strong></td><td>480</td></tr><tr><td><strong>Male</strong></td><td>10860</td></tr><tr><td><strong>Male&Other</strong></td><td>89</td></tr><tr><td><strong>Male&Black</strong></td><td>808</td></tr><tr><td><strong>Male&Amer-Indian-Eskimo</strong></td><td>93</td></tr><tr><td><strong>Male&White</strong></td><td>9561</td></tr><tr><td><strong>Male&Asian-Pac-Islander</strong></td><td>309</td></tr><tr><td><strong>Female</strong></td><td>5421</td></tr><tr><td><strong>Female&Other</strong></td><td>46</td></tr><tr><td><strong>Female&Black</strong></td><td>753</td></tr><tr><td><strong>Female&Amer-Indian-Eskimo</strong></td><td>66</td></tr><tr><td><strong>Female&White</strong></td><td>4385</td></tr><tr><td><strong>Female&Asian-Pac-Islander</strong></td><td>171</td></tr></table>"
      ],
      "text/plain": [
       "<fairbench.forks.fork.Fork object at 0x00000257242C0CD0>"
      ]
     },
     "execution_count": 26,
     "metadata": {},
     "output_type": "execute_result"
    }
   ],
   "source": [
    "sensitive_intersections = sensitive.intersectional()\n",
    "sensitive_intersections.sum()"
   ]
  },
  {
   "attachments": {},
   "cell_type": "markdown",
   "id": "b1fd2eed",
   "metadata": {},
   "source": [
    "Can create a normal report for intersectional fairness."
   ]
  },
  {
   "cell_type": "code",
   "execution_count": 27,
   "id": "68c12cc2",
   "metadata": {},
   "outputs": [
    {
     "data": {
      "text/html": [
       "<div style=\"display: inline-block; float: left;\"><h3>min</h3><table><tr><td><strong>accuracy</strong></td><td>0.783</td></tr><tr><td><strong>pr</strong></td><td>0.015</td></tr><tr><td><strong>tpr</strong></td><td>0.000</td></tr><tr><td><strong>tnr</strong></td><td>0.827</td></tr></table></div><div style=\"display: inline-block; float: left;\"><h3>minratio</h3><table><tr><td><strong>accuracy</strong></td><td>0.822</td></tr><tr><td><strong>pr</strong></td><td>0.043</td></tr><tr><td><strong>tpr</strong></td><td>0.000</td></tr><tr><td><strong>tnr</strong></td><td>0.858</td></tr></table></div><div style=\"display: inline-block; float: left;\"><h3>maxdiff</h3><table><tr><td><strong>accuracy</strong></td><td>0.169</td></tr><tr><td><strong>pr</strong></td><td>0.334</td></tr><tr><td><strong>tpr</strong></td><td>0.900</td></tr><tr><td><strong>tnr</strong></td><td>0.137</td></tr></table></div>"
      ],
      "text/plain": [
       "<fairbench.forks.fork.Fork object at 0x00000257242C0F70>"
      ]
     },
     "execution_count": 27,
     "metadata": {},
     "output_type": "execute_result"
    }
   ],
   "source": [
    "report = al.multireport(predictions=yhat, labels=y, \n",
    "                        sensitive=sensitive_intersections)\n",
    "report"
   ]
  },
  {
   "cell_type": "code",
   "execution_count": 28,
   "id": "05f0ed38",
   "metadata": {},
   "outputs": [
    {
     "data": {
      "text/html": [
       "<table><tr><td><strong>Asian-Pac-Islander</strong></td><td>0.81875</td></tr><tr><td><strong>Female&Other</strong></td><td>0.9130434782608696</td></tr><tr><td><strong>Female&White</strong></td><td>0.9115165336374003</td></tr><tr><td><strong>White</strong></td><td>0.8299870930732827</td></tr><tr><td><strong>Amer-Indian-Eskimo</strong></td><td>0.89937106918239</td></tr><tr><td><strong>Male&Asian-Pac-Islander</strong></td><td>0.7831715210355987</td></tr><tr><td><strong>Male</strong></td><td>0.7985267034990792</td></tr><tr><td><strong>Female&Amer-Indian-Eskimo</strong></td><td>0.9393939393939394</td></tr><tr><td><strong>Female&Asian-Pac-Islander</strong></td><td>0.8830409356725146</td></tr><tr><td><strong>Male&Other</strong></td><td>0.8651685393258427</td></tr><tr><td><strong>Female&Black</strong></td><td>0.952191235059761</td></tr><tr><td><strong>Male&White</strong></td><td>0.792594916849702</td></tr><tr><td><strong>Other</strong></td><td>0.8814814814814815</td></tr><tr><td><strong>Black</strong></td><td>0.9039077514413837</td></tr><tr><td><strong>Male&Black</strong></td><td>0.8589108910891089</td></tr><tr><td><strong>Male&Amer-Indian-Eskimo</strong></td><td>0.8709677419354839</td></tr><tr><td><strong>Female</strong></td><td>0.9166205497140749</td></tr></table>"
      ],
      "text/plain": [
       "<fairbench.forks.fork.Fork object at 0x00000257242C1060>"
      ]
     },
     "execution_count": 28,
     "metadata": {},
     "output_type": "execute_result"
    }
   ],
   "source": [
    "report.min.accuracy.explain"
   ]
  },
  {
   "attachments": {},
   "cell_type": "markdown",
   "id": "4249d07c",
   "metadata": {},
   "source": [
    "The worst accuracy is for Male&Asian-Pac-Islander, which means that any bias mitigation should start from exploring issues that arise for this subgroup."
   ]
  }
 ],
 "metadata": {
  "kernelspec": {
   "display_name": "Python 3 (ipykernel)",
   "language": "python",
   "name": "python3"
  },
  "language_info": {
   "codemirror_mode": {
    "name": "ipython",
    "version": 3
   },
   "file_extension": ".py",
   "mimetype": "text/x-python",
   "name": "python",
   "nbconvert_exporter": "python",
   "pygments_lexer": "ipython3",
   "version": "3.10.4"
  }
 },
 "nbformat": 4,
 "nbformat_minor": 5
}
