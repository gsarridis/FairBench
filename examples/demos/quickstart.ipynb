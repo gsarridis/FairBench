{
 "cells": [
  {
   "cell_type": "code",
   "execution_count": 6,
   "metadata": {
    "collapsed": true,
    "ExecuteTime": {
     "end_time": "2023-07-06T12:07:40.801245400Z",
     "start_time": "2023-07-06T12:07:40.786738300Z"
    }
   },
   "outputs": [],
   "source": [
    "import fairbench as fb\n",
    "import numpy as np"
   ]
  },
  {
   "cell_type": "code",
   "execution_count": 5,
   "outputs": [],
   "source": [
    "test, y, yhat = fb.demos.adult()"
   ],
   "metadata": {
    "collapsed": false,
    "ExecuteTime": {
     "end_time": "2023-07-06T12:07:12.332602600Z",
     "start_time": "2023-07-06T12:07:11.590721300Z"
    }
   }
  },
  {
   "cell_type": "code",
   "execution_count": 10,
   "outputs": [
    {
     "data": {
      "text/plain": "<fairbench.forks.fork.Fork object at 0x000001DEF5D7BCD0>",
      "text/html": "<table><tr><td><strong>Female</strong></td><td>[0 0 0 ... 0 0 0]</td></tr><tr><td><strong>Male</strong></td><td>[1 1 1 ... 1 1 1]</td></tr></table>"
     },
     "execution_count": 10,
     "metadata": {},
     "output_type": "execute_result"
    }
   ],
   "source": [
    "sensitive = fb.Fork(fb.categories@test[9])\n",
    "sensitive"
   ],
   "metadata": {
    "collapsed": false,
    "ExecuteTime": {
     "end_time": "2023-07-06T12:08:21.562793700Z",
     "start_time": "2023-07-06T12:08:21.545761800Z"
    }
   }
  },
  {
   "cell_type": "code",
   "execution_count": 15,
   "outputs": [
    {
     "name": "stdout",
     "output_type": "stream",
     "text": [
      "min: \n",
      "   accuracy: 0.799\n",
      "   pr: 0.054\n",
      "   tpr: 0.693\n",
      "   tnr: 0.834\n",
      "wmean: \n",
      "   accuracy: 0.838\n",
      "   pr: 0.188\n",
      "   tpr: 0.708\n",
      "   tnr: 0.865\n",
      "minratio: \n",
      "   accuracy: 0.871\n",
      "   pr: 0.212\n",
      "   tpr: 0.941\n",
      "   tnr: 0.900\n",
      "maxdiff: \n",
      "   accuracy: 0.118\n",
      "   pr: 0.201\n",
      "   tpr: 0.043\n",
      "   tnr: 0.092\n",
      "maxbarea: \n",
      "   accuracy: ---\n",
      "   pr: ---\n",
      "   tpr: ---\n",
      "   tnr: ---\n"
     ]
    }
   ],
   "source": [
    "report = fb.multireport(predictions=yhat, labels=y, sensitive=sensitive)\n",
    "print(report)"
   ],
   "metadata": {
    "collapsed": false,
    "ExecuteTime": {
     "end_time": "2023-07-06T12:11:43.576598800Z",
     "start_time": "2023-07-06T12:11:43.518185200Z"
    }
   }
  },
  {
   "cell_type": "code",
   "execution_count": null,
   "outputs": [],
   "source": [],
   "metadata": {
    "collapsed": false
   }
  }
 ],
 "metadata": {
  "kernelspec": {
   "display_name": "Python 3",
   "language": "python",
   "name": "python3"
  },
  "language_info": {
   "codemirror_mode": {
    "name": "ipython",
    "version": 2
   },
   "file_extension": ".py",
   "mimetype": "text/x-python",
   "name": "python",
   "nbconvert_exporter": "python",
   "pygments_lexer": "ipython2",
   "version": "2.7.6"
  }
 },
 "nbformat": 4,
 "nbformat_minor": 0
}
