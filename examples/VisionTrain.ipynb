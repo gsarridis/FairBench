{
 "cells": [
  {
   "cell_type": "code",
   "execution_count": null,
   "id": "059b112a",
   "metadata": {},
   "outputs": [],
   "source": [
    "import wget\n",
    "import os\n",
    "if not os.path.exists(\"colour_mnist.py\"):\n",
    "    wget.download(\"https://raw.githubusercontent.com/clovaai/rebias/master/datasets/colour_mnist.py\", \"colour_mnist.py\")\n",
    "\n",
    "if not os.path.exists(\"flac.py\"):\n",
    "    wget.download(\"https://raw.githubusercontent.com/gsarridis/FLAC/main/flac.py\", \"flac.py\")"
   ]
  },
  {
   "cell_type": "code",
   "execution_count": null,
   "id": "92f36147",
   "metadata": {},
   "outputs": [],
   "source": [
    "from colour_mnist import get_biased_mnist_dataloader\n",
    "trainloader = get_biased_mnist_dataloader(root='./data', batch_size=128, data_label_correlation=0.99, train=True)\n",
    "testloader = get_biased_mnist_dataloader(root='./data', batch_size=128, data_label_correlation=0.1, train=False)"
   ]
  },
  {
   "cell_type": "code",
   "execution_count": null,
   "id": "b3069f7d",
   "metadata": {},
   "outputs": [],
   "source": [
    "import torch\n",
    "import torch.nn as nn\n",
    "import torch.nn.functional as F\n",
    "\n",
    "\n",
    "class Net(nn.Module):\n",
    "    def __init__(self):\n",
    "        # https://github.com/gsarridis/FLAC/blob/main/models/simple_conv.py\n",
    "        super().__init__()\n",
    "        dims = 6\n",
    "        self.conv1 = nn.Conv2d(3, dims, 5)\n",
    "        self.pool = nn.MaxPool2d(2, 2)\n",
    "        self.conv2 = nn.Conv2d(dims, 16, 5)\n",
    "        self.fc = nn.Linear(256, 10)\n",
    "\n",
    "    def forward(self, x):\n",
    "        x = self.pool(F.relu(self.conv1(x)))\n",
    "        x = self.pool(F.relu(self.conv2(x)))\n",
    "        x = torch.flatten(x, 1) # flatten all dimensions except batch\n",
    "        x = F.normalize(x, dim=1)\n",
    "        features = x\n",
    "        x = self.fc(x)\n",
    "        return x, features"
   ]
  },
  {
   "cell_type": "code",
   "execution_count": null,
   "id": "8fa040a4",
   "metadata": {},
   "outputs": [],
   "source": [
    "import torch.optim as optim\n",
    "import flac\n",
    "\n",
    "device = torch.device('cuda:0' if torch.cuda.is_available() else 'cpu')\n",
    "print(device)\n",
    "\n",
    "color_net = Net()\n",
    "color_net.to(device)\n",
    "lossfunc = nn.CrossEntropyLoss()\n",
    "optimizer = optim.Adam(color_net.parameters(), lr=0.001)\n",
    "\n",
    "for epoch in range(1):\n",
    "    epoch_loss = 0\n",
    "    batches = 0\n",
    "    for data in trainloader:\n",
    "        optimizer.zero_grad()\n",
    "        inputs, sensitive = data[0].to(device), data[2].to(device)\n",
    "        outputs, features = color_net(inputs)\n",
    "        loss = lossfunc(outputs, sensitive)\n",
    "        loss.backward()\n",
    "        optimizer.step()\n",
    "        epoch_loss += loss.item()\n",
    "        batches += 1\n",
    "        print(f'\\r[{epoch + 1}] sensitive attribute classifier loss: {epoch_loss/batches:.3f}', end='')\n",
    "print(\"\\nFinished training sensitive attribute classifier\")"
   ]
  },
  {
   "cell_type": "code",
   "execution_count": null,
   "id": "ba468f2e",
   "metadata": {},
   "outputs": [],
   "source": [
    "def train(net, color_net=None, color_reg=100, epochs=5):\n",
    "    lossfunc = nn.CrossEntropyLoss()\n",
    "    optimizer = optim.Adam(net.parameters(), lr=0.001)\n",
    "    if color_net is not None:\n",
    "        color_net.eval()\n",
    "    for epoch in range(epochs):\n",
    "        epoch_loss = 0\n",
    "        batches = 0\n",
    "        for data in trainloader:\n",
    "            optimizer.zero_grad()\n",
    "            inputs, labels, sensitive = data[0].to(device), data[1].to(device), data[2].to(device)\n",
    "            outputs, features = net(inputs)\n",
    "            loss = lossfunc(outputs, labels)\n",
    "            if color_net is not None:\n",
    "                with torch.no_grad():\n",
    "                    color_outputs, color_features = color_net(inputs)\n",
    "                loss += color_reg*flac.flac_loss(color_features, features, torch.squeeze(labels), device=device)\n",
    "            loss.backward()\n",
    "            optimizer.step()\n",
    "            epoch_loss += loss.item()\n",
    "            batches += 1\n",
    "            print(f'\\r[{epoch + 1}] loss: {epoch_loss/batches:.3f}', end='')\n",
    "    print(\"\\nFinished training\")"
   ]
  },
  {
   "cell_type": "code",
   "execution_count": null,
   "id": "70092978",
   "metadata": {},
   "outputs": [],
   "source": [
    "net = Net()\n",
    "net.to(device)\n",
    "train(net)\n",
    "torch.save(net.state_dict(), './data/model.pth')"
   ]
  },
  {
   "cell_type": "code",
   "execution_count": null,
   "id": "7b70adfd",
   "metadata": {},
   "outputs": [],
   "source": [
    "fair_net = Net()\n",
    "fair_net.to(device)\n",
    "train(fair_net, color_net)\n",
    "torch.save(fair_net.state_dict(), './data/fair_model.pth')"
   ]
  }
 ],
 "metadata": {
  "kernelspec": {
   "display_name": "Python 3 (ipykernel)",
   "language": "python",
   "name": "python3"
  },
  "language_info": {
   "codemirror_mode": {
    "name": "ipython",
    "version": 3
   },
   "file_extension": ".py",
   "mimetype": "text/x-python",
   "name": "python",
   "nbconvert_exporter": "python",
   "pygments_lexer": "ipython3",
   "version": "3.10.4"
  }
 },
 "nbformat": 4,
 "nbformat_minor": 5
}
