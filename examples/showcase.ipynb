{
 "cells": [
  {
   "cell_type": "code",
   "execution_count": 1,
   "id": "48f217db",
   "metadata": {},
   "outputs": [],
   "source": [
    "import fairbench as fb\n",
    "import numpy as np"
   ]
  },
  {
   "cell_type": "markdown",
   "id": "a5223331",
   "metadata": {},
   "source": [
    "# Load data"
   ]
  },
  {
   "cell_type": "code",
   "execution_count": 2,
   "id": "6a0d94d6",
   "metadata": {
    "scrolled": true
   },
   "outputs": [
    {
     "data": {
      "text/html": [
       "<div>\n",
       "<style scoped>\n",
       "    .dataframe tbody tr th:only-of-type {\n",
       "        vertical-align: middle;\n",
       "    }\n",
       "\n",
       "    .dataframe tbody tr th {\n",
       "        vertical-align: top;\n",
       "    }\n",
       "\n",
       "    .dataframe thead th {\n",
       "        text-align: right;\n",
       "    }\n",
       "</style>\n",
       "<table border=\"1\" class=\"dataframe\">\n",
       "  <thead>\n",
       "    <tr style=\"text-align: right;\">\n",
       "      <th></th>\n",
       "      <th>0</th>\n",
       "      <th>1</th>\n",
       "      <th>2</th>\n",
       "      <th>3</th>\n",
       "      <th>4</th>\n",
       "      <th>5</th>\n",
       "      <th>6</th>\n",
       "      <th>7</th>\n",
       "      <th>8</th>\n",
       "      <th>9</th>\n",
       "      <th>10</th>\n",
       "      <th>11</th>\n",
       "      <th>12</th>\n",
       "      <th>13</th>\n",
       "      <th>14</th>\n",
       "    </tr>\n",
       "  </thead>\n",
       "  <tbody>\n",
       "    <tr>\n",
       "      <th>0</th>\n",
       "      <td>39</td>\n",
       "      <td>State-gov</td>\n",
       "      <td>77516</td>\n",
       "      <td>Bachelors</td>\n",
       "      <td>13</td>\n",
       "      <td>Never-married</td>\n",
       "      <td>Adm-clerical</td>\n",
       "      <td>Not-in-family</td>\n",
       "      <td>White</td>\n",
       "      <td>Male</td>\n",
       "      <td>2174</td>\n",
       "      <td>0</td>\n",
       "      <td>40</td>\n",
       "      <td>United-States</td>\n",
       "      <td>&lt;=50K</td>\n",
       "    </tr>\n",
       "    <tr>\n",
       "      <th>1</th>\n",
       "      <td>50</td>\n",
       "      <td>Self-emp-not-inc</td>\n",
       "      <td>83311</td>\n",
       "      <td>Bachelors</td>\n",
       "      <td>13</td>\n",
       "      <td>Married-civ-spouse</td>\n",
       "      <td>Exec-managerial</td>\n",
       "      <td>Husband</td>\n",
       "      <td>White</td>\n",
       "      <td>Male</td>\n",
       "      <td>0</td>\n",
       "      <td>0</td>\n",
       "      <td>13</td>\n",
       "      <td>United-States</td>\n",
       "      <td>&lt;=50K</td>\n",
       "    </tr>\n",
       "    <tr>\n",
       "      <th>2</th>\n",
       "      <td>38</td>\n",
       "      <td>Private</td>\n",
       "      <td>215646</td>\n",
       "      <td>HS-grad</td>\n",
       "      <td>9</td>\n",
       "      <td>Divorced</td>\n",
       "      <td>Handlers-cleaners</td>\n",
       "      <td>Not-in-family</td>\n",
       "      <td>White</td>\n",
       "      <td>Male</td>\n",
       "      <td>0</td>\n",
       "      <td>0</td>\n",
       "      <td>40</td>\n",
       "      <td>United-States</td>\n",
       "      <td>&lt;=50K</td>\n",
       "    </tr>\n",
       "    <tr>\n",
       "      <th>3</th>\n",
       "      <td>53</td>\n",
       "      <td>Private</td>\n",
       "      <td>234721</td>\n",
       "      <td>11th</td>\n",
       "      <td>7</td>\n",
       "      <td>Married-civ-spouse</td>\n",
       "      <td>Handlers-cleaners</td>\n",
       "      <td>Husband</td>\n",
       "      <td>Black</td>\n",
       "      <td>Male</td>\n",
       "      <td>0</td>\n",
       "      <td>0</td>\n",
       "      <td>40</td>\n",
       "      <td>United-States</td>\n",
       "      <td>&lt;=50K</td>\n",
       "    </tr>\n",
       "    <tr>\n",
       "      <th>4</th>\n",
       "      <td>28</td>\n",
       "      <td>Private</td>\n",
       "      <td>338409</td>\n",
       "      <td>Bachelors</td>\n",
       "      <td>13</td>\n",
       "      <td>Married-civ-spouse</td>\n",
       "      <td>Prof-specialty</td>\n",
       "      <td>Wife</td>\n",
       "      <td>Black</td>\n",
       "      <td>Female</td>\n",
       "      <td>0</td>\n",
       "      <td>0</td>\n",
       "      <td>40</td>\n",
       "      <td>Cuba</td>\n",
       "      <td>&lt;=50K</td>\n",
       "    </tr>\n",
       "  </tbody>\n",
       "</table>\n",
       "</div>"
      ],
      "text/plain": [
       "   0                 1       2          3   4                   5   \\\n",
       "0  39         State-gov   77516  Bachelors  13       Never-married   \n",
       "1  50  Self-emp-not-inc   83311  Bachelors  13  Married-civ-spouse   \n",
       "2  38           Private  215646    HS-grad   9            Divorced   \n",
       "3  53           Private  234721       11th   7  Married-civ-spouse   \n",
       "4  28           Private  338409  Bachelors  13  Married-civ-spouse   \n",
       "\n",
       "                  6              7      8       9     10  11  12  \\\n",
       "0       Adm-clerical  Not-in-family  White    Male  2174   0  40   \n",
       "1    Exec-managerial        Husband  White    Male     0   0  13   \n",
       "2  Handlers-cleaners  Not-in-family  White    Male     0   0  40   \n",
       "3  Handlers-cleaners        Husband  Black    Male     0   0  40   \n",
       "4     Prof-specialty           Wife  Black  Female     0   0  40   \n",
       "\n",
       "              13     14  \n",
       "0  United-States  <=50K  \n",
       "1  United-States  <=50K  \n",
       "2  United-States  <=50K  \n",
       "3  United-States  <=50K  \n",
       "4           Cuba  <=50K  "
      ]
     },
     "execution_count": 2,
     "metadata": {},
     "output_type": "execute_result"
    }
   ],
   "source": [
    "train = fb.read_csv(\"adult/adult.data\", header=None, skipinitialspace=True)\n",
    "test = fb.read_csv(\"adult/adult.test\", header=None, skipinitialspace=True, skiprows=[0])\n",
    "train.head()"
   ]
  },
  {
   "cell_type": "code",
   "execution_count": 3,
   "id": "4919a6fa",
   "metadata": {},
   "outputs": [],
   "source": [
    "numeric = [0, 4, 11, 12]\n",
    "categorical = [1, 3, 5, 6]\n",
    "\n",
    "x_train = fb.features(train, numeric, categorical)\n",
    "y_train = (train[14]==\">50K\").values\n",
    "\n",
    "x_test = fb.features(test, numeric, categorical)\n",
    "y_test = (test[14]==\">50K.\").values"
   ]
  },
  {
   "cell_type": "markdown",
   "id": "882cf420",
   "metadata": {},
   "source": [
    "# Make AI predictions"
   ]
  },
  {
   "cell_type": "code",
   "execution_count": 4,
   "id": "58ee161c",
   "metadata": {},
   "outputs": [],
   "source": [
    "import sklearn\n",
    "from sklearn.linear_model import LogisticRegression\n",
    "\n",
    "x_train_scaled = sklearn.preprocessing.MinMaxScaler().fit_transform(x_train)\n",
    "x_test_scaled = sklearn.preprocessing.MinMaxScaler().fit_transform(x_test)\n",
    "\n",
    "classifier = LogisticRegression(max_iter=1000)\n",
    "classifier = classifier.fit(x_train_scaled, y_train)\n",
    "predictions = classifier.predict(x_test_scaled)"
   ]
  },
  {
   "cell_type": "markdown",
   "id": "26d70426",
   "metadata": {},
   "source": [
    "# Evaluate fairness"
   ]
  },
  {
   "cell_type": "code",
   "execution_count": 5,
   "id": "1d7878a2",
   "metadata": {},
   "outputs": [
    {
     "data": {
      "text/plain": [
       "0          Male\n",
       "1          Male\n",
       "2          Male\n",
       "3          Male\n",
       "4        Female\n",
       "          ...  \n",
       "16276    Female\n",
       "16277      Male\n",
       "16278      Male\n",
       "16279      Male\n",
       "16280      Male\n",
       "Name: 9, Length: 16281, dtype: object"
      ]
     },
     "execution_count": 5,
     "metadata": {},
     "output_type": "execute_result"
    }
   ],
   "source": [
    "test[9]"
   ]
  },
  {
   "cell_type": "code",
   "execution_count": 6,
   "id": "178cb92f",
   "metadata": {},
   "outputs": [
    {
     "data": {
      "text/html": [
       "<table><tr><td><strong>Male</strong></td><td>[1 1 1 ... 1 1 1]</td></tr><tr><td><strong>Female</strong></td><td>[0 0 0 ... 0 0 0]</td></tr></table>"
      ],
      "text/plain": [
       "<fairbench.forks.fork.Fork object at 0x0000026048A87400>"
      ]
     },
     "execution_count": 6,
     "metadata": {},
     "output_type": "execute_result"
    }
   ],
   "source": [
    "sensitive = fb.Fork(fb.categories@test[9])\n",
    "sensitive"
   ]
  },
  {
   "cell_type": "code",
   "execution_count": 7,
   "id": "a4caa10b",
   "metadata": {},
   "outputs": [
    {
     "data": {
      "text/html": [
       "<table><tr><td><strong>genderMale</strong></td><td>[1 1 1 ... 1 1 1]</td></tr><tr><td><strong>genderFemale</strong></td><td>[0 0 0 ... 0 0 0]</td></tr><tr><td><strong>raceAsian-Pac-Islander</strong></td><td>[0 0 0 ... 0 1 0]</td></tr><tr><td><strong>raceAmer-Indian-Eskimo</strong></td><td>[0 0 0 ... 0 0 0]</td></tr><tr><td><strong>raceWhite</strong></td><td>[0 1 1 ... 1 0 1]</td></tr><tr><td><strong>raceBlack</strong></td><td>[1 0 0 ... 0 0 0]</td></tr><tr><td><strong>raceOther</strong></td><td>[0 0 0 ... 0 0 0]</td></tr></table>"
      ],
      "text/plain": [
       "<fairbench.forks.fork.Fork object at 0x0000026048A86170>"
      ]
     },
     "execution_count": 7,
     "metadata": {},
     "output_type": "execute_result"
    }
   ],
   "source": [
    "sensitive = fb.Fork(gender=fb.categories@test[9], race=fb.categories@test[8])\n",
    "sensitive"
   ]
  },
  {
   "cell_type": "code",
   "execution_count": 8,
   "id": "18b04573",
   "metadata": {},
   "outputs": [
    {
     "data": {
      "text/html": [
       "<div style=\"display: inline-block; float: left;\"><h3>min</h3><table><tr><td><strong>accuracy</strong></td><td>0.7985267034990792</td></tr><tr><td><strong>pr</strong></td><td>0.053864600627190555</td></tr><tr><td><strong>tpr</strong></td><td>0.6141732283464567</td></tr><tr><td><strong>tnr</strong></td><td>0.8344861660079052</td></tr></table></div><div style=\"display: inline-block; float: left;\"><h3>minratio</h3><table><tr><td><strong>accuracy</strong></td><td>0.8711638679147732</td></tr><tr><td><strong>pr</strong></td><td>0.20199225235196458</td></tr><tr><td><strong>tpr</strong></td><td>0.7258410880458125</td></tr><tr><td><strong>tnr</strong></td><td>0.8977143001165311</td></tr></table></div><div style=\"display: inline-block; float: left;\"><h3>maxdiff</h3><table><tr><td><strong>accuracy</strong></td><td>0.11809384621499575</td></tr><tr><td><strong>pr</strong></td><td>0.2128020660394761</td></tr><tr><td><strong>tpr</strong></td><td>0.23198061780738943</td></tr><tr><td><strong>tnr</strong></td><td>0.09508147694885916</td></tr></table></div>"
      ],
      "text/plain": [
       "<fairbench.forks.fork.Fork object at 0x0000026048A86380>"
      ]
     },
     "execution_count": 8,
     "metadata": {},
     "output_type": "execute_result"
    }
   ],
   "source": [
    "report = fb.multireport(predictions=predictions, labels=y_test, sensitive=sensitive)\n",
    "report"
   ]
  },
  {
   "cell_type": "code",
   "execution_count": 9,
   "id": "2b3bf912",
   "metadata": {},
   "outputs": [
    {
     "data": {
      "image/png": "[encoded data removed]",
      "text/plain": [
       "<Figure size 640x480 with 4 Axes>"
      ]
     },
     "metadata": {},
     "output_type": "display_data"
    }
   ],
   "source": [
    "fb.visualize(report)"
   ]
  },
  {
   "cell_type": "code",
   "execution_count": 10,
   "id": "df6bc47c",
   "metadata": {},
   "outputs": [
    {
     "name": "stdout",
     "output_type": "stream",
     "text": [
      "0.837847798046803\n"
     ]
    },
    {
     "data": {
      "text/plain": [
       "0.7985267034990792"
      ]
     },
     "execution_count": 10,
     "metadata": {},
     "output_type": "execute_result"
    }
   ],
   "source": [
    "print(fb.accuracy(predictions=predictions, labels=y_test))\n",
    "report.min.accuracy  # average across individual attribute value assessments"
   ]
  },
  {
   "cell_type": "code",
   "execution_count": 11,
   "id": "d14abcec",
   "metadata": {},
   "outputs": [
    {
     "data": {
      "text/html": [
       "<table><tr><td><strong>raceAmer-Indian-Eskimo</strong></td><td>0.08176100628930817</td></tr><tr><td><strong>genderFemale</strong></td><td>0.053864600627190555</td></tr><tr><td><strong>genderMale</strong></td><td>0.25451197053407</td></tr><tr><td><strong>raceWhite</strong></td><td>0.19898178689229887</td></tr><tr><td><strong>raceBlack</strong></td><td>0.08135810377962845</td></tr><tr><td><strong>raceOther</strong></td><td>0.0962962962962963</td></tr><tr><td><strong>raceAsian-Pac-Islander</strong></td><td>0.26666666666666666</td></tr></table>"
      ],
      "text/plain": [
       "<fairbench.forks.fork.Fork object at 0x0000026048A84DC0>"
      ]
     },
     "execution_count": 11,
     "metadata": {},
     "output_type": "execute_result"
    }
   ],
   "source": [
    "report.min.pr.explain  # this is also a report"
   ]
  },
  {
   "cell_type": "markdown",
   "id": "f1a9a9ae",
   "metadata": {},
   "source": [
    "# Intersectional fairness"
   ]
  },
  {
   "cell_type": "code",
   "execution_count": 12,
   "id": "8e5df5b0",
   "metadata": {},
   "outputs": [
    {
     "data": {
      "text/html": [
       "<table><tr><td><strong>maritalNever-married</strong></td><td>[1 0 0 ... 0 0 0]</td></tr><tr><td><strong>maritalWidowed</strong></td><td>[0 0 0 ... 0 0 0]</td></tr><tr><td><strong>maritalMarried-spouse-absent</strong></td><td>[0 0 0 ... 0 0 0]</td></tr><tr><td><strong>maritalMarried-civ-spouse</strong></td><td>[0 1 1 ... 1 0 1]</td></tr><tr><td><strong>maritalMarried-AF-spouse</strong></td><td>[0 0 0 ... 0 0 0]</td></tr><tr><td><strong>maritalSeparated</strong></td><td>[0 0 0 ... 0 0 0]</td></tr><tr><td><strong>maritalDivorced</strong></td><td>[0 0 0 ... 0 1 0]</td></tr><tr><td><strong>raceOther</strong></td><td>[0 0 0 ... 0 0 0]</td></tr><tr><td><strong>raceOther&maritalNever-married</strong></td><td>[0 0 0 ... 0 0 0]</td></tr><tr><td><strong>raceOther&maritalWidowed</strong></td><td>[0 0 0 ... 0 0 0]</td></tr><tr><td><strong>raceOther&maritalMarried-spouse-absent</strong></td><td>[0 0 0 ... 0 0 0]</td></tr><tr><td><strong>raceOther&maritalMarried-civ-spouse</strong></td><td>[0 0 0 ... 0 0 0]</td></tr><tr><td><strong>raceOther&maritalSeparated</strong></td><td>[0 0 0 ... 0 0 0]</td></tr><tr><td><strong>raceOther&maritalDivorced</strong></td><td>[0 0 0 ... 0 0 0]</td></tr><tr><td><strong>raceBlack</strong></td><td>[1 0 0 ... 0 0 0]</td></tr><tr><td><strong>raceBlack&maritalNever-married</strong></td><td>[1 0 0 ... 0 0 0]</td></tr><tr><td><strong>raceBlack&maritalWidowed</strong></td><td>[0 0 0 ... 0 0 0]</td></tr><tr><td><strong>raceBlack&maritalMarried-spouse-absent</strong></td><td>[0 0 0 ... 0 0 0]</td></tr><tr><td><strong>raceBlack&maritalMarried-civ-spouse</strong></td><td>[0 0 0 ... 0 0 0]</td></tr><tr><td><strong>raceBlack&maritalMarried-AF-spouse</strong></td><td>[0 0 0 ... 0 0 0]</td></tr><tr><td><strong>raceBlack&maritalSeparated</strong></td><td>[0 0 0 ... 0 0 0]</td></tr><tr><td><strong>raceBlack&maritalDivorced</strong></td><td>[0 0 0 ... 0 0 0]</td></tr><tr><td><strong>raceWhite</strong></td><td>[0 1 1 ... 1 0 1]</td></tr><tr><td><strong>raceWhite&maritalNever-married</strong></td><td>[0 0 0 ... 0 0 0]</td></tr><tr><td><strong>raceWhite&maritalWidowed</strong></td><td>[0 0 0 ... 0 0 0]</td></tr><tr><td><strong>raceWhite&maritalMarried-spouse-absent</strong></td><td>[0 0 0 ... 0 0 0]</td></tr><tr><td><strong>raceWhite&maritalMarried-civ-spouse</strong></td><td>[0 1 1 ... 1 0 1]</td></tr><tr><td><strong>raceWhite&maritalMarried-AF-spouse</strong></td><td>[0 0 0 ... 0 0 0]</td></tr><tr><td><strong>raceWhite&maritalSeparated</strong></td><td>[0 0 0 ... 0 0 0]</td></tr><tr><td><strong>raceWhite&maritalDivorced</strong></td><td>[0 0 0 ... 0 0 0]</td></tr><tr><td><strong>raceAmer-Indian-Eskimo</strong></td><td>[0 0 0 ... 0 0 0]</td></tr><tr><td><strong>raceAmer-Indian-Eskimo&maritalNever-married</strong></td><td>[0 0 0 ... 0 0 0]</td></tr><tr><td><strong>raceAmer-Indian-Eskimo&maritalWidowed</strong></td><td>[0 0 0 ... 0 0 0]</td></tr><tr><td><strong>raceAmer-Indian-Eskimo&maritalMarried-spouse-absent</strong></td><td>[0 0 0 ... 0 0 0]</td></tr><tr><td><strong>raceAmer-Indian-Eskimo&maritalMarried-civ-spouse</strong></td><td>[0 0 0 ... 0 0 0]</td></tr><tr><td><strong>raceAmer-Indian-Eskimo&maritalSeparated</strong></td><td>[0 0 0 ... 0 0 0]</td></tr><tr><td><strong>raceAmer-Indian-Eskimo&maritalDivorced</strong></td><td>[0 0 0 ... 0 0 0]</td></tr><tr><td><strong>raceAsian-Pac-Islander</strong></td><td>[0 0 0 ... 0 1 0]</td></tr><tr><td><strong>raceAsian-Pac-Islander&maritalNever-married</strong></td><td>[0 0 0 ... 0 0 0]</td></tr><tr><td><strong>raceAsian-Pac-Islander&maritalWidowed</strong></td><td>[0 0 0 ... 0 0 0]</td></tr><tr><td><strong>raceAsian-Pac-Islander&maritalMarried-spouse-absent</strong></td><td>[0 0 0 ... 0 0 0]</td></tr><tr><td><strong>raceAsian-Pac-Islander&maritalMarried-civ-spouse</strong></td><td>[0 0 0 ... 0 0 0]</td></tr><tr><td><strong>raceAsian-Pac-Islander&maritalMarried-AF-spouse</strong></td><td>[0 0 0 ... 0 0 0]</td></tr><tr><td><strong>raceAsian-Pac-Islander&maritalSeparated</strong></td><td>[0 0 0 ... 0 0 0]</td></tr><tr><td><strong>raceAsian-Pac-Islander&maritalDivorced</strong></td><td>[0 0 0 ... 0 1 0]</td></tr><tr><td><strong>genderFemale</strong></td><td>[0 0 0 ... 0 0 0]</td></tr><tr><td><strong>genderFemale&maritalNever-married</strong></td><td>[0 0 0 ... 0 0 0]</td></tr><tr><td><strong>genderFemale&maritalWidowed</strong></td><td>[0 0 0 ... 0 0 0]</td></tr><tr><td><strong>genderFemale&maritalMarried-spouse-absent</strong></td><td>[0 0 0 ... 0 0 0]</td></tr><tr><td><strong>genderFemale&maritalMarried-civ-spouse</strong></td><td>[0 0 0 ... 0 0 0]</td></tr><tr><td><strong>genderFemale&maritalMarried-AF-spouse</strong></td><td>[0 0 0 ... 0 0 0]</td></tr><tr><td><strong>genderFemale&maritalSeparated</strong></td><td>[0 0 0 ... 0 0 0]</td></tr><tr><td><strong>genderFemale&maritalDivorced</strong></td><td>[0 0 0 ... 0 0 0]</td></tr><tr><td><strong>genderFemale&raceOther</strong></td><td>[0 0 0 ... 0 0 0]</td></tr><tr><td><strong>genderFemale&raceOther&maritalNever-married</strong></td><td>[0 0 0 ... 0 0 0]</td></tr><tr><td><strong>genderFemale&raceOther&maritalWidowed</strong></td><td>[0 0 0 ... 0 0 0]</td></tr><tr><td><strong>genderFemale&raceOther&maritalMarried-civ-spouse</strong></td><td>[0 0 0 ... 0 0 0]</td></tr><tr><td><strong>genderFemale&raceOther&maritalSeparated</strong></td><td>[0 0 0 ... 0 0 0]</td></tr><tr><td><strong>genderFemale&raceOther&maritalDivorced</strong></td><td>[0 0 0 ... 0 0 0]</td></tr><tr><td><strong>genderFemale&raceBlack</strong></td><td>[0 0 0 ... 0 0 0]</td></tr><tr><td><strong>genderFemale&raceBlack&maritalNever-married</strong></td><td>[0 0 0 ... 0 0 0]</td></tr><tr><td><strong>genderFemale&raceBlack&maritalWidowed</strong></td><td>[0 0 0 ... 0 0 0]</td></tr><tr><td><strong>genderFemale&raceBlack&maritalMarried-spouse-absent</strong></td><td>[0 0 0 ... 0 0 0]</td></tr><tr><td><strong>genderFemale&raceBlack&maritalMarried-civ-spouse</strong></td><td>[0 0 0 ... 0 0 0]</td></tr><tr><td><strong>genderFemale&raceBlack&maritalSeparated</strong></td><td>[0 0 0 ... 0 0 0]</td></tr><tr><td><strong>genderFemale&raceBlack&maritalDivorced</strong></td><td>[0 0 0 ... 0 0 0]</td></tr><tr><td><strong>genderFemale&raceWhite</strong></td><td>[0 0 0 ... 0 0 0]</td></tr><tr><td><strong>genderFemale&raceWhite&maritalNever-married</strong></td><td>[0 0 0 ... 0 0 0]</td></tr><tr><td><strong>genderFemale&raceWhite&maritalWidowed</strong></td><td>[0 0 0 ... 0 0 0]</td></tr><tr><td><strong>genderFemale&raceWhite&maritalMarried-spouse-absent</strong></td><td>[0 0 0 ... 0 0 0]</td></tr><tr><td><strong>genderFemale&raceWhite&maritalMarried-civ-spouse</strong></td><td>[0 0 0 ... 0 0 0]</td></tr><tr><td><strong>genderFemale&raceWhite&maritalMarried-AF-spouse</strong></td><td>[0 0 0 ... 0 0 0]</td></tr><tr><td><strong>genderFemale&raceWhite&maritalSeparated</strong></td><td>[0 0 0 ... 0 0 0]</td></tr><tr><td><strong>genderFemale&raceWhite&maritalDivorced</strong></td><td>[0 0 0 ... 0 0 0]</td></tr><tr><td><strong>genderFemale&raceAmer-Indian-Eskimo</strong></td><td>[0 0 0 ... 0 0 0]</td></tr><tr><td><strong>genderFemale&raceAmer-Indian-Eskimo&maritalNever-married</strong></td><td>[0 0 0 ... 0 0 0]</td></tr><tr><td><strong>genderFemale&raceAmer-Indian-Eskimo&maritalWidowed</strong></td><td>[0 0 0 ... 0 0 0]</td></tr><tr><td><strong>genderFemale&raceAmer-Indian-Eskimo&maritalMarried-civ-spouse</strong></td><td>[0 0 0 ... 0 0 0]</td></tr><tr><td><strong>genderFemale&raceAmer-Indian-Eskimo&maritalSeparated</strong></td><td>[0 0 0 ... 0 0 0]</td></tr><tr><td><strong>genderFemale&raceAmer-Indian-Eskimo&maritalDivorced</strong></td><td>[0 0 0 ... 0 0 0]</td></tr><tr><td><strong>genderFemale&raceAsian-Pac-Islander</strong></td><td>[0 0 0 ... 0 0 0]</td></tr><tr><td><strong>genderFemale&raceAsian-Pac-Islander&maritalNever-married</strong></td><td>[0 0 0 ... 0 0 0]</td></tr><tr><td><strong>genderFemale&raceAsian-Pac-Islander&maritalWidowed</strong></td><td>[0 0 0 ... 0 0 0]</td></tr><tr><td><strong>genderFemale&raceAsian-Pac-Islander&maritalMarried-spouse-absent</strong></td><td>[0 0 0 ... 0 0 0]</td></tr><tr><td><strong>genderFemale&raceAsian-Pac-Islander&maritalMarried-civ-spouse</strong></td><td>[0 0 0 ... 0 0 0]</td></tr><tr><td><strong>genderFemale&raceAsian-Pac-Islander&maritalMarried-AF-spouse</strong></td><td>[0 0 0 ... 0 0 0]</td></tr><tr><td><strong>genderFemale&raceAsian-Pac-Islander&maritalSeparated</strong></td><td>[0 0 0 ... 0 0 0]</td></tr><tr><td><strong>genderFemale&raceAsian-Pac-Islander&maritalDivorced</strong></td><td>[0 0 0 ... 0 0 0]</td></tr><tr><td><strong>genderMale</strong></td><td>[1 1 1 ... 1 1 1]</td></tr><tr><td><strong>genderMale&maritalNever-married</strong></td><td>[1 0 0 ... 0 0 0]</td></tr><tr><td><strong>genderMale&maritalWidowed</strong></td><td>[0 0 0 ... 0 0 0]</td></tr><tr><td><strong>genderMale&maritalMarried-spouse-absent</strong></td><td>[0 0 0 ... 0 0 0]</td></tr><tr><td><strong>genderMale&maritalMarried-civ-spouse</strong></td><td>[0 1 1 ... 1 0 1]</td></tr><tr><td><strong>genderMale&maritalMarried-AF-spouse</strong></td><td>[0 0 0 ... 0 0 0]</td></tr><tr><td><strong>genderMale&maritalSeparated</strong></td><td>[0 0 0 ... 0 0 0]</td></tr><tr><td><strong>genderMale&maritalDivorced</strong></td><td>[0 0 0 ... 0 1 0]</td></tr><tr><td><strong>genderMale&raceOther</strong></td><td>[0 0 0 ... 0 0 0]</td></tr><tr><td><strong>genderMale&raceOther&maritalNever-married</strong></td><td>[0 0 0 ... 0 0 0]</td></tr><tr><td><strong>genderMale&raceOther&maritalMarried-spouse-absent</strong></td><td>[0 0 0 ... 0 0 0]</td></tr><tr><td><strong>genderMale&raceOther&maritalMarried-civ-spouse</strong></td><td>[0 0 0 ... 0 0 0]</td></tr><tr><td><strong>genderMale&raceOther&maritalSeparated</strong></td><td>[0 0 0 ... 0 0 0]</td></tr><tr><td><strong>genderMale&raceOther&maritalDivorced</strong></td><td>[0 0 0 ... 0 0 0]</td></tr><tr><td><strong>genderMale&raceBlack</strong></td><td>[1 0 0 ... 0 0 0]</td></tr><tr><td><strong>genderMale&raceBlack&maritalNever-married</strong></td><td>[1 0 0 ... 0 0 0]</td></tr><tr><td><strong>genderMale&raceBlack&maritalWidowed</strong></td><td>[0 0 0 ... 0 0 0]</td></tr><tr><td><strong>genderMale&raceBlack&maritalMarried-spouse-absent</strong></td><td>[0 0 0 ... 0 0 0]</td></tr><tr><td><strong>genderMale&raceBlack&maritalMarried-civ-spouse</strong></td><td>[0 0 0 ... 0 0 0]</td></tr><tr><td><strong>genderMale&raceBlack&maritalMarried-AF-spouse</strong></td><td>[0 0 0 ... 0 0 0]</td></tr><tr><td><strong>genderMale&raceBlack&maritalSeparated</strong></td><td>[0 0 0 ... 0 0 0]</td></tr><tr><td><strong>genderMale&raceBlack&maritalDivorced</strong></td><td>[0 0 0 ... 0 0 0]</td></tr><tr><td><strong>genderMale&raceWhite</strong></td><td>[0 1 1 ... 1 0 1]</td></tr><tr><td><strong>genderMale&raceWhite&maritalNever-married</strong></td><td>[0 0 0 ... 0 0 0]</td></tr><tr><td><strong>genderMale&raceWhite&maritalWidowed</strong></td><td>[0 0 0 ... 0 0 0]</td></tr><tr><td><strong>genderMale&raceWhite&maritalMarried-spouse-absent</strong></td><td>[0 0 0 ... 0 0 0]</td></tr><tr><td><strong>genderMale&raceWhite&maritalMarried-civ-spouse</strong></td><td>[0 1 1 ... 1 0 1]</td></tr><tr><td><strong>genderMale&raceWhite&maritalMarried-AF-spouse</strong></td><td>[0 0 0 ... 0 0 0]</td></tr><tr><td><strong>genderMale&raceWhite&maritalSeparated</strong></td><td>[0 0 0 ... 0 0 0]</td></tr><tr><td><strong>genderMale&raceWhite&maritalDivorced</strong></td><td>[0 0 0 ... 0 0 0]</td></tr><tr><td><strong>genderMale&raceAmer-Indian-Eskimo</strong></td><td>[0 0 0 ... 0 0 0]</td></tr><tr><td><strong>genderMale&raceAmer-Indian-Eskimo&maritalNever-married</strong></td><td>[0 0 0 ... 0 0 0]</td></tr><tr><td><strong>genderMale&raceAmer-Indian-Eskimo&maritalWidowed</strong></td><td>[0 0 0 ... 0 0 0]</td></tr><tr><td><strong>genderMale&raceAmer-Indian-Eskimo&maritalMarried-spouse-absent</strong></td><td>[0 0 0 ... 0 0 0]</td></tr><tr><td><strong>genderMale&raceAmer-Indian-Eskimo&maritalMarried-civ-spouse</strong></td><td>[0 0 0 ... 0 0 0]</td></tr><tr><td><strong>genderMale&raceAmer-Indian-Eskimo&maritalSeparated</strong></td><td>[0 0 0 ... 0 0 0]</td></tr><tr><td><strong>genderMale&raceAmer-Indian-Eskimo&maritalDivorced</strong></td><td>[0 0 0 ... 0 0 0]</td></tr><tr><td><strong>genderMale&raceAsian-Pac-Islander</strong></td><td>[0 0 0 ... 0 1 0]</td></tr><tr><td><strong>genderMale&raceAsian-Pac-Islander&maritalNever-married</strong></td><td>[0 0 0 ... 0 0 0]</td></tr><tr><td><strong>genderMale&raceAsian-Pac-Islander&maritalWidowed</strong></td><td>[0 0 0 ... 0 0 0]</td></tr><tr><td><strong>genderMale&raceAsian-Pac-Islander&maritalMarried-spouse-absent</strong></td><td>[0 0 0 ... 0 0 0]</td></tr><tr><td><strong>genderMale&raceAsian-Pac-Islander&maritalMarried-civ-spouse</strong></td><td>[0 0 0 ... 0 0 0]</td></tr><tr><td><strong>genderMale&raceAsian-Pac-Islander&maritalSeparated</strong></td><td>[0 0 0 ... 0 0 0]</td></tr><tr><td><strong>genderMale&raceAsian-Pac-Islander&maritalDivorced</strong></td><td>[0 0 0 ... 0 1 0]</td></tr></table>"
      ],
      "text/plain": [
       "<fairbench.forks.fork.Fork object at 0x0000026048C690F0>"
      ]
     },
     "execution_count": 12,
     "metadata": {},
     "output_type": "execute_result"
    }
   ],
   "source": [
    "sensitive_intersections = fb.Fork(gender=fb.categories@test[9], \n",
    "                                  race=fb.categories@test[8], \n",
    "                                  marital=fb.categories@test[5]).intersectional()  # empty intersections are ignored\n",
    "sensitive_intersections"
   ]
  },
  {
   "cell_type": "code",
   "execution_count": 13,
   "id": "bb2b962b",
   "metadata": {},
   "outputs": [
    {
     "data": {
      "image/png": "[encoded data removed]",
      "text/plain": [
       "<Figure size 640x480 with 4 Axes>"
      ]
     },
     "metadata": {},
     "output_type": "display_data"
    }
   ],
   "source": [
    "intersectional_report = fb.multireport(predictions=predictions, labels=y_test, sensitive=sensitive_intersections)\n",
    "fb.visualize(intersectional_report)"
   ]
  },
  {
   "cell_type": "code",
   "execution_count": 14,
   "id": "03a9b0dc",
   "metadata": {},
   "outputs": [
    {
     "data": {
      "text/html": [
       "<table><tr><td><strong>genderFemale&raceBlack&maritalNever-married</strong></td><td>0.0</td></tr><tr><td><strong>raceAmer-Indian-Eskimo&maritalMarried-spouse-absent</strong></td><td>0.0</td></tr><tr><td><strong>genderMale&raceBlack&maritalNever-married</strong></td><td>0.0</td></tr><tr><td><strong>raceWhite&maritalSeparated</strong></td><td>0.014164305949008499</td></tr><tr><td><strong>genderMale&raceAmer-Indian-Eskimo&maritalWidowed</strong></td><td>0.0</td></tr><tr><td><strong>genderFemale&maritalSeparated</strong></td><td>0.0033333333333333335</td></tr><tr><td><strong>genderFemale&raceAmer-Indian-Eskimo&maritalNever-married</strong></td><td>0.0</td></tr><tr><td><strong>genderMale&raceWhite&maritalWidowed</strong></td><td>0.09090909090909091</td></tr><tr><td><strong>genderFemale&raceWhite&maritalDivorced</strong></td><td>0.00975177304964539</td></tr><tr><td><strong>raceBlack&maritalMarried-civ-spouse</strong></td><td>0.2863849765258216</td></tr><tr><td><strong>genderFemale&raceWhite&maritalNever-married</strong></td><td>0.00255885363357216</td></tr><tr><td><strong>raceBlack&maritalWidowed</strong></td><td>0.015384615384615385</td></tr><tr><td><strong>maritalMarried-spouse-absent</strong></td><td>0.01904761904761905</td></tr><tr><td><strong>genderFemale&raceBlack&maritalDivorced</strong></td><td>0.0196078431372549</td></tr><tr><td><strong>genderMale&raceOther&maritalDivorced</strong></td><td>0.0</td></tr><tr><td><strong>genderFemale&maritalNever-married</strong></td><td>0.002039983680130559</td></tr><tr><td><strong>genderMale&raceWhite&maritalSeparated</strong></td><td>0.02564102564102564</td></tr><tr><td><strong>genderMale&raceWhite&maritalMarried-spouse-absent</strong></td><td>0.02564102564102564</td></tr><tr><td><strong>genderMale&raceBlack&maritalWidowed</strong></td><td>0.07142857142857142</td></tr><tr><td><strong>genderFemale&raceBlack&maritalSeparated</strong></td><td>0.0</td></tr><tr><td><strong>raceBlack&maritalMarried-spouse-absent</strong></td><td>0.0</td></tr><tr><td><strong>genderFemale&raceAsian-Pac-Islander&maritalDivorced</strong></td><td>0.0</td></tr><tr><td><strong>genderFemale&raceWhite</strong></td><td>0.055188141391106046</td></tr><tr><td><strong>genderFemale</strong></td><td>0.053864600627190555</td></tr><tr><td><strong>raceBlack&maritalSeparated</strong></td><td>0.0</td></tr><tr><td><strong>genderFemale&raceAmer-Indian-Eskimo</strong></td><td>0.015151515151515152</td></tr><tr><td><strong>raceOther&maritalDivorced</strong></td><td>0.0</td></tr><tr><td><strong>genderMale&raceAsian-Pac-Islander</strong></td><td>0.34951456310679613</td></tr><tr><td><strong>raceBlack</strong></td><td>0.08135810377962845</td></tr><tr><td><strong>genderMale&raceBlack&maritalMarried-civ-spouse</strong></td><td>0.2861271676300578</td></tr><tr><td><strong>genderMale&raceOther&maritalNever-married</strong></td><td>0.0</td></tr><tr><td><strong>genderFemale&raceAmer-Indian-Eskimo&maritalWidowed</strong></td><td>0.0</td></tr><tr><td><strong>genderMale&raceOther&maritalSeparated</strong></td><td>0.0</td></tr><tr><td><strong>raceBlack&maritalNever-married</strong></td><td>0.0</td></tr><tr><td><strong>genderMale&maritalSeparated</strong></td><td>0.01951219512195122</td></tr><tr><td><strong>genderFemale&raceOther&maritalDivorced</strong></td><td>0.0</td></tr><tr><td><strong>raceOther</strong></td><td>0.0962962962962963</td></tr><tr><td><strong>raceOther&maritalSeparated</strong></td><td>0.0</td></tr><tr><td><strong>genderMale&raceAmer-Indian-Eskimo&maritalDivorced</strong></td><td>0.0</td></tr><tr><td><strong>raceAmer-Indian-Eskimo&maritalNever-married</strong></td><td>0.0</td></tr><tr><td><strong>raceAmer-Indian-Eskimo&maritalDivorced</strong></td><td>0.0</td></tr><tr><td><strong>genderFemale&raceOther</strong></td><td>0.06521739130434782</td></tr><tr><td><strong>genderMale&maritalDivorced</strong></td><td>0.0313588850174216</td></tr><tr><td><strong>genderMale&raceAsian-Pac-Islander&maritalMarried-civ-spouse</strong></td><td>0.5752688172043011</td></tr><tr><td><strong>raceWhite&maritalWidowed</strong></td><td>0.02528735632183908</td></tr><tr><td><strong>genderFemale&raceBlack&maritalMarried-spouse-absent</strong></td><td>0.0</td></tr><tr><td><strong>genderMale&maritalWidowed</strong></td><td>0.08547008547008547</td></tr><tr><td><strong>genderMale&raceOther&maritalMarried-civ-spouse</strong></td><td>0.20454545454545456</td></tr><tr><td><strong>raceOther&maritalNever-married</strong></td><td>0.0</td></tr><tr><td><strong>genderMale&maritalMarried-spouse-absent</strong></td><td>0.036036036036036036</td></tr><tr><td><strong>raceOther&maritalMarried-spouse-absent</strong></td><td>0.5</td></tr><tr><td><strong>genderMale&raceAsian-Pac-Islander&maritalDivorced</strong></td><td>0.0</td></tr><tr><td><strong>genderMale&raceWhite&maritalMarried-civ-spouse</strong></td><td>0.41620533467539006</td></tr><tr><td><strong>raceAmer-Indian-Eskimo&maritalMarried-civ-spouse</strong></td><td>0.25</td></tr><tr><td><strong>genderMale&raceAsian-Pac-Islander&maritalWidowed</strong></td><td>0.0</td></tr><tr><td><strong>genderMale&maritalMarried-civ-spouse</strong></td><td>0.4115501519756839</td></tr><tr><td><strong>genderMale&raceAmer-Indian-Eskimo&maritalSeparated</strong></td><td>0.0</td></tr><tr><td><strong>raceAmer-Indian-Eskimo&maritalWidowed</strong></td><td>0.0</td></tr><tr><td><strong>maritalWidowed</strong></td><td>0.022857142857142857</td></tr><tr><td><strong>maritalDivorced</strong></td><td>0.01872146118721461</td></tr><tr><td><strong>genderFemale&maritalMarried-AF-spouse</strong></td><td>0.45454545454545453</td></tr><tr><td><strong>raceWhite</strong></td><td>0.19898178689229887</td></tr><tr><td><strong>genderFemale&raceWhite&maritalMarried-spouse-absent</strong></td><td>0.0</td></tr><tr><td><strong>raceAsian-Pac-Islander&maritalMarried-spouse-absent</strong></td><td>0.043478260869565216</td></tr><tr><td><strong>raceWhite&maritalNever-married</strong></td><td>0.003586639766868415</td></tr><tr><td><strong>genderFemale&raceBlack&maritalWidowed</strong></td><td>0.0</td></tr><tr><td><strong>maritalSeparated</strong></td><td>0.009900990099009901</td></tr><tr><td><strong>genderFemale&raceWhite&maritalMarried-AF-spouse</strong></td><td>0.4</td></tr><tr><td><strong>genderMale&raceWhite&maritalNever-married</strong></td><td>0.0043877143996808934</td></tr><tr><td><strong>raceAsian-Pac-Islander&maritalMarried-AF-spouse</strong></td><td>1.0</td></tr><tr><td><strong>genderFemale&raceOther&maritalMarried-civ-spouse</strong></td><td>0.375</td></tr><tr><td><strong>genderFemale&maritalMarried-civ-spouse</strong></td><td>0.3219927095990279</td></tr><tr><td><strong>genderFemale&raceBlack&maritalMarried-civ-spouse</strong></td><td>0.2875</td></tr><tr><td><strong>genderMale&raceBlack</strong></td><td>0.125</td></tr><tr><td><strong>raceBlack&maritalDivorced</strong></td><td>0.017857142857142856</td></tr><tr><td><strong>raceAmer-Indian-Eskimo</strong></td><td>0.08176100628930817</td></tr><tr><td><strong>genderFemale&raceWhite&maritalMarried-civ-spouse</strong></td><td>0.3206442166910688</td></tr><tr><td><strong>raceAsian-Pac-Islander&maritalMarried-civ-spouse</strong></td><td>0.5502183406113537</td></tr><tr><td><strong>genderFemale&raceAmer-Indian-Eskimo&maritalSeparated</strong></td><td>0.0</td></tr><tr><td><strong>genderFemale&raceWhite&maritalSeparated</strong></td><td>0.005076142131979695</td></tr><tr><td><strong>genderMale</strong></td><td>0.25451197053407</td></tr><tr><td><strong>genderMale&raceBlack&maritalMarried-spouse-absent</strong></td><td>0.0</td></tr><tr><td><strong>raceAsian-Pac-Islander&maritalWidowed</strong></td><td>0.0</td></tr><tr><td><strong>genderFemale&raceOther&maritalNever-married</strong></td><td>0.0</td></tr><tr><td><strong>raceAmer-Indian-Eskimo&maritalSeparated</strong></td><td>0.0</td></tr><tr><td><strong>raceWhite&maritalMarried-civ-spouse</strong></td><td>0.4063816977724263</td></tr><tr><td><strong>raceWhite&maritalMarried-spouse-absent</strong></td><td>0.012903225806451613</td></tr><tr><td><strong>genderMale&raceAmer-Indian-Eskimo&maritalNever-married</strong></td><td>0.0</td></tr><tr><td><strong>genderMale&raceWhite</strong></td><td>0.26493044660600357</td></tr><tr><td><strong>genderFemale&maritalMarried-spouse-absent</strong></td><td>0.0</td></tr><tr><td><strong>raceAsian-Pac-Islander&maritalSeparated</strong></td><td>0.0</td></tr><tr><td><strong>maritalNever-married</strong></td><td>0.002944423997055576</td></tr><tr><td><strong>raceWhite&maritalMarried-AF-spouse</strong></td><td>0.36363636363636365</td></tr><tr><td><strong>genderMale&raceOther&maritalMarried-spouse-absent</strong></td><td>0.5</td></tr><tr><td><strong>genderFemale&raceAmer-Indian-Eskimo&maritalDivorced</strong></td><td>0.0</td></tr><tr><td><strong>raceAsian-Pac-Islander&maritalNever-married</strong></td><td>0.0</td></tr><tr><td><strong>genderFemale&raceAsian-Pac-Islander&maritalNever-married</strong></td><td>0.0</td></tr><tr><td><strong>genderMale&raceOther</strong></td><td>0.11235955056179775</td></tr><tr><td><strong>genderMale&maritalNever-married</strong></td><td>0.0036875628561850488</td></tr><tr><td><strong>genderFemale&raceAsian-Pac-Islander</strong></td><td>0.11695906432748537</td></tr><tr><td><strong>raceAsian-Pac-Islander&maritalDivorced</strong></td><td>0.0</td></tr><tr><td><strong>raceAsian-Pac-Islander</strong></td><td>0.26666666666666666</td></tr><tr><td><strong>raceOther&maritalMarried-civ-spouse</strong></td><td>0.23076923076923078</td></tr><tr><td><strong>genderFemale&raceWhite&maritalWidowed</strong></td><td>0.005952380952380952</td></tr><tr><td><strong>raceOther&maritalWidowed</strong></td><td>0.0</td></tr><tr><td><strong>genderFemale&raceAsian-Pac-Islander&maritalMarried-spouse-absent</strong></td><td>0.0</td></tr><tr><td><strong>genderMale&raceWhite&maritalDivorced</strong></td><td>0.034255599472990776</td></tr><tr><td><strong>genderFemale&raceAsian-Pac-Islander&maritalSeparated</strong></td><td>0.0</td></tr><tr><td><strong>raceBlack&maritalMarried-AF-spouse</strong></td><td>0.0</td></tr><tr><td><strong>genderMale&raceAmer-Indian-Eskimo</strong></td><td>0.12903225806451613</td></tr><tr><td><strong>genderFemale&maritalWidowed</strong></td><td>0.004901960784313725</td></tr><tr><td><strong>genderFemale&raceOther&maritalWidowed</strong></td><td>0.0</td></tr><tr><td><strong>raceWhite&maritalDivorced</strong></td><td>0.0196078431372549</td></tr><tr><td><strong>maritalMarried-AF-spouse</strong></td><td>0.35714285714285715</td></tr><tr><td><strong>genderMale&maritalMarried-AF-spouse</strong></td><td>0.0</td></tr><tr><td><strong>genderMale&raceWhite&maritalMarried-AF-spouse</strong></td><td>0.0</td></tr><tr><td><strong>genderFemale&raceAsian-Pac-Islander&maritalWidowed</strong></td><td>0.0</td></tr><tr><td><strong>genderFemale&raceAmer-Indian-Eskimo&maritalMarried-civ-spouse</strong></td><td>0.1111111111111111</td></tr><tr><td><strong>genderMale&raceBlack&maritalSeparated</strong></td><td>0.0</td></tr><tr><td><strong>genderMale&raceAsian-Pac-Islander&maritalSeparated</strong></td><td>0.0</td></tr><tr><td><strong>genderFemale&raceAsian-Pac-Islander&maritalMarried-AF-spouse</strong></td><td>1.0</td></tr><tr><td><strong>genderFemale&maritalDivorced</strong></td><td>0.010534236267870579</td></tr><tr><td><strong>genderMale&raceAsian-Pac-Islander&maritalNever-married</strong></td><td>0.0</td></tr><tr><td><strong>genderFemale&raceBlack</strong></td><td>0.034528552456839307</td></tr><tr><td><strong>genderFemale&raceAsian-Pac-Islander&maritalMarried-civ-spouse</strong></td><td>0.4418604651162791</td></tr><tr><td><strong>genderMale&raceAmer-Indian-Eskimo&maritalMarried-civ-spouse</strong></td><td>0.27906976744186046</td></tr><tr><td><strong>genderMale&raceBlack&maritalDivorced</strong></td><td>0.014084507042253521</td></tr><tr><td><strong>genderFemale&raceOther&maritalSeparated</strong></td><td>0.0</td></tr><tr><td><strong>genderMale&raceAsian-Pac-Islander&maritalMarried-spouse-absent</strong></td><td>0.06666666666666667</td></tr><tr><td><strong>genderMale&raceAmer-Indian-Eskimo&maritalMarried-spouse-absent</strong></td><td>0.0</td></tr><tr><td><strong>maritalMarried-civ-spouse</strong></td><td>0.4015939483992976</td></tr><tr><td><strong>genderMale&raceBlack&maritalMarried-AF-spouse</strong></td><td>0.0</td></tr></table>"
      ],
      "text/plain": [
       "<fairbench.forks.fork.Fork object at 0x0000026048A84C40>"
      ]
     },
     "execution_count": 14,
     "metadata": {},
     "output_type": "execute_result"
    }
   ],
   "source": [
    "intersectional_report.min.pr.explain  #zero min ratio due to the complete absense of extremely small intersections from positive predictions"
   ]
  },
  {
   "cell_type": "code",
   "execution_count": 15,
   "id": "cd3abf4d",
   "metadata": {},
   "outputs": [
    {
     "data": {
      "text/html": [
       "<div style=\"display: inline-block; float: left;\"><h3>prule</h3><table><tr><td><strong>bayesian</strong></td><td>0.023732426041449543</td></tr><tr><td><strong>empirical</strong></td><td>0.0</td></tr></table></div>"
      ],
      "text/plain": [
       "<fairbench.forks.fork.Fork object at 0x0000026048D65B10>"
      ]
     },
     "execution_count": 15,
     "metadata": {},
     "output_type": "execute_result"
    }
   ],
   "source": [
    "bayesian = fb.reduce(\n",
    "    fb.surrogate_positives(predictions, sensitive),\n",
    "    fb.min,\n",
    "    fb.ratio,\n",
    "    name=None,\n",
    ")\n",
    "all_sensitive = fb.Fork(fb.categories@test[9] & fb.categories@test[8] & fb.categories@test[5])  # all combinations\n",
    "all_report = fb.multireport(predictions=predictions, labels=y_test, sensitive=all_sensitive)\n",
    "\n",
    "fb.Fork(prule={\"bayesian\": bayesian, \n",
    "               \"empirical\": all_report.minratio[\"pr\"]  # this will be zero for empty intersections\n",
    "              })"
   ]
  },
  {
   "cell_type": "code",
   "execution_count": null,
   "id": "e6021679",
   "metadata": {},
   "outputs": [],
   "source": []
  }
 ],
 "metadata": {
  "kernelspec": {
   "display_name": "Python 3 (ipykernel)",
   "language": "python",
   "name": "python3"
  },
  "language_info": {
   "codemirror_mode": {
    "name": "ipython",
    "version": 3
   },
   "file_extension": ".py",
   "mimetype": "text/x-python",
   "name": "python",
   "nbconvert_exporter": "python",
   "pygments_lexer": "ipython3",
   "version": "3.10.4"
  }
 },
 "nbformat": 4,
 "nbformat_minor": 5
}
