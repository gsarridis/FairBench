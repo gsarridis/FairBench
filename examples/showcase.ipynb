{
 "cells": [
  {
   "cell_type": "code",
   "execution_count": 1,
   "id": "48f217db",
   "metadata": {},
   "outputs": [],
   "source": [
    "import fairbench as fb\n",
    "import numpy as np"
   ]
  },
  {
   "cell_type": "markdown",
   "id": "a5223331",
   "metadata": {},
   "source": [
    "# Load data"
   ]
  },
  {
   "cell_type": "code",
   "execution_count": 27,
   "id": "6a0d94d6",
   "metadata": {
    "scrolled": true
   },
   "outputs": [
    {
     "data": {
      "text/html": [
       "<div>\n",
       "<style scoped>\n",
       "    .dataframe tbody tr th:only-of-type {\n",
       "        vertical-align: middle;\n",
       "    }\n",
       "\n",
       "    .dataframe tbody tr th {\n",
       "        vertical-align: top;\n",
       "    }\n",
       "\n",
       "    .dataframe thead th {\n",
       "        text-align: right;\n",
       "    }\n",
       "</style>\n",
       "<table border=\"1\" class=\"dataframe\">\n",
       "  <thead>\n",
       "    <tr style=\"text-align: right;\">\n",
       "      <th></th>\n",
       "      <th>0</th>\n",
       "      <th>1</th>\n",
       "      <th>2</th>\n",
       "      <th>3</th>\n",
       "      <th>4</th>\n",
       "      <th>5</th>\n",
       "      <th>6</th>\n",
       "      <th>7</th>\n",
       "      <th>8</th>\n",
       "      <th>9</th>\n",
       "      <th>10</th>\n",
       "      <th>11</th>\n",
       "      <th>12</th>\n",
       "      <th>13</th>\n",
       "      <th>14</th>\n",
       "    </tr>\n",
       "  </thead>\n",
       "  <tbody>\n",
       "    <tr>\n",
       "      <th>0</th>\n",
       "      <td>39</td>\n",
       "      <td>State-gov</td>\n",
       "      <td>77516</td>\n",
       "      <td>Bachelors</td>\n",
       "      <td>13</td>\n",
       "      <td>Never-married</td>\n",
       "      <td>Adm-clerical</td>\n",
       "      <td>Not-in-family</td>\n",
       "      <td>White</td>\n",
       "      <td>Male</td>\n",
       "      <td>2174</td>\n",
       "      <td>0</td>\n",
       "      <td>40</td>\n",
       "      <td>United-States</td>\n",
       "      <td>&lt;=50K</td>\n",
       "    </tr>\n",
       "    <tr>\n",
       "      <th>1</th>\n",
       "      <td>50</td>\n",
       "      <td>Self-emp-not-inc</td>\n",
       "      <td>83311</td>\n",
       "      <td>Bachelors</td>\n",
       "      <td>13</td>\n",
       "      <td>Married-civ-spouse</td>\n",
       "      <td>Exec-managerial</td>\n",
       "      <td>Husband</td>\n",
       "      <td>White</td>\n",
       "      <td>Male</td>\n",
       "      <td>0</td>\n",
       "      <td>0</td>\n",
       "      <td>13</td>\n",
       "      <td>United-States</td>\n",
       "      <td>&lt;=50K</td>\n",
       "    </tr>\n",
       "    <tr>\n",
       "      <th>2</th>\n",
       "      <td>38</td>\n",
       "      <td>Private</td>\n",
       "      <td>215646</td>\n",
       "      <td>HS-grad</td>\n",
       "      <td>9</td>\n",
       "      <td>Divorced</td>\n",
       "      <td>Handlers-cleaners</td>\n",
       "      <td>Not-in-family</td>\n",
       "      <td>White</td>\n",
       "      <td>Male</td>\n",
       "      <td>0</td>\n",
       "      <td>0</td>\n",
       "      <td>40</td>\n",
       "      <td>United-States</td>\n",
       "      <td>&lt;=50K</td>\n",
       "    </tr>\n",
       "    <tr>\n",
       "      <th>3</th>\n",
       "      <td>53</td>\n",
       "      <td>Private</td>\n",
       "      <td>234721</td>\n",
       "      <td>11th</td>\n",
       "      <td>7</td>\n",
       "      <td>Married-civ-spouse</td>\n",
       "      <td>Handlers-cleaners</td>\n",
       "      <td>Husband</td>\n",
       "      <td>Black</td>\n",
       "      <td>Male</td>\n",
       "      <td>0</td>\n",
       "      <td>0</td>\n",
       "      <td>40</td>\n",
       "      <td>United-States</td>\n",
       "      <td>&lt;=50K</td>\n",
       "    </tr>\n",
       "    <tr>\n",
       "      <th>4</th>\n",
       "      <td>28</td>\n",
       "      <td>Private</td>\n",
       "      <td>338409</td>\n",
       "      <td>Bachelors</td>\n",
       "      <td>13</td>\n",
       "      <td>Married-civ-spouse</td>\n",
       "      <td>Prof-specialty</td>\n",
       "      <td>Wife</td>\n",
       "      <td>Black</td>\n",
       "      <td>Female</td>\n",
       "      <td>0</td>\n",
       "      <td>0</td>\n",
       "      <td>40</td>\n",
       "      <td>Cuba</td>\n",
       "      <td>&lt;=50K</td>\n",
       "    </tr>\n",
       "  </tbody>\n",
       "</table>\n",
       "</div>"
      ],
      "text/plain": [
       "   0                 1       2          3   4                   5   \\\n",
       "0  39         State-gov   77516  Bachelors  13       Never-married   \n",
       "1  50  Self-emp-not-inc   83311  Bachelors  13  Married-civ-spouse   \n",
       "2  38           Private  215646    HS-grad   9            Divorced   \n",
       "3  53           Private  234721       11th   7  Married-civ-spouse   \n",
       "4  28           Private  338409  Bachelors  13  Married-civ-spouse   \n",
       "\n",
       "                  6              7      8       9     10  11  12  \\\n",
       "0       Adm-clerical  Not-in-family  White    Male  2174   0  40   \n",
       "1    Exec-managerial        Husband  White    Male     0   0  13   \n",
       "2  Handlers-cleaners  Not-in-family  White    Male     0   0  40   \n",
       "3  Handlers-cleaners        Husband  Black    Male     0   0  40   \n",
       "4     Prof-specialty           Wife  Black  Female     0   0  40   \n",
       "\n",
       "              13     14  \n",
       "0  United-States  <=50K  \n",
       "1  United-States  <=50K  \n",
       "2  United-States  <=50K  \n",
       "3  United-States  <=50K  \n",
       "4           Cuba  <=50K  "
      ]
     },
     "execution_count": 27,
     "metadata": {},
     "output_type": "execute_result"
    }
   ],
   "source": [
    "train = fb.read_csv(\"adult/adult.data\", header=None, skipinitialspace=True)\n",
    "test = fb.read_csv(\"adult/adult.test\", header=None, skipinitialspace=True, skiprows=[0])\n",
    "train.head()"
   ]
  },
  {
   "cell_type": "code",
   "execution_count": 28,
   "id": "4919a6fa",
   "metadata": {},
   "outputs": [],
   "source": [
    "numeric = [0, 4, 11, 12]\n",
    "categorical = [1, 3, 5, 6]\n",
    "\n",
    "x_train = fb.features(train, numeric, categorical)\n",
    "y_train = (train[14]==\">50K\").values\n",
    "\n",
    "x_test = fb.features(test, numeric, categorical)\n",
    "y_test = (test[14]==\">50K.\").values"
   ]
  },
  {
   "cell_type": "markdown",
   "id": "882cf420",
   "metadata": {},
   "source": [
    "# Make AI predictions"
   ]
  },
  {
   "cell_type": "code",
   "execution_count": 29,
   "id": "58ee161c",
   "metadata": {},
   "outputs": [],
   "source": [
    "import sklearn\n",
    "from sklearn.linear_model import LogisticRegression\n",
    "\n",
    "x_train_scaled = sklearn.preprocessing.MinMaxScaler().fit_transform(x_train)\n",
    "x_test_scaled = sklearn.preprocessing.MinMaxScaler().fit_transform(x_test)\n",
    "\n",
    "classifier = LogisticRegression(max_iter=1000)\n",
    "classifier = classifier.fit(x_train, y_train)\n",
    "predictions = classifier.predict(x_test)"
   ]
  },
  {
   "cell_type": "markdown",
   "id": "26d70426",
   "metadata": {},
   "source": [
    "# Evaluate fairness"
   ]
  },
  {
   "cell_type": "code",
   "execution_count": 30,
   "id": "1d7878a2",
   "metadata": {},
   "outputs": [
    {
     "data": {
      "text/plain": [
       "0          Male\n",
       "1          Male\n",
       "2          Male\n",
       "3          Male\n",
       "4        Female\n",
       "          ...  \n",
       "16276    Female\n",
       "16277      Male\n",
       "16278      Male\n",
       "16279      Male\n",
       "16280      Male\n",
       "Name: 9, Length: 16281, dtype: object"
      ]
     },
     "execution_count": 30,
     "metadata": {},
     "output_type": "execute_result"
    }
   ],
   "source": [
    "test[9]"
   ]
  },
  {
   "cell_type": "code",
   "execution_count": 31,
   "id": "6e319083",
   "metadata": {},
   "outputs": [
    {
     "data": {
      "text/plain": [
       "Categorical: {'Male': NumPyTensor(array([1, 1, 1, ..., 1, 1, 1])), 'Female': NumPyTensor(array([0, 0, 0, ..., 0, 0, 0]))}"
      ]
     },
     "execution_count": 31,
     "metadata": {},
     "output_type": "execute_result"
    }
   ],
   "source": [
    "fb.categories@test[9]"
   ]
  },
  {
   "cell_type": "code",
   "execution_count": 32,
   "id": "a276d453",
   "metadata": {},
   "outputs": [
    {
     "data": {
      "text/html": [
       "<table><tr><td><strong>Male</strong></td><td>[1 1 1 ... 1 1 1]</td></tr><tr><td><strong>Female</strong></td><td>[0 0 0 ... 0 0 0]</td></tr></table>"
      ],
      "text/plain": [
       "<fairbench.forks.fork.Fork object at 0x000002CD9131F2B0>"
      ]
     },
     "execution_count": 32,
     "metadata": {},
     "output_type": "execute_result"
    }
   ],
   "source": [
    "categories = fb.categories@test[9]\n",
    "sensitive = fb.Fork(Male=categories[\"Male\"], Female=categories[\"Female\"])\n",
    "sensitive"
   ]
  },
  {
   "cell_type": "code",
   "execution_count": 33,
   "id": "178cb92f",
   "metadata": {},
   "outputs": [
    {
     "data": {
      "text/html": [
       "<table><tr><td><strong>Male</strong></td><td>[1 1 1 ... 1 1 1]</td></tr><tr><td><strong>Female</strong></td><td>[0 0 0 ... 0 0 0]</td></tr></table>"
      ],
      "text/plain": [
       "<fairbench.forks.fork.Fork object at 0x000002CD9131F250>"
      ]
     },
     "execution_count": 33,
     "metadata": {},
     "output_type": "execute_result"
    }
   ],
   "source": [
    "sensitive = fb.Fork(fb.categories@test[9])\n",
    "sensitive"
   ]
  },
  {
   "cell_type": "code",
   "execution_count": 34,
   "id": "a4caa10b",
   "metadata": {},
   "outputs": [
    {
     "data": {
      "text/html": [
       "<table><tr><td><strong>gender=Male</strong></td><td>[1 1 1 ... 1 1 1]</td></tr><tr><td><strong>gender=Female</strong></td><td>[0 0 0 ... 0 0 0]</td></tr><tr><td><strong>race=Amer-Indian-Eskimo</strong></td><td>[0 0 0 ... 0 0 0]</td></tr><tr><td><strong>race=Other</strong></td><td>[0 0 0 ... 0 0 0]</td></tr><tr><td><strong>race=Black</strong></td><td>[1 0 0 ... 0 0 0]</td></tr><tr><td><strong>race=Asian-Pac-Islander</strong></td><td>[0 0 0 ... 0 1 0]</td></tr><tr><td><strong>race=White</strong></td><td>[0 1 1 ... 1 0 1]</td></tr></table>"
      ],
      "text/plain": [
       "<fairbench.forks.fork.Fork object at 0x000002CD965A10F0>"
      ]
     },
     "execution_count": 34,
     "metadata": {},
     "output_type": "execute_result"
    }
   ],
   "source": [
    "sensitive = fb.Fork(gender=fb.categories@test[9], race=fb.categories@test[8])\n",
    "sensitive"
   ]
  },
  {
   "cell_type": "code",
   "execution_count": 35,
   "id": "18b04573",
   "metadata": {},
   "outputs": [
    {
     "data": {
      "text/html": [
       "<div style=\"display: inline-block; float: left;\"><h3>mean</h3><table><tr><td><strong>accuracy</strong></td><td>0.8625706952477225</td></tr><tr><td><strong>pr</strong></td><td>0.14557252046568842</td></tr><tr><td><strong>tpr</strong></td><td>0.6980191901687264</td></tr><tr><td><strong>tnr</strong></td><td>0.8884247299023846</td></tr></table></div><div style=\"display: inline-block; float: left;\"><h3>minratio</h3><table><tr><td><strong>accuracy</strong></td><td>0.8705354044892839</td></tr><tr><td><strong>pr</strong></td><td>0.20168480600135275</td></tr><tr><td><strong>tpr</strong></td><td>0.7384615384615385</td></tr><tr><td><strong>tnr</strong></td><td>0.8962393731056406</td></tr></table></div><div style=\"display: inline-block; float: left;\"><h3>maxdiff</h3><table><tr><td><strong>accuracy</strong></td><td>0.11864602665508905</td></tr><tr><td><strong>pr</strong></td><td>0.20955773842464492</td></tr><tr><td><strong>tpr</strong></td><td>0.21794871794871795</td></tr><tr><td><strong>tnr</strong></td><td>0.0965349564978163</td></tr></table></div>"
      ],
      "text/plain": [
       "<fairbench.forks.fork.Fork object at 0x000002CD954A51E0>"
      ]
     },
     "execution_count": 35,
     "metadata": {},
     "output_type": "execute_result"
    }
   ],
   "source": [
    "report = fb.multireport(predictions=predictions, labels=y_test, sensitive=sensitive)\n",
    "report"
   ]
  },
  {
   "cell_type": "code",
   "execution_count": 36,
   "id": "2b3bf912",
   "metadata": {},
   "outputs": [
    {
     "data": {
      "image/png": "[encoded data removed]",
      "text/plain": [
       "<Figure size 640x480 with 4 Axes>"
      ]
     },
     "metadata": {},
     "output_type": "display_data"
    }
   ],
   "source": [
    "fb.visualize(report)"
   ]
  },
  {
   "cell_type": "code",
   "execution_count": 37,
   "id": "df6bc47c",
   "metadata": {},
   "outputs": [
    {
     "name": "stdout",
     "output_type": "stream",
     "text": [
      "0.8372950064492353\n"
     ]
    },
    {
     "data": {
      "text/plain": [
       "0.8625706952477225"
      ]
     },
     "execution_count": 37,
     "metadata": {},
     "output_type": "execute_result"
    }
   ],
   "source": [
    "print(fb.accuracy(predictions=predictions, labels=y_test))\n",
    "report.mean[\"accuracy\"]  # average across individual attribute value assessments"
   ]
  },
  {
   "cell_type": "code",
   "execution_count": 38,
   "id": "d14abcec",
   "metadata": {},
   "outputs": [
    {
     "data": {
      "text/html": [
       "<table><tr><td><strong>gender=Female</strong></td><td>0.0529422615753551</td></tr><tr><td><strong>race=Amer-Indian-Eskimo</strong></td><td>0.08176100628930817</td></tr><tr><td><strong>race=White</strong></td><td>0.19869496629858024</td></tr><tr><td><strong>race=Black</strong></td><td>0.0800768737988469</td></tr><tr><td><strong>race=Asian-Pac-Islander</strong></td><td>0.2625</td></tr><tr><td><strong>race=Other</strong></td><td>0.08888888888888889</td></tr><tr><td><strong>gender=Male</strong></td><td>0.2541436464088398</td></tr></table>"
      ],
      "text/plain": [
       "<fairbench.forks.fork.Fork object at 0x000002CD8E32EA40>"
      ]
     },
     "metadata": {},
     "output_type": "display_data"
    }
   ],
   "source": [
    "report.mean[\"pr\"].explain  # this is also a report\n",
    "from IPython.display import display\n",
    "display(report.mean[\"pr\"].explain)"
   ]
  },
  {
   "cell_type": "markdown",
   "id": "f1a9a9ae",
   "metadata": {},
   "source": [
    "# Intersectional fairness"
   ]
  },
  {
   "cell_type": "code",
   "execution_count": 39,
   "id": "8e5df5b0",
   "metadata": {},
   "outputs": [
    {
     "data": {
      "text/html": [
       "<table><tr><td><strong>Married-AF-spouse</strong></td><td>[0 0 0 ... 0 0 0]</td></tr><tr><td><strong>Married-civ-spouse</strong></td><td>[0 1 1 ... 1 0 1]</td></tr><tr><td><strong>Separated</strong></td><td>[0 0 0 ... 0 0 0]</td></tr><tr><td><strong>Married-spouse-absent</strong></td><td>[0 0 0 ... 0 0 0]</td></tr><tr><td><strong>Divorced</strong></td><td>[0 0 0 ... 0 1 0]</td></tr><tr><td><strong>Widowed</strong></td><td>[0 0 0 ... 0 0 0]</td></tr><tr><td><strong>Never-married</strong></td><td>[1 0 0 ... 0 0 0]</td></tr><tr><td><strong>White</strong></td><td>[0 1 1 ... 1 0 1]</td></tr><tr><td><strong>White&Married-AF-spouse</strong></td><td>[0 0 0 ... 0 0 0]</td></tr><tr><td><strong>White&Married-civ-spouse</strong></td><td>[0 1 1 ... 1 0 1]</td></tr><tr><td><strong>White&Separated</strong></td><td>[0 0 0 ... 0 0 0]</td></tr><tr><td><strong>White&Married-spouse-absent</strong></td><td>[0 0 0 ... 0 0 0]</td></tr><tr><td><strong>White&Divorced</strong></td><td>[0 0 0 ... 0 0 0]</td></tr><tr><td><strong>White&Widowed</strong></td><td>[0 0 0 ... 0 0 0]</td></tr><tr><td><strong>White&Never-married</strong></td><td>[0 0 0 ... 0 0 0]</td></tr><tr><td><strong>Asian-Pac-Islander</strong></td><td>[0 0 0 ... 0 1 0]</td></tr><tr><td><strong>Asian-Pac-Islander&Married-AF-spouse</strong></td><td>[0 0 0 ... 0 0 0]</td></tr><tr><td><strong>Asian-Pac-Islander&Married-civ-spouse</strong></td><td>[0 0 0 ... 0 0 0]</td></tr><tr><td><strong>Asian-Pac-Islander&Separated</strong></td><td>[0 0 0 ... 0 0 0]</td></tr><tr><td><strong>Asian-Pac-Islander&Married-spouse-absent</strong></td><td>[0 0 0 ... 0 0 0]</td></tr><tr><td><strong>Asian-Pac-Islander&Divorced</strong></td><td>[0 0 0 ... 0 1 0]</td></tr><tr><td><strong>Asian-Pac-Islander&Widowed</strong></td><td>[0 0 0 ... 0 0 0]</td></tr><tr><td><strong>Asian-Pac-Islander&Never-married</strong></td><td>[0 0 0 ... 0 0 0]</td></tr><tr><td><strong>Black</strong></td><td>[1 0 0 ... 0 0 0]</td></tr><tr><td><strong>Black&Married-AF-spouse</strong></td><td>[0 0 0 ... 0 0 0]</td></tr><tr><td><strong>Black&Married-civ-spouse</strong></td><td>[0 0 0 ... 0 0 0]</td></tr><tr><td><strong>Black&Separated</strong></td><td>[0 0 0 ... 0 0 0]</td></tr><tr><td><strong>Black&Married-spouse-absent</strong></td><td>[0 0 0 ... 0 0 0]</td></tr><tr><td><strong>Black&Divorced</strong></td><td>[0 0 0 ... 0 0 0]</td></tr><tr><td><strong>Black&Widowed</strong></td><td>[0 0 0 ... 0 0 0]</td></tr><tr><td><strong>Black&Never-married</strong></td><td>[1 0 0 ... 0 0 0]</td></tr><tr><td><strong>Other</strong></td><td>[0 0 0 ... 0 0 0]</td></tr><tr><td><strong>Other&Married-civ-spouse</strong></td><td>[0 0 0 ... 0 0 0]</td></tr><tr><td><strong>Other&Separated</strong></td><td>[0 0 0 ... 0 0 0]</td></tr><tr><td><strong>Other&Married-spouse-absent</strong></td><td>[0 0 0 ... 0 0 0]</td></tr><tr><td><strong>Other&Divorced</strong></td><td>[0 0 0 ... 0 0 0]</td></tr><tr><td><strong>Other&Widowed</strong></td><td>[0 0 0 ... 0 0 0]</td></tr><tr><td><strong>Other&Never-married</strong></td><td>[0 0 0 ... 0 0 0]</td></tr><tr><td><strong>Amer-Indian-Eskimo</strong></td><td>[0 0 0 ... 0 0 0]</td></tr><tr><td><strong>Amer-Indian-Eskimo&Married-civ-spouse</strong></td><td>[0 0 0 ... 0 0 0]</td></tr><tr><td><strong>Amer-Indian-Eskimo&Separated</strong></td><td>[0 0 0 ... 0 0 0]</td></tr><tr><td><strong>Amer-Indian-Eskimo&Married-spouse-absent</strong></td><td>[0 0 0 ... 0 0 0]</td></tr><tr><td><strong>Amer-Indian-Eskimo&Divorced</strong></td><td>[0 0 0 ... 0 0 0]</td></tr><tr><td><strong>Amer-Indian-Eskimo&Widowed</strong></td><td>[0 0 0 ... 0 0 0]</td></tr><tr><td><strong>Amer-Indian-Eskimo&Never-married</strong></td><td>[0 0 0 ... 0 0 0]</td></tr><tr><td><strong>Female</strong></td><td>[0 0 0 ... 0 0 0]</td></tr><tr><td><strong>Female&Married-AF-spouse</strong></td><td>[0 0 0 ... 0 0 0]</td></tr><tr><td><strong>Female&Married-civ-spouse</strong></td><td>[0 0 0 ... 0 0 0]</td></tr><tr><td><strong>Female&Separated</strong></td><td>[0 0 0 ... 0 0 0]</td></tr><tr><td><strong>Female&Married-spouse-absent</strong></td><td>[0 0 0 ... 0 0 0]</td></tr><tr><td><strong>Female&Divorced</strong></td><td>[0 0 0 ... 0 0 0]</td></tr><tr><td><strong>Female&Widowed</strong></td><td>[0 0 0 ... 0 0 0]</td></tr><tr><td><strong>Female&Never-married</strong></td><td>[0 0 0 ... 0 0 0]</td></tr><tr><td><strong>Female&White</strong></td><td>[0 0 0 ... 0 0 0]</td></tr><tr><td><strong>Female&White&Married-AF-spouse</strong></td><td>[0 0 0 ... 0 0 0]</td></tr><tr><td><strong>Female&White&Married-civ-spouse</strong></td><td>[0 0 0 ... 0 0 0]</td></tr><tr><td><strong>Female&White&Separated</strong></td><td>[0 0 0 ... 0 0 0]</td></tr><tr><td><strong>Female&White&Married-spouse-absent</strong></td><td>[0 0 0 ... 0 0 0]</td></tr><tr><td><strong>Female&White&Divorced</strong></td><td>[0 0 0 ... 0 0 0]</td></tr><tr><td><strong>Female&White&Widowed</strong></td><td>[0 0 0 ... 0 0 0]</td></tr><tr><td><strong>Female&White&Never-married</strong></td><td>[0 0 0 ... 0 0 0]</td></tr><tr><td><strong>Female&Asian-Pac-Islander</strong></td><td>[0 0 0 ... 0 0 0]</td></tr><tr><td><strong>Female&Asian-Pac-Islander&Married-AF-spouse</strong></td><td>[0 0 0 ... 0 0 0]</td></tr><tr><td><strong>Female&Asian-Pac-Islander&Married-civ-spouse</strong></td><td>[0 0 0 ... 0 0 0]</td></tr><tr><td><strong>Female&Asian-Pac-Islander&Separated</strong></td><td>[0 0 0 ... 0 0 0]</td></tr><tr><td><strong>Female&Asian-Pac-Islander&Married-spouse-absent</strong></td><td>[0 0 0 ... 0 0 0]</td></tr><tr><td><strong>Female&Asian-Pac-Islander&Divorced</strong></td><td>[0 0 0 ... 0 0 0]</td></tr><tr><td><strong>Female&Asian-Pac-Islander&Widowed</strong></td><td>[0 0 0 ... 0 0 0]</td></tr><tr><td><strong>Female&Asian-Pac-Islander&Never-married</strong></td><td>[0 0 0 ... 0 0 0]</td></tr><tr><td><strong>Female&Black</strong></td><td>[0 0 0 ... 0 0 0]</td></tr><tr><td><strong>Female&Black&Married-civ-spouse</strong></td><td>[0 0 0 ... 0 0 0]</td></tr><tr><td><strong>Female&Black&Separated</strong></td><td>[0 0 0 ... 0 0 0]</td></tr><tr><td><strong>Female&Black&Married-spouse-absent</strong></td><td>[0 0 0 ... 0 0 0]</td></tr><tr><td><strong>Female&Black&Divorced</strong></td><td>[0 0 0 ... 0 0 0]</td></tr><tr><td><strong>Female&Black&Widowed</strong></td><td>[0 0 0 ... 0 0 0]</td></tr><tr><td><strong>Female&Black&Never-married</strong></td><td>[0 0 0 ... 0 0 0]</td></tr><tr><td><strong>Female&Other</strong></td><td>[0 0 0 ... 0 0 0]</td></tr><tr><td><strong>Female&Other&Married-civ-spouse</strong></td><td>[0 0 0 ... 0 0 0]</td></tr><tr><td><strong>Female&Other&Separated</strong></td><td>[0 0 0 ... 0 0 0]</td></tr><tr><td><strong>Female&Other&Divorced</strong></td><td>[0 0 0 ... 0 0 0]</td></tr><tr><td><strong>Female&Other&Widowed</strong></td><td>[0 0 0 ... 0 0 0]</td></tr><tr><td><strong>Female&Other&Never-married</strong></td><td>[0 0 0 ... 0 0 0]</td></tr><tr><td><strong>Female&Amer-Indian-Eskimo</strong></td><td>[0 0 0 ... 0 0 0]</td></tr><tr><td><strong>Female&Amer-Indian-Eskimo&Married-civ-spouse</strong></td><td>[0 0 0 ... 0 0 0]</td></tr><tr><td><strong>Female&Amer-Indian-Eskimo&Separated</strong></td><td>[0 0 0 ... 0 0 0]</td></tr><tr><td><strong>Female&Amer-Indian-Eskimo&Divorced</strong></td><td>[0 0 0 ... 0 0 0]</td></tr><tr><td><strong>Female&Amer-Indian-Eskimo&Widowed</strong></td><td>[0 0 0 ... 0 0 0]</td></tr><tr><td><strong>Female&Amer-Indian-Eskimo&Never-married</strong></td><td>[0 0 0 ... 0 0 0]</td></tr><tr><td><strong>Male</strong></td><td>[1 1 1 ... 1 1 1]</td></tr><tr><td><strong>Male&Married-AF-spouse</strong></td><td>[0 0 0 ... 0 0 0]</td></tr><tr><td><strong>Male&Married-civ-spouse</strong></td><td>[0 1 1 ... 1 0 1]</td></tr><tr><td><strong>Male&Separated</strong></td><td>[0 0 0 ... 0 0 0]</td></tr><tr><td><strong>Male&Married-spouse-absent</strong></td><td>[0 0 0 ... 0 0 0]</td></tr><tr><td><strong>Male&Divorced</strong></td><td>[0 0 0 ... 0 1 0]</td></tr><tr><td><strong>Male&Widowed</strong></td><td>[0 0 0 ... 0 0 0]</td></tr><tr><td><strong>Male&Never-married</strong></td><td>[1 0 0 ... 0 0 0]</td></tr><tr><td><strong>Male&White</strong></td><td>[0 1 1 ... 1 0 1]</td></tr><tr><td><strong>Male&White&Married-AF-spouse</strong></td><td>[0 0 0 ... 0 0 0]</td></tr><tr><td><strong>Male&White&Married-civ-spouse</strong></td><td>[0 1 1 ... 1 0 1]</td></tr><tr><td><strong>Male&White&Separated</strong></td><td>[0 0 0 ... 0 0 0]</td></tr><tr><td><strong>Male&White&Married-spouse-absent</strong></td><td>[0 0 0 ... 0 0 0]</td></tr><tr><td><strong>Male&White&Divorced</strong></td><td>[0 0 0 ... 0 0 0]</td></tr><tr><td><strong>Male&White&Widowed</strong></td><td>[0 0 0 ... 0 0 0]</td></tr><tr><td><strong>Male&White&Never-married</strong></td><td>[0 0 0 ... 0 0 0]</td></tr><tr><td><strong>Male&Asian-Pac-Islander</strong></td><td>[0 0 0 ... 0 1 0]</td></tr><tr><td><strong>Male&Asian-Pac-Islander&Married-civ-spouse</strong></td><td>[0 0 0 ... 0 0 0]</td></tr><tr><td><strong>Male&Asian-Pac-Islander&Separated</strong></td><td>[0 0 0 ... 0 0 0]</td></tr><tr><td><strong>Male&Asian-Pac-Islander&Married-spouse-absent</strong></td><td>[0 0 0 ... 0 0 0]</td></tr><tr><td><strong>Male&Asian-Pac-Islander&Divorced</strong></td><td>[0 0 0 ... 0 1 0]</td></tr><tr><td><strong>Male&Asian-Pac-Islander&Widowed</strong></td><td>[0 0 0 ... 0 0 0]</td></tr><tr><td><strong>Male&Asian-Pac-Islander&Never-married</strong></td><td>[0 0 0 ... 0 0 0]</td></tr><tr><td><strong>Male&Black</strong></td><td>[1 0 0 ... 0 0 0]</td></tr><tr><td><strong>Male&Black&Married-AF-spouse</strong></td><td>[0 0 0 ... 0 0 0]</td></tr><tr><td><strong>Male&Black&Married-civ-spouse</strong></td><td>[0 0 0 ... 0 0 0]</td></tr><tr><td><strong>Male&Black&Separated</strong></td><td>[0 0 0 ... 0 0 0]</td></tr><tr><td><strong>Male&Black&Married-spouse-absent</strong></td><td>[0 0 0 ... 0 0 0]</td></tr><tr><td><strong>Male&Black&Divorced</strong></td><td>[0 0 0 ... 0 0 0]</td></tr><tr><td><strong>Male&Black&Widowed</strong></td><td>[0 0 0 ... 0 0 0]</td></tr><tr><td><strong>Male&Black&Never-married</strong></td><td>[1 0 0 ... 0 0 0]</td></tr><tr><td><strong>Male&Other</strong></td><td>[0 0 0 ... 0 0 0]</td></tr><tr><td><strong>Male&Other&Married-civ-spouse</strong></td><td>[0 0 0 ... 0 0 0]</td></tr><tr><td><strong>Male&Other&Separated</strong></td><td>[0 0 0 ... 0 0 0]</td></tr><tr><td><strong>Male&Other&Married-spouse-absent</strong></td><td>[0 0 0 ... 0 0 0]</td></tr><tr><td><strong>Male&Other&Divorced</strong></td><td>[0 0 0 ... 0 0 0]</td></tr><tr><td><strong>Male&Other&Never-married</strong></td><td>[0 0 0 ... 0 0 0]</td></tr><tr><td><strong>Male&Amer-Indian-Eskimo</strong></td><td>[0 0 0 ... 0 0 0]</td></tr><tr><td><strong>Male&Amer-Indian-Eskimo&Married-civ-spouse</strong></td><td>[0 0 0 ... 0 0 0]</td></tr><tr><td><strong>Male&Amer-Indian-Eskimo&Separated</strong></td><td>[0 0 0 ... 0 0 0]</td></tr><tr><td><strong>Male&Amer-Indian-Eskimo&Married-spouse-absent</strong></td><td>[0 0 0 ... 0 0 0]</td></tr><tr><td><strong>Male&Amer-Indian-Eskimo&Divorced</strong></td><td>[0 0 0 ... 0 0 0]</td></tr><tr><td><strong>Male&Amer-Indian-Eskimo&Widowed</strong></td><td>[0 0 0 ... 0 0 0]</td></tr><tr><td><strong>Male&Amer-Indian-Eskimo&Never-married</strong></td><td>[0 0 0 ... 0 0 0]</td></tr></table>"
      ],
      "text/plain": [
       "<fairbench.forks.fork.Fork object at 0x000002CD965A01C0>"
      ]
     },
     "execution_count": 39,
     "metadata": {},
     "output_type": "execute_result"
    }
   ],
   "source": [
    "sensitive_intersections = fb.Fork(gender=fb.categories@test[9], \n",
    "                                  race=fb.categories@test[8], \n",
    "                                  marital=fb.categories@test[5], \n",
    "                                  _prefix=False).intersectional()  # empty intersections are ignored\n",
    "sensitive_intersections"
   ]
  },
  {
   "cell_type": "code",
   "execution_count": 40,
   "id": "bb2b962b",
   "metadata": {},
   "outputs": [
    {
     "data": {
      "image/png": "[encoded data removed]",
      "text/plain": [
       "<Figure size 640x480 with 4 Axes>"
      ]
     },
     "metadata": {},
     "output_type": "display_data"
    }
   ],
   "source": [
    "intersectional_report = fb.multireport(predictions=predictions, labels=y_test, sensitive=sensitive_intersections)\n",
    "fb.visualize(intersectional_report)"
   ]
  },
  {
   "cell_type": "code",
   "execution_count": 41,
   "id": "03a9b0dc",
   "metadata": {},
   "outputs": [
    {
     "data": {
      "text/html": [
       "<table><tr><td><strong>Female&White&Widowed</strong></td><td>0.008928571428571428</td></tr><tr><td><strong>Asian-Pac-Islander&Married-AF-spouse</strong></td><td>0.0</td></tr><tr><td><strong>Male&Other</strong></td><td>0.10112359550561797</td></tr><tr><td><strong>Black&Never-married</strong></td><td>0.0</td></tr><tr><td><strong>Widowed</strong></td><td>0.024761904761904763</td></tr><tr><td><strong>Female&Amer-Indian-Eskimo&Separated</strong></td><td>0.0</td></tr><tr><td><strong>Amer-Indian-Eskimo&Married-civ-spouse</strong></td><td>0.25</td></tr><tr><td><strong>Black&Married-AF-spouse</strong></td><td>0.0</td></tr><tr><td><strong>Black&Married-spouse-absent</strong></td><td>0.0</td></tr><tr><td><strong>Male&Separated</strong></td><td>0.01951219512195122</td></tr><tr><td><strong>Male&Asian-Pac-Islander&Separated</strong></td><td>0.0</td></tr><tr><td><strong>Male&Married-AF-spouse</strong></td><td>0.0</td></tr><tr><td><strong>Female&Asian-Pac-Islander&Divorced</strong></td><td>0.0</td></tr><tr><td><strong>Asian-Pac-Islander&Separated</strong></td><td>0.0</td></tr><tr><td><strong>White&Divorced</strong></td><td>0.021197668256491786</td></tr><tr><td><strong>Female&Asian-Pac-Islander&Widowed</strong></td><td>0.0</td></tr><tr><td><strong>Female&Never-married</strong></td><td>0.002039983680130559</td></tr><tr><td><strong>Asian-Pac-Islander&Married-civ-spouse</strong></td><td>0.5458515283842795</td></tr><tr><td><strong>White&Married-civ-spouse</strong></td><td>0.40502709211318483</td></tr><tr><td><strong>Female&Asian-Pac-Islander&Separated</strong></td><td>0.0</td></tr><tr><td><strong>Male&Black&Widowed</strong></td><td>0.07142857142857142</td></tr><tr><td><strong>Male&Asian-Pac-Islander&Divorced</strong></td><td>0.0</td></tr><tr><td><strong>Female&White&Married-AF-spouse</strong></td><td>0.2</td></tr><tr><td><strong>Female&Other&Never-married</strong></td><td>0.0</td></tr><tr><td><strong>Male&Black&Married-AF-spouse</strong></td><td>0.0</td></tr><tr><td><strong>Amer-Indian-Eskimo&Separated</strong></td><td>0.0</td></tr><tr><td><strong>Male&Black&Separated</strong></td><td>0.0</td></tr><tr><td><strong>Male&Other&Married-spouse-absent</strong></td><td>0.5</td></tr><tr><td><strong>Female&Other&Separated</strong></td><td>0.0</td></tr><tr><td><strong>Male&Never-married</strong></td><td>0.004022795843110962</td></tr><tr><td><strong>Divorced</strong></td><td>0.019178082191780823</td></tr><tr><td><strong>Black</strong></td><td>0.0800768737988469</td></tr><tr><td><strong>Female&Other&Divorced</strong></td><td>0.0</td></tr><tr><td><strong>Male&Other&Never-married</strong></td><td>0.0</td></tr><tr><td><strong>Female&Black&Married-spouse-absent</strong></td><td>0.0</td></tr><tr><td><strong>White</strong></td><td>0.19869496629858024</td></tr><tr><td><strong>Female&Other&Widowed</strong></td><td>0.0</td></tr><tr><td><strong>Male&Black&Divorced</strong></td><td>0.014084507042253521</td></tr><tr><td><strong>Male&Married-spouse-absent</strong></td><td>0.04504504504504504</td></tr><tr><td><strong>Married-AF-spouse</strong></td><td>0.14285714285714285</td></tr><tr><td><strong>Female&Asian-Pac-Islander</strong></td><td>0.10526315789473684</td></tr><tr><td><strong>Male&Asian-Pac-Islander&Never-married</strong></td><td>0.0</td></tr><tr><td><strong>Male&Amer-Indian-Eskimo&Widowed</strong></td><td>0.0</td></tr><tr><td><strong>Amer-Indian-Eskimo&Never-married</strong></td><td>0.0</td></tr><tr><td><strong>Female&Asian-Pac-Islander&Married-AF-spouse</strong></td><td>0.0</td></tr><tr><td><strong>Other&Widowed</strong></td><td>0.0</td></tr><tr><td><strong>Female&Black&Never-married</strong></td><td>0.0</td></tr><tr><td><strong>Female&Amer-Indian-Eskimo&Divorced</strong></td><td>0.0</td></tr><tr><td><strong>Male&White&Married-spouse-absent</strong></td><td>0.038461538461538464</td></tr><tr><td><strong>Male</strong></td><td>0.2541436464088398</td></tr><tr><td><strong>Black&Separated</strong></td><td>0.0</td></tr><tr><td><strong>Male&Divorced</strong></td><td>0.03484320557491289</td></tr><tr><td><strong>Male&Black&Married-civ-spouse</strong></td><td>0.2861271676300578</td></tr><tr><td><strong>Female&Black</strong></td><td>0.03187250996015936</td></tr><tr><td><strong>Male&White</strong></td><td>0.26461667189624516</td></tr><tr><td><strong>Female&White&Divorced</strong></td><td>0.00975177304964539</td></tr><tr><td><strong>Male&Amer-Indian-Eskimo</strong></td><td>0.12903225806451613</td></tr><tr><td><strong>Amer-Indian-Eskimo&Married-spouse-absent</strong></td><td>0.0</td></tr><tr><td><strong>Black&Divorced</strong></td><td>0.008928571428571428</td></tr><tr><td><strong>Female&White&Never-married</strong></td><td>0.00255885363357216</td></tr><tr><td><strong>Female&White&Married-civ-spouse</strong></td><td>0.3191800878477306</td></tr><tr><td><strong>Male&Black&Married-spouse-absent</strong></td><td>0.0</td></tr><tr><td><strong>Female&Asian-Pac-Islander&Never-married</strong></td><td>0.0</td></tr><tr><td><strong>Female&Asian-Pac-Islander&Married-spouse-absent</strong></td><td>0.0</td></tr><tr><td><strong>Female&Amer-Indian-Eskimo&Never-married</strong></td><td>0.0</td></tr><tr><td><strong>Male&Amer-Indian-Eskimo&Married-civ-spouse</strong></td><td>0.27906976744186046</td></tr><tr><td><strong>Male&Amer-Indian-Eskimo&Never-married</strong></td><td>0.0</td></tr><tr><td><strong>Female&White&Separated</strong></td><td>0.005076142131979695</td></tr><tr><td><strong>Male&White&Separated</strong></td><td>0.02564102564102564</td></tr><tr><td><strong>Female&Amer-Indian-Eskimo&Married-civ-spouse</strong></td><td>0.1111111111111111</td></tr><tr><td><strong>Male&White&Married-AF-spouse</strong></td><td>0.0</td></tr><tr><td><strong>Male&White&Divorced</strong></td><td>0.03820816864295125</td></tr><tr><td><strong>Male&White&Widowed</strong></td><td>0.09090909090909091</td></tr><tr><td><strong>Asian-Pac-Islander&Never-married</strong></td><td>0.0</td></tr><tr><td><strong>Female&Black&Separated</strong></td><td>0.0</td></tr><tr><td><strong>Female&White&Married-spouse-absent</strong></td><td>0.012987012987012988</td></tr><tr><td><strong>Female&Married-AF-spouse</strong></td><td>0.18181818181818182</td></tr><tr><td><strong>Other&Married-spouse-absent</strong></td><td>0.5</td></tr><tr><td><strong>Asian-Pac-Islander&Divorced</strong></td><td>0.0</td></tr><tr><td><strong>Separated</strong></td><td>0.009900990099009901</td></tr><tr><td><strong>Amer-Indian-Eskimo&Divorced</strong></td><td>0.0</td></tr><tr><td><strong>Married-civ-spouse</strong></td><td>0.40010806429825746</td></tr><tr><td><strong>White&Separated</strong></td><td>0.014164305949008499</td></tr><tr><td><strong>Never-married</strong></td><td>0.0031284504968715496</td></tr><tr><td><strong>Female&Black&Widowed</strong></td><td>0.0</td></tr><tr><td><strong>Male&Asian-Pac-Islander</strong></td><td>0.34951456310679613</td></tr><tr><td><strong>Female</strong></td><td>0.0529422615753551</td></tr><tr><td><strong>Other&Divorced</strong></td><td>0.0</td></tr><tr><td><strong>Female&Married-spouse-absent</strong></td><td>0.010101010101010102</td></tr><tr><td><strong>Black&Widowed</strong></td><td>0.015384615384615385</td></tr><tr><td><strong>Male&Asian-Pac-Islander&Married-civ-spouse</strong></td><td>0.5752688172043011</td></tr><tr><td><strong>Asian-Pac-Islander</strong></td><td>0.2625</td></tr><tr><td><strong>Married-spouse-absent</strong></td><td>0.02857142857142857</td></tr><tr><td><strong>Female&Other&Married-civ-spouse</strong></td><td>0.375</td></tr><tr><td><strong>Female&Amer-Indian-Eskimo</strong></td><td>0.015151515151515152</td></tr><tr><td><strong>Male&Amer-Indian-Eskimo&Married-spouse-absent</strong></td><td>0.0</td></tr><tr><td><strong>Male&Other&Divorced</strong></td><td>0.0</td></tr><tr><td><strong>Male&Asian-Pac-Islander&Widowed</strong></td><td>0.0</td></tr><tr><td><strong>Male&Black&Never-married</strong></td><td>0.0</td></tr><tr><td><strong>Other&Never-married</strong></td><td>0.0</td></tr><tr><td><strong>Other&Married-civ-spouse</strong></td><td>0.21153846153846154</td></tr><tr><td><strong>Asian-Pac-Islander&Married-spouse-absent</strong></td><td>0.043478260869565216</td></tr><tr><td><strong>Asian-Pac-Islander&Widowed</strong></td><td>0.0</td></tr><tr><td><strong>Amer-Indian-Eskimo</strong></td><td>0.08176100628930817</td></tr><tr><td><strong>Female&Black&Divorced</strong></td><td>0.006535947712418301</td></tr><tr><td><strong>Male&Black</strong></td><td>0.125</td></tr><tr><td><strong>Other&Separated</strong></td><td>0.0</td></tr><tr><td><strong>Female&Divorced</strong></td><td>0.009029345372460496</td></tr><tr><td><strong>Other</strong></td><td>0.08888888888888889</td></tr><tr><td><strong>Female&Married-civ-spouse</strong></td><td>0.3195625759416768</td></tr><tr><td><strong>Female&Black&Married-civ-spouse</strong></td><td>0.2875</td></tr><tr><td><strong>Male&Other&Married-civ-spouse</strong></td><td>0.18181818181818182</td></tr><tr><td><strong>Male&Amer-Indian-Eskimo&Separated</strong></td><td>0.0</td></tr><tr><td><strong>Female&Amer-Indian-Eskimo&Widowed</strong></td><td>0.0</td></tr><tr><td><strong>Female&Widowed</strong></td><td>0.007352941176470588</td></tr><tr><td><strong>Female&Asian-Pac-Islander&Married-civ-spouse</strong></td><td>0.4186046511627907</td></tr><tr><td><strong>Female&Other</strong></td><td>0.06521739130434782</td></tr><tr><td><strong>White&Married-AF-spouse</strong></td><td>0.18181818181818182</td></tr><tr><td><strong>Male&White&Married-civ-spouse</strong></td><td>0.41486327797349437</td></tr><tr><td><strong>White&Never-married</strong></td><td>0.0038108047522976913</td></tr><tr><td><strong>White&Married-spouse-absent</strong></td><td>0.025806451612903226</td></tr><tr><td><strong>Black&Married-civ-spouse</strong></td><td>0.2863849765258216</td></tr><tr><td><strong>Male&Widowed</strong></td><td>0.08547008547008547</td></tr><tr><td><strong>Male&Other&Separated</strong></td><td>0.0</td></tr><tr><td><strong>Male&Asian-Pac-Islander&Married-spouse-absent</strong></td><td>0.06666666666666667</td></tr><tr><td><strong>Female&White</strong></td><td>0.05496009122006842</td></tr><tr><td><strong>Male&Married-civ-spouse</strong></td><td>0.4101823708206687</td></tr><tr><td><strong>White&Widowed</strong></td><td>0.027586206896551724</td></tr><tr><td><strong>Male&Amer-Indian-Eskimo&Divorced</strong></td><td>0.0</td></tr><tr><td><strong>Amer-Indian-Eskimo&Widowed</strong></td><td>0.0</td></tr><tr><td><strong>Male&White&Never-married</strong></td><td>0.004786597526924611</td></tr><tr><td><strong>Female&Separated</strong></td><td>0.0033333333333333335</td></tr></table>"
      ],
      "text/plain": [
       "<fairbench.forks.fork.Fork object at 0x000002CD90F9C580>"
      ]
     },
     "execution_count": 41,
     "metadata": {},
     "output_type": "execute_result"
    }
   ],
   "source": [
    "intersectional_report.mean[\"pr\"].explain  #zero min ratio due to the complete absense of extremely small intersections from positive predictions"
   ]
  },
  {
   "cell_type": "code",
   "execution_count": 42,
   "id": "cd3abf4d",
   "metadata": {},
   "outputs": [
    {
     "data": {
      "text/html": [
       "<div style=\"display: inline-block; float: left;\"><h3>prule</h3><table><tr><td><strong>bayesian</strong></td><td>0.022243158266511426</td></tr><tr><td><strong>empirical (exact)</strong></td><td>0.0</td></tr></table></div>"
      ],
      "text/plain": [
       "<fairbench.forks.fork.Fork object at 0x000002CD966733D0>"
      ]
     },
     "execution_count": 42,
     "metadata": {},
     "output_type": "execute_result"
    }
   ],
   "source": [
    "bayesian = fb.reduce(\n",
    "    fb.surrogate_positives(predictions, sensitive),\n",
    "    fb.min,\n",
    "    fb.ratio,\n",
    "    name=None,\n",
    ")\n",
    "all_sensitive = fb.Fork(fb.categories@test[9] & fb.categories@test[8] & fb.categories@test[5])  # all combinations\n",
    "all_report = fb.multireport(predictions=predictions, labels=y_test, sensitive=all_sensitive)\n",
    "\n",
    "fb.Fork(prule={\"bayesian\": bayesian, \n",
    "               \"empirical\": all_report.minratio[\"pr\"]  # this will be zero for empty intersections\n",
    "              })"
   ]
  },
  {
   "cell_type": "code",
   "execution_count": null,
   "id": "92f86390",
   "metadata": {},
   "outputs": [],
   "source": []
  }
 ],
 "metadata": {
  "kernelspec": {
   "display_name": "Python 3 (ipykernel)",
   "language": "python",
   "name": "python3"
  },
  "language_info": {
   "codemirror_mode": {
    "name": "ipython",
    "version": 3
   },
   "file_extension": ".py",
   "mimetype": "text/x-python",
   "name": "python",
   "nbconvert_exporter": "python",
   "pygments_lexer": "ipython3",
   "version": "3.10.4"
  }
 },
 "nbformat": 4,
 "nbformat_minor": 5
}
