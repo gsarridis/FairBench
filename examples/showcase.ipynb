{
 "cells": [
  {
   "cell_type": "code",
   "execution_count": 1,
   "id": "48f217db",
   "metadata": {},
   "outputs": [],
   "source": [
    "import fairbench as fb\n",
    "import numpy as np"
   ]
  },
  {
   "cell_type": "markdown",
   "id": "a5223331",
   "metadata": {},
   "source": [
    "# Load data"
   ]
  },
  {
   "cell_type": "code",
   "execution_count": 2,
   "id": "6a0d94d6",
   "metadata": {
    "scrolled": true
   },
   "outputs": [
    {
     "data": {
      "text/html": [
       "<div>\n",
       "<style scoped>\n",
       "    .dataframe tbody tr th:only-of-type {\n",
       "        vertical-align: middle;\n",
       "    }\n",
       "\n",
       "    .dataframe tbody tr th {\n",
       "        vertical-align: top;\n",
       "    }\n",
       "\n",
       "    .dataframe thead th {\n",
       "        text-align: right;\n",
       "    }\n",
       "</style>\n",
       "<table border=\"1\" class=\"dataframe\">\n",
       "  <thead>\n",
       "    <tr style=\"text-align: right;\">\n",
       "      <th></th>\n",
       "      <th>0</th>\n",
       "      <th>1</th>\n",
       "      <th>2</th>\n",
       "      <th>3</th>\n",
       "      <th>4</th>\n",
       "      <th>5</th>\n",
       "      <th>6</th>\n",
       "      <th>7</th>\n",
       "      <th>8</th>\n",
       "      <th>9</th>\n",
       "      <th>10</th>\n",
       "      <th>11</th>\n",
       "      <th>12</th>\n",
       "      <th>13</th>\n",
       "      <th>14</th>\n",
       "    </tr>\n",
       "  </thead>\n",
       "  <tbody>\n",
       "    <tr>\n",
       "      <th>0</th>\n",
       "      <td>39</td>\n",
       "      <td>State-gov</td>\n",
       "      <td>77516</td>\n",
       "      <td>Bachelors</td>\n",
       "      <td>13</td>\n",
       "      <td>Never-married</td>\n",
       "      <td>Adm-clerical</td>\n",
       "      <td>Not-in-family</td>\n",
       "      <td>White</td>\n",
       "      <td>Male</td>\n",
       "      <td>2174</td>\n",
       "      <td>0</td>\n",
       "      <td>40</td>\n",
       "      <td>United-States</td>\n",
       "      <td>&lt;=50K</td>\n",
       "    </tr>\n",
       "    <tr>\n",
       "      <th>1</th>\n",
       "      <td>50</td>\n",
       "      <td>Self-emp-not-inc</td>\n",
       "      <td>83311</td>\n",
       "      <td>Bachelors</td>\n",
       "      <td>13</td>\n",
       "      <td>Married-civ-spouse</td>\n",
       "      <td>Exec-managerial</td>\n",
       "      <td>Husband</td>\n",
       "      <td>White</td>\n",
       "      <td>Male</td>\n",
       "      <td>0</td>\n",
       "      <td>0</td>\n",
       "      <td>13</td>\n",
       "      <td>United-States</td>\n",
       "      <td>&lt;=50K</td>\n",
       "    </tr>\n",
       "    <tr>\n",
       "      <th>2</th>\n",
       "      <td>38</td>\n",
       "      <td>Private</td>\n",
       "      <td>215646</td>\n",
       "      <td>HS-grad</td>\n",
       "      <td>9</td>\n",
       "      <td>Divorced</td>\n",
       "      <td>Handlers-cleaners</td>\n",
       "      <td>Not-in-family</td>\n",
       "      <td>White</td>\n",
       "      <td>Male</td>\n",
       "      <td>0</td>\n",
       "      <td>0</td>\n",
       "      <td>40</td>\n",
       "      <td>United-States</td>\n",
       "      <td>&lt;=50K</td>\n",
       "    </tr>\n",
       "    <tr>\n",
       "      <th>3</th>\n",
       "      <td>53</td>\n",
       "      <td>Private</td>\n",
       "      <td>234721</td>\n",
       "      <td>11th</td>\n",
       "      <td>7</td>\n",
       "      <td>Married-civ-spouse</td>\n",
       "      <td>Handlers-cleaners</td>\n",
       "      <td>Husband</td>\n",
       "      <td>Black</td>\n",
       "      <td>Male</td>\n",
       "      <td>0</td>\n",
       "      <td>0</td>\n",
       "      <td>40</td>\n",
       "      <td>United-States</td>\n",
       "      <td>&lt;=50K</td>\n",
       "    </tr>\n",
       "    <tr>\n",
       "      <th>4</th>\n",
       "      <td>28</td>\n",
       "      <td>Private</td>\n",
       "      <td>338409</td>\n",
       "      <td>Bachelors</td>\n",
       "      <td>13</td>\n",
       "      <td>Married-civ-spouse</td>\n",
       "      <td>Prof-specialty</td>\n",
       "      <td>Wife</td>\n",
       "      <td>Black</td>\n",
       "      <td>Female</td>\n",
       "      <td>0</td>\n",
       "      <td>0</td>\n",
       "      <td>40</td>\n",
       "      <td>Cuba</td>\n",
       "      <td>&lt;=50K</td>\n",
       "    </tr>\n",
       "  </tbody>\n",
       "</table>\n",
       "</div>"
      ],
      "text/plain": [
       "   0                 1       2          3   4                   5   \\\n",
       "0  39         State-gov   77516  Bachelors  13       Never-married   \n",
       "1  50  Self-emp-not-inc   83311  Bachelors  13  Married-civ-spouse   \n",
       "2  38           Private  215646    HS-grad   9            Divorced   \n",
       "3  53           Private  234721       11th   7  Married-civ-spouse   \n",
       "4  28           Private  338409  Bachelors  13  Married-civ-spouse   \n",
       "\n",
       "                  6              7      8       9     10  11  12  \\\n",
       "0       Adm-clerical  Not-in-family  White    Male  2174   0  40   \n",
       "1    Exec-managerial        Husband  White    Male     0   0  13   \n",
       "2  Handlers-cleaners  Not-in-family  White    Male     0   0  40   \n",
       "3  Handlers-cleaners        Husband  Black    Male     0   0  40   \n",
       "4     Prof-specialty           Wife  Black  Female     0   0  40   \n",
       "\n",
       "              13     14  \n",
       "0  United-States  <=50K  \n",
       "1  United-States  <=50K  \n",
       "2  United-States  <=50K  \n",
       "3  United-States  <=50K  \n",
       "4           Cuba  <=50K  "
      ]
     },
     "execution_count": 2,
     "metadata": {},
     "output_type": "execute_result"
    }
   ],
   "source": [
    "train = fb.read_csv(\"adult/adult.data\", header=None, skipinitialspace=True)\n",
    "test = fb.read_csv(\"adult/adult.test\", header=None, skipinitialspace=True, skiprows=[0])\n",
    "train.head()"
   ]
  },
  {
   "cell_type": "code",
   "execution_count": 3,
   "id": "4919a6fa",
   "metadata": {},
   "outputs": [],
   "source": [
    "numeric = [0, 4, 11, 12]\n",
    "categorical = [1, 3, 5, 6]\n",
    "\n",
    "x_train = fb.features(train, numeric, categorical)\n",
    "y_train = (train[14]==\">50K\").values\n",
    "\n",
    "x_test = fb.features(test, numeric, categorical)\n",
    "y_test = (test[14]==\">50K.\").values"
   ]
  },
  {
   "cell_type": "markdown",
   "id": "882cf420",
   "metadata": {},
   "source": [
    "# Make AI predictions"
   ]
  },
  {
   "cell_type": "code",
   "execution_count": 4,
   "id": "58ee161c",
   "metadata": {},
   "outputs": [],
   "source": [
    "import sklearn\n",
    "from sklearn.linear_model import LogisticRegression\n",
    "\n",
    "x_train_scaled = sklearn.preprocessing.MinMaxScaler().fit_transform(x_train)\n",
    "x_test_scaled = sklearn.preprocessing.MinMaxScaler().fit_transform(x_test)\n",
    "\n",
    "classifier = LogisticRegression(max_iter=1000)\n",
    "classifier = classifier.fit(x_train_scaled, y_train)\n",
    "predictions = classifier.predict(x_test_scaled)"
   ]
  },
  {
   "cell_type": "markdown",
   "id": "26d70426",
   "metadata": {},
   "source": [
    "# Evaluate fairness"
   ]
  },
  {
   "cell_type": "code",
   "execution_count": 5,
   "id": "1d7878a2",
   "metadata": {},
   "outputs": [
    {
     "data": {
      "text/plain": [
       "0          Male\n",
       "1          Male\n",
       "2          Male\n",
       "3          Male\n",
       "4        Female\n",
       "          ...  \n",
       "16276    Female\n",
       "16277      Male\n",
       "16278      Male\n",
       "16279      Male\n",
       "16280      Male\n",
       "Name: 9, Length: 16281, dtype: object"
      ]
     },
     "execution_count": 5,
     "metadata": {},
     "output_type": "execute_result"
    }
   ],
   "source": [
    "test[9]"
   ]
  },
  {
   "cell_type": "code",
   "execution_count": 6,
   "id": "178cb92f",
   "metadata": {},
   "outputs": [
    {
     "data": {
      "text/html": [
       "<table><tr><td><strong>Female</strong></td><td>[0 0 0 ... 0 0 0]</td></tr><tr><td><strong>Male</strong></td><td>[1 1 1 ... 1 1 1]</td></tr></table>"
      ],
      "text/plain": [
       "<fairbench.forks.fork.Fork object at 0x000001DD20A60E80>"
      ]
     },
     "execution_count": 6,
     "metadata": {},
     "output_type": "execute_result"
    }
   ],
   "source": [
    "sensitive = fb.Fork(fb.categories@test[9])\n",
    "sensitive"
   ]
  },
  {
   "cell_type": "code",
   "execution_count": 7,
   "id": "a4caa10b",
   "metadata": {},
   "outputs": [
    {
     "data": {
      "image/png": "[encoded data removed]",
      "text/plain": [
       "<Figure size 640x480 with 1 Axes>"
      ]
     },
     "metadata": {},
     "output_type": "display_data"
    }
   ],
   "source": [
    "sensitive = fb.Fork(fb.categories@test[8])\n",
    "population = sensitive.sum()\n",
    "fb.visualize(population)"
   ]
  },
  {
   "cell_type": "code",
   "execution_count": 8,
   "id": "8cbb5e17",
   "metadata": {},
   "outputs": [
    {
     "data": {
      "image/png": "[encoded data removed]",
      "text/plain": [
       "<Figure size 640x480 with 1 Axes>"
      ]
     },
     "metadata": {},
     "output_type": "display_data"
    }
   ],
   "source": [
    "fb.visualize(fb.accuracy(predictions=predictions, labels=y_test, sensitive=sensitive))"
   ]
  },
  {
   "cell_type": "code",
   "execution_count": 9,
   "id": "18b04573",
   "metadata": {},
   "outputs": [
    {
     "name": "stdout",
     "output_type": "stream",
     "text": [
      "Metric          min             minratio        maxdiff        \n",
      "accuracy        0.819           0.906           0.085          \n",
      "pr              0.081           0.305           0.185          \n",
      "tpr             0.614           0.726           0.232          \n",
      "tnr             0.862           0.927           0.068          \n",
      "\n"
     ]
    }
   ],
   "source": [
    "report = fb.multireport(predictions=predictions, labels=y_test, sensitive=sensitive)\n",
    "fb.describe(report)"
   ]
  },
  {
   "cell_type": "code",
   "execution_count": 10,
   "id": "2b3bf912",
   "metadata": {},
   "outputs": [
    {
     "data": {
      "image/png": "[encoded data removed]",
      "text/plain": [
       "<Figure size 640x480 with 4 Axes>"
      ]
     },
     "metadata": {},
     "output_type": "display_data"
    }
   ],
   "source": [
    "fb.visualize(report)"
   ]
  },
  {
   "cell_type": "code",
   "execution_count": 11,
   "id": "df6bc47c",
   "metadata": {},
   "outputs": [
    {
     "name": "stdout",
     "output_type": "stream",
     "text": [
      "0.837847798046803\n"
     ]
    },
    {
     "data": {
      "text/plain": [
       "0.81875"
      ]
     },
     "execution_count": 11,
     "metadata": {},
     "output_type": "execute_result"
    }
   ],
   "source": [
    "print(fb.accuracy(predictions=predictions, labels=y_test))\n",
    "report.min.accuracy  # average across individual attribute value assessments"
   ]
  },
  {
   "cell_type": "code",
   "execution_count": 13,
   "id": "d14abcec",
   "metadata": {},
   "outputs": [
    {
     "name": "stdout",
     "output_type": "stream",
     "text": [
      "0.081\n",
      "White: 0.199\n",
      "Amer-Indian-Eskimo: 0.082\n",
      "Black: 0.081\n",
      "Asian-Pac-Islander: 0.267\n",
      "Other: 0.096\n"
     ]
    }
   ],
   "source": [
    "print(report.min.pr)\n",
    "print(report.min.pr.explain)  # this is also a report+"
   ]
  },
  {
   "cell_type": "markdown",
   "id": "f1a9a9ae",
   "metadata": {},
   "source": [
    "# Intersectional fairness"
   ]
  },
  {
   "cell_type": "code",
   "execution_count": 14,
   "id": "8e5df5b0",
   "metadata": {},
   "outputs": [
    {
     "data": {
      "text/html": [
       "<table><tr><td><strong>maritalMarried-civ-spouse</strong></td><td>[0 1 1 ... 1 0 1]</td></tr><tr><td><strong>maritalDivorced</strong></td><td>[0 0 0 ... 0 1 0]</td></tr><tr><td><strong>maritalMarried-spouse-absent</strong></td><td>[0 0 0 ... 0 0 0]</td></tr><tr><td><strong>maritalNever-married</strong></td><td>[1 0 0 ... 0 0 0]</td></tr><tr><td><strong>maritalMarried-AF-spouse</strong></td><td>[0 0 0 ... 0 0 0]</td></tr><tr><td><strong>maritalWidowed</strong></td><td>[0 0 0 ... 0 0 0]</td></tr><tr><td><strong>maritalSeparated</strong></td><td>[0 0 0 ... 0 0 0]</td></tr><tr><td><strong>raceAsian-Pac-Islander</strong></td><td>[0 0 0 ... 0 1 0]</td></tr><tr><td><strong>raceAsian-Pac-Islander&maritalMarried-civ-spouse</strong></td><td>[0 0 0 ... 0 0 0]</td></tr><tr><td><strong>raceAsian-Pac-Islander&maritalDivorced</strong></td><td>[0 0 0 ... 0 1 0]</td></tr><tr><td><strong>raceAsian-Pac-Islander&maritalMarried-spouse-absent</strong></td><td>[0 0 0 ... 0 0 0]</td></tr><tr><td><strong>raceAsian-Pac-Islander&maritalNever-married</strong></td><td>[0 0 0 ... 0 0 0]</td></tr><tr><td><strong>raceAsian-Pac-Islander&maritalMarried-AF-spouse</strong></td><td>[0 0 0 ... 0 0 0]</td></tr><tr><td><strong>raceAsian-Pac-Islander&maritalWidowed</strong></td><td>[0 0 0 ... 0 0 0]</td></tr><tr><td><strong>raceAsian-Pac-Islander&maritalSeparated</strong></td><td>[0 0 0 ... 0 0 0]</td></tr><tr><td><strong>raceAmer-Indian-Eskimo</strong></td><td>[0 0 0 ... 0 0 0]</td></tr><tr><td><strong>raceAmer-Indian-Eskimo&maritalMarried-civ-spouse</strong></td><td>[0 0 0 ... 0 0 0]</td></tr><tr><td><strong>raceAmer-Indian-Eskimo&maritalDivorced</strong></td><td>[0 0 0 ... 0 0 0]</td></tr><tr><td><strong>raceAmer-Indian-Eskimo&maritalMarried-spouse-absent</strong></td><td>[0 0 0 ... 0 0 0]</td></tr><tr><td><strong>raceAmer-Indian-Eskimo&maritalNever-married</strong></td><td>[0 0 0 ... 0 0 0]</td></tr><tr><td><strong>raceAmer-Indian-Eskimo&maritalWidowed</strong></td><td>[0 0 0 ... 0 0 0]</td></tr><tr><td><strong>raceAmer-Indian-Eskimo&maritalSeparated</strong></td><td>[0 0 0 ... 0 0 0]</td></tr><tr><td><strong>raceWhite</strong></td><td>[0 1 1 ... 1 0 1]</td></tr><tr><td><strong>raceWhite&maritalMarried-civ-spouse</strong></td><td>[0 1 1 ... 1 0 1]</td></tr><tr><td><strong>raceWhite&maritalDivorced</strong></td><td>[0 0 0 ... 0 0 0]</td></tr><tr><td><strong>raceWhite&maritalMarried-spouse-absent</strong></td><td>[0 0 0 ... 0 0 0]</td></tr><tr><td><strong>raceWhite&maritalNever-married</strong></td><td>[0 0 0 ... 0 0 0]</td></tr><tr><td><strong>raceWhite&maritalMarried-AF-spouse</strong></td><td>[0 0 0 ... 0 0 0]</td></tr><tr><td><strong>raceWhite&maritalWidowed</strong></td><td>[0 0 0 ... 0 0 0]</td></tr><tr><td><strong>raceWhite&maritalSeparated</strong></td><td>[0 0 0 ... 0 0 0]</td></tr><tr><td><strong>raceOther</strong></td><td>[0 0 0 ... 0 0 0]</td></tr><tr><td><strong>raceOther&maritalMarried-civ-spouse</strong></td><td>[0 0 0 ... 0 0 0]</td></tr><tr><td><strong>raceOther&maritalDivorced</strong></td><td>[0 0 0 ... 0 0 0]</td></tr><tr><td><strong>raceOther&maritalMarried-spouse-absent</strong></td><td>[0 0 0 ... 0 0 0]</td></tr><tr><td><strong>raceOther&maritalNever-married</strong></td><td>[0 0 0 ... 0 0 0]</td></tr><tr><td><strong>raceOther&maritalWidowed</strong></td><td>[0 0 0 ... 0 0 0]</td></tr><tr><td><strong>raceOther&maritalSeparated</strong></td><td>[0 0 0 ... 0 0 0]</td></tr><tr><td><strong>raceBlack</strong></td><td>[1 0 0 ... 0 0 0]</td></tr><tr><td><strong>raceBlack&maritalMarried-civ-spouse</strong></td><td>[0 0 0 ... 0 0 0]</td></tr><tr><td><strong>raceBlack&maritalDivorced</strong></td><td>[0 0 0 ... 0 0 0]</td></tr><tr><td><strong>raceBlack&maritalMarried-spouse-absent</strong></td><td>[0 0 0 ... 0 0 0]</td></tr><tr><td><strong>raceBlack&maritalNever-married</strong></td><td>[1 0 0 ... 0 0 0]</td></tr><tr><td><strong>raceBlack&maritalMarried-AF-spouse</strong></td><td>[0 0 0 ... 0 0 0]</td></tr><tr><td><strong>raceBlack&maritalWidowed</strong></td><td>[0 0 0 ... 0 0 0]</td></tr><tr><td><strong>raceBlack&maritalSeparated</strong></td><td>[0 0 0 ... 0 0 0]</td></tr><tr><td><strong>genderMale</strong></td><td>[1 1 1 ... 1 1 1]</td></tr><tr><td><strong>genderMale&maritalMarried-civ-spouse</strong></td><td>[0 1 1 ... 1 0 1]</td></tr><tr><td><strong>genderMale&maritalDivorced</strong></td><td>[0 0 0 ... 0 1 0]</td></tr><tr><td><strong>genderMale&maritalMarried-spouse-absent</strong></td><td>[0 0 0 ... 0 0 0]</td></tr><tr><td><strong>genderMale&maritalNever-married</strong></td><td>[1 0 0 ... 0 0 0]</td></tr><tr><td><strong>genderMale&maritalMarried-AF-spouse</strong></td><td>[0 0 0 ... 0 0 0]</td></tr><tr><td><strong>genderMale&maritalWidowed</strong></td><td>[0 0 0 ... 0 0 0]</td></tr><tr><td><strong>genderMale&maritalSeparated</strong></td><td>[0 0 0 ... 0 0 0]</td></tr><tr><td><strong>genderMale&raceAsian-Pac-Islander</strong></td><td>[0 0 0 ... 0 1 0]</td></tr><tr><td><strong>genderMale&raceAsian-Pac-Islander&maritalMarried-civ-spouse</strong></td><td>[0 0 0 ... 0 0 0]</td></tr><tr><td><strong>genderMale&raceAsian-Pac-Islander&maritalDivorced</strong></td><td>[0 0 0 ... 0 1 0]</td></tr><tr><td><strong>genderMale&raceAsian-Pac-Islander&maritalMarried-spouse-absent</strong></td><td>[0 0 0 ... 0 0 0]</td></tr><tr><td><strong>genderMale&raceAsian-Pac-Islander&maritalNever-married</strong></td><td>[0 0 0 ... 0 0 0]</td></tr><tr><td><strong>genderMale&raceAsian-Pac-Islander&maritalWidowed</strong></td><td>[0 0 0 ... 0 0 0]</td></tr><tr><td><strong>genderMale&raceAsian-Pac-Islander&maritalSeparated</strong></td><td>[0 0 0 ... 0 0 0]</td></tr><tr><td><strong>genderMale&raceAmer-Indian-Eskimo</strong></td><td>[0 0 0 ... 0 0 0]</td></tr><tr><td><strong>genderMale&raceAmer-Indian-Eskimo&maritalMarried-civ-spouse</strong></td><td>[0 0 0 ... 0 0 0]</td></tr><tr><td><strong>genderMale&raceAmer-Indian-Eskimo&maritalDivorced</strong></td><td>[0 0 0 ... 0 0 0]</td></tr><tr><td><strong>genderMale&raceAmer-Indian-Eskimo&maritalMarried-spouse-absent</strong></td><td>[0 0 0 ... 0 0 0]</td></tr><tr><td><strong>genderMale&raceAmer-Indian-Eskimo&maritalNever-married</strong></td><td>[0 0 0 ... 0 0 0]</td></tr><tr><td><strong>genderMale&raceAmer-Indian-Eskimo&maritalWidowed</strong></td><td>[0 0 0 ... 0 0 0]</td></tr><tr><td><strong>genderMale&raceAmer-Indian-Eskimo&maritalSeparated</strong></td><td>[0 0 0 ... 0 0 0]</td></tr><tr><td><strong>genderMale&raceWhite</strong></td><td>[0 1 1 ... 1 0 1]</td></tr><tr><td><strong>genderMale&raceWhite&maritalMarried-civ-spouse</strong></td><td>[0 1 1 ... 1 0 1]</td></tr><tr><td><strong>genderMale&raceWhite&maritalDivorced</strong></td><td>[0 0 0 ... 0 0 0]</td></tr><tr><td><strong>genderMale&raceWhite&maritalMarried-spouse-absent</strong></td><td>[0 0 0 ... 0 0 0]</td></tr><tr><td><strong>genderMale&raceWhite&maritalNever-married</strong></td><td>[0 0 0 ... 0 0 0]</td></tr><tr><td><strong>genderMale&raceWhite&maritalMarried-AF-spouse</strong></td><td>[0 0 0 ... 0 0 0]</td></tr><tr><td><strong>genderMale&raceWhite&maritalWidowed</strong></td><td>[0 0 0 ... 0 0 0]</td></tr><tr><td><strong>genderMale&raceWhite&maritalSeparated</strong></td><td>[0 0 0 ... 0 0 0]</td></tr><tr><td><strong>genderMale&raceOther</strong></td><td>[0 0 0 ... 0 0 0]</td></tr><tr><td><strong>genderMale&raceOther&maritalMarried-civ-spouse</strong></td><td>[0 0 0 ... 0 0 0]</td></tr><tr><td><strong>genderMale&raceOther&maritalDivorced</strong></td><td>[0 0 0 ... 0 0 0]</td></tr><tr><td><strong>genderMale&raceOther&maritalMarried-spouse-absent</strong></td><td>[0 0 0 ... 0 0 0]</td></tr><tr><td><strong>genderMale&raceOther&maritalNever-married</strong></td><td>[0 0 0 ... 0 0 0]</td></tr><tr><td><strong>genderMale&raceOther&maritalSeparated</strong></td><td>[0 0 0 ... 0 0 0]</td></tr><tr><td><strong>genderMale&raceBlack</strong></td><td>[1 0 0 ... 0 0 0]</td></tr><tr><td><strong>genderMale&raceBlack&maritalMarried-civ-spouse</strong></td><td>[0 0 0 ... 0 0 0]</td></tr><tr><td><strong>genderMale&raceBlack&maritalDivorced</strong></td><td>[0 0 0 ... 0 0 0]</td></tr><tr><td><strong>genderMale&raceBlack&maritalMarried-spouse-absent</strong></td><td>[0 0 0 ... 0 0 0]</td></tr><tr><td><strong>genderMale&raceBlack&maritalNever-married</strong></td><td>[1 0 0 ... 0 0 0]</td></tr><tr><td><strong>genderMale&raceBlack&maritalMarried-AF-spouse</strong></td><td>[0 0 0 ... 0 0 0]</td></tr><tr><td><strong>genderMale&raceBlack&maritalWidowed</strong></td><td>[0 0 0 ... 0 0 0]</td></tr><tr><td><strong>genderMale&raceBlack&maritalSeparated</strong></td><td>[0 0 0 ... 0 0 0]</td></tr><tr><td><strong>genderFemale</strong></td><td>[0 0 0 ... 0 0 0]</td></tr><tr><td><strong>genderFemale&maritalMarried-civ-spouse</strong></td><td>[0 0 0 ... 0 0 0]</td></tr><tr><td><strong>genderFemale&maritalDivorced</strong></td><td>[0 0 0 ... 0 0 0]</td></tr><tr><td><strong>genderFemale&maritalMarried-spouse-absent</strong></td><td>[0 0 0 ... 0 0 0]</td></tr><tr><td><strong>genderFemale&maritalNever-married</strong></td><td>[0 0 0 ... 0 0 0]</td></tr><tr><td><strong>genderFemale&maritalMarried-AF-spouse</strong></td><td>[0 0 0 ... 0 0 0]</td></tr><tr><td><strong>genderFemale&maritalWidowed</strong></td><td>[0 0 0 ... 0 0 0]</td></tr><tr><td><strong>genderFemale&maritalSeparated</strong></td><td>[0 0 0 ... 0 0 0]</td></tr><tr><td><strong>genderFemale&raceAsian-Pac-Islander</strong></td><td>[0 0 0 ... 0 0 0]</td></tr><tr><td><strong>genderFemale&raceAsian-Pac-Islander&maritalMarried-civ-spouse</strong></td><td>[0 0 0 ... 0 0 0]</td></tr><tr><td><strong>genderFemale&raceAsian-Pac-Islander&maritalDivorced</strong></td><td>[0 0 0 ... 0 0 0]</td></tr><tr><td><strong>genderFemale&raceAsian-Pac-Islander&maritalMarried-spouse-absent</strong></td><td>[0 0 0 ... 0 0 0]</td></tr><tr><td><strong>genderFemale&raceAsian-Pac-Islander&maritalNever-married</strong></td><td>[0 0 0 ... 0 0 0]</td></tr><tr><td><strong>genderFemale&raceAsian-Pac-Islander&maritalMarried-AF-spouse</strong></td><td>[0 0 0 ... 0 0 0]</td></tr><tr><td><strong>genderFemale&raceAsian-Pac-Islander&maritalWidowed</strong></td><td>[0 0 0 ... 0 0 0]</td></tr><tr><td><strong>genderFemale&raceAsian-Pac-Islander&maritalSeparated</strong></td><td>[0 0 0 ... 0 0 0]</td></tr><tr><td><strong>genderFemale&raceAmer-Indian-Eskimo</strong></td><td>[0 0 0 ... 0 0 0]</td></tr><tr><td><strong>genderFemale&raceAmer-Indian-Eskimo&maritalMarried-civ-spouse</strong></td><td>[0 0 0 ... 0 0 0]</td></tr><tr><td><strong>genderFemale&raceAmer-Indian-Eskimo&maritalDivorced</strong></td><td>[0 0 0 ... 0 0 0]</td></tr><tr><td><strong>genderFemale&raceAmer-Indian-Eskimo&maritalNever-married</strong></td><td>[0 0 0 ... 0 0 0]</td></tr><tr><td><strong>genderFemale&raceAmer-Indian-Eskimo&maritalWidowed</strong></td><td>[0 0 0 ... 0 0 0]</td></tr><tr><td><strong>genderFemale&raceAmer-Indian-Eskimo&maritalSeparated</strong></td><td>[0 0 0 ... 0 0 0]</td></tr><tr><td><strong>genderFemale&raceWhite</strong></td><td>[0 0 0 ... 0 0 0]</td></tr><tr><td><strong>genderFemale&raceWhite&maritalMarried-civ-spouse</strong></td><td>[0 0 0 ... 0 0 0]</td></tr><tr><td><strong>genderFemale&raceWhite&maritalDivorced</strong></td><td>[0 0 0 ... 0 0 0]</td></tr><tr><td><strong>genderFemale&raceWhite&maritalMarried-spouse-absent</strong></td><td>[0 0 0 ... 0 0 0]</td></tr><tr><td><strong>genderFemale&raceWhite&maritalNever-married</strong></td><td>[0 0 0 ... 0 0 0]</td></tr><tr><td><strong>genderFemale&raceWhite&maritalMarried-AF-spouse</strong></td><td>[0 0 0 ... 0 0 0]</td></tr><tr><td><strong>genderFemale&raceWhite&maritalWidowed</strong></td><td>[0 0 0 ... 0 0 0]</td></tr><tr><td><strong>genderFemale&raceWhite&maritalSeparated</strong></td><td>[0 0 0 ... 0 0 0]</td></tr><tr><td><strong>genderFemale&raceOther</strong></td><td>[0 0 0 ... 0 0 0]</td></tr><tr><td><strong>genderFemale&raceOther&maritalMarried-civ-spouse</strong></td><td>[0 0 0 ... 0 0 0]</td></tr><tr><td><strong>genderFemale&raceOther&maritalDivorced</strong></td><td>[0 0 0 ... 0 0 0]</td></tr><tr><td><strong>genderFemale&raceOther&maritalNever-married</strong></td><td>[0 0 0 ... 0 0 0]</td></tr><tr><td><strong>genderFemale&raceOther&maritalWidowed</strong></td><td>[0 0 0 ... 0 0 0]</td></tr><tr><td><strong>genderFemale&raceOther&maritalSeparated</strong></td><td>[0 0 0 ... 0 0 0]</td></tr><tr><td><strong>genderFemale&raceBlack</strong></td><td>[0 0 0 ... 0 0 0]</td></tr><tr><td><strong>genderFemale&raceBlack&maritalMarried-civ-spouse</strong></td><td>[0 0 0 ... 0 0 0]</td></tr><tr><td><strong>genderFemale&raceBlack&maritalDivorced</strong></td><td>[0 0 0 ... 0 0 0]</td></tr><tr><td><strong>genderFemale&raceBlack&maritalMarried-spouse-absent</strong></td><td>[0 0 0 ... 0 0 0]</td></tr><tr><td><strong>genderFemale&raceBlack&maritalNever-married</strong></td><td>[0 0 0 ... 0 0 0]</td></tr><tr><td><strong>genderFemale&raceBlack&maritalWidowed</strong></td><td>[0 0 0 ... 0 0 0]</td></tr><tr><td><strong>genderFemale&raceBlack&maritalSeparated</strong></td><td>[0 0 0 ... 0 0 0]</td></tr></table>"
      ],
      "text/plain": [
       "<fairbench.forks.fork.Fork object at 0x0000012F00B3BF40>"
      ]
     },
     "execution_count": 14,
     "metadata": {},
     "output_type": "execute_result"
    }
   ],
   "source": [
    "sensitive_intersections = fb.Fork(gender=fb.categories@test[9], \n",
    "                                  race=fb.categories@test[8], \n",
    "                                  marital=fb.categories@test[5]).intersectional()  # empty intersections are ignored\n",
    "sensitive_intersections"
   ]
  },
  {
   "cell_type": "code",
   "execution_count": null,
   "id": "bb2b962b",
   "metadata": {},
   "outputs": [],
   "source": [
    "intersectional_report = fb.multireport(predictions=predictions, labels=y_test, sensitive=sensitive_intersections)\n",
    "fb.visualize(intersectional_report)"
   ]
  },
  {
   "cell_type": "code",
   "execution_count": null,
   "id": "03a9b0dc",
   "metadata": {},
   "outputs": [],
   "source": [
    "intersectional_report.min.pr.explain  #zero min ratio due to the complete absense of extremely small intersections from positive predictions"
   ]
  },
  {
   "cell_type": "code",
   "execution_count": null,
   "id": "cd3abf4d",
   "metadata": {},
   "outputs": [],
   "source": [
    "bayesian = fb.reduce(\n",
    "    fb.surrogate_positives(predictions, sensitive),\n",
    "    fb.min,\n",
    "    fb.ratio,\n",
    "    name=None,\n",
    ")\n",
    "all_sensitive = fb.Fork(fb.categories@test[9] & fb.categories@test[8] & fb.categories@test[5])  # all combinations\n",
    "all_report = fb.multireport(predictions=predictions, labels=y_test, sensitive=all_sensitive)\n",
    "\n",
    "fb.Fork(prule={\"bayesian\": bayesian, \n",
    "               \"empirical\": all_report.minratio[\"pr\"]  # this will be zero for empty intersections\n",
    "              })"
   ]
  },
  {
   "cell_type": "code",
   "execution_count": null,
   "id": "e6021679",
   "metadata": {},
   "outputs": [],
   "source": []
  }
 ],
 "metadata": {
  "kernelspec": {
   "display_name": "Python 3 (ipykernel)",
   "language": "python",
   "name": "python3"
  },
  "language_info": {
   "codemirror_mode": {
    "name": "ipython",
    "version": 3
   },
   "file_extension": ".py",
   "mimetype": "text/x-python",
   "name": "python",
   "nbconvert_exporter": "python",
   "pygments_lexer": "ipython3",
   "version": "3.10.4"
  }
 },
 "nbformat": 4,
 "nbformat_minor": 5
}
