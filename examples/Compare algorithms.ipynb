{
 "cells": [
  {
   "cell_type": "code",
   "execution_count": 1,
   "id": "9f3d70cf",
   "metadata": {},
   "outputs": [],
   "source": [
    "import fairbench as fb\n",
    "import numpy as np"
   ]
  },
  {
   "cell_type": "code",
   "execution_count": 3,
   "id": "78c9d30e",
   "metadata": {},
   "outputs": [],
   "source": [
    "train = fb.read_csv(\"adult/adult.data\", header=None, skipinitialspace=True)\n",
    "test = fb.read_csv(\"adult/adult.test\", header=None, skipinitialspace=True, skiprows=[0])"
   ]
  },
  {
   "cell_type": "code",
   "execution_count": 4,
   "id": "ea3bd7ea",
   "metadata": {},
   "outputs": [],
   "source": [
    "numeric = [0, 4, 11, 12]\n",
    "categorical = [1, 3, 5, 6]\n",
    "\n",
    "x_train = fb.features(train, numeric, categorical)\n",
    "y_train = (train[14]==\">50K\").values\n",
    "\n",
    "x_test = fb.features(test, numeric, categorical)\n",
    "y_test = (test[14]==\">50K.\").values\n",
    "\n",
    "x_train_scaled = sklearn.preprocessing.MinMaxScaler().fit_transform(x_train)\n",
    "x_test_scaled = sklearn.preprocessing.MinMaxScaler().fit_transform(x_test)"
   ]
  },
  {
   "cell_type": "code",
   "execution_count": 5,
   "id": "ace6f143",
   "metadata": {},
   "outputs": [],
   "source": [
    "import sklearn\n",
    "from sklearn.linear_model import LogisticRegression\n",
    "\n",
    "lr = LogisticRegression(max_iter=1000)\n",
    "lr = lr.fit(x_train_scaled, y_train)\n",
    "predictions_lr = lr.predict(x_test_scaled)"
   ]
  },
  {
   "cell_type": "code",
   "execution_count": 7,
   "id": "170fa41f",
   "metadata": {},
   "outputs": [],
   "source": [
    "from sklearn.tree import DecisionTreeClassifier\n",
    "\n",
    "tree = DecisionTreeClassifier()\n",
    "tree = tree.fit(x_train_scaled, y_train)\n",
    "predictions_tree = tree.predict(x_test_scaled)"
   ]
  },
  {
   "cell_type": "code",
   "execution_count": 20,
   "id": "f2c45249",
   "metadata": {},
   "outputs": [],
   "source": [
    "sensitive = fb.Fork(race=fb.categories@test[8], gender=fb.categories@test[9], _prefix=None).intersectional()"
   ]
  },
  {
   "cell_type": "code",
   "execution_count": 47,
   "id": "b084d6a2",
   "metadata": {},
   "outputs": [
    {
     "data": {
      "image/png": "[encoded data removed]",
      "text/plain": [
       "<Figure size 640x480 with 2 Axes>"
      ]
     },
     "metadata": {},
     "output_type": "display_data"
    },
    {
     "data": {
      "text/html": [
       "<div style=\"display: inline-block; float: left;\"><h3>lr</h3><table><tr><td><strong>accuracy</strong></td><td>0.8699426266603806</td></tr><tr><td><strong>prule</strong></td><td>0.0</td></tr></table></div><div style=\"display: inline-block; float: left;\"><h3>tree</h3><table><tr><td><strong>accuracy</strong></td><td>0.8173263961717515</td></tr><tr><td><strong>prule</strong></td><td>0.2627118644067796</td></tr></table></div>"
      ],
      "text/plain": [
       "<fairbench.forks.fork.Fork object at 0x00000290CC572A10>"
      ]
     },
     "execution_count": 47,
     "metadata": {},
     "output_type": "execute_result"
    }
   ],
   "source": [
    "report_lr = fb.multireport(sensitive=sensitive, predictions=predictions_lr, labels=y_test)\n",
    "report_tree = fb.multireport(sensitive=sensitive, predictions=predictions_tree, labels=y_test)\n",
    "\n",
    "report = fb.Fork(lr=fb.tokwargs(accuracy=report_lr.mean[\"accuracy\"], prule=report_lr.minratio[\"pr\"]), \n",
    "                 tree=fb.tokwargs(accuracy=report_tree.mean[\"accuracy\"], prule=report_tree.minratio[\"pr\"]))\n",
    "fb.visualize(report)"
   ]
  },
  {
   "cell_type": "code",
   "execution_count": null,
   "id": "e9de172d",
   "metadata": {},
   "outputs": [],
   "source": []
  }
 ],
 "metadata": {
  "kernelspec": {
   "display_name": "Python 3 (ipykernel)",
   "language": "python",
   "name": "python3"
  },
  "language_info": {
   "codemirror_mode": {
    "name": "ipython",
    "version": 3
   },
   "file_extension": ".py",
   "mimetype": "text/x-python",
   "name": "python",
   "nbconvert_exporter": "python",
   "pygments_lexer": "ipython3",
   "version": "3.10.4"
  }
 },
 "nbformat": 4,
 "nbformat_minor": 5
}
