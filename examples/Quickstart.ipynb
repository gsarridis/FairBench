{
 "cells": [
  {
   "cell_type": "code",
   "execution_count": null,
   "id": "13caf62e",
   "metadata": {},
   "outputs": [],
   "source": [
    "import fairbench as fb"
   ]
  },
  {
   "cell_type": "code",
   "execution_count": null,
   "id": "c37882a0",
   "metadata": {},
   "outputs": [],
   "source": [
    "test, y, yhat = fb.demos.adult()"
   ]
  },
  {
   "cell_type": "code",
   "execution_count": null,
   "id": "600b906b",
   "metadata": {},
   "outputs": [],
   "source": [
    "sensitive = fb.Fork(fb.categories@test[9])\n",
    "sensitive"
   ]
  },
  {
   "cell_type": "code",
   "execution_count": null,
   "id": "3adefe2d",
   "metadata": {},
   "outputs": [],
   "source": [
    "report = fb.multireport(predictions=yhat, labels=y, sensitive=sensitive)"
   ]
  }
 ],
 "metadata": {
  "kernelspec": {
   "display_name": "Python 3 (ipykernel)",
   "language": "python",
   "name": "python3"
  },
  "language_info": {
   "codemirror_mode": {
    "name": "ipython",
    "version": 3
   },
   "file_extension": ".py",
   "mimetype": "text/x-python",
   "name": "python",
   "nbconvert_exporter": "python",
   "pygments_lexer": "ipython3",
   "version": "3.10.4"
  }
 },
 "nbformat": 4,
 "nbformat_minor": 5
}
