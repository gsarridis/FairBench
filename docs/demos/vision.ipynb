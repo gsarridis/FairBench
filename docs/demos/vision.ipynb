{
 "cells": [
  {
   "cell_type": "markdown",
   "id": "def8c4a4-d7de-4877-a0b7-e009b588d5c0",
   "metadata": {},
   "source": [
    "# Vision"
   ]
  },
  {
   "cell_type": "code",
   "execution_count": 1,
   "id": "a3b66791",
   "metadata": {},
   "outputs": [
    {
     "name": "stdout",
     "output_type": "stream",
     "text": [
      "\r",
      "  0% [                                                                                ]    0 / 1798\r",
      "100% [................................................................................] 1798 / 1798"
     ]
    }
   ],
   "source": [
    "import wget\n",
    "import os\n",
    "\n",
    "if not os.path.exists(\"colour_mnist.py\"):\n",
    "    wget.download(\n",
    "        \"https://raw.githubusercontent.com/clovaai/rebias/master/datasets/colour_mnist.py\",\n",
    "        \"colour_mnist.py\",\n",
    "    )\n",
    "\n",
    "if not os.path.exists(\"flac.py\"):\n",
    "    wget.download(\n",
    "        \"https://raw.githubusercontent.com/gsarridis/FLAC/main/flac.py\", \"flac.py\"\n",
    "    )"
   ]
  },
  {
   "cell_type": "code",
   "execution_count": 2,
   "id": "a4cf13a3",
   "metadata": {},
   "outputs": [
    {
     "name": "stdout",
     "output_type": "stream",
     "text": [
      "Downloading http://yann.lecun.com/exdb/mnist/train-images-idx3-ubyte.gz\n",
      "Downloading http://yann.lecun.com/exdb/mnist/train-images-idx3-ubyte.gz to ./data\\raw\\train-images-idx3-ubyte.gz\n"
     ]
    },
    {
     "data": {
      "application/vnd.jupyter.widget-view+json": {
       "model_id": "b6d42eb0905f45a8a45593d14961d119",
       "version_major": 2,
       "version_minor": 0
      },
      "text/plain": [
       "  0%|          | 0/9912422 [00:00<?, ?it/s]"
      ]
     },
     "metadata": {},
     "output_type": "display_data"
    },
    {
     "name": "stdout",
     "output_type": "stream",
     "text": [
      "Extracting ./data\\raw\\train-images-idx3-ubyte.gz to ./data\\raw\n",
      "\n",
      "Downloading http://yann.lecun.com/exdb/mnist/train-labels-idx1-ubyte.gz\n",
      "Downloading http://yann.lecun.com/exdb/mnist/train-labels-idx1-ubyte.gz to ./data\\raw\\train-labels-idx1-ubyte.gz\n"
     ]
    },
    {
     "data": {
      "application/vnd.jupyter.widget-view+json": {
       "model_id": "baf23d513a4c4dbc9ad038f81592d500",
       "version_major": 2,
       "version_minor": 0
      },
      "text/plain": [
       "  0%|          | 0/28881 [00:00<?, ?it/s]"
      ]
     },
     "metadata": {},
     "output_type": "display_data"
    },
    {
     "name": "stdout",
     "output_type": "stream",
     "text": [
      "Extracting ./data\\raw\\train-labels-idx1-ubyte.gz to ./data\\raw\n",
      "\n",
      "Downloading http://yann.lecun.com/exdb/mnist/t10k-images-idx3-ubyte.gz\n",
      "Downloading http://yann.lecun.com/exdb/mnist/t10k-images-idx3-ubyte.gz to ./data\\raw\\t10k-images-idx3-ubyte.gz\n"
     ]
    },
    {
     "data": {
      "application/vnd.jupyter.widget-view+json": {
       "model_id": "c886b2c6fbb84444a82a4b8ca37e3c26",
       "version_major": 2,
       "version_minor": 0
      },
      "text/plain": [
       "  0%|          | 0/1648877 [00:00<?, ?it/s]"
      ]
     },
     "metadata": {},
     "output_type": "display_data"
    },
    {
     "name": "stdout",
     "output_type": "stream",
     "text": [
      "Extracting ./data\\raw\\t10k-images-idx3-ubyte.gz to ./data\\raw\n",
      "\n",
      "Downloading http://yann.lecun.com/exdb/mnist/t10k-labels-idx1-ubyte.gz\n",
      "Downloading http://yann.lecun.com/exdb/mnist/t10k-labels-idx1-ubyte.gz to ./data\\raw\\t10k-labels-idx1-ubyte.gz\n"
     ]
    },
    {
     "data": {
      "application/vnd.jupyter.widget-view+json": {
       "model_id": "fb4de9839fda49f3817d7e60233542ef",
       "version_major": 2,
       "version_minor": 0
      },
      "text/plain": [
       "  0%|          | 0/4542 [00:00<?, ?it/s]"
      ]
     },
     "metadata": {},
     "output_type": "display_data"
    },
    {
     "name": "stdout",
     "output_type": "stream",
     "text": [
      "Extracting ./data\\raw\\t10k-labels-idx1-ubyte.gz to ./data\\raw\n",
      "\n"
     ]
    }
   ],
   "source": [
    "from colour_mnist import get_biased_mnist_dataloader\n",
    "\n",
    "trainloader = get_biased_mnist_dataloader(\n",
    "    root=\"./data\", batch_size=128, data_label_correlation=0.99, train=True\n",
    ")\n",
    "testloader = get_biased_mnist_dataloader(\n",
    "    root=\"./data\", batch_size=128, data_label_correlation=0.1, train=False\n",
    ")"
   ]
  },
  {
   "cell_type": "markdown",
   "id": "577485ed",
   "metadata": {},
   "source": [
    "### What data look like"
   ]
  },
  {
   "cell_type": "code",
   "execution_count": 3,
   "id": "5e376eff",
   "metadata": {},
   "outputs": [
    {
     "name": "stderr",
     "output_type": "stream",
     "text": [
      "Clipping input data to the valid range for imshow with RGB data ([0..1] for floats or [0..255] for integers).\n",
      "Clipping input data to the valid range for imshow with RGB data ([0..1] for floats or [0..255] for integers).\n",
      "Clipping input data to the valid range for imshow with RGB data ([0..1] for floats or [0..255] for integers).\n",
      "Clipping input data to the valid range for imshow with RGB data ([0..1] for floats or [0..255] for integers).\n",
      "Clipping input data to the valid range for imshow with RGB data ([0..1] for floats or [0..255] for integers).\n",
      "Clipping input data to the valid range for imshow with RGB data ([0..1] for floats or [0..255] for integers).\n",
      "Clipping input data to the valid range for imshow with RGB data ([0..1] for floats or [0..255] for integers).\n",
      "Clipping input data to the valid range for imshow with RGB data ([0..1] for floats or [0..255] for integers).\n",
      "Clipping input data to the valid range for imshow with RGB data ([0..1] for floats or [0..255] for integers).\n",
      "Clipping input data to the valid range for imshow with RGB data ([0..1] for floats or [0..255] for integers).\n"
     ]
    },
    {
     "data": {
      "image/png": "[encoded data removed]",
      "text/plain": [
       "<Figure size 640x480 with 12 Axes>"
      ]
     },
     "metadata": {},
     "output_type": "display_data"
    }
   ],
   "source": [
    "images, labels, sensitive = next(testloader.__iter__())\n",
    "import matplotlib.pyplot as plt\n",
    "\n",
    "for i in range(12):\n",
    "    plt.subplot(3, 4, i + 1)\n",
    "    plt.imshow(images[i, :].permute(1, 2, 0))\n",
    "    plt.axis(\"off\")\n",
    "    plt.title(f\"class{labels[i]}, color{sensitive[i]}\")"
   ]
  },
  {
   "cell_type": "markdown",
   "id": "a7a0683e",
   "metadata": {},
   "source": [
    "### Define architecture and its training\n",
    "To run the flac (the fairness-aware regularization) approach, you need the architecture to output (predictions, features)."
   ]
  },
  {
   "cell_type": "code",
   "execution_count": 3,
   "id": "6598e088",
   "metadata": {},
   "outputs": [],
   "source": [
    "import torch\n",
    "import torch.nn as nn\n",
    "import torch.nn.functional as F\n",
    "\n",
    "\n",
    "class Net(nn.Module):\n",
    "    def __init__(self):\n",
    "        ## https://github.com/gsarridis/FLAC/blob/main/models/simple_conv.py\n",
    "        super().__init__()\n",
    "        dims = 6\n",
    "        self.conv1 = nn.Conv2d(3, dims, 5)\n",
    "        self.pool = nn.MaxPool2d(2, 2)\n",
    "        self.conv2 = nn.Conv2d(dims, 16, 5)\n",
    "        self.fc = nn.Linear(256, 10)\n",
    "\n",
    "    def forward(self, x):\n",
    "        x = self.pool(F.relu(self.conv1(x)))\n",
    "        x = self.pool(F.relu(self.conv2(x)))\n",
    "        x = torch.flatten(x, 1)  ## flatten all dimensions except batch\n",
    "        x = F.normalize(x, dim=1)\n",
    "        features = x\n",
    "        x = self.fc(x)\n",
    "        return x, features"
   ]
  },
  {
   "cell_type": "code",
   "execution_count": 4,
   "id": "a962bf57",
   "metadata": {},
   "outputs": [
    {
     "name": "stdout",
     "output_type": "stream",
     "text": [
      "cuda:0\n"
     ]
    }
   ],
   "source": [
    "import flac\n",
    "\n",
    "device = torch.device(\"cuda:0\" if torch.cuda.is_available() else \"cpu\")\n",
    "print(device)\n",
    "\n",
    "\n",
    "def train(trainloader, net, colornet=None, reg=100, epochs=5, classpos=1, senspos=2):\n",
    "    lossfunc = nn.CrossEntropyLoss()\n",
    "    optimizer = torch.optim.Adam(net.parameters(), lr=0.001)\n",
    "    if colornet is not None:\n",
    "        colornet.eval()\n",
    "    for epoch in range(epochs):\n",
    "        epoch_loss = 0\n",
    "        batches = 0\n",
    "        for data in trainloader:\n",
    "            optimizer.zero_grad()\n",
    "            inputs, labels, sensitive = (\n",
    "                data[0].to(device),\n",
    "                data[classpos].to(device),\n",
    "                data[senspos].to(device),\n",
    "            )\n",
    "            outputs, features = net(inputs)\n",
    "            loss = lossfunc(outputs, labels)\n",
    "            if colornet is not None:\n",
    "                with torch.no_grad():\n",
    "                    _, colorfeats = colornet(inputs)\n",
    "                loss += reg * flac.flac_loss(\n",
    "                    colorfeats, features, torch.squeeze(labels)\n",
    "                )\n",
    "            loss.backward()\n",
    "            optimizer.step()\n",
    "            epoch_loss += loss.item()\n",
    "            batches += 1\n",
    "            print(f\"\\r[{epoch + 1}] loss: {epoch_loss/batches:.3f}\", end=\"\")\n",
    "    print(\"\\nFinished training\")"
   ]
  },
  {
   "cell_type": "markdown",
   "id": "cae6c032",
   "metadata": {},
   "source": [
    "### Train the architecture"
   ]
  },
  {
   "cell_type": "code",
   "execution_count": 5,
   "id": "c172c7d7",
   "metadata": {},
   "outputs": [
    {
     "name": "stdout",
     "output_type": "stream",
     "text": [
      "[5] loss: 0.077\n",
      "Finished training\n"
     ]
    }
   ],
   "source": [
    "net = Net()\n",
    "net.to(device)\n",
    "train(trainloader, net)\n",
    "torch.save(net.state_dict(), \"./data/model.pth\")"
   ]
  },
  {
   "cell_type": "markdown",
   "id": "a7d6c5ea",
   "metadata": {},
   "source": [
    "### Train the fair architecture\n",
    "This first needs to train a classifier `colornet` that predicts the sensitive attribute (classpos=2 in the dataloader). The classifier's embeddings, i.e., the outputted features, are used to make training more fair for the actual `fairnet` classifer. The latter will be fairer *without* needing to observe the sensitive attribute in its inputs."
   ]
  },
  {
   "cell_type": "code",
   "execution_count": 6,
   "id": "c7fd200b",
   "metadata": {},
   "outputs": [
    {
     "name": "stdout",
     "output_type": "stream",
     "text": [
      "[1] loss: 0.876\n",
      "Finished training\n",
      "[5] loss: 0.387\n",
      "Finished training\n"
     ]
    }
   ],
   "source": [
    "colornet = Net()\n",
    "colornet.to(device)\n",
    "train(trainloader, net=colornet, classpos=2, epochs=1)\n",
    "\n",
    "fairnet = Net()\n",
    "fairnet.to(device)\n",
    "train(trainloader, fairnet, colornet)\n",
    "torch.save(fairnet.state_dict(), \"./data/fair_model.pth\")"
   ]
  },
  {
   "cell_type": "markdown",
   "id": "1b994517",
   "metadata": {},
   "source": [
    "### Evaluation\n",
    "First keep track of predictions per class and concatenate them across batches. Then use reporting to make a comparison."
   ]
  },
  {
   "cell_type": "code",
   "execution_count": 7,
   "id": "9e68df29",
   "metadata": {},
   "outputs": [],
   "source": [
    "import fairbench as fb\n",
    "\n",
    "fb.setbackend(\"torch\")\n",
    "\n",
    "\n",
    "def evaluate(net):\n",
    "    nclasses = 10\n",
    "    nsensitive = 10\n",
    "    vals = {f\"class{c}\": None for c in range(nclasses)}\n",
    "    with torch.no_grad():\n",
    "        for data in testloader:\n",
    "            images, labels, sensitive = data\n",
    "            outs, _ = net(images)\n",
    "            _, predictions = torch.max(outs, 1)\n",
    "            sensitive = fb.Fork(color=fb.Categories(range(nsensitive)) @ sensitive)\n",
    "            for c in range(nclasses):\n",
    "                cname = f\"class{c}\"\n",
    "                vals[cname] = fb.concatenate(\n",
    "                    vals.get(cname, None),\n",
    "                    fb.todict(\n",
    "                        predictions=(predictions == c).float(),\n",
    "                        labels=(labels == c).float(),\n",
    "                        sensitive=sensitive,\n",
    "                    ),\n",
    "                )\n",
    "    return vals"
   ]
  },
  {
   "cell_type": "code",
   "execution_count": 8,
   "id": "6be8e3c2",
   "metadata": {},
   "outputs": [],
   "source": [
    "net = Net()\n",
    "net.load_state_dict(torch.load(\"./data/model.pth\"))\n",
    "net.eval()\n",
    "vals = evaluate(net)"
   ]
  },
  {
   "cell_type": "code",
   "execution_count": 9,
   "id": "03369189",
   "metadata": {},
   "outputs": [],
   "source": [
    "fairnet = Net()\n",
    "fairnet.load_state_dict(torch.load(\"./data/fair_model.pth\"))\n",
    "fairnet.eval()\n",
    "fairvals = evaluate(fairnet)"
   ]
  },
  {
   "cell_type": "code",
   "execution_count": 10,
   "id": "738dcfe1",
   "metadata": {},
   "outputs": [
    {
     "data": {
      "text/html": [
       "<div style=\"display: inline-block; float: left;\"><h3>net</h3><table><tr><td><strong>accuracy</strong></td><td>class1: PyTorchTensor(tensor(0.2273, dtype=torch.float64))\n",
       "class4: PyTorchTensor(tensor(0.1316, dtype=torch.float64))\n",
       "class5: PyTorchTensor(tensor(0.0887, dtype=torch.float64))\n",
       "class8: PyTorchTensor(tensor(0.0967, dtype=torch.float64))\n",
       "class7: PyTorchTensor(tensor(0.1021, dtype=torch.float64))\n",
       "class3: PyTorchTensor(tensor(0.1014, dtype=torch.float64))\n",
       "class0: PyTorchTensor(tensor(0.0981, dtype=torch.float64))\n",
       "class9: PyTorchTensor(tensor(0.0997, dtype=torch.float64))\n",
       "class2: PyTorchTensor(tensor(0.1028, dtype=torch.float64))\n",
       "class6: PyTorchTensor(tensor(0.1466, dtype=torch.float64))</td></tr><tr><td><strong>prule</strong></td><td>class1: PyTorchTensor(tensor(0., dtype=torch.float64))\n",
       "class4: PyTorchTensor(tensor(0., dtype=torch.float64))\n",
       "class5: PyTorchTensor(tensor(0., dtype=torch.float64))\n",
       "class8: PyTorchTensor(tensor(0., dtype=torch.float64))\n",
       "class7: PyTorchTensor(tensor(0., dtype=torch.float64))\n",
       "class3: PyTorchTensor(tensor(0., dtype=torch.float64))\n",
       "class0: PyTorchTensor(tensor(0., dtype=torch.float64))\n",
       "class9: PyTorchTensor(tensor(0., dtype=torch.float64))\n",
       "class2: PyTorchTensor(tensor(0., dtype=torch.float64))\n",
       "class6: PyTorchTensor(tensor(0., dtype=torch.float64))</td></tr></table></div><div style=\"display: inline-block; float: left;\"><h3>fair_net</h3><table><tr><td><strong>accuracy</strong></td><td>class1: PyTorchTensor(tensor(0.7587, dtype=torch.float64))\n",
       "class4: PyTorchTensor(tensor(0.6072, dtype=torch.float64))\n",
       "class5: PyTorchTensor(tensor(0.3679, dtype=torch.float64))\n",
       "class8: PyTorchTensor(tensor(0.5174, dtype=torch.float64))\n",
       "class7: PyTorchTensor(tensor(0.5676, dtype=torch.float64))\n",
       "class3: PyTorchTensor(tensor(0.2751, dtype=torch.float64))\n",
       "class0: PyTorchTensor(tensor(0.6727, dtype=torch.float64))\n",
       "class9: PyTorchTensor(tensor(0.1964, dtype=torch.float64))\n",
       "class2: PyTorchTensor(tensor(0.5858, dtype=torch.float64))\n",
       "class6: PyTorchTensor(tensor(0.6704, dtype=torch.float64))</td></tr><tr><td><strong>prule</strong></td><td>class1: PyTorchTensor(tensor(0., dtype=torch.float64))\n",
       "class4: PyTorchTensor(tensor(0., dtype=torch.float64))\n",
       "class5: PyTorchTensor(tensor(0., dtype=torch.float64))\n",
       "class8: PyTorchTensor(tensor(0., dtype=torch.float64))\n",
       "class7: PyTorchTensor(tensor(0., dtype=torch.float64))\n",
       "class3: PyTorchTensor(tensor(0., dtype=torch.float64))\n",
       "class0: PyTorchTensor(tensor(0., dtype=torch.float64))\n",
       "class9: PyTorchTensor(tensor(0., dtype=torch.float64))\n",
       "class2: PyTorchTensor(tensor(0., dtype=torch.float64))\n",
       "class6: PyTorchTensor(tensor(0., dtype=torch.float64))</td></tr></table></div>"
      ],
      "text/plain": [
       "<fairbench.forks.fork.Fork object at 0x00000219F0241A20>"
      ]
     },
     "execution_count": 10,
     "metadata": {},
     "output_type": "execute_result"
    }
   ],
   "source": [
    "report = fb.multireport(fb.Fork(vals))\n",
    "fairreport = fb.multireport(fb.Fork(fairvals))\n",
    "\n",
    "comparison = fb.Fork(net=report, fair_net=fairreport)\n",
    "fb.extract(accuracy=comparison.min.accuracy, prule=comparison.minratio.pr)"
   ]
  },
  {
   "cell_type": "code",
   "execution_count": 11,
   "id": "c9aaa0da",
   "metadata": {},
   "outputs": [
    {
     "data": {
      "image/png": "[encoded data removed]",
      "text/plain": [
       "<Figure size 640x480 with 10 Axes>"
      ]
     },
     "metadata": {},
     "output_type": "display_data"
    }
   ],
   "source": [
    "fb.visualize(comparison.min.class8.accuracy.explain)  ## visualize an explanation"
   ]
  },
  {
   "cell_type": "markdown",
   "id": "571c6f78",
   "metadata": {},
   "source": [
    "### Explain  a prediction\n",
    "Negatives have high accuracy, which indicates small false negative rate for each class. You should look at the accuracy."
   ]
  },
  {
   "cell_type": "code",
   "execution_count": 20,
   "id": "d3dccad4",
   "metadata": {},
   "outputs": [
    {
     "data": {
      "text/html": [
       "<table><tr><td><strong>color2</strong></td><td>0.0</td></tr><tr><td><strong>color5</strong></td><td>0.0</td></tr><tr><td><strong>color9</strong></td><td>0.0</td></tr><tr><td><strong>color1</strong></td><td>0.0</td></tr><tr><td><strong>color7</strong></td><td>0.0</td></tr><tr><td><strong>color8</strong></td><td>0.0</td></tr><tr><td><strong>color3</strong></td><td>1.0</td></tr><tr><td><strong>color4</strong></td><td>0.0</td></tr><tr><td><strong>color0</strong></td><td>0.0</td></tr><tr><td><strong>color6</strong></td><td>0.0</td></tr></table>"
      ],
      "text/plain": [
       "<fairbench.forks.fork.Fork object at 0x00000219F02CC5B0>"
      ]
     },
     "execution_count": 20,
     "metadata": {},
     "output_type": "execute_result"
    }
   ],
   "source": [
    "comparison.class3.net.minratio.pr.explain"
   ]
  },
  {
   "cell_type": "code",
   "execution_count": null,
   "id": "3cf84ab8",
   "metadata": {},
   "outputs": [],
   "source": []
  }
 ],
 "metadata": {
  "kernelspec": {
   "display_name": "Python 3 (ipykernel)",
   "language": "python",
   "name": "python3"
  },
  "language_info": {
   "codemirror_mode": {
    "name": "ipython",
    "version": 3
   },
   "file_extension": ".py",
   "mimetype": "text/x-python",
   "name": "python",
   "nbconvert_exporter": "python",
   "pygments_lexer": "ipython3",
   "version": "3.13.0"
  }
 },
 "nbformat": 4,
 "nbformat_minor": 5
}
