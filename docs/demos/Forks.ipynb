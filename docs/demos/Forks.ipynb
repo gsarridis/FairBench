{
 "cells": [
  {
   "cell_type": "code",
   "execution_count": null,
   "id": "fee726bb",
   "metadata": {},
   "outputs": [],
   "source": [
    "!pip install --upgrade fairbench"
   ]
  },
  {
   "cell_type": "code",
   "execution_count": 1,
   "id": "8c1f75c3",
   "metadata": {},
   "outputs": [],
   "source": [
    "import fairbench as fb"
   ]
  },
  {
   "cell_type": "code",
   "execution_count": 2,
   "id": "33326386",
   "metadata": {},
   "outputs": [],
   "source": [
    "sensitive = fb.Fork(man=[1, 0, 1, 0, 0], woman=[0, 1, 0, 1, 0], nonbin=[0, 0, 0, 0, 1])"
   ]
  },
  {
   "cell_type": "code",
   "execution_count": 3,
   "id": "099f5154",
   "metadata": {},
   "outputs": [
    {
     "data": {
      "text/html": [
       "<table><tr><td><strong>man</strong></td><td>[1, 0, 1, 0, 0]</td></tr><tr><td><strong>woman</strong></td><td>[0, 1, 0, 1, 0]</td></tr><tr><td><strong>nonbin</strong></td><td>[0, 0, 0, 0, 1]</td></tr></table>"
      ],
      "text/plain": [
       "<fairbench.core.fork.Fork object at 0x000001B094C43580>"
      ]
     },
     "execution_count": 3,
     "metadata": {},
     "output_type": "execute_result"
    }
   ],
   "source": [
    "sensitive"
   ]
  },
  {
   "cell_type": "code",
   "execution_count": 4,
   "id": "63b9de49",
   "metadata": {},
   "outputs": [
    {
     "data": {
      "text/plain": [
       "[1, 0, 1, 0, 0]"
      ]
     },
     "execution_count": 4,
     "metadata": {},
     "output_type": "execute_result"
    }
   ],
   "source": [
    "sensitive.man"
   ]
  },
  {
   "cell_type": "code",
   "execution_count": 5,
   "id": "ba7a5672",
   "metadata": {},
   "outputs": [
    {
     "data": {
      "text/html": [
       "<table><tr><td><strong>woman</strong></td><td>1</td></tr><tr><td><strong>nonbin</strong></td><td>0</td></tr><tr><td><strong>man</strong></td><td>0</td></tr></table>"
      ],
      "text/plain": [
       "<fairbench.core.fork.Fork object at 0x000001B0C60804C0>"
      ]
     },
     "execution_count": 5,
     "metadata": {},
     "output_type": "execute_result"
    }
   ],
   "source": [
    "sensitive[1]"
   ]
  },
  {
   "cell_type": "code",
   "execution_count": 6,
   "id": "6d04d36a",
   "metadata": {},
   "outputs": [
    {
     "ename": "ComputationWithExplainableError",
     "evalue": "",
     "output_type": "error",
     "traceback": [
      "An exception has occurred, use %tb to see the full traceback.\n",
      "\u001b[1;31mComputationWithExplainableError\u001b[0m\n"
     ]
    },
    {
     "name": "stderr",
     "output_type": "stream",
     "text": [
      "c:\\users\\manio\\pycharmprojects\\fairbench\\fairbench\\core\\explanation\\error.py:157: UserWarning: ExplainableError: Cannot call call with arguments ([1, 0, 1, 0, 0], '__getattribute__', 'sum') {}\n",
      "This error only appears because you requested dependent computations.\n",
      "Otherwise, it is normal for reports or other FairBench data to hold ExplainableError.\n",
      "You need to check your data first for any errors (you will see --- when printing them).\n",
      "- Issue tracker https://github.com/mever-team/FairBench/issues\n",
      "- Full trace in ./fairbench.log\n",
      "  warnings.warn(self.format_traceback(False))\n"
     ]
    }
   ],
   "source": [
    "sensitive.sum()  # apply sum to all forks"
   ]
  },
  {
   "cell_type": "code",
   "execution_count": 7,
   "id": "c77a5410",
   "metadata": {},
   "outputs": [
    {
     "data": {
      "text/html": [
       "<table><tr><td><strong>man</strong></td><td>2</td></tr><tr><td><strong>woman</strong></td><td>2</td></tr><tr><td><strong>nonbin</strong></td><td>1</td></tr></table>"
      ],
      "text/plain": [
       "<fairbench.core.fork.Fork object at 0x000001B0C6080460>"
      ]
     },
     "execution_count": 7,
     "metadata": {},
     "output_type": "execute_result"
    }
   ],
   "source": [
    "counts = fb.tobackend(sensitive).sum()\n",
    "counts"
   ]
  },
  {
   "cell_type": "code",
   "execution_count": 8,
   "id": "b832ed38",
   "metadata": {},
   "outputs": [
    {
     "data": {
      "image/png": "[encoded data removed]",
      "text/plain": [
       "<Figure size 640x480 with 1 Axes>"
      ]
     },
     "metadata": {},
     "output_type": "display_data"
    }
   ],
   "source": [
    "fb.visualize(counts)"
   ]
  },
  {
   "cell_type": "code",
   "execution_count": 9,
   "id": "2f221b80",
   "metadata": {},
   "outputs": [
    {
     "data": {
      "text/html": [
       "<table><tr><td><strong>Nonbin</strong></td><td>[0 0 0 0 1]</td></tr><tr><td><strong>Woman</strong></td><td>[0 1 0 1 0]</td></tr><tr><td><strong>Man</strong></td><td>[1 0 1 0 0]</td></tr></table>"
      ],
      "text/plain": [
       "<fairbench.core.fork.Fork object at 0x000001B0C6264A30>"
      ]
     },
     "execution_count": 9,
     "metadata": {},
     "output_type": "execute_result"
    }
   ],
   "source": [
    "sensitive = fb.Fork(fb.categories@[\"Man\", \"Woman\", \"Man\", \"Woman\", \"Nonbin\"])\n",
    "sensitive"
   ]
  },
  {
   "cell_type": "code",
   "execution_count": 10,
   "id": "b7e5eda5",
   "metadata": {},
   "outputs": [
    {
     "data": {
      "text/html": [
       "<table><tr><td><strong>Nonbin</strong></td><td>[0 0 0 0 1]</td></tr><tr><td><strong>Woman</strong></td><td>[0 1 0 1 0]</td></tr><tr><td><strong>Man</strong></td><td>[1 0 1 0 0]</td></tr><tr><td><strong>White</strong></td><td>[1 1 1 0 0]</td></tr><tr><td><strong>Black</strong></td><td>[0 0 0 1 1]</td></tr></table>"
      ],
      "text/plain": [
       "<fairbench.core.fork.Fork object at 0x000001B094C43790>"
      ]
     },
     "execution_count": 10,
     "metadata": {},
     "output_type": "execute_result"
    }
   ],
   "source": [
    "sensitive = fb.Fork(fb.categories@[\"Man\", \"Woman\", \"Man\", \"Woman\", \"Nonbin\"], \n",
    "                    fb.categories@[\"White\", \"White\", \"White\", \"Black\", \"Black\"])\n",
    "sensitive"
   ]
  },
  {
   "cell_type": "code",
   "execution_count": 11,
   "id": "2dafa9ff",
   "metadata": {},
   "outputs": [
    {
     "data": {
      "text/html": [
       "<table><tr><td><strong>Black</strong></td><td>[0 0 0 1 1]</td></tr><tr><td><strong>White</strong></td><td>[1 1 1 0 0]</td></tr><tr><td><strong>Man</strong></td><td>[1 0 1 0 0]</td></tr><tr><td><strong>Man&White</strong></td><td>[1 0 1 0 0]</td></tr><tr><td><strong>Woman</strong></td><td>[0 1 0 1 0]</td></tr><tr><td><strong>Woman&Black</strong></td><td>[0 0 0 1 0]</td></tr><tr><td><strong>Woman&White</strong></td><td>[0 1 0 0 0]</td></tr><tr><td><strong>Nonbin</strong></td><td>[0 0 0 0 1]</td></tr><tr><td><strong>Nonbin&Black</strong></td><td>[0 0 0 0 1]</td></tr></table>"
      ],
      "text/plain": [
       "<fairbench.core.fork.Fork object at 0x000001B0C6264E20>"
      ]
     },
     "execution_count": 11,
     "metadata": {},
     "output_type": "execute_result"
    }
   ],
   "source": [
    "sensitive = sensitive.intersectional()\n",
    "sensitive"
   ]
  },
  {
   "cell_type": "code",
   "execution_count": 12,
   "id": "345178da",
   "metadata": {},
   "outputs": [],
   "source": [
    "predictions = [1, 0, 1, 0, 0]\n",
    "labels = [1, 1, 1, 0, 1]"
   ]
  },
  {
   "cell_type": "code",
   "execution_count": 13,
   "id": "7f40eb36",
   "metadata": {},
   "outputs": [
    {
     "data": {
      "text/plain": [
       "0.6"
      ]
     },
     "execution_count": 13,
     "metadata": {},
     "output_type": "execute_result"
    }
   ],
   "source": [
    "fb.accuracy(predictions=predictions, labels=labels)"
   ]
  },
  {
   "cell_type": "code",
   "execution_count": 14,
   "id": "52e00aa5",
   "metadata": {},
   "outputs": [
    {
     "data": {
      "text/html": [
       "<table><tr><td><strong>Man&White</strong></td><td>1.000</td></tr><tr><td><strong>White</strong></td><td>0.667</td></tr><tr><td><strong>Nonbin</strong></td><td>0.000</td></tr><tr><td><strong>Nonbin&Black</strong></td><td>0.000</td></tr><tr><td><strong>Man</strong></td><td>1.000</td></tr><tr><td><strong>Woman&Black</strong></td><td>1.000</td></tr><tr><td><strong>Black</strong></td><td>0.500</td></tr><tr><td><strong>Woman&White</strong></td><td>0.000</td></tr><tr><td><strong>Woman</strong></td><td>0.500</td></tr></table>"
      ],
      "text/plain": [
       "<fairbench.core.fork.Fork object at 0x000001B0C62D61D0>"
      ]
     },
     "execution_count": 14,
     "metadata": {},
     "output_type": "execute_result"
    }
   ],
   "source": [
    "fb.accuracy(predictions=predictions, labels=labels, sensitive=sensitive)"
   ]
  },
  {
   "cell_type": "code",
   "execution_count": null,
   "id": "f0fa8054",
   "metadata": {},
   "outputs": [],
   "source": []
  },
  {
   "cell_type": "code",
   "execution_count": null,
   "id": "8119b3f6",
   "metadata": {},
   "outputs": [],
   "source": []
  }
 ],
 "metadata": {
  "kernelspec": {
   "display_name": "Python 3 (ipykernel)",
   "language": "python",
   "name": "python3"
  },
  "language_info": {
   "codemirror_mode": {
    "name": "ipython",
    "version": 3
   },
   "file_extension": ".py",
   "mimetype": "text/x-python",
   "name": "python",
   "nbconvert_exporter": "python",
   "pygments_lexer": "ipython3",
   "version": "3.10.4"
  }
 },
 "nbformat": 4,
 "nbformat_minor": 5
}
