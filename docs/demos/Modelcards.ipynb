{
 "cells": [
  {
   "cell_type": "code",
   "execution_count": 1,
   "id": "13f86c71",
   "metadata": {},
   "outputs": [],
   "source": [
    "import fairbench as fb"
   ]
  },
  {
   "cell_type": "code",
   "execution_count": 3,
   "id": "c5785bbc",
   "metadata": {},
   "outputs": [
    {
     "data": {
      "text/html": [
       "<div>\n",
       "<style scoped>\n",
       "    .dataframe tbody tr th:only-of-type {\n",
       "        vertical-align: middle;\n",
       "    }\n",
       "\n",
       "    .dataframe tbody tr th {\n",
       "        vertical-align: top;\n",
       "    }\n",
       "\n",
       "    .dataframe thead th {\n",
       "        text-align: right;\n",
       "    }\n",
       "</style>\n",
       "<table border=\"1\" class=\"dataframe\">\n",
       "  <thead>\n",
       "    <tr style=\"text-align: right;\">\n",
       "      <th></th>\n",
       "      <th>0</th>\n",
       "      <th>1</th>\n",
       "      <th>2</th>\n",
       "      <th>3</th>\n",
       "      <th>4</th>\n",
       "      <th>5</th>\n",
       "      <th>6</th>\n",
       "      <th>7</th>\n",
       "      <th>8</th>\n",
       "      <th>9</th>\n",
       "      <th>10</th>\n",
       "      <th>11</th>\n",
       "      <th>12</th>\n",
       "      <th>13</th>\n",
       "      <th>14</th>\n",
       "    </tr>\n",
       "  </thead>\n",
       "  <tbody>\n",
       "    <tr>\n",
       "      <th>0</th>\n",
       "      <td>25</td>\n",
       "      <td>Private</td>\n",
       "      <td>226802</td>\n",
       "      <td>11th</td>\n",
       "      <td>7</td>\n",
       "      <td>Never-married</td>\n",
       "      <td>Machine-op-inspct</td>\n",
       "      <td>Own-child</td>\n",
       "      <td>Black</td>\n",
       "      <td>Male</td>\n",
       "      <td>0</td>\n",
       "      <td>0</td>\n",
       "      <td>40</td>\n",
       "      <td>United-States</td>\n",
       "      <td>&lt;=50K.</td>\n",
       "    </tr>\n",
       "    <tr>\n",
       "      <th>1</th>\n",
       "      <td>38</td>\n",
       "      <td>Private</td>\n",
       "      <td>89814</td>\n",
       "      <td>HS-grad</td>\n",
       "      <td>9</td>\n",
       "      <td>Married-civ-spouse</td>\n",
       "      <td>Farming-fishing</td>\n",
       "      <td>Husband</td>\n",
       "      <td>White</td>\n",
       "      <td>Male</td>\n",
       "      <td>0</td>\n",
       "      <td>0</td>\n",
       "      <td>50</td>\n",
       "      <td>United-States</td>\n",
       "      <td>&lt;=50K.</td>\n",
       "    </tr>\n",
       "    <tr>\n",
       "      <th>2</th>\n",
       "      <td>28</td>\n",
       "      <td>Local-gov</td>\n",
       "      <td>336951</td>\n",
       "      <td>Assoc-acdm</td>\n",
       "      <td>12</td>\n",
       "      <td>Married-civ-spouse</td>\n",
       "      <td>Protective-serv</td>\n",
       "      <td>Husband</td>\n",
       "      <td>White</td>\n",
       "      <td>Male</td>\n",
       "      <td>0</td>\n",
       "      <td>0</td>\n",
       "      <td>40</td>\n",
       "      <td>United-States</td>\n",
       "      <td>&gt;50K.</td>\n",
       "    </tr>\n",
       "  </tbody>\n",
       "</table>\n",
       "</div>"
      ],
      "text/plain": [
       "   0          1       2           3   4                   5   \\\n",
       "0  25    Private  226802        11th   7       Never-married   \n",
       "1  38    Private   89814     HS-grad   9  Married-civ-spouse   \n",
       "2  28  Local-gov  336951  Assoc-acdm  12  Married-civ-spouse   \n",
       "\n",
       "                  6          7      8     9   10  11  12             13  \\\n",
       "0  Machine-op-inspct  Own-child  Black  Male   0   0  40  United-States   \n",
       "1    Farming-fishing    Husband  White  Male   0   0  50  United-States   \n",
       "2    Protective-serv    Husband  White  Male   0   0  40  United-States   \n",
       "\n",
       "       14  \n",
       "0  <=50K.  \n",
       "1  <=50K.  \n",
       "2   >50K.  "
      ]
     },
     "execution_count": 3,
     "metadata": {},
     "output_type": "execute_result"
    }
   ],
   "source": [
    "test, y, scores = fb.demos.adult(predict=\"probabilities\")\n",
    "yhat = scores>0.5\n",
    "test.head(3)  # print 3 top rows of the pandas dataframe"
   ]
  },
  {
   "cell_type": "code",
   "execution_count": 4,
   "id": "dd132bbe",
   "metadata": {},
   "outputs": [
    {
     "data": {
      "text/html": [
       "<div style=\"display: inline-block; float: left;\"><h3>min</h3><table><tr><td><strong>accuracy</strong></td><td>0.798</td></tr><tr><td><strong>pr</strong></td><td>0.049</td></tr><tr><td><strong>tpr</strong></td><td>0.337</td></tr><tr><td><strong>tnr</strong></td><td>0.886</td></tr><tr><td><strong>auc</strong></td><td>0.861</td></tr><tr><td><strong>avgscore</strong></td><td>0.110</td></tr><tr><td><strong>tophr</strong></td><td>0.667</td></tr><tr><td><strong>toprec</strong></td><td>0.001</td></tr><tr><td><strong>avghr</strong></td><td>0.389</td></tr><tr><td><strong>avgrepr</strong></td><td>0.000</td></tr></table></div><div style=\"display: inline-block; float: left;\"><h3>wmean</h3><table><tr><td><strong>accuracy</strong></td><td>0.837</td></tr><tr><td><strong>pr</strong></td><td>0.189</td></tr><tr><td><strong>tpr</strong></td><td>0.532</td></tr><tr><td><strong>tnr</strong></td><td>0.922</td></tr><tr><td><strong>auc</strong></td><td>0.882</td></tr><tr><td><strong>avgscore</strong></td><td>0.239</td></tr><tr><td><strong>tophr</strong></td><td>0.722</td></tr><tr><td><strong>toprec</strong></td><td>0.001</td></tr><tr><td><strong>avghr</strong></td><td>0.491</td></tr><tr><td><strong>avgrepr</strong></td><td>1.000</td></tr></table></div><div style=\"display: inline-block; float: left;\"><h3>gini</h3><table><tr><td><strong>accuracy</strong></td><td>0.031</td></tr><tr><td><strong>pr</strong></td><td>0.281</td></tr><tr><td><strong>tpr</strong></td><td>0.115</td></tr><tr><td><strong>tnr</strong></td><td>0.024</td></tr><tr><td><strong>auc</strong></td><td>0.012</td></tr><tr><td><strong>avgscore</strong></td><td>0.197</td></tr><tr><td><strong>tophr</strong></td><td>0.095</td></tr><tr><td><strong>toprec</strong></td><td>0.489</td></tr><tr><td><strong>avghr</strong></td><td>0.229</td></tr><tr><td><strong>avgrepr</strong></td><td>0.400</td></tr></table></div><div style=\"display: inline-block; float: left;\"><h3>minratio[vsAny]</h3><table><tr><td><strong>accuracy</strong></td><td>0.953</td></tr><tr><td><strong>pr</strong></td><td>0.261</td></tr><tr><td><strong>tpr</strong></td><td>0.608</td></tr><tr><td><strong>tnr</strong></td><td>0.958</td></tr><tr><td><strong>auc</strong></td><td>0.972</td></tr><tr><td><strong>avgscore</strong></td><td>0.461</td></tr><tr><td><strong>tophr</strong></td><td>1.000</td></tr><tr><td><strong>toprec</strong></td><td>1.181</td></tr><tr><td><strong>avghr</strong></td><td>1.000</td></tr><tr><td><strong>avgrepr</strong></td><td>0.000</td></tr></table></div><div style=\"display: inline-block; float: left;\"><h3>maxdiff[vsAny]</h3><table><tr><td><strong>accuracy</strong></td><td>0.078</td></tr><tr><td><strong>pr</strong></td><td>0.139</td></tr><tr><td><strong>tpr</strong></td><td>0.217</td></tr><tr><td><strong>tnr</strong></td><td>0.061</td></tr><tr><td><strong>auc</strong></td><td>0.025</td></tr><tr><td><strong>avgscore</strong></td><td>0.129</td></tr><tr><td><strong>tophr</strong></td><td>0.333</td></tr><tr><td><strong>toprec</strong></td><td>0.005</td></tr><tr><td><strong>avghr</strong></td><td>0.611</td></tr><tr><td><strong>avgrepr</strong></td><td>1.000</td></tr></table></div><div style=\"display: inline-block; float: left;\"><h3>maxbarea[vsAny]</h3><table><tr><td><strong>accuracy</strong></td><td>---</td></tr><tr><td><strong>pr</strong></td><td>---</td></tr><tr><td><strong>tpr</strong></td><td>---</td></tr><tr><td><strong>tnr</strong></td><td>---</td></tr><tr><td><strong>auc</strong></td><td>0.025</td></tr><tr><td><strong>avgscore</strong></td><td>0.454</td></tr><tr><td><strong>tophr</strong></td><td>---</td></tr><tr><td><strong>toprec</strong></td><td>---</td></tr><tr><td><strong>avghr</strong></td><td>0.611</td></tr><tr><td><strong>avgrepr</strong></td><td>1.000</td></tr></table></div><div style=\"display: inline-block; float: left;\"><h3>maxrarea[vsAny]</h3><table><tr><td><strong>accuracy</strong></td><td>---</td></tr><tr><td><strong>pr</strong></td><td>---</td></tr><tr><td><strong>tpr</strong></td><td>---</td></tr><tr><td><strong>tnr</strong></td><td>---</td></tr><tr><td><strong>auc</strong></td><td>0.038</td></tr><tr><td><strong>avgscore</strong></td><td>0.548</td></tr><tr><td><strong>tophr</strong></td><td>---</td></tr><tr><td><strong>toprec</strong></td><td>---</td></tr><tr><td><strong>avghr</strong></td><td>0.611</td></tr><tr><td><strong>avgrepr</strong></td><td>1.000</td></tr></table></div><div style=\"display: inline-block; float: left;\"><h3>maxbdcg[vsAny]</h3><table><tr><td><strong>accuracy</strong></td><td>---</td></tr><tr><td><strong>pr</strong></td><td>---</td></tr><tr><td><strong>tpr</strong></td><td>---</td></tr><tr><td><strong>tnr</strong></td><td>---</td></tr><tr><td><strong>auc</strong></td><td>0.028</td></tr><tr><td><strong>avgscore</strong></td><td>0.499</td></tr><tr><td><strong>tophr</strong></td><td>---</td></tr><tr><td><strong>toprec</strong></td><td>---</td></tr><tr><td><strong>avghr</strong></td><td>0.696</td></tr><tr><td><strong>avgrepr</strong></td><td>1.000</td></tr></table></div>"
      ],
      "text/plain": [
       "<fairbench.core.fork.Fork object at 0x0000027AAE9159C0>"
      ]
     },
     "execution_count": 4,
     "metadata": {},
     "output_type": "execute_result"
    }
   ],
   "source": [
    "sensitive = fb.Fork(fb.categories@test[9])\n",
    "report = fb.unireport(predictions=yhat, scores=scores, labels=y, sensitive=sensitive)\n",
    "report"
   ]
  },
  {
   "cell_type": "code",
   "execution_count": 5,
   "id": "19a3d583",
   "metadata": {},
   "outputs": [
    {
     "data": {
      "text/plain": [
       "('four_fifths',\n",
       " 'accuracy',\n",
       " 'prule',\n",
       " 'dfpr',\n",
       " 'dfnr',\n",
       " 'auc',\n",
       " 'abroca',\n",
       " 'rbroca',\n",
       " 'maxbdcg')"
      ]
     },
     "execution_count": 5,
     "metadata": {},
     "output_type": "execute_result"
    }
   ],
   "source": [
    "fb.stamps.available()"
   ]
  },
  {
   "cell_type": "code",
   "execution_count": 6,
   "id": "7bd8f719",
   "metadata": {},
   "outputs": [
    {
     "data": {
      "text/plain": [
       "{'p-rule': 0.2611157773678359}"
      ]
     },
     "execution_count": 6,
     "metadata": {},
     "output_type": "execute_result"
    }
   ],
   "source": [
    "fb.stamps.prule(report)"
   ]
  },
  {
   "cell_type": "code",
   "execution_count": 7,
   "id": "b748c79b",
   "metadata": {},
   "outputs": [],
   "source": [
    "stamps = fb.combine(\n",
    "    fb.stamps.prule(report),\n",
    "    fb.stamps.four_fifths(report),\n",
    "    fb.stamps.abroca(report)\n",
    ")"
   ]
  },
  {
   "cell_type": "code",
   "execution_count": 8,
   "id": "42db68a3",
   "metadata": {},
   "outputs": [
    {
     "data": {
      "text/plain": [
       "'<h2>Factors</h2><ul><li>The groups that are considered for fairness assessment are Any, Female, Male.</li></ul><h2>Metrics</h2><ul><li>Fairness-aware metrics are computed. The <em>p-rule</em> compares the fraction of positive predictions between each group and its complement. The worst ratio is reported, so that value of 0 indicates disparate impact, and value of 1 disparate impact mitigation. The <em>4/5 rule</em> checks whether the fraction of positive predictions for each protected group is at worst four fifths that of its complement (i.e., the p-rule is 0.8 or greater for any pairwise group comparison). The <em>abroca</em> compares the area between ROC curves. This comparison is made between each group and the total population and is a type of disparate mistreatment for recommendation systems. </li></ul>\\n<h2>Evaluation Results</h2>\\n<table>\\n<tr><th>Metric</th><th>Value</th></tr>\\n<tr><td>p-rule</td><td>0.261</td></tr>\\n<tr><td>4/5 rule</td><td>&#10060;</td></tr>\\n<tr><td>abroca</td><td>0.025</td></tr>\\n</table><h2>Caveats and Recommendations</h2><ul><li>Consider input from affected stakeholders to determine whether abroca is an appropriate fairness measure.</li><li>Disparate impact may not always be an appropriate fairness consideration.</li><li>Disparate mistreatment may not always be an appropriate fairness consideration.</li></ul>'"
      ]
     },
     "execution_count": 8,
     "metadata": {},
     "output_type": "execute_result"
    }
   ],
   "source": [
    "fb.modelcards.tohtml(stamps, show=True)"
   ]
  },
  {
   "cell_type": "code",
   "execution_count": 9,
   "id": "e78e3de5",
   "metadata": {},
   "outputs": [
    {
     "name": "stdout",
     "output_type": "stream",
     "text": [
      "## Factors\n",
      "- The groups that are considered for fairness assessment are Any, Female, Male.\n",
      "\n",
      "## Metrics\n",
      "- Fairness-aware metrics are computed. The *p-rule* compares the fraction of positive predictions between each group and its complement. The worst ratio is reported, so that value of 0 indicates disparate impact, and value of 1 disparate impact mitigation. The *4/5 rule* checks whether the fraction of positive predictions for each protected group is at worst four fifths that of its complement (i.e., the p-rule is 0.8 or greater for any pairwise group comparison). The *abroca* compares the area between ROC curves. This comparison is made between each group and the total population and is a type of disparate mistreatment for recommendation systems. \n",
      "\n",
      "## Evaluation Results\n",
      "| Metric | Value |\n",
      "| ------ | ----- |\n",
      "| p-rule | 0.261 |\n",
      "| 4/5 rule | :x: |\n",
      "| abroca | 0.025 |\n",
      "\n",
      "## Caveats and Recommendations\n",
      "- Consider input from affected stakeholders to determine whether abroca is an appropriate fairness measure.\n",
      "- Disparate impact may not always be an appropriate fairness consideration.\n",
      "- Disparate mistreatment may not always be an appropriate fairness consideration.\n",
      "\n",
      "\n"
     ]
    }
   ],
   "source": [
    "print(fb.modelcards.tomarkdown(stamps))"
   ]
  },
  {
   "cell_type": "code",
   "execution_count": null,
   "id": "6367024b",
   "metadata": {},
   "outputs": [],
   "source": []
  }
 ],
 "metadata": {
  "kernelspec": {
   "display_name": "Python 3 (ipykernel)",
   "language": "python",
   "name": "python3"
  },
  "language_info": {
   "codemirror_mode": {
    "name": "ipython",
    "version": 3
   },
   "file_extension": ".py",
   "mimetype": "text/x-python",
   "name": "python",
   "nbconvert_exporter": "python",
   "pygments_lexer": "ipython3",
   "version": "3.10.4"
  }
 },
 "nbformat": 4,
 "nbformat_minor": 5
}
