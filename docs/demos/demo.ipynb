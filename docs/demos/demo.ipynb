{
 "cells": [
  {
   "cell_type": "code",
   "execution_count": 1,
   "id": "67f8711d",
   "metadata": {},
   "outputs": [],
   "source": [
    "import fairbench as fb\n",
    "import numpy as np"
   ]
  },
  {
   "cell_type": "markdown",
   "id": "d0083331",
   "metadata": {},
   "source": [
    "# Load data\n",
    "Automatically download the adult dataset, read it (with pandas)."
   ]
  },
  {
   "cell_type": "code",
   "execution_count": 2,
   "id": "74ea1222",
   "metadata": {},
   "outputs": [
    {
     "data": {
      "text/html": [
       "<div>\n",
       "<style scoped>\n",
       "    .dataframe tbody tr th:only-of-type {\n",
       "        vertical-align: middle;\n",
       "    }\n",
       "\n",
       "    .dataframe tbody tr th {\n",
       "        vertical-align: top;\n",
       "    }\n",
       "\n",
       "    .dataframe thead th {\n",
       "        text-align: right;\n",
       "    }\n",
       "</style>\n",
       "<table border=\"1\" class=\"dataframe\">\n",
       "  <thead>\n",
       "    <tr style=\"text-align: right;\">\n",
       "      <th></th>\n",
       "      <th>0</th>\n",
       "      <th>1</th>\n",
       "      <th>2</th>\n",
       "      <th>3</th>\n",
       "      <th>4</th>\n",
       "      <th>5</th>\n",
       "      <th>6</th>\n",
       "      <th>7</th>\n",
       "      <th>8</th>\n",
       "      <th>9</th>\n",
       "      <th>10</th>\n",
       "      <th>11</th>\n",
       "      <th>12</th>\n",
       "      <th>13</th>\n",
       "      <th>14</th>\n",
       "    </tr>\n",
       "  </thead>\n",
       "  <tbody>\n",
       "    <tr>\n",
       "      <th>0</th>\n",
       "      <td>39</td>\n",
       "      <td>State-gov</td>\n",
       "      <td>77516</td>\n",
       "      <td>Bachelors</td>\n",
       "      <td>13</td>\n",
       "      <td>Never-married</td>\n",
       "      <td>Adm-clerical</td>\n",
       "      <td>Not-in-family</td>\n",
       "      <td>White</td>\n",
       "      <td>Male</td>\n",
       "      <td>2174</td>\n",
       "      <td>0</td>\n",
       "      <td>40</td>\n",
       "      <td>United-States</td>\n",
       "      <td>&lt;=50K</td>\n",
       "    </tr>\n",
       "    <tr>\n",
       "      <th>1</th>\n",
       "      <td>50</td>\n",
       "      <td>Self-emp-not-inc</td>\n",
       "      <td>83311</td>\n",
       "      <td>Bachelors</td>\n",
       "      <td>13</td>\n",
       "      <td>Married-civ-spouse</td>\n",
       "      <td>Exec-managerial</td>\n",
       "      <td>Husband</td>\n",
       "      <td>White</td>\n",
       "      <td>Male</td>\n",
       "      <td>0</td>\n",
       "      <td>0</td>\n",
       "      <td>13</td>\n",
       "      <td>United-States</td>\n",
       "      <td>&lt;=50K</td>\n",
       "    </tr>\n",
       "    <tr>\n",
       "      <th>2</th>\n",
       "      <td>38</td>\n",
       "      <td>Private</td>\n",
       "      <td>215646</td>\n",
       "      <td>HS-grad</td>\n",
       "      <td>9</td>\n",
       "      <td>Divorced</td>\n",
       "      <td>Handlers-cleaners</td>\n",
       "      <td>Not-in-family</td>\n",
       "      <td>White</td>\n",
       "      <td>Male</td>\n",
       "      <td>0</td>\n",
       "      <td>0</td>\n",
       "      <td>40</td>\n",
       "      <td>United-States</td>\n",
       "      <td>&lt;=50K</td>\n",
       "    </tr>\n",
       "    <tr>\n",
       "      <th>3</th>\n",
       "      <td>53</td>\n",
       "      <td>Private</td>\n",
       "      <td>234721</td>\n",
       "      <td>11th</td>\n",
       "      <td>7</td>\n",
       "      <td>Married-civ-spouse</td>\n",
       "      <td>Handlers-cleaners</td>\n",
       "      <td>Husband</td>\n",
       "      <td>Black</td>\n",
       "      <td>Male</td>\n",
       "      <td>0</td>\n",
       "      <td>0</td>\n",
       "      <td>40</td>\n",
       "      <td>United-States</td>\n",
       "      <td>&lt;=50K</td>\n",
       "    </tr>\n",
       "    <tr>\n",
       "      <th>4</th>\n",
       "      <td>28</td>\n",
       "      <td>Private</td>\n",
       "      <td>338409</td>\n",
       "      <td>Bachelors</td>\n",
       "      <td>13</td>\n",
       "      <td>Married-civ-spouse</td>\n",
       "      <td>Prof-specialty</td>\n",
       "      <td>Wife</td>\n",
       "      <td>Black</td>\n",
       "      <td>Female</td>\n",
       "      <td>0</td>\n",
       "      <td>0</td>\n",
       "      <td>40</td>\n",
       "      <td>Cuba</td>\n",
       "      <td>&lt;=50K</td>\n",
       "    </tr>\n",
       "  </tbody>\n",
       "</table>\n",
       "</div>"
      ],
      "text/plain": [
       "   0                 1       2          3   4                   5   \\\n",
       "0  39         State-gov   77516  Bachelors  13       Never-married   \n",
       "1  50  Self-emp-not-inc   83311  Bachelors  13  Married-civ-spouse   \n",
       "2  38           Private  215646    HS-grad   9            Divorced   \n",
       "3  53           Private  234721       11th   7  Married-civ-spouse   \n",
       "4  28           Private  338409  Bachelors  13  Married-civ-spouse   \n",
       "\n",
       "                  6              7      8       9     10  11  12  \\\n",
       "0       Adm-clerical  Not-in-family  White    Male  2174   0  40   \n",
       "1    Exec-managerial        Husband  White    Male     0   0  13   \n",
       "2  Handlers-cleaners  Not-in-family  White    Male     0   0  40   \n",
       "3  Handlers-cleaners        Husband  Black    Male     0   0  40   \n",
       "4     Prof-specialty           Wife  Black  Female     0   0  40   \n",
       "\n",
       "              13     14  \n",
       "0  United-States  <=50K  \n",
       "1  United-States  <=50K  \n",
       "2  United-States  <=50K  \n",
       "3  United-States  <=50K  \n",
       "4           Cuba  <=50K  "
      ]
     },
     "execution_count": 2,
     "metadata": {},
     "output_type": "execute_result"
    }
   ],
   "source": [
    "train = fb.read_csv(\"adult/adult.data\", header=None, skipinitialspace=True)\n",
    "test = fb.read_csv(\"adult/adult.test\", header=None, skipinitialspace=True, skiprows=[0])\n",
    "train.head()"
   ]
  },
  {
   "cell_type": "markdown",
   "id": "d2a809af",
   "metadata": {},
   "source": [
    "Convert training and test data into numpy arrays by considering some numeric and categorical columns."
   ]
  },
  {
   "cell_type": "code",
   "execution_count": 3,
   "id": "d7e6cf31",
   "metadata": {},
   "outputs": [],
   "source": [
    "numeric = [0, 4, 11, 12]\n",
    "categorical = [1, 3, 5, 6]\n",
    "\n",
    "x_train = fb.features(train, numeric, categorical)\n",
    "y_train = (train[14]==\">50K\").values\n",
    "\n",
    "x = fb.features(test, numeric, categorical)\n",
    "y = (test[14]==\">50K.\").values"
   ]
  },
  {
   "cell_type": "markdown",
   "id": "015470a4",
   "metadata": {},
   "source": [
    "# Make AI predictions\n",
    "This demonstration will use sklearn for simplicity, but this library also accepts pytorch or tensorflow tensors or any kind of numpy array. Inputs are scaled."
   ]
  },
  {
   "cell_type": "code",
   "execution_count": 4,
   "id": "14875a6d",
   "metadata": {},
   "outputs": [],
   "source": [
    "import sklearn\n",
    "from sklearn.linear_model import LogisticRegression\n",
    "\n",
    "x_train_scaled = sklearn.preprocessing.MinMaxScaler().fit_transform(x_train)\n",
    "x = sklearn.preprocessing.MinMaxScaler().fit_transform(x)\n",
    "\n",
    "classifier = LogisticRegression(max_iter=1000)\n",
    "classifier = classifier.fit(x_train_scaled, y_train)\n",
    "yhat = classifier.predict(x)"
   ]
  },
  {
   "cell_type": "markdown",
   "id": "81497b7f",
   "metadata": {},
   "source": [
    "# Define sensitive attribute Fork\n",
    "Determine sensitive attribute columns and organize them into Forks of fairness attributes. Forks define computational branches of population groups (a branch is a sensitive attribute column with binary values indicating membership to each group, e.g., Male, Female). Base measures will be computed independently on each branch to be compared. Fork branches can be automatically unpacked from iterables (e.g., arrays, lists, pandas columns) or manually by naming branches with keyword arguments in the Fork contructor. "
   ]
  },
  {
   "cell_type": "code",
   "execution_count": 5,
   "id": "e9c5aa38",
   "metadata": {},
   "outputs": [
    {
     "name": "stdout",
     "output_type": "stream",
     "text": [
      "NumPyTensor(array([1, 1, 1, ..., 1, 1, 1]))\n"
     ]
    },
    {
     "data": {
      "text/html": [
       "<table><tr><td><strong>Female</strong></td><td>[0 0 0 ... 0 0 0]</td></tr><tr><td><strong>Male</strong></td><td>[1 1 1 ... 1 1 1]</td></tr></table>"
      ],
      "text/plain": [
       "<fairbench.forks.fork.Fork object at 0x0000022C50CBA230>"
      ]
     },
     "execution_count": 5,
     "metadata": {},
     "output_type": "execute_result"
    }
   ],
   "source": [
    "sensitive = fb.Fork(fb.categories@test[9])  # or sensitive = fb.Fork(Male=np.array(...), Female=np.array(...))\n",
    "print(sensitive.Male)\n",
    "sensitive"
   ]
  },
  {
   "cell_type": "markdown",
   "id": "2560efaa",
   "metadata": {},
   "source": [
    "Most operations are overloaded in forks. Here we will sum the sensitive attribute columns to obtain the presence of population groups in the data. Forks of numeric values and reports later on can be visualized or outputted in text form."
   ]
  },
  {
   "cell_type": "code",
   "execution_count": 6,
   "id": "8e3b11ef",
   "metadata": {},
   "outputs": [
    {
     "name": "stdout",
     "output_type": "stream",
     "text": [
      "Female: 5421\n",
      "Male: 10860\n"
     ]
    },
    {
     "data": {
      "image/png": "[encoded data removed]",
      "text/plain": [
       "<Figure size 640x480 with 1 Axes>"
      ]
     },
     "metadata": {},
     "output_type": "display_data"
    }
   ],
   "source": [
    "presence = sensitive.sum()\n",
    "print(presence)\n",
    "fb.visualize(presence)"
   ]
  },
  {
   "cell_type": "markdown",
   "id": "046257bb",
   "metadata": {},
   "source": [
    "# Performance measures and reports\n",
    "Individual performance measures can be computed per branch, i.e., sensitive attribute column. Can use the ipython display to show prettier representations instead of printing them."
   ]
  },
  {
   "cell_type": "code",
   "execution_count": 7,
   "id": "b1732e81",
   "metadata": {},
   "outputs": [
    {
     "data": {
      "image/png": "[encoded data removed]",
      "text/plain": [
       "<Figure size 640x480 with 1 Axes>"
      ]
     },
     "metadata": {},
     "output_type": "display_data"
    },
    {
     "data": {
      "text/html": [
       "<table><tr><td><strong>Male</strong></td><td>0.7985267034990792</td></tr><tr><td><strong>Female</strong></td><td>0.9166205497140749</td></tr></table>"
      ],
      "text/plain": [
       "<fairbench.forks.fork.Fork object at 0x000001B2FA0BF0D0>"
      ]
     },
     "execution_count": 7,
     "metadata": {},
     "output_type": "execute_result"
    }
   ],
   "source": [
    "acc = fb.accuracy(predictions=yhat, labels=y, sensitive=sensitive)\n",
    "fb.visualize(acc)\n",
    "acc"
   ]
  },
  {
   "cell_type": "markdown",
   "id": "55ae4d58",
   "metadata": {},
   "source": [
    "Multiple measures can be computed and organized into reports, whose arguments will automatically be determined from keyword arguments."
   ]
  },
  {
   "cell_type": "code",
   "execution_count": 7,
   "id": "094d90bf",
   "metadata": {},
   "outputs": [
    {
     "data": {
      "text/html": [
       "<div style=\"display: inline-block; float: left;\"><h3>Female</h3><table><tr><td><strong>accuracy</strong></td><td>0.917</td></tr><tr><td><strong>pr</strong></td><td>0.054</td></tr><tr><td><strong>tpr</strong></td><td>0.736</td></tr><tr><td><strong>tnr</strong></td><td>0.927</td></tr></table></div><div style=\"display: inline-block; float: left;\"><h3>Male</h3><table><tr><td><strong>accuracy</strong></td><td>0.799</td></tr><tr><td><strong>pr</strong></td><td>0.255</td></tr><tr><td><strong>tpr</strong></td><td>0.693</td></tr><tr><td><strong>tnr</strong></td><td>0.834</td></tr></table></div>"
      ],
      "text/plain": [
       "<fairbench.forks.fork.Fork object at 0x0000022C50DAAA70>"
      ]
     },
     "execution_count": 7,
     "metadata": {},
     "output_type": "execute_result"
    }
   ],
   "source": [
    "report = fb.report(predictions=yhat, labels=y, sensitive=sensitive, metrics=[fb.accuracy, fb.pr, fb.tpr, fb.tnr])\n",
    "report"
   ]
  },
  {
   "cell_type": "markdown",
   "id": "26e0a063",
   "metadata": {},
   "source": [
    "Some popular measures are provided by the binreport. This and previous code analyse each sensitive attribute branch independently (make an one-vs-all analysis for sensitive attribute values)."
   ]
  },
  {
   "cell_type": "code",
   "execution_count": 8,
   "id": "bf045014",
   "metadata": {},
   "outputs": [
    {
     "data": {
      "text/html": [
       "<div style=\"display: inline-block; float: left;\"><h3>Female</h3><table><tr><td><strong>accuracy</strong></td><td>0.917</td></tr><tr><td><strong>prule</strong></td><td>0.2116387709158066</td></tr><tr><td><strong>dfpr</strong></td><td>-0.04310310647661719</td></tr><tr><td><strong>dfnr</strong></td><td>-0.09240016661053899</td></tr></table></div><div style=\"display: inline-block; float: left;\"><h3>Male</h3><table><tr><td><strong>accuracy</strong></td><td>0.799</td></tr><tr><td><strong>prule</strong></td><td>0.2116387709158066</td></tr><tr><td><strong>dfpr</strong></td><td>0.04310310647661719</td></tr><tr><td><strong>dfnr</strong></td><td>0.09240016661053899</td></tr></table></div>"
      ],
      "text/plain": [
       "<fairbench.forks.fork.Fork object at 0x0000022C50E08F10>"
      ]
     },
     "execution_count": 8,
     "metadata": {},
     "output_type": "execute_result"
    }
   ],
   "source": [
    "report = fb.binreport(predictions=yhat, labels=y, sensitive=sensitive)\n",
    "report"
   ]
  },
  {
   "cell_type": "markdown",
   "id": "bc597a96",
   "metadata": {},
   "source": [
    "Reports can be printed, outputted as textual tables, or visualized."
   ]
  },
  {
   "cell_type": "code",
   "execution_count": 10,
   "id": "70df39e7",
   "metadata": {},
   "outputs": [
    {
     "name": "stdout",
     "output_type": "stream",
     "text": [
      "Male: \n",
      "   accuracy: 0.799\n",
      "   prule: 0.212\n",
      "   dfpr: 0.043\n",
      "   dfnr: 0.092\n",
      "Female: \n",
      "   accuracy: 0.917\n",
      "   prule: 0.212\n",
      "   dfpr: -0.043\n",
      "   dfnr: -0.092\n"
     ]
    }
   ],
   "source": [
    "print(report)"
   ]
  },
  {
   "cell_type": "code",
   "execution_count": 11,
   "id": "e7ed915d",
   "metadata": {},
   "outputs": [
    {
     "name": "stdout",
     "output_type": "stream",
     "text": [
      "Metric          Male            Female         \n",
      "accuracy        0.799           0.917          \n",
      "prule           0.212           0.212          \n",
      "dfpr            0.043           -0.043         \n",
      "dfnr            0.092           -0.092         \n",
      "\n"
     ]
    }
   ],
   "source": [
    "fb.describe(report)"
   ]
  },
  {
   "cell_type": "code",
   "execution_count": 12,
   "id": "c9759d1a",
   "metadata": {},
   "outputs": [
    {
     "data": {
      "image/png": "[encoded data removed]",
      "text/plain": [
       "<Figure size 640x480 with 4 Axes>"
      ]
     },
     "metadata": {},
     "output_type": "display_data"
    }
   ],
   "source": [
    "fb.visualize(report)"
   ]
  },
  {
   "cell_type": "markdown",
   "id": "731382ca",
   "metadata": {},
   "source": [
    "# Reports and customization\n",
    "The preferred type of reporting for complex fairness assessment settings should be multireports. These make pairwise comparisons between all sensitive attribute branches (i.e., columns) and run reduction operations to summarize the result in terms of minimum measure values, minimum ratio of group assessment, or maximum difference of group assessment. These three types of reductions will always produce three branches, no matter how many sensitive attribute branches are there. That is, multireports are forks with three branches, where each branch holds the outcome of a different reduction."
   ]
  },
  {
   "cell_type": "code",
   "execution_count": 13,
   "id": "1afe3007",
   "metadata": {},
   "outputs": [
    {
     "data": {
      "text/html": [
       "<div style=\"display: inline-block; float: left;\"><h3>min</h3><table><tr><td><strong>accuracy</strong></td><td>0.799</td></tr><tr><td><strong>pr</strong></td><td>0.054</td></tr><tr><td><strong>tpr</strong></td><td>0.693</td></tr><tr><td><strong>tnr</strong></td><td>0.834</td></tr></table></div><div style=\"display: inline-block; float: left;\"><h3>minratio</h3><table><tr><td><strong>accuracy</strong></td><td>0.871</td></tr><tr><td><strong>pr</strong></td><td>0.212</td></tr><tr><td><strong>tpr</strong></td><td>0.941</td></tr><tr><td><strong>tnr</strong></td><td>0.900</td></tr></table></div><div style=\"display: inline-block; float: left;\"><h3>maxdiff</h3><table><tr><td><strong>accuracy</strong></td><td>0.118</td></tr><tr><td><strong>pr</strong></td><td>0.201</td></tr><tr><td><strong>tpr</strong></td><td>0.043</td></tr><tr><td><strong>tnr</strong></td><td>0.092</td></tr></table></div>"
      ],
      "text/plain": [
       "<fairbench.forks.fork.Fork object at 0x000001B2FA3F65C0>"
      ]
     },
     "execution_count": 13,
     "metadata": {},
     "output_type": "execute_result"
    }
   ],
   "source": [
    "report = fb.multireport(predictions=yhat, labels=y, sensitive=sensitive)\n",
    "report"
   ]
  },
  {
   "cell_type": "code",
   "execution_count": 10,
   "id": "9d72271e",
   "metadata": {},
   "outputs": [
    {
     "data": {
      "text/html": [
       "<style>\n",
       "        .bk-notebook-logo {\n",
       "            display: block;\n",
       "            width: 20px;\n",
       "            height: 20px;\n",
       "            background-image: url(data:image/png;base64,iVBORw0KGgoAAAANSUhEUgAAABQAAAAUCAYAAACNiR0NAAAABHNCSVQICAgIfAhkiAAAAAlwSFlzAAALEgAACxIB0t1+/AAAABx0RVh0U29mdHdhcmUAQWRvYmUgRmlyZXdvcmtzIENTNui8sowAAAOkSURBVDiNjZRtaJVlGMd/1/08zzln5zjP1LWcU9N0NkN8m2CYjpgQYQXqSs0I84OLIC0hkEKoPtiH3gmKoiJDU7QpLgoLjLIQCpEsNJ1vqUOdO7ppbuec5+V+rj4ctwzd8IIbbi6u+8f1539dt3A78eXC7QizUF7gyV1fD1Yqg4JWz84yffhm0qkFqBogB9rM8tZdtwVsPUhWhGcFJngGeWrPzHm5oaMmkfEg1usvLFyc8jLRqDOMru7AyC8saQr7GG7f5fvDeH7Ej8CM66nIF+8yngt6HWaKh7k49Soy9nXurCi1o3qUbS3zWfrYeQDTB/Qj6kX6Ybhw4B+bOYoLKCC9H3Nu/leUTZ1JdRWkkn2ldcCamzrcf47KKXdAJllSlxAOkRgyHsGC/zRday5Qld9DyoM4/q/rUoy/CXh3jzOu3bHUVZeU+DEn8FInkPBFlu3+nW3Nw0mk6vCDiWg8CeJaxEwuHS3+z5RgY+YBR6V1Z1nxSOfoaPa4LASWxxdNp+VWTk7+4vzaou8v8PN+xo+KY2xsw6une2frhw05CTYOmQvsEhjhWjn0bmXPjpE1+kplmmkP3suftwTubK9Vq22qKmrBhpY4jvd5afdRA3wGjFAgcnTK2s4hY0/GPNIb0nErGMCRxWOOX64Z8RAC4oCXdklmEvcL8o0BfkNK4lUg9HTl+oPlQxdNo3Mg4Nv175e/1LDGzZen30MEjRUtmXSfiTVu1kK8W4txyV6BMKlbgk3lMwYCiusNy9fVfvvwMxv8Ynl6vxoByANLTWplvuj/nF9m2+PDtt1eiHPBr1oIfhCChQMBw6Aw0UulqTKZdfVvfG7VcfIqLG9bcldL/+pdWTLxLUy8Qq38heUIjh4XlzZxzQm19lLFlr8vdQ97rjZVOLf8nclzckbcD4wxXMidpX30sFd37Fv/GtwwhzhxGVAprjbg0gCAEeIgwCZyTV2Z1REEW8O4py0wsjeloKoMr6iCY6dP92H6Vw/oTyICIthibxjm/DfN9lVz8IqtqKYLUXfoKVMVQVVJOElGjrnnUt9T9wbgp8AyYKaGlqingHZU/uG2NTZSVqwHQTWkx9hxjkpWDaCg6Ckj5qebgBVbT3V3NNXMSiWSDdGV3hrtzla7J+duwPOToIg42ChPQOQjspnSlp1V+Gjdged7+8UN5CRAV7a5EdFNwCjEaBR27b3W890TE7g24NAP/mMDXRWrGoFPQI9ls/MWO2dWFAar/xcOIImbbpA3zgAAAABJRU5ErkJggg==);\n",
       "        }\n",
       "    </style>\n",
       "    <div>\n",
       "        <a href=\"https://bokeh.org\" target=\"_blank\" class=\"bk-notebook-logo\"></a>\n",
       "        <span id=\"p1001\">Loading BokehJS ...</span>\n",
       "    </div>\n"
      ]
     },
     "metadata": {},
     "output_type": "display_data"
    },
    {
     "data": {
      "application/javascript": [
       "(function(root) {\n",
       "  function now() {\n",
       "    return new Date();\n",
       "  }\n",
       "\n",
       "  const force = true;\n",
       "\n",
       "  if (typeof root._bokeh_onload_callbacks === \"undefined\" || force === true) {\n",
       "    root._bokeh_onload_callbacks = [];\n",
       "    root._bokeh_is_loading = undefined;\n",
       "  }\n",
       "\n",
       "const JS_MIME_TYPE = 'application/javascript';\n",
       "  const HTML_MIME_TYPE = 'text/html';\n",
       "  const EXEC_MIME_TYPE = 'application/vnd.bokehjs_exec.v0+json';\n",
       "  const CLASS_NAME = 'output_bokeh rendered_html';\n",
       "\n",
       "  /**\n",
       "   * Render data to the DOM node\n",
       "   */\n",
       "  function render(props, node) {\n",
       "    const script = document.createElement(\"script\");\n",
       "    node.appendChild(script);\n",
       "  }\n",
       "\n",
       "  /**\n",
       "   * Handle when an output is cleared or removed\n",
       "   */\n",
       "  function handleClearOutput(event, handle) {\n",
       "    const cell = handle.cell;\n",
       "\n",
       "    const id = cell.output_area._bokeh_element_id;\n",
       "    const server_id = cell.output_area._bokeh_server_id;\n",
       "    // Clean up Bokeh references\n",
       "    if (id != null && id in Bokeh.index) {\n",
       "      Bokeh.index[id].model.document.clear();\n",
       "      delete Bokeh.index[id];\n",
       "    }\n",
       "\n",
       "    if (server_id !== undefined) {\n",
       "      // Clean up Bokeh references\n",
       "      const cmd_clean = \"from bokeh.io.state import curstate; print(curstate().uuid_to_server['\" + server_id + \"'].get_sessions()[0].document.roots[0]._id)\";\n",
       "      cell.notebook.kernel.execute(cmd_clean, {\n",
       "        iopub: {\n",
       "          output: function(msg) {\n",
       "            const id = msg.content.text.trim();\n",
       "            if (id in Bokeh.index) {\n",
       "              Bokeh.index[id].model.document.clear();\n",
       "              delete Bokeh.index[id];\n",
       "            }\n",
       "          }\n",
       "        }\n",
       "      });\n",
       "      // Destroy server and session\n",
       "      const cmd_destroy = \"import bokeh.io.notebook as ion; ion.destroy_server('\" + server_id + \"')\";\n",
       "      cell.notebook.kernel.execute(cmd_destroy);\n",
       "    }\n",
       "  }\n",
       "\n",
       "  /**\n",
       "   * Handle when a new output is added\n",
       "   */\n",
       "  function handleAddOutput(event, handle) {\n",
       "    const output_area = handle.output_area;\n",
       "    const output = handle.output;\n",
       "\n",
       "    // limit handleAddOutput to display_data with EXEC_MIME_TYPE content only\n",
       "    if ((output.output_type != \"display_data\") || (!Object.prototype.hasOwnProperty.call(output.data, EXEC_MIME_TYPE))) {\n",
       "      return\n",
       "    }\n",
       "\n",
       "    const toinsert = output_area.element.find(\".\" + CLASS_NAME.split(' ')[0]);\n",
       "\n",
       "    if (output.metadata[EXEC_MIME_TYPE][\"id\"] !== undefined) {\n",
       "      toinsert[toinsert.length - 1].firstChild.textContent = output.data[JS_MIME_TYPE];\n",
       "      // store reference to embed id on output_area\n",
       "      output_area._bokeh_element_id = output.metadata[EXEC_MIME_TYPE][\"id\"];\n",
       "    }\n",
       "    if (output.metadata[EXEC_MIME_TYPE][\"server_id\"] !== undefined) {\n",
       "      const bk_div = document.createElement(\"div\");\n",
       "      bk_div.innerHTML = output.data[HTML_MIME_TYPE];\n",
       "      const script_attrs = bk_div.children[0].attributes;\n",
       "      for (let i = 0; i < script_attrs.length; i++) {\n",
       "        toinsert[toinsert.length - 1].firstChild.setAttribute(script_attrs[i].name, script_attrs[i].value);\n",
       "        toinsert[toinsert.length - 1].firstChild.textContent = bk_div.children[0].textContent\n",
       "      }\n",
       "      // store reference to server id on output_area\n",
       "      output_area._bokeh_server_id = output.metadata[EXEC_MIME_TYPE][\"server_id\"];\n",
       "    }\n",
       "  }\n",
       "\n",
       "  function register_renderer(events, OutputArea) {\n",
       "\n",
       "    function append_mime(data, metadata, element) {\n",
       "      // create a DOM node to render to\n",
       "      const toinsert = this.create_output_subarea(\n",
       "        metadata,\n",
       "        CLASS_NAME,\n",
       "        EXEC_MIME_TYPE\n",
       "      );\n",
       "      this.keyboard_manager.register_events(toinsert);\n",
       "      // Render to node\n",
       "      const props = {data: data, metadata: metadata[EXEC_MIME_TYPE]};\n",
       "      render(props, toinsert[toinsert.length - 1]);\n",
       "      element.append(toinsert);\n",
       "      return toinsert\n",
       "    }\n",
       "\n",
       "    /* Handle when an output is cleared or removed */\n",
       "    events.on('clear_output.CodeCell', handleClearOutput);\n",
       "    events.on('delete.Cell', handleClearOutput);\n",
       "\n",
       "    /* Handle when a new output is added */\n",
       "    events.on('output_added.OutputArea', handleAddOutput);\n",
       "\n",
       "    /**\n",
       "     * Register the mime type and append_mime function with output_area\n",
       "     */\n",
       "    OutputArea.prototype.register_mime_type(EXEC_MIME_TYPE, append_mime, {\n",
       "      /* Is output safe? */\n",
       "      safe: true,\n",
       "      /* Index of renderer in `output_area.display_order` */\n",
       "      index: 0\n",
       "    });\n",
       "  }\n",
       "\n",
       "  // register the mime type if in Jupyter Notebook environment and previously unregistered\n",
       "  if (root.Jupyter !== undefined) {\n",
       "    const events = require('base/js/events');\n",
       "    const OutputArea = require('notebook/js/outputarea').OutputArea;\n",
       "\n",
       "    if (OutputArea.prototype.mime_types().indexOf(EXEC_MIME_TYPE) == -1) {\n",
       "      register_renderer(events, OutputArea);\n",
       "    }\n",
       "  }\n",
       "  if (typeof (root._bokeh_timeout) === \"undefined\" || force === true) {\n",
       "    root._bokeh_timeout = Date.now() + 5000;\n",
       "    root._bokeh_failed_load = false;\n",
       "  }\n",
       "\n",
       "  const NB_LOAD_WARNING = {'data': {'text/html':\n",
       "     \"<div style='background-color: #fdd'>\\n\"+\n",
       "     \"<p>\\n\"+\n",
       "     \"BokehJS does not appear to have successfully loaded. If loading BokehJS from CDN, this \\n\"+\n",
       "     \"may be due to a slow or bad network connection. Possible fixes:\\n\"+\n",
       "     \"</p>\\n\"+\n",
       "     \"<ul>\\n\"+\n",
       "     \"<li>re-rerun `output_notebook()` to attempt to load from CDN again, or</li>\\n\"+\n",
       "     \"<li>use INLINE resources instead, as so:</li>\\n\"+\n",
       "     \"</ul>\\n\"+\n",
       "     \"<code>\\n\"+\n",
       "     \"from bokeh.resources import INLINE\\n\"+\n",
       "     \"output_notebook(resources=INLINE)\\n\"+\n",
       "     \"</code>\\n\"+\n",
       "     \"</div>\"}};\n",
       "\n",
       "  function display_loaded() {\n",
       "    const el = document.getElementById(\"p1001\");\n",
       "    if (el != null) {\n",
       "      el.textContent = \"BokehJS is loading...\";\n",
       "    }\n",
       "    if (root.Bokeh !== undefined) {\n",
       "      if (el != null) {\n",
       "        el.textContent = \"BokehJS \" + root.Bokeh.version + \" successfully loaded.\";\n",
       "      }\n",
       "    } else if (Date.now() < root._bokeh_timeout) {\n",
       "      setTimeout(display_loaded, 100)\n",
       "    }\n",
       "  }\n",
       "\n",
       "  function run_callbacks() {\n",
       "    try {\n",
       "      root._bokeh_onload_callbacks.forEach(function(callback) {\n",
       "        if (callback != null)\n",
       "          callback();\n",
       "      });\n",
       "    } finally {\n",
       "      delete root._bokeh_onload_callbacks\n",
       "    }\n",
       "    console.debug(\"Bokeh: all callbacks have finished\");\n",
       "  }\n",
       "\n",
       "  function load_libs(css_urls, js_urls, callback) {\n",
       "    if (css_urls == null) css_urls = [];\n",
       "    if (js_urls == null) js_urls = [];\n",
       "\n",
       "    root._bokeh_onload_callbacks.push(callback);\n",
       "    if (root._bokeh_is_loading > 0) {\n",
       "      console.debug(\"Bokeh: BokehJS is being loaded, scheduling callback at\", now());\n",
       "      return null;\n",
       "    }\n",
       "    if (js_urls == null || js_urls.length === 0) {\n",
       "      run_callbacks();\n",
       "      return null;\n",
       "    }\n",
       "    console.debug(\"Bokeh: BokehJS not loaded, scheduling load and callback at\", now());\n",
       "    root._bokeh_is_loading = css_urls.length + js_urls.length;\n",
       "\n",
       "    function on_load() {\n",
       "      root._bokeh_is_loading--;\n",
       "      if (root._bokeh_is_loading === 0) {\n",
       "        console.debug(\"Bokeh: all BokehJS libraries/stylesheets loaded\");\n",
       "        run_callbacks()\n",
       "      }\n",
       "    }\n",
       "\n",
       "    function on_error(url) {\n",
       "      console.error(\"failed to load \" + url);\n",
       "    }\n",
       "\n",
       "    for (let i = 0; i < css_urls.length; i++) {\n",
       "      const url = css_urls[i];\n",
       "      const element = document.createElement(\"link\");\n",
       "      element.onload = on_load;\n",
       "      element.onerror = on_error.bind(null, url);\n",
       "      element.rel = \"stylesheet\";\n",
       "      element.type = \"text/css\";\n",
       "      element.href = url;\n",
       "      console.debug(\"Bokeh: injecting link tag for BokehJS stylesheet: \", url);\n",
       "      document.body.appendChild(element);\n",
       "    }\n",
       "\n",
       "    for (let i = 0; i < js_urls.length; i++) {\n",
       "      const url = js_urls[i];\n",
       "      const element = document.createElement('script');\n",
       "      element.onload = on_load;\n",
       "      element.onerror = on_error.bind(null, url);\n",
       "      element.async = false;\n",
       "      element.src = url;\n",
       "      console.debug(\"Bokeh: injecting script tag for BokehJS library: \", url);\n",
       "      document.head.appendChild(element);\n",
       "    }\n",
       "  };\n",
       "\n",
       "  function inject_raw_css(css) {\n",
       "    const element = document.createElement(\"style\");\n",
       "    element.appendChild(document.createTextNode(css));\n",
       "    document.body.appendChild(element);\n",
       "  }\n",
       "\n",
       "  const js_urls = [\"https://cdn.bokeh.org/bokeh/release/bokeh-3.0.3.min.js\", \"https://cdn.bokeh.org/bokeh/release/bokeh-gl-3.0.3.min.js\", \"https://cdn.bokeh.org/bokeh/release/bokeh-widgets-3.0.3.min.js\", \"https://cdn.bokeh.org/bokeh/release/bokeh-tables-3.0.3.min.js\", \"https://cdn.bokeh.org/bokeh/release/bokeh-mathjax-3.0.3.min.js\"];\n",
       "  const css_urls = [];\n",
       "\n",
       "  const inline_js = [    function(Bokeh) {\n",
       "      Bokeh.set_log_level(\"info\");\n",
       "    },\n",
       "function(Bokeh) {\n",
       "    }\n",
       "  ];\n",
       "\n",
       "  function run_inline_js() {\n",
       "    if (root.Bokeh !== undefined || force === true) {\n",
       "          for (let i = 0; i < inline_js.length; i++) {\n",
       "      inline_js[i].call(root, root.Bokeh);\n",
       "    }\n",
       "if (force === true) {\n",
       "        display_loaded();\n",
       "      }} else if (Date.now() < root._bokeh_timeout) {\n",
       "      setTimeout(run_inline_js, 100);\n",
       "    } else if (!root._bokeh_failed_load) {\n",
       "      console.log(\"Bokeh: BokehJS failed to load within specified timeout.\");\n",
       "      root._bokeh_failed_load = true;\n",
       "    } else if (force !== true) {\n",
       "      const cell = $(document.getElementById(\"p1001\")).parents('.cell').data().cell;\n",
       "      cell.output_area.append_execute_result(NB_LOAD_WARNING)\n",
       "    }\n",
       "  }\n",
       "\n",
       "  if (root._bokeh_is_loading === 0) {\n",
       "    console.debug(\"Bokeh: BokehJS loaded, going straight to plotting\");\n",
       "    run_inline_js();\n",
       "  } else {\n",
       "    load_libs(css_urls, js_urls, function() {\n",
       "      console.debug(\"Bokeh: BokehJS plotting callback run at\", now());\n",
       "      run_inline_js();\n",
       "    });\n",
       "  }\n",
       "}(window));"
      ],
      "application/vnd.bokehjs_load.v0+json": "(function(root) {\n  function now() {\n    return new Date();\n  }\n\n  const force = true;\n\n  if (typeof root._bokeh_onload_callbacks === \"undefined\" || force === true) {\n    root._bokeh_onload_callbacks = [];\n    root._bokeh_is_loading = undefined;\n  }\n\n\n  if (typeof (root._bokeh_timeout) === \"undefined\" || force === true) {\n    root._bokeh_timeout = Date.now() + 5000;\n    root._bokeh_failed_load = false;\n  }\n\n  const NB_LOAD_WARNING = {'data': {'text/html':\n     \"<div style='background-color: #fdd'>\\n\"+\n     \"<p>\\n\"+\n     \"BokehJS does not appear to have successfully loaded. If loading BokehJS from CDN, this \\n\"+\n     \"may be due to a slow or bad network connection. Possible fixes:\\n\"+\n     \"</p>\\n\"+\n     \"<ul>\\n\"+\n     \"<li>re-rerun `output_notebook()` to attempt to load from CDN again, or</li>\\n\"+\n     \"<li>use INLINE resources instead, as so:</li>\\n\"+\n     \"</ul>\\n\"+\n     \"<code>\\n\"+\n     \"from bokeh.resources import INLINE\\n\"+\n     \"output_notebook(resources=INLINE)\\n\"+\n     \"</code>\\n\"+\n     \"</div>\"}};\n\n  function display_loaded() {\n    const el = document.getElementById(\"p1001\");\n    if (el != null) {\n      el.textContent = \"BokehJS is loading...\";\n    }\n    if (root.Bokeh !== undefined) {\n      if (el != null) {\n        el.textContent = \"BokehJS \" + root.Bokeh.version + \" successfully loaded.\";\n      }\n    } else if (Date.now() < root._bokeh_timeout) {\n      setTimeout(display_loaded, 100)\n    }\n  }\n\n  function run_callbacks() {\n    try {\n      root._bokeh_onload_callbacks.forEach(function(callback) {\n        if (callback != null)\n          callback();\n      });\n    } finally {\n      delete root._bokeh_onload_callbacks\n    }\n    console.debug(\"Bokeh: all callbacks have finished\");\n  }\n\n  function load_libs(css_urls, js_urls, callback) {\n    if (css_urls == null) css_urls = [];\n    if (js_urls == null) js_urls = [];\n\n    root._bokeh_onload_callbacks.push(callback);\n    if (root._bokeh_is_loading > 0) {\n      console.debug(\"Bokeh: BokehJS is being loaded, scheduling callback at\", now());\n      return null;\n    }\n    if (js_urls == null || js_urls.length === 0) {\n      run_callbacks();\n      return null;\n    }\n    console.debug(\"Bokeh: BokehJS not loaded, scheduling load and callback at\", now());\n    root._bokeh_is_loading = css_urls.length + js_urls.length;\n\n    function on_load() {\n      root._bokeh_is_loading--;\n      if (root._bokeh_is_loading === 0) {\n        console.debug(\"Bokeh: all BokehJS libraries/stylesheets loaded\");\n        run_callbacks()\n      }\n    }\n\n    function on_error(url) {\n      console.error(\"failed to load \" + url);\n    }\n\n    for (let i = 0; i < css_urls.length; i++) {\n      const url = css_urls[i];\n      const element = document.createElement(\"link\");\n      element.onload = on_load;\n      element.onerror = on_error.bind(null, url);\n      element.rel = \"stylesheet\";\n      element.type = \"text/css\";\n      element.href = url;\n      console.debug(\"Bokeh: injecting link tag for BokehJS stylesheet: \", url);\n      document.body.appendChild(element);\n    }\n\n    for (let i = 0; i < js_urls.length; i++) {\n      const url = js_urls[i];\n      const element = document.createElement('script');\n      element.onload = on_load;\n      element.onerror = on_error.bind(null, url);\n      element.async = false;\n      element.src = url;\n      console.debug(\"Bokeh: injecting script tag for BokehJS library: \", url);\n      document.head.appendChild(element);\n    }\n  };\n\n  function inject_raw_css(css) {\n    const element = document.createElement(\"style\");\n    element.appendChild(document.createTextNode(css));\n    document.body.appendChild(element);\n  }\n\n  const js_urls = [\"https://cdn.bokeh.org/bokeh/release/bokeh-3.0.3.min.js\", \"https://cdn.bokeh.org/bokeh/release/bokeh-gl-3.0.3.min.js\", \"https://cdn.bokeh.org/bokeh/release/bokeh-widgets-3.0.3.min.js\", \"https://cdn.bokeh.org/bokeh/release/bokeh-tables-3.0.3.min.js\", \"https://cdn.bokeh.org/bokeh/release/bokeh-mathjax-3.0.3.min.js\"];\n  const css_urls = [];\n\n  const inline_js = [    function(Bokeh) {\n      Bokeh.set_log_level(\"info\");\n    },\nfunction(Bokeh) {\n    }\n  ];\n\n  function run_inline_js() {\n    if (root.Bokeh !== undefined || force === true) {\n          for (let i = 0; i < inline_js.length; i++) {\n      inline_js[i].call(root, root.Bokeh);\n    }\nif (force === true) {\n        display_loaded();\n      }} else if (Date.now() < root._bokeh_timeout) {\n      setTimeout(run_inline_js, 100);\n    } else if (!root._bokeh_failed_load) {\n      console.log(\"Bokeh: BokehJS failed to load within specified timeout.\");\n      root._bokeh_failed_load = true;\n    } else if (force !== true) {\n      const cell = $(document.getElementById(\"p1001\")).parents('.cell').data().cell;\n      cell.output_area.append_execute_result(NB_LOAD_WARNING)\n    }\n  }\n\n  if (root._bokeh_is_loading === 0) {\n    console.debug(\"Bokeh: BokehJS loaded, going straight to plotting\");\n    run_inline_js();\n  } else {\n    load_libs(css_urls, js_urls, function() {\n      console.debug(\"Bokeh: BokehJS plotting callback run at\", now());\n      run_inline_js();\n    });\n  }\n}(window));"
     },
     "metadata": {},
     "output_type": "display_data"
    },
    {
     "data": {
      "application/vnd.bokehjs_exec.v0+json": "",
      "text/html": [
       "<script id=\"p1002\">\n",
       "  (function() {\n",
       "    const xhr = new XMLHttpRequest()\n",
       "    xhr.responseType = 'blob';\n",
       "    xhr.open('GET', \"http://localhost:64581/autoload.js?bokeh-autoload-element=p1002&bokeh-absolute-url=http://localhost:64581&resources=none\", true);\n",
       "    xhr.onload = function (event) {\n",
       "      const script = document.createElement('script');\n",
       "      const src = URL.createObjectURL(event.target.response);\n",
       "      script.src = src;\n",
       "      document.body.appendChild(script);\n",
       "    };\n",
       "    xhr.send();\n",
       "  })();\n",
       "</script>"
      ]
     },
     "metadata": {
      "application/vnd.bokehjs_exec.v0+json": {
       "server_id": "5007c613658c43688a9c758ea942f2c6"
      }
     },
     "output_type": "display_data"
    }
   ],
   "source": [
    "fb.interactive(report)"
   ]
  },
  {
   "cell_type": "markdown",
   "id": "19ce5183",
   "metadata": {},
   "source": [
    "All reports can be computed on specific measures."
   ]
  },
  {
   "cell_type": "code",
   "execution_count": 14,
   "id": "afebe8a5",
   "metadata": {},
   "outputs": [
    {
     "data": {
      "text/html": [
       "<div style=\"display: inline-block; float: left;\"><h3>min</h3><table><tr><td><strong>accuracy</strong></td><td>0.799</td></tr><tr><td><strong>pr</strong></td><td>0.054</td></tr><tr><td><strong>tpr</strong></td><td>0.693</td></tr></table></div><div style=\"display: inline-block; float: left;\"><h3>minratio</h3><table><tr><td><strong>accuracy</strong></td><td>0.871</td></tr><tr><td><strong>pr</strong></td><td>0.212</td></tr><tr><td><strong>tpr</strong></td><td>0.941</td></tr></table></div><div style=\"display: inline-block; float: left;\"><h3>maxdiff</h3><table><tr><td><strong>accuracy</strong></td><td>0.118</td></tr><tr><td><strong>pr</strong></td><td>0.201</td></tr><tr><td><strong>tpr</strong></td><td>0.043</td></tr></table></div>"
      ],
      "text/plain": [
       "<fairbench.forks.fork.Fork object at 0x000001B2FA478C10>"
      ]
     },
     "execution_count": 14,
     "metadata": {},
     "output_type": "execute_result"
    }
   ],
   "source": [
    "report = fb.multireport(predictions=yhat, labels=y, sensitive=sensitive, metrics=[fb.accuracy, fb.pr, fb.tpr])\n",
    "report"
   ]
  },
  {
   "cell_type": "markdown",
   "id": "ea7121cb",
   "metadata": {},
   "source": [
    "Can unpack reports by accessing rows or columns as members."
   ]
  },
  {
   "cell_type": "code",
   "execution_count": 15,
   "id": "96920e8a",
   "metadata": {},
   "outputs": [
    {
     "data": {
      "text/html": [
       "<table><tr><td><strong>min</strong></td><td>0.799</td></tr><tr><td><strong>minratio</strong></td><td>0.871</td></tr><tr><td><strong>maxdiff</strong></td><td>0.118</td></tr></table>"
      ],
      "text/plain": [
       "<fairbench.forks.fork.Fork object at 0x000001B2FA479420>"
      ]
     },
     "execution_count": 15,
     "metadata": {},
     "output_type": "execute_result"
    }
   ],
   "source": [
    "report.accuracy # this is also a Fork, since it would obtain a unique value for each branch"
   ]
  },
  {
   "cell_type": "code",
   "execution_count": 16,
   "id": "ac376cbe",
   "metadata": {},
   "outputs": [
    {
     "data": {
      "text/plain": [
       "{'accuracy': 0.7985267034990792,\n",
       " 'pr': 0.053864600627190555,\n",
       " 'tpr': 0.6931982633863966}"
      ]
     },
     "execution_count": 16,
     "metadata": {},
     "output_type": "execute_result"
    }
   ],
   "source": [
    "report.min  # this is a dictionary of assessments"
   ]
  },
  {
   "cell_type": "markdown",
   "id": "8ed1d632",
   "metadata": {},
   "source": [
    "You can also erase entries from each branch thank to transparent wrapping of of branch data objects, i.e., the same mechanism that let us compute sensitive.sum() for each branch."
   ]
  },
  {
   "cell_type": "code",
   "execution_count": 17,
   "id": "22921add",
   "metadata": {},
   "outputs": [
    {
     "data": {
      "text/html": [
       "<div style=\"display: inline-block; float: left;\"><h3>min</h3><table><tr><td><strong>pr</strong></td><td>0.054</td></tr><tr><td><strong>tpr</strong></td><td>0.693</td></tr></table></div><div style=\"display: inline-block; float: left;\"><h3>minratio</h3><table><tr><td><strong>pr</strong></td><td>0.212</td></tr><tr><td><strong>tpr</strong></td><td>0.941</td></tr></table></div><div style=\"display: inline-block; float: left;\"><h3>maxdiff</h3><table><tr><td><strong>pr</strong></td><td>0.201</td></tr><tr><td><strong>tpr</strong></td><td>0.043</td></tr></table></div>"
      ],
      "text/plain": [
       "<fairbench.forks.fork.Fork object at 0x000001B2FA478C10>"
      ]
     },
     "execution_count": 17,
     "metadata": {},
     "output_type": "execute_result"
    }
   ],
   "source": [
    "del report[\"accuracy\"]\n",
    "report"
   ]
  },
  {
   "cell_type": "markdown",
   "id": "b7df24d8",
   "metadata": {},
   "source": [
    "Custom reductions can be created with the corresponding interface. These will be reports."
   ]
  },
  {
   "cell_type": "code",
   "execution_count": 18,
   "id": "9a8191db",
   "metadata": {},
   "outputs": [
    {
     "data": {
      "text/html": [
       "<table><tr><td><strong>minratio</strong></td><td>0.860</td></tr></table>"
      ],
      "text/plain": [
       "<fairbench.forks.fork.Fork object at 0x000001B2FA45BB20>"
      ]
     },
     "execution_count": 18,
     "metadata": {},
     "output_type": "execute_result"
    }
   ],
   "source": [
    "fpr = fb.fpr(predictions=yhat, labels=y, sensitive=sensitive)\n",
    "fb.reduce(fpr, fb.min, fb.ratio)"
   ]
  },
  {
   "cell_type": "markdown",
   "id": "7b0d4d89",
   "metadata": {},
   "source": [
    "A Fork combining the branches of several Forks can be created."
   ]
  },
  {
   "cell_type": "code",
   "execution_count": 19,
   "id": "c93f3335",
   "metadata": {},
   "outputs": [
    {
     "data": {
      "text/html": [
       "<table><tr><td><strong>min</strong></td><td>0.264</td></tr><tr><td><strong>minratio</strong></td><td>0.860</td></tr><tr><td><strong>maxdiff</strong></td><td>0.043</td></tr></table>"
      ],
      "text/plain": [
       "<fairbench.forks.fork.Fork object at 0x000001B2FA45B7C0>"
      ]
     },
     "execution_count": 19,
     "metadata": {},
     "output_type": "execute_result"
    }
   ],
   "source": [
    "fpr_reduced = fb.combine(fb.reduce(fpr, fb.min), fb.reduce(fpr, fb.min, fb.ratio), fb.reduce(fpr, fb.max, fb.diff))\n",
    "fpr_reduced"
   ]
  },
  {
   "cell_type": "markdown",
   "id": "0d8688b0",
   "metadata": {},
   "source": [
    "Seveal Forks with the same branches can be converted to reports via a todict method, which takes any number of keyword arguments to create corresponding dictionary entries on each branch."
   ]
  },
  {
   "cell_type": "code",
   "execution_count": 20,
   "id": "7c430c09",
   "metadata": {},
   "outputs": [
    {
     "data": {
      "text/html": [
       "<div style=\"display: inline-block; float: left;\"><h3>maxdiff</h3><table><tr><td><strong>fpr</strong></td><td>0.043</td></tr></table></div><div style=\"display: inline-block; float: left;\"><h3>min</h3><table><tr><td><strong>fpr</strong></td><td>0.264</td></tr></table></div><div style=\"display: inline-block; float: left;\"><h3>minratio</h3><table><tr><td><strong>fpr</strong></td><td>0.860</td></tr></table></div>"
      ],
      "text/plain": [
       "<fairbench.forks.fork.Fork object at 0x000001B2FA45BB50>"
      ]
     },
     "execution_count": 20,
     "metadata": {},
     "output_type": "execute_result"
    }
   ],
   "source": [
    "fpr_report = fb.todict(fpr=fpr_reduced)\n",
    "fpr_report"
   ]
  },
  {
   "cell_type": "markdown",
   "id": "b085b84d",
   "metadata": {},
   "source": [
    "For multiple reports with the same branch names, dictionaries of measure values on each branch can be combined with the | operator (in Python 3.9 or later)."
   ]
  },
  {
   "cell_type": "code",
   "execution_count": 21,
   "id": "bc41dd50",
   "metadata": {},
   "outputs": [
    {
     "data": {
      "text/html": [
       "<div style=\"display: inline-block; float: left;\"><h3>maxdiff</h3><table><tr><td><strong>pr</strong></td><td>0.201</td></tr><tr><td><strong>tpr</strong></td><td>0.043</td></tr><tr><td><strong>fpr</strong></td><td>0.043</td></tr></table></div><div style=\"display: inline-block; float: left;\"><h3>min</h3><table><tr><td><strong>pr</strong></td><td>0.054</td></tr><tr><td><strong>tpr</strong></td><td>0.693</td></tr><tr><td><strong>fpr</strong></td><td>0.264</td></tr></table></div><div style=\"display: inline-block; float: left;\"><h3>minratio</h3><table><tr><td><strong>pr</strong></td><td>0.212</td></tr><tr><td><strong>tpr</strong></td><td>0.941</td></tr><tr><td><strong>fpr</strong></td><td>0.860</td></tr></table></div>"
      ],
      "text/plain": [
       "<fairbench.forks.fork.Fork object at 0x000001B2FA459D20>"
      ]
     },
     "execution_count": 21,
     "metadata": {},
     "output_type": "execute_result"
    }
   ],
   "source": [
    "report | fpr_report"
   ]
  },
  {
   "cell_type": "markdown",
   "id": "f346cc1f",
   "metadata": {},
   "source": [
    "# Explain report values\n",
    "Report values are of type Explainable. This has a value and an explain field. "
   ]
  },
  {
   "cell_type": "code",
   "execution_count": 22,
   "id": "b51eac73",
   "metadata": {},
   "outputs": [
    {
     "name": "stdout",
     "output_type": "stream",
     "text": [
      "0.212\n"
     ]
    },
    {
     "data": {
      "text/plain": [
       "fairbench.forks.explanation.Explainable"
      ]
     },
     "execution_count": 22,
     "metadata": {},
     "output_type": "execute_result"
    }
   ],
   "source": [
    "print(report.minratio.pr)\n",
    "type(report.minratio.pr)"
   ]
  },
  {
   "cell_type": "code",
   "execution_count": 23,
   "id": "68f6b605",
   "metadata": {},
   "outputs": [
    {
     "name": "stdout",
     "output_type": "stream",
     "text": [
      "0.2116387709158066\n",
      "Male: 0.255\n",
      "Female: 0.054\n"
     ]
    }
   ],
   "source": [
    "print(report.minratio.pr.value)\n",
    "print(report.minratio.pr.explain)"
   ]
  },
  {
   "cell_type": "markdown",
   "id": "d7ca7e87",
   "metadata": {},
   "source": [
    "The explain field is a Fork that keeps track of individual evaluations that have contributed to the result. This way, we can backtrack explanations and find which groups are more disadvantaged after finding measures on which imbalances exist."
   ]
  },
  {
   "cell_type": "code",
   "execution_count": 24,
   "id": "b3e5e57e",
   "metadata": {},
   "outputs": [
    {
     "data": {
      "image/png": "[encoded data removed]",
      "text/plain": [
       "<Figure size 640x480 with 1 Axes>"
      ]
     },
     "metadata": {},
     "output_type": "display_data"
    }
   ],
   "source": [
    "fb.visualize(report.minratio.pr.explain)"
   ]
  },
  {
   "cell_type": "markdown",
   "id": "8aa73839",
   "metadata": {},
   "source": [
    "# Intersectional fainress\n",
    "More than one unpacked sensitive attributes or multiple columns from several attributes can be provided to Fork consutructors."
   ]
  },
  {
   "cell_type": "code",
   "execution_count": 25,
   "id": "c45e9430",
   "metadata": {},
   "outputs": [
    {
     "data": {
      "text/html": [
       "<table><tr><td><strong>Male</strong></td><td>10860</td></tr><tr><td><strong>Female</strong></td><td>5421</td></tr><tr><td><strong>Amer-Indian-Eskimo</strong></td><td>159</td></tr><tr><td><strong>White</strong></td><td>13946</td></tr><tr><td><strong>Black</strong></td><td>1561</td></tr><tr><td><strong>Asian-Pac-Islander</strong></td><td>480</td></tr><tr><td><strong>Other</strong></td><td>135</td></tr></table>"
      ],
      "text/plain": [
       "<fairbench.forks.fork.Fork object at 0x000001B2FA4CB340>"
      ]
     },
     "execution_count": 25,
     "metadata": {},
     "output_type": "execute_result"
    }
   ],
   "source": [
    "sensitive = fb.Fork(fb.categories@test[9], fb.categories@test[8])\n",
    "sensitive.sum()"
   ]
  },
  {
   "cell_type": "markdown",
   "id": "b196ff36",
   "metadata": {},
   "source": [
    "Appending all non-empty intersections of pairs of columns to the sensitive attribute to perform intersectional analyasis."
   ]
  },
  {
   "cell_type": "code",
   "execution_count": 26,
   "id": "458bd6f3",
   "metadata": {},
   "outputs": [
    {
     "data": {
      "text/html": [
       "<table><tr><td><strong>Other</strong></td><td>135</td></tr><tr><td><strong>Asian-Pac-Islander</strong></td><td>480</td></tr><tr><td><strong>Black</strong></td><td>1561</td></tr><tr><td><strong>White</strong></td><td>13946</td></tr><tr><td><strong>Amer-Indian-Eskimo</strong></td><td>159</td></tr><tr><td><strong>Female</strong></td><td>5421</td></tr><tr><td><strong>Female&Other</strong></td><td>46</td></tr><tr><td><strong>Female&Asian-Pac-Islander</strong></td><td>171</td></tr><tr><td><strong>Female&Black</strong></td><td>753</td></tr><tr><td><strong>Female&White</strong></td><td>4385</td></tr><tr><td><strong>Female&Amer-Indian-Eskimo</strong></td><td>66</td></tr><tr><td><strong>Male</strong></td><td>10860</td></tr><tr><td><strong>Male&Other</strong></td><td>89</td></tr><tr><td><strong>Male&Asian-Pac-Islander</strong></td><td>309</td></tr><tr><td><strong>Male&Black</strong></td><td>808</td></tr><tr><td><strong>Male&White</strong></td><td>9561</td></tr><tr><td><strong>Male&Amer-Indian-Eskimo</strong></td><td>93</td></tr></table>"
      ],
      "text/plain": [
       "<fairbench.forks.fork.Fork object at 0x000001B2FA4CBC40>"
      ]
     },
     "execution_count": 26,
     "metadata": {},
     "output_type": "execute_result"
    }
   ],
   "source": [
    "sensitive_intersections = sensitive.intersectional()\n",
    "sensitive_intersections.sum()"
   ]
  },
  {
   "cell_type": "markdown",
   "id": "b45ee1bb",
   "metadata": {},
   "source": [
    "Can create a normal report for intersectional fairness."
   ]
  },
  {
   "cell_type": "code",
   "execution_count": 27,
   "id": "f8097db8",
   "metadata": {},
   "outputs": [
    {
     "data": {
      "text/html": [
       "<div style=\"display: inline-block; float: left;\"><h3>min</h3><table><tr><td><strong>accuracy</strong></td><td>0.783</td></tr><tr><td><strong>pr</strong></td><td>0.015</td></tr><tr><td><strong>tpr</strong></td><td>0.000</td></tr><tr><td><strong>tnr</strong></td><td>0.827</td></tr></table></div><div style=\"display: inline-block; float: left;\"><h3>minratio</h3><table><tr><td><strong>accuracy</strong></td><td>0.822</td></tr><tr><td><strong>pr</strong></td><td>0.043</td></tr><tr><td><strong>tpr</strong></td><td>0.000</td></tr><tr><td><strong>tnr</strong></td><td>0.858</td></tr></table></div><div style=\"display: inline-block; float: left;\"><h3>maxdiff</h3><table><tr><td><strong>accuracy</strong></td><td>0.169</td></tr><tr><td><strong>pr</strong></td><td>0.334</td></tr><tr><td><strong>tpr</strong></td><td>0.900</td></tr><tr><td><strong>tnr</strong></td><td>0.137</td></tr></table></div>"
      ],
      "text/plain": [
       "<fairbench.forks.fork.Fork object at 0x000001B2FA496F20>"
      ]
     },
     "execution_count": 27,
     "metadata": {},
     "output_type": "execute_result"
    }
   ],
   "source": [
    "report = fb.multireport(predictions=yhat, labels=y, sensitive=sensitive_intersections)\n",
    "report"
   ]
  },
  {
   "cell_type": "code",
   "execution_count": 28,
   "id": "489d7ee0",
   "metadata": {},
   "outputs": [
    {
     "data": {
      "text/html": [
       "<table><tr><td><strong>Female&Black</strong></td><td>0.952191235059761</td></tr><tr><td><strong>Male</strong></td><td>0.7985267034990792</td></tr><tr><td><strong>White</strong></td><td>0.8299870930732827</td></tr><tr><td><strong>Amer-Indian-Eskimo</strong></td><td>0.89937106918239</td></tr><tr><td><strong>Male&White</strong></td><td>0.792594916849702</td></tr><tr><td><strong>Female&Amer-Indian-Eskimo</strong></td><td>0.9393939393939394</td></tr><tr><td><strong>Female&Asian-Pac-Islander</strong></td><td>0.8830409356725146</td></tr><tr><td><strong>Male&Other</strong></td><td>0.8651685393258427</td></tr><tr><td><strong>Black</strong></td><td>0.9039077514413837</td></tr><tr><td><strong>Female&White</strong></td><td>0.9115165336374003</td></tr><tr><td><strong>Female</strong></td><td>0.9166205497140749</td></tr><tr><td><strong>Asian-Pac-Islander</strong></td><td>0.81875</td></tr><tr><td><strong>Male&Amer-Indian-Eskimo</strong></td><td>0.8709677419354839</td></tr><tr><td><strong>Male&Black</strong></td><td>0.8589108910891089</td></tr><tr><td><strong>Female&Other</strong></td><td>0.9130434782608696</td></tr><tr><td><strong>Male&Asian-Pac-Islander</strong></td><td>0.7831715210355987</td></tr><tr><td><strong>Other</strong></td><td>0.8814814814814815</td></tr></table>"
      ],
      "text/plain": [
       "<fairbench.forks.fork.Fork object at 0x000001B2FA4796C0>"
      ]
     },
     "execution_count": 28,
     "metadata": {},
     "output_type": "execute_result"
    }
   ],
   "source": [
    "report.min.accuracy.explain"
   ]
  },
  {
   "cell_type": "markdown",
   "id": "7ac05730",
   "metadata": {},
   "source": [
    "The worst accuracy is for Male&Asian-Pac-Islander, which means that any bias mitigation should start from exploring issues that arise for this subgroup."
   ]
  },
  {
   "cell_type": "code",
   "execution_count": null,
   "id": "6fe57e0f",
   "metadata": {},
   "outputs": [],
   "source": []
  }
 ],
 "metadata": {
  "kernelspec": {
   "display_name": "Python 3 (ipykernel)",
   "language": "python",
   "name": "python3"
  },
  "language_info": {
   "codemirror_mode": {
    "name": "ipython",
    "version": 3
   },
   "file_extension": ".py",
   "mimetype": "text/x-python",
   "name": "python",
   "nbconvert_exporter": "python",
   "pygments_lexer": "ipython3",
   "version": "3.10.4"
  }
 },
 "nbformat": 4,
 "nbformat_minor": 5
}
