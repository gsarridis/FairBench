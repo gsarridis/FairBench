{
 "cells": [
  {
   "cell_type": "code",
   "execution_count": 1,
   "id": "48f217db",
   "metadata": {},
   "outputs": [],
   "source": [
    "import fairbench as fb\n",
    "import numpy as np"
   ]
  },
  {
   "cell_type": "markdown",
   "id": "a5223331",
   "metadata": {},
   "source": [
    "### Load data"
   ]
  },
  {
   "cell_type": "code",
   "execution_count": 2,
   "id": "6a0d94d6",
   "metadata": {
    "scrolled": true
   },
   "outputs": [
    {
     "data": {
      "text/html": [
       "<div>\n",
       "<style scoped>\n",
       "    .dataframe tbody tr th:only-of-type {\n",
       "        vertical-align: middle;\n",
       "    }\n",
       "\n",
       "    .dataframe tbody tr th {\n",
       "        vertical-align: top;\n",
       "    }\n",
       "\n",
       "    .dataframe thead th {\n",
       "        text-align: right;\n",
       "    }\n",
       "</style>\n",
       "<table border=\"1\" class=\"dataframe\">\n",
       "  <thead>\n",
       "    <tr style=\"text-align: right;\">\n",
       "      <th></th>\n",
       "      <th>0</th>\n",
       "      <th>1</th>\n",
       "      <th>2</th>\n",
       "      <th>3</th>\n",
       "      <th>4</th>\n",
       "      <th>5</th>\n",
       "      <th>6</th>\n",
       "      <th>7</th>\n",
       "      <th>8</th>\n",
       "      <th>9</th>\n",
       "      <th>10</th>\n",
       "      <th>11</th>\n",
       "      <th>12</th>\n",
       "      <th>13</th>\n",
       "      <th>14</th>\n",
       "    </tr>\n",
       "  </thead>\n",
       "  <tbody>\n",
       "    <tr>\n",
       "      <th>0</th>\n",
       "      <td>39</td>\n",
       "      <td>State-gov</td>\n",
       "      <td>77516</td>\n",
       "      <td>Bachelors</td>\n",
       "      <td>13</td>\n",
       "      <td>Never-married</td>\n",
       "      <td>Adm-clerical</td>\n",
       "      <td>Not-in-family</td>\n",
       "      <td>White</td>\n",
       "      <td>Male</td>\n",
       "      <td>2174</td>\n",
       "      <td>0</td>\n",
       "      <td>40</td>\n",
       "      <td>United-States</td>\n",
       "      <td>&lt;=50K</td>\n",
       "    </tr>\n",
       "    <tr>\n",
       "      <th>1</th>\n",
       "      <td>50</td>\n",
       "      <td>Self-emp-not-inc</td>\n",
       "      <td>83311</td>\n",
       "      <td>Bachelors</td>\n",
       "      <td>13</td>\n",
       "      <td>Married-civ-spouse</td>\n",
       "      <td>Exec-managerial</td>\n",
       "      <td>Husband</td>\n",
       "      <td>White</td>\n",
       "      <td>Male</td>\n",
       "      <td>0</td>\n",
       "      <td>0</td>\n",
       "      <td>13</td>\n",
       "      <td>United-States</td>\n",
       "      <td>&lt;=50K</td>\n",
       "    </tr>\n",
       "    <tr>\n",
       "      <th>2</th>\n",
       "      <td>38</td>\n",
       "      <td>Private</td>\n",
       "      <td>215646</td>\n",
       "      <td>HS-grad</td>\n",
       "      <td>9</td>\n",
       "      <td>Divorced</td>\n",
       "      <td>Handlers-cleaners</td>\n",
       "      <td>Not-in-family</td>\n",
       "      <td>White</td>\n",
       "      <td>Male</td>\n",
       "      <td>0</td>\n",
       "      <td>0</td>\n",
       "      <td>40</td>\n",
       "      <td>United-States</td>\n",
       "      <td>&lt;=50K</td>\n",
       "    </tr>\n",
       "    <tr>\n",
       "      <th>3</th>\n",
       "      <td>53</td>\n",
       "      <td>Private</td>\n",
       "      <td>234721</td>\n",
       "      <td>11th</td>\n",
       "      <td>7</td>\n",
       "      <td>Married-civ-spouse</td>\n",
       "      <td>Handlers-cleaners</td>\n",
       "      <td>Husband</td>\n",
       "      <td>Black</td>\n",
       "      <td>Male</td>\n",
       "      <td>0</td>\n",
       "      <td>0</td>\n",
       "      <td>40</td>\n",
       "      <td>United-States</td>\n",
       "      <td>&lt;=50K</td>\n",
       "    </tr>\n",
       "    <tr>\n",
       "      <th>4</th>\n",
       "      <td>28</td>\n",
       "      <td>Private</td>\n",
       "      <td>338409</td>\n",
       "      <td>Bachelors</td>\n",
       "      <td>13</td>\n",
       "      <td>Married-civ-spouse</td>\n",
       "      <td>Prof-specialty</td>\n",
       "      <td>Wife</td>\n",
       "      <td>Black</td>\n",
       "      <td>Female</td>\n",
       "      <td>0</td>\n",
       "      <td>0</td>\n",
       "      <td>40</td>\n",
       "      <td>Cuba</td>\n",
       "      <td>&lt;=50K</td>\n",
       "    </tr>\n",
       "  </tbody>\n",
       "</table>\n",
       "</div>"
      ],
      "text/plain": [
       "   0                 1       2          3   4                   5   \\\n",
       "0  39         State-gov   77516  Bachelors  13       Never-married   \n",
       "1  50  Self-emp-not-inc   83311  Bachelors  13  Married-civ-spouse   \n",
       "2  38           Private  215646    HS-grad   9            Divorced   \n",
       "3  53           Private  234721       11th   7  Married-civ-spouse   \n",
       "4  28           Private  338409  Bachelors  13  Married-civ-spouse   \n",
       "\n",
       "                  6              7      8       9     10  11  12  \\\n",
       "0       Adm-clerical  Not-in-family  White    Male  2174   0  40   \n",
       "1    Exec-managerial        Husband  White    Male     0   0  13   \n",
       "2  Handlers-cleaners  Not-in-family  White    Male     0   0  40   \n",
       "3  Handlers-cleaners        Husband  Black    Male     0   0  40   \n",
       "4     Prof-specialty           Wife  Black  Female     0   0  40   \n",
       "\n",
       "              13     14  \n",
       "0  United-States  <=50K  \n",
       "1  United-States  <=50K  \n",
       "2  United-States  <=50K  \n",
       "3  United-States  <=50K  \n",
       "4           Cuba  <=50K  "
      ]
     },
     "execution_count": 2,
     "metadata": {},
     "output_type": "execute_result"
    }
   ],
   "source": [
    "train = fb.read_csv(\"adult/adult.data\", header=None, skipinitialspace=True)\n",
    "test = fb.read_csv(\"adult/adult.test\", header=None, skipinitialspace=True, skiprows=[0])\n",
    "train.head()"
   ]
  },
  {
   "cell_type": "code",
   "execution_count": 3,
   "id": "4919a6fa",
   "metadata": {},
   "outputs": [],
   "source": [
    "numeric = [0, 4, 11, 12]\n",
    "categorical = [1, 3, 5, 6]\n",
    "\n",
    "x_train = fb.features(train, numeric, categorical)\n",
    "y_train = (train[14]==\">50K\").values\n",
    "\n",
    "x_test = fb.features(test, numeric, categorical)\n",
    "y_test = (test[14]==\">50K.\").values"
   ]
  },
  {
   "cell_type": "markdown",
   "id": "882cf420",
   "metadata": {},
   "source": [
    "### Make AI predictions"
   ]
  },
  {
   "cell_type": "code",
   "execution_count": 4,
   "id": "58ee161c",
   "metadata": {},
   "outputs": [],
   "source": [
    "import sklearn\n",
    "from sklearn.linear_model import LogisticRegression\n",
    "\n",
    "x_train_scaled = sklearn.preprocessing.MinMaxScaler().fit_transform(x_train)\n",
    "x_test_scaled = sklearn.preprocessing.MinMaxScaler().fit_transform(x_test)\n",
    "\n",
    "classifier = LogisticRegression(max_iter=1000)\n",
    "classifier = classifier.fit(x_train_scaled, y_train)\n",
    "predictions = classifier.predict(x_test_scaled)"
   ]
  },
  {
   "cell_type": "markdown",
   "id": "26d70426",
   "metadata": {},
   "source": [
    "### Evaluate fairness"
   ]
  },
  {
   "cell_type": "code",
   "execution_count": 5,
   "id": "1d7878a2",
   "metadata": {},
   "outputs": [
    {
     "data": {
      "text/plain": [
       "0          Male\n",
       "1          Male\n",
       "2          Male\n",
       "3          Male\n",
       "4        Female\n",
       "          ...  \n",
       "16276    Female\n",
       "16277      Male\n",
       "16278      Male\n",
       "16279      Male\n",
       "16280      Male\n",
       "Name: 9, Length: 16281, dtype: object"
      ]
     },
     "execution_count": 5,
     "metadata": {},
     "output_type": "execute_result"
    }
   ],
   "source": [
    "test[9]"
   ]
  },
  {
   "cell_type": "code",
   "execution_count": 6,
   "id": "178cb92f",
   "metadata": {},
   "outputs": [
    {
     "data": {
      "text/html": [
       "<table><tr><td><strong>Male</strong></td><td>[1 1 1 ... 1 1 1]</td></tr><tr><td><strong>Female</strong></td><td>[0 0 0 ... 0 0 0]</td></tr></table>"
      ],
      "text/plain": [
       "<fairbench.forks.fork.Fork object at 0x00000142E364BF40>"
      ]
     },
     "execution_count": 6,
     "metadata": {},
     "output_type": "execute_result"
    }
   ],
   "source": [
    "sensitive = fb.Fork(fb.categories@test[9])\n",
    "sensitive"
   ]
  },
  {
   "cell_type": "code",
   "execution_count": 7,
   "id": "a4caa10b",
   "metadata": {},
   "outputs": [
    {
     "data": {
      "image/png": "[encoded data removed]",
      "text/plain": [
       "<Figure size 640x480 with 1 Axes>"
      ]
     },
     "metadata": {},
     "output_type": "display_data"
    }
   ],
   "source": [
    "sensitive = fb.Fork(fb.categories@test[8])\n",
    "population = sensitive.sum()\n",
    "fb.visualize(population)"
   ]
  },
  {
   "cell_type": "code",
   "execution_count": 8,
   "id": "8cbb5e17",
   "metadata": {},
   "outputs": [
    {
     "data": {
      "image/png": "[encoded data removed]",
      "text/plain": [
       "<Figure size 640x480 with 1 Axes>"
      ]
     },
     "metadata": {},
     "output_type": "display_data"
    }
   ],
   "source": [
    "fb.visualize(fb.accuracy(predictions=predictions, labels=y_test, sensitive=sensitive))"
   ]
  },
  {
   "cell_type": "code",
   "execution_count": 9,
   "id": "18b04573",
   "metadata": {},
   "outputs": [
    {
     "name": "stdout",
     "output_type": "stream",
     "text": [
      "Metric          min             wmean           minratio        maxdiff         maxbarea       \n",
      "accuracy        0.819           0.838           0.906           0.085           nan            \n",
      "pr              0.081           0.188           0.305           0.185           nan            \n",
      "tpr             0.614           0.693           0.726           0.232           nan            \n",
      "tnr             0.862           0.869           0.927           0.068           nan            \n",
      "\n"
     ]
    }
   ],
   "source": [
    "report = fb.multireport(predictions=predictions, labels=y_test, sensitive=sensitive)\n",
    "fb.describe(report)"
   ]
  },
  {
   "cell_type": "code",
   "execution_count": 10,
   "id": "2b3bf912",
   "metadata": {},
   "outputs": [
    {
     "data": {
      "image/png": "[encoded data removed]",
      "text/plain": [
       "<Figure size 640x480 with 4 Axes>"
      ]
     },
     "metadata": {},
     "output_type": "display_data"
    }
   ],
   "source": [
    "fb.visualize(report)"
   ]
  },
  {
   "cell_type": "code",
   "execution_count": 11,
   "id": "df6bc47c",
   "metadata": {},
   "outputs": [
    {
     "name": "stdout",
     "output_type": "stream",
     "text": [
      "0.838\n"
     ]
    },
    {
     "data": {
      "text/plain": [
       "0.81875"
      ]
     },
     "execution_count": 11,
     "metadata": {},
     "output_type": "execute_result"
    }
   ],
   "source": [
    "print(fb.accuracy(predictions=predictions, labels=y_test))\n",
    "report.min.accuracy  ### average across individual attribute value assessments"
   ]
  },
  {
   "cell_type": "code",
   "execution_count": 12,
   "id": "d14abcec",
   "metadata": {},
   "outputs": [
    {
     "name": "stdout",
     "output_type": "stream",
     "text": [
      "0.081\n",
      "White: 0.199\n",
      "Amer-Indian-Eskimo: 0.082\n",
      "Asian-Pac-Islander: 0.267\n",
      "Black: 0.081\n",
      "Other: 0.096\n"
     ]
    }
   ],
   "source": [
    "print(report.min.pr)\n",
    "print(report.min.pr.explain)  ### this is also a report+"
   ]
  },
  {
   "cell_type": "markdown",
   "id": "f1a9a9ae",
   "metadata": {},
   "source": [
    "### Intersectional fairness"
   ]
  },
  {
   "cell_type": "code",
   "execution_count": 13,
   "id": "8e5df5b0",
   "metadata": {},
   "outputs": [
    {
     "data": {
      "text/html": [
       "<table><tr><td><strong>maritalMarried-AF-spouse</strong></td><td>[0 0 0 ... 0 0 0]</td></tr><tr><td><strong>maritalDivorced</strong></td><td>[0 0 0 ... 0 1 0]</td></tr><tr><td><strong>maritalSeparated</strong></td><td>[0 0 0 ... 0 0 0]</td></tr><tr><td><strong>maritalWidowed</strong></td><td>[0 0 0 ... 0 0 0]</td></tr><tr><td><strong>maritalMarried-spouse-absent</strong></td><td>[0 0 0 ... 0 0 0]</td></tr><tr><td><strong>maritalMarried-civ-spouse</strong></td><td>[0 1 1 ... 1 0 1]</td></tr><tr><td><strong>maritalNever-married</strong></td><td>[1 0 0 ... 0 0 0]</td></tr><tr><td><strong>raceOther</strong></td><td>[0 0 0 ... 0 0 0]</td></tr><tr><td><strong>raceOther&maritalDivorced</strong></td><td>[0 0 0 ... 0 0 0]</td></tr><tr><td><strong>raceOther&maritalSeparated</strong></td><td>[0 0 0 ... 0 0 0]</td></tr><tr><td><strong>raceOther&maritalWidowed</strong></td><td>[0 0 0 ... 0 0 0]</td></tr><tr><td><strong>raceOther&maritalMarried-spouse-absent</strong></td><td>[0 0 0 ... 0 0 0]</td></tr><tr><td><strong>raceOther&maritalMarried-civ-spouse</strong></td><td>[0 0 0 ... 0 0 0]</td></tr><tr><td><strong>raceOther&maritalNever-married</strong></td><td>[0 0 0 ... 0 0 0]</td></tr><tr><td><strong>raceBlack</strong></td><td>[1 0 0 ... 0 0 0]</td></tr><tr><td><strong>raceBlack&maritalMarried-AF-spouse</strong></td><td>[0 0 0 ... 0 0 0]</td></tr><tr><td><strong>raceBlack&maritalDivorced</strong></td><td>[0 0 0 ... 0 0 0]</td></tr><tr><td><strong>raceBlack&maritalSeparated</strong></td><td>[0 0 0 ... 0 0 0]</td></tr><tr><td><strong>raceBlack&maritalWidowed</strong></td><td>[0 0 0 ... 0 0 0]</td></tr><tr><td><strong>raceBlack&maritalMarried-spouse-absent</strong></td><td>[0 0 0 ... 0 0 0]</td></tr><tr><td><strong>raceBlack&maritalMarried-civ-spouse</strong></td><td>[0 0 0 ... 0 0 0]</td></tr><tr><td><strong>raceBlack&maritalNever-married</strong></td><td>[1 0 0 ... 0 0 0]</td></tr><tr><td><strong>raceAsian-Pac-Islander</strong></td><td>[0 0 0 ... 0 1 0]</td></tr><tr><td><strong>raceAsian-Pac-Islander&maritalMarried-AF-spouse</strong></td><td>[0 0 0 ... 0 0 0]</td></tr><tr><td><strong>raceAsian-Pac-Islander&maritalDivorced</strong></td><td>[0 0 0 ... 0 1 0]</td></tr><tr><td><strong>raceAsian-Pac-Islander&maritalSeparated</strong></td><td>[0 0 0 ... 0 0 0]</td></tr><tr><td><strong>raceAsian-Pac-Islander&maritalWidowed</strong></td><td>[0 0 0 ... 0 0 0]</td></tr><tr><td><strong>raceAsian-Pac-Islander&maritalMarried-spouse-absent</strong></td><td>[0 0 0 ... 0 0 0]</td></tr><tr><td><strong>raceAsian-Pac-Islander&maritalMarried-civ-spouse</strong></td><td>[0 0 0 ... 0 0 0]</td></tr><tr><td><strong>raceAsian-Pac-Islander&maritalNever-married</strong></td><td>[0 0 0 ... 0 0 0]</td></tr><tr><td><strong>raceAmer-Indian-Eskimo</strong></td><td>[0 0 0 ... 0 0 0]</td></tr><tr><td><strong>raceAmer-Indian-Eskimo&maritalDivorced</strong></td><td>[0 0 0 ... 0 0 0]</td></tr><tr><td><strong>raceAmer-Indian-Eskimo&maritalSeparated</strong></td><td>[0 0 0 ... 0 0 0]</td></tr><tr><td><strong>raceAmer-Indian-Eskimo&maritalWidowed</strong></td><td>[0 0 0 ... 0 0 0]</td></tr><tr><td><strong>raceAmer-Indian-Eskimo&maritalMarried-spouse-absent</strong></td><td>[0 0 0 ... 0 0 0]</td></tr><tr><td><strong>raceAmer-Indian-Eskimo&maritalMarried-civ-spouse</strong></td><td>[0 0 0 ... 0 0 0]</td></tr><tr><td><strong>raceAmer-Indian-Eskimo&maritalNever-married</strong></td><td>[0 0 0 ... 0 0 0]</td></tr><tr><td><strong>raceWhite</strong></td><td>[0 1 1 ... 1 0 1]</td></tr><tr><td><strong>raceWhite&maritalMarried-AF-spouse</strong></td><td>[0 0 0 ... 0 0 0]</td></tr><tr><td><strong>raceWhite&maritalDivorced</strong></td><td>[0 0 0 ... 0 0 0]</td></tr><tr><td><strong>raceWhite&maritalSeparated</strong></td><td>[0 0 0 ... 0 0 0]</td></tr><tr><td><strong>raceWhite&maritalWidowed</strong></td><td>[0 0 0 ... 0 0 0]</td></tr><tr><td><strong>raceWhite&maritalMarried-spouse-absent</strong></td><td>[0 0 0 ... 0 0 0]</td></tr><tr><td><strong>raceWhite&maritalMarried-civ-spouse</strong></td><td>[0 1 1 ... 1 0 1]</td></tr><tr><td><strong>raceWhite&maritalNever-married</strong></td><td>[0 0 0 ... 0 0 0]</td></tr><tr><td><strong>genderFemale</strong></td><td>[0 0 0 ... 0 0 0]</td></tr><tr><td><strong>genderFemale&maritalMarried-AF-spouse</strong></td><td>[0 0 0 ... 0 0 0]</td></tr><tr><td><strong>genderFemale&maritalDivorced</strong></td><td>[0 0 0 ... 0 0 0]</td></tr><tr><td><strong>genderFemale&maritalSeparated</strong></td><td>[0 0 0 ... 0 0 0]</td></tr><tr><td><strong>genderFemale&maritalWidowed</strong></td><td>[0 0 0 ... 0 0 0]</td></tr><tr><td><strong>genderFemale&maritalMarried-spouse-absent</strong></td><td>[0 0 0 ... 0 0 0]</td></tr><tr><td><strong>genderFemale&maritalMarried-civ-spouse</strong></td><td>[0 0 0 ... 0 0 0]</td></tr><tr><td><strong>genderFemale&maritalNever-married</strong></td><td>[0 0 0 ... 0 0 0]</td></tr><tr><td><strong>genderFemale&raceOther</strong></td><td>[0 0 0 ... 0 0 0]</td></tr><tr><td><strong>genderFemale&raceOther&maritalDivorced</strong></td><td>[0 0 0 ... 0 0 0]</td></tr><tr><td><strong>genderFemale&raceOther&maritalSeparated</strong></td><td>[0 0 0 ... 0 0 0]</td></tr><tr><td><strong>genderFemale&raceOther&maritalWidowed</strong></td><td>[0 0 0 ... 0 0 0]</td></tr><tr><td><strong>genderFemale&raceOther&maritalMarried-civ-spouse</strong></td><td>[0 0 0 ... 0 0 0]</td></tr><tr><td><strong>genderFemale&raceOther&maritalNever-married</strong></td><td>[0 0 0 ... 0 0 0]</td></tr><tr><td><strong>genderFemale&raceBlack</strong></td><td>[0 0 0 ... 0 0 0]</td></tr><tr><td><strong>genderFemale&raceBlack&maritalDivorced</strong></td><td>[0 0 0 ... 0 0 0]</td></tr><tr><td><strong>genderFemale&raceBlack&maritalSeparated</strong></td><td>[0 0 0 ... 0 0 0]</td></tr><tr><td><strong>genderFemale&raceBlack&maritalWidowed</strong></td><td>[0 0 0 ... 0 0 0]</td></tr><tr><td><strong>genderFemale&raceBlack&maritalMarried-spouse-absent</strong></td><td>[0 0 0 ... 0 0 0]</td></tr><tr><td><strong>genderFemale&raceBlack&maritalMarried-civ-spouse</strong></td><td>[0 0 0 ... 0 0 0]</td></tr><tr><td><strong>genderFemale&raceBlack&maritalNever-married</strong></td><td>[0 0 0 ... 0 0 0]</td></tr><tr><td><strong>genderFemale&raceAsian-Pac-Islander</strong></td><td>[0 0 0 ... 0 0 0]</td></tr><tr><td><strong>genderFemale&raceAsian-Pac-Islander&maritalMarried-AF-spouse</strong></td><td>[0 0 0 ... 0 0 0]</td></tr><tr><td><strong>genderFemale&raceAsian-Pac-Islander&maritalDivorced</strong></td><td>[0 0 0 ... 0 0 0]</td></tr><tr><td><strong>genderFemale&raceAsian-Pac-Islander&maritalSeparated</strong></td><td>[0 0 0 ... 0 0 0]</td></tr><tr><td><strong>genderFemale&raceAsian-Pac-Islander&maritalWidowed</strong></td><td>[0 0 0 ... 0 0 0]</td></tr><tr><td><strong>genderFemale&raceAsian-Pac-Islander&maritalMarried-spouse-absent</strong></td><td>[0 0 0 ... 0 0 0]</td></tr><tr><td><strong>genderFemale&raceAsian-Pac-Islander&maritalMarried-civ-spouse</strong></td><td>[0 0 0 ... 0 0 0]</td></tr><tr><td><strong>genderFemale&raceAsian-Pac-Islander&maritalNever-married</strong></td><td>[0 0 0 ... 0 0 0]</td></tr><tr><td><strong>genderFemale&raceAmer-Indian-Eskimo</strong></td><td>[0 0 0 ... 0 0 0]</td></tr><tr><td><strong>genderFemale&raceAmer-Indian-Eskimo&maritalDivorced</strong></td><td>[0 0 0 ... 0 0 0]</td></tr><tr><td><strong>genderFemale&raceAmer-Indian-Eskimo&maritalSeparated</strong></td><td>[0 0 0 ... 0 0 0]</td></tr><tr><td><strong>genderFemale&raceAmer-Indian-Eskimo&maritalWidowed</strong></td><td>[0 0 0 ... 0 0 0]</td></tr><tr><td><strong>genderFemale&raceAmer-Indian-Eskimo&maritalMarried-civ-spouse</strong></td><td>[0 0 0 ... 0 0 0]</td></tr><tr><td><strong>genderFemale&raceAmer-Indian-Eskimo&maritalNever-married</strong></td><td>[0 0 0 ... 0 0 0]</td></tr><tr><td><strong>genderFemale&raceWhite</strong></td><td>[0 0 0 ... 0 0 0]</td></tr><tr><td><strong>genderFemale&raceWhite&maritalMarried-AF-spouse</strong></td><td>[0 0 0 ... 0 0 0]</td></tr><tr><td><strong>genderFemale&raceWhite&maritalDivorced</strong></td><td>[0 0 0 ... 0 0 0]</td></tr><tr><td><strong>genderFemale&raceWhite&maritalSeparated</strong></td><td>[0 0 0 ... 0 0 0]</td></tr><tr><td><strong>genderFemale&raceWhite&maritalWidowed</strong></td><td>[0 0 0 ... 0 0 0]</td></tr><tr><td><strong>genderFemale&raceWhite&maritalMarried-spouse-absent</strong></td><td>[0 0 0 ... 0 0 0]</td></tr><tr><td><strong>genderFemale&raceWhite&maritalMarried-civ-spouse</strong></td><td>[0 0 0 ... 0 0 0]</td></tr><tr><td><strong>genderFemale&raceWhite&maritalNever-married</strong></td><td>[0 0 0 ... 0 0 0]</td></tr><tr><td><strong>genderMale</strong></td><td>[1 1 1 ... 1 1 1]</td></tr><tr><td><strong>genderMale&maritalMarried-AF-spouse</strong></td><td>[0 0 0 ... 0 0 0]</td></tr><tr><td><strong>genderMale&maritalDivorced</strong></td><td>[0 0 0 ... 0 1 0]</td></tr><tr><td><strong>genderMale&maritalSeparated</strong></td><td>[0 0 0 ... 0 0 0]</td></tr><tr><td><strong>genderMale&maritalWidowed</strong></td><td>[0 0 0 ... 0 0 0]</td></tr><tr><td><strong>genderMale&maritalMarried-spouse-absent</strong></td><td>[0 0 0 ... 0 0 0]</td></tr><tr><td><strong>genderMale&maritalMarried-civ-spouse</strong></td><td>[0 1 1 ... 1 0 1]</td></tr><tr><td><strong>genderMale&maritalNever-married</strong></td><td>[1 0 0 ... 0 0 0]</td></tr><tr><td><strong>genderMale&raceOther</strong></td><td>[0 0 0 ... 0 0 0]</td></tr><tr><td><strong>genderMale&raceOther&maritalDivorced</strong></td><td>[0 0 0 ... 0 0 0]</td></tr><tr><td><strong>genderMale&raceOther&maritalSeparated</strong></td><td>[0 0 0 ... 0 0 0]</td></tr><tr><td><strong>genderMale&raceOther&maritalMarried-spouse-absent</strong></td><td>[0 0 0 ... 0 0 0]</td></tr><tr><td><strong>genderMale&raceOther&maritalMarried-civ-spouse</strong></td><td>[0 0 0 ... 0 0 0]</td></tr><tr><td><strong>genderMale&raceOther&maritalNever-married</strong></td><td>[0 0 0 ... 0 0 0]</td></tr><tr><td><strong>genderMale&raceBlack</strong></td><td>[1 0 0 ... 0 0 0]</td></tr><tr><td><strong>genderMale&raceBlack&maritalMarried-AF-spouse</strong></td><td>[0 0 0 ... 0 0 0]</td></tr><tr><td><strong>genderMale&raceBlack&maritalDivorced</strong></td><td>[0 0 0 ... 0 0 0]</td></tr><tr><td><strong>genderMale&raceBlack&maritalSeparated</strong></td><td>[0 0 0 ... 0 0 0]</td></tr><tr><td><strong>genderMale&raceBlack&maritalWidowed</strong></td><td>[0 0 0 ... 0 0 0]</td></tr><tr><td><strong>genderMale&raceBlack&maritalMarried-spouse-absent</strong></td><td>[0 0 0 ... 0 0 0]</td></tr><tr><td><strong>genderMale&raceBlack&maritalMarried-civ-spouse</strong></td><td>[0 0 0 ... 0 0 0]</td></tr><tr><td><strong>genderMale&raceBlack&maritalNever-married</strong></td><td>[1 0 0 ... 0 0 0]</td></tr><tr><td><strong>genderMale&raceAsian-Pac-Islander</strong></td><td>[0 0 0 ... 0 1 0]</td></tr><tr><td><strong>genderMale&raceAsian-Pac-Islander&maritalDivorced</strong></td><td>[0 0 0 ... 0 1 0]</td></tr><tr><td><strong>genderMale&raceAsian-Pac-Islander&maritalSeparated</strong></td><td>[0 0 0 ... 0 0 0]</td></tr><tr><td><strong>genderMale&raceAsian-Pac-Islander&maritalWidowed</strong></td><td>[0 0 0 ... 0 0 0]</td></tr><tr><td><strong>genderMale&raceAsian-Pac-Islander&maritalMarried-spouse-absent</strong></td><td>[0 0 0 ... 0 0 0]</td></tr><tr><td><strong>genderMale&raceAsian-Pac-Islander&maritalMarried-civ-spouse</strong></td><td>[0 0 0 ... 0 0 0]</td></tr><tr><td><strong>genderMale&raceAsian-Pac-Islander&maritalNever-married</strong></td><td>[0 0 0 ... 0 0 0]</td></tr><tr><td><strong>genderMale&raceAmer-Indian-Eskimo</strong></td><td>[0 0 0 ... 0 0 0]</td></tr><tr><td><strong>genderMale&raceAmer-Indian-Eskimo&maritalDivorced</strong></td><td>[0 0 0 ... 0 0 0]</td></tr><tr><td><strong>genderMale&raceAmer-Indian-Eskimo&maritalSeparated</strong></td><td>[0 0 0 ... 0 0 0]</td></tr><tr><td><strong>genderMale&raceAmer-Indian-Eskimo&maritalWidowed</strong></td><td>[0 0 0 ... 0 0 0]</td></tr><tr><td><strong>genderMale&raceAmer-Indian-Eskimo&maritalMarried-spouse-absent</strong></td><td>[0 0 0 ... 0 0 0]</td></tr><tr><td><strong>genderMale&raceAmer-Indian-Eskimo&maritalMarried-civ-spouse</strong></td><td>[0 0 0 ... 0 0 0]</td></tr><tr><td><strong>genderMale&raceAmer-Indian-Eskimo&maritalNever-married</strong></td><td>[0 0 0 ... 0 0 0]</td></tr><tr><td><strong>genderMale&raceWhite</strong></td><td>[0 1 1 ... 1 0 1]</td></tr><tr><td><strong>genderMale&raceWhite&maritalMarried-AF-spouse</strong></td><td>[0 0 0 ... 0 0 0]</td></tr><tr><td><strong>genderMale&raceWhite&maritalDivorced</strong></td><td>[0 0 0 ... 0 0 0]</td></tr><tr><td><strong>genderMale&raceWhite&maritalSeparated</strong></td><td>[0 0 0 ... 0 0 0]</td></tr><tr><td><strong>genderMale&raceWhite&maritalWidowed</strong></td><td>[0 0 0 ... 0 0 0]</td></tr><tr><td><strong>genderMale&raceWhite&maritalMarried-spouse-absent</strong></td><td>[0 0 0 ... 0 0 0]</td></tr><tr><td><strong>genderMale&raceWhite&maritalMarried-civ-spouse</strong></td><td>[0 1 1 ... 1 0 1]</td></tr><tr><td><strong>genderMale&raceWhite&maritalNever-married</strong></td><td>[0 0 0 ... 0 0 0]</td></tr></table>"
      ],
      "text/plain": [
       "<fairbench.forks.fork.Fork object at 0x00000142E38E4880>"
      ]
     },
     "execution_count": 13,
     "metadata": {},
     "output_type": "execute_result"
    }
   ],
   "source": [
    "sensitive_intersections = fb.Fork(gender=fb.categories@test[9], \n",
    "                                  race=fb.categories@test[8], \n",
    "                                  marital=fb.categories@test[5]).intersectional()  ### empty intersections are ignored\n",
    "sensitive_intersections"
   ]
  },
  {
   "cell_type": "code",
   "execution_count": 14,
   "id": "bb2b962b",
   "metadata": {},
   "outputs": [
    {
     "data": {
      "image/png": "[encoded data removed]",
      "text/plain": [
       "<Figure size 640x480 with 4 Axes>"
      ]
     },
     "metadata": {},
     "output_type": "display_data"
    }
   ],
   "source": [
    "intersectional_report = fb.multireport(predictions=predictions, labels=y_test, sensitive=sensitive_intersections)\n",
    "fb.visualize(intersectional_report)"
   ]
  },
  {
   "cell_type": "code",
   "execution_count": 18,
   "id": "ce833f14",
   "metadata": {
    "scrolled": false
   },
   "outputs": [
    {
     "data": {
      "text/html": [
       "<style>\n",
       "        .bk-notebook-logo {\n",
       "            display: block;\n",
       "            width: 20px;\n",
       "            height: 20px;\n",
       "            background-image: url(data:image/png;base64,iVBORw0KGgoAAAANSUhEUgAAABQAAAAUCAYAAACNiR0NAAAABHNCSVQICAgIfAhkiAAAAAlwSFlzAAALEgAACxIB0t1+/AAAABx0RVh0U29mdHdhcmUAQWRvYmUgRmlyZXdvcmtzIENTNui8sowAAAOkSURBVDiNjZRtaJVlGMd/1/08zzln5zjP1LWcU9N0NkN8m2CYjpgQYQXqSs0I84OLIC0hkEKoPtiH3gmKoiJDU7QpLgoLjLIQCpEsNJ1vqUOdO7ppbuec5+V+rj4ctwzd8IIbbi6u+8f1539dt3A78eXC7QizUF7gyV1fD1Yqg4JWz84yffhm0qkFqBogB9rM8tZdtwVsPUhWhGcFJngGeWrPzHm5oaMmkfEg1usvLFyc8jLRqDOMru7AyC8saQr7GG7f5fvDeH7Ej8CM66nIF+8yngt6HWaKh7k49Soy9nXurCi1o3qUbS3zWfrYeQDTB/Qj6kX6Ybhw4B+bOYoLKCC9H3Nu/leUTZ1JdRWkkn2ldcCamzrcf47KKXdAJllSlxAOkRgyHsGC/zRday5Qld9DyoM4/q/rUoy/CXh3jzOu3bHUVZeU+DEn8FInkPBFlu3+nW3Nw0mk6vCDiWg8CeJaxEwuHS3+z5RgY+YBR6V1Z1nxSOfoaPa4LASWxxdNp+VWTk7+4vzaou8v8PN+xo+KY2xsw6une2frhw05CTYOmQvsEhjhWjn0bmXPjpE1+kplmmkP3suftwTubK9Vq22qKmrBhpY4jvd5afdRA3wGjFAgcnTK2s4hY0/GPNIb0nErGMCRxWOOX64Z8RAC4oCXdklmEvcL8o0BfkNK4lUg9HTl+oPlQxdNo3Mg4Nv175e/1LDGzZen30MEjRUtmXSfiTVu1kK8W4txyV6BMKlbgk3lMwYCiusNy9fVfvvwMxv8Ynl6vxoByANLTWplvuj/nF9m2+PDtt1eiHPBr1oIfhCChQMBw6Aw0UulqTKZdfVvfG7VcfIqLG9bcldL/+pdWTLxLUy8Qq38heUIjh4XlzZxzQm19lLFlr8vdQ97rjZVOLf8nclzckbcD4wxXMidpX30sFd37Fv/GtwwhzhxGVAprjbg0gCAEeIgwCZyTV2Z1REEW8O4py0wsjeloKoMr6iCY6dP92H6Vw/oTyICIthibxjm/DfN9lVz8IqtqKYLUXfoKVMVQVVJOElGjrnnUt9T9wbgp8AyYKaGlqingHZU/uG2NTZSVqwHQTWkx9hxjkpWDaCg6Ckj5qebgBVbT3V3NNXMSiWSDdGV3hrtzla7J+duwPOToIg42ChPQOQjspnSlp1V+Gjdged7+8UN5CRAV7a5EdFNwCjEaBR27b3W890TE7g24NAP/mMDXRWrGoFPQI9ls/MWO2dWFAar/xcOIImbbpA3zgAAAABJRU5ErkJggg==);\n",
       "        }\n",
       "    </style>\n",
       "    <div>\n",
       "        <a href=\"https://bokeh.org\" target=\"_blank\" class=\"bk-notebook-logo\"></a>\n",
       "        <span id=\"p2868\">Loading BokehJS ...</span>\n",
       "    </div>\n"
      ]
     },
     "metadata": {},
     "output_type": "display_data"
    },
    {
     "data": {
      "application/javascript": [
       "(function(root) {\n",
       "  function now() {\n",
       "    return new Date();\n",
       "  }\n",
       "\n",
       "  const force = true;\n",
       "\n",
       "  if (typeof root._bokeh_onload_callbacks === \"undefined\" || force === true) {\n",
       "    root._bokeh_onload_callbacks = [];\n",
       "    root._bokeh_is_loading = undefined;\n",
       "  }\n",
       "\n",
       "const JS_MIME_TYPE = 'application/javascript';\n",
       "  const HTML_MIME_TYPE = 'text/html';\n",
       "  const EXEC_MIME_TYPE = 'application/vnd.bokehjs_exec.v0+json';\n",
       "  const CLASS_NAME = 'output_bokeh rendered_html';\n",
       "\n",
       "  /**\n",
       "   * Render data to the DOM node\n",
       "   */\n",
       "  function render(props, node) {\n",
       "    const script = document.createElement(\"script\");\n",
       "    node.appendChild(script);\n",
       "  }\n",
       "\n",
       "  /**\n",
       "   * Handle when an output is cleared or removed\n",
       "   */\n",
       "  function handleClearOutput(event, handle) {\n",
       "    const cell = handle.cell;\n",
       "\n",
       "    const id = cell.output_area._bokeh_element_id;\n",
       "    const server_id = cell.output_area._bokeh_server_id;\n",
       "    // Clean up Bokeh references\n",
       "    if (id != null && id in Bokeh.index) {\n",
       "      Bokeh.index[id].model.document.clear();\n",
       "      delete Bokeh.index[id];\n",
       "    }\n",
       "\n",
       "    if (server_id !== undefined) {\n",
       "      // Clean up Bokeh references\n",
       "      const cmd_clean = \"from bokeh.io.state import curstate; print(curstate().uuid_to_server['\" + server_id + \"'].get_sessions()[0].document.roots[0]._id)\";\n",
       "      cell.notebook.kernel.execute(cmd_clean, {\n",
       "        iopub: {\n",
       "          output: function(msg) {\n",
       "            const id = msg.content.text.trim();\n",
       "            if (id in Bokeh.index) {\n",
       "              Bokeh.index[id].model.document.clear();\n",
       "              delete Bokeh.index[id];\n",
       "            }\n",
       "          }\n",
       "        }\n",
       "      });\n",
       "      // Destroy server and session\n",
       "      const cmd_destroy = \"import bokeh.io.notebook as ion; ion.destroy_server('\" + server_id + \"')\";\n",
       "      cell.notebook.kernel.execute(cmd_destroy);\n",
       "    }\n",
       "  }\n",
       "\n",
       "  /**\n",
       "   * Handle when a new output is added\n",
       "   */\n",
       "  function handleAddOutput(event, handle) {\n",
       "    const output_area = handle.output_area;\n",
       "    const output = handle.output;\n",
       "\n",
       "    // limit handleAddOutput to display_data with EXEC_MIME_TYPE content only\n",
       "    if ((output.output_type != \"display_data\") || (!Object.prototype.hasOwnProperty.call(output.data, EXEC_MIME_TYPE))) {\n",
       "      return\n",
       "    }\n",
       "\n",
       "    const toinsert = output_area.element.find(\".\" + CLASS_NAME.split(' ')[0]);\n",
       "\n",
       "    if (output.metadata[EXEC_MIME_TYPE][\"id\"] !== undefined) {\n",
       "      toinsert[toinsert.length - 1].firstChild.textContent = output.data[JS_MIME_TYPE];\n",
       "      // store reference to embed id on output_area\n",
       "      output_area._bokeh_element_id = output.metadata[EXEC_MIME_TYPE][\"id\"];\n",
       "    }\n",
       "    if (output.metadata[EXEC_MIME_TYPE][\"server_id\"] !== undefined) {\n",
       "      const bk_div = document.createElement(\"div\");\n",
       "      bk_div.innerHTML = output.data[HTML_MIME_TYPE];\n",
       "      const script_attrs = bk_div.children[0].attributes;\n",
       "      for (let i = 0; i < script_attrs.length; i++) {\n",
       "        toinsert[toinsert.length - 1].firstChild.setAttribute(script_attrs[i].name, script_attrs[i].value);\n",
       "        toinsert[toinsert.length - 1].firstChild.textContent = bk_div.children[0].textContent\n",
       "      }\n",
       "      // store reference to server id on output_area\n",
       "      output_area._bokeh_server_id = output.metadata[EXEC_MIME_TYPE][\"server_id\"];\n",
       "    }\n",
       "  }\n",
       "\n",
       "  function register_renderer(events, OutputArea) {\n",
       "\n",
       "    function append_mime(data, metadata, element) {\n",
       "      // create a DOM node to render to\n",
       "      const toinsert = this.create_output_subarea(\n",
       "        metadata,\n",
       "        CLASS_NAME,\n",
       "        EXEC_MIME_TYPE\n",
       "      );\n",
       "      this.keyboard_manager.register_events(toinsert);\n",
       "      // Render to node\n",
       "      const props = {data: data, metadata: metadata[EXEC_MIME_TYPE]};\n",
       "      render(props, toinsert[toinsert.length - 1]);\n",
       "      element.append(toinsert);\n",
       "      return toinsert\n",
       "    }\n",
       "\n",
       "    /* Handle when an output is cleared or removed */\n",
       "    events.on('clear_output.CodeCell', handleClearOutput);\n",
       "    events.on('delete.Cell', handleClearOutput);\n",
       "\n",
       "    /* Handle when a new output is added */\n",
       "    events.on('output_added.OutputArea', handleAddOutput);\n",
       "\n",
       "    /**\n",
       "     * Register the mime type and append_mime function with output_area\n",
       "     */\n",
       "    OutputArea.prototype.register_mime_type(EXEC_MIME_TYPE, append_mime, {\n",
       "      /* Is output safe? */\n",
       "      safe: true,\n",
       "      /* Index of renderer in `output_area.display_order` */\n",
       "      index: 0\n",
       "    });\n",
       "  }\n",
       "\n",
       "  // register the mime type if in Jupyter Notebook environment and previously unregistered\n",
       "  if (root.Jupyter !== undefined) {\n",
       "    const events = require('base/js/events');\n",
       "    const OutputArea = require('notebook/js/outputarea').OutputArea;\n",
       "\n",
       "    if (OutputArea.prototype.mime_types().indexOf(EXEC_MIME_TYPE) == -1) {\n",
       "      register_renderer(events, OutputArea);\n",
       "    }\n",
       "  }\n",
       "  if (typeof (root._bokeh_timeout) === \"undefined\" || force === true) {\n",
       "    root._bokeh_timeout = Date.now() + 5000;\n",
       "    root._bokeh_failed_load = false;\n",
       "  }\n",
       "\n",
       "  const NB_LOAD_WARNING = {'data': {'text/html':\n",
       "     \"<div style='background-color: #fdd'>\\n\"+\n",
       "     \"<p>\\n\"+\n",
       "     \"BokehJS does not appear to have successfully loaded. If loading BokehJS from CDN, this \\n\"+\n",
       "     \"may be due to a slow or bad network connection. Possible fixes:\\n\"+\n",
       "     \"</p>\\n\"+\n",
       "     \"<ul>\\n\"+\n",
       "     \"<li>re-rerun `output_notebook()` to attempt to load from CDN again, or</li>\\n\"+\n",
       "     \"<li>use INLINE resources instead, as so:</li>\\n\"+\n",
       "     \"</ul>\\n\"+\n",
       "     \"<code>\\n\"+\n",
       "     \"from bokeh.resources import INLINE\\n\"+\n",
       "     \"output_notebook(resources=INLINE)\\n\"+\n",
       "     \"</code>\\n\"+\n",
       "     \"</div>\"}};\n",
       "\n",
       "  function display_loaded() {\n",
       "    const el = document.getElementById(\"p2868\");\n",
       "    if (el != null) {\n",
       "      el.textContent = \"BokehJS is loading...\";\n",
       "    }\n",
       "    if (root.Bokeh !== undefined) {\n",
       "      if (el != null) {\n",
       "        el.textContent = \"BokehJS \" + root.Bokeh.version + \" successfully loaded.\";\n",
       "      }\n",
       "    } else if (Date.now() < root._bokeh_timeout) {\n",
       "      setTimeout(display_loaded, 100)\n",
       "    }\n",
       "  }\n",
       "\n",
       "  function run_callbacks() {\n",
       "    try {\n",
       "      root._bokeh_onload_callbacks.forEach(function(callback) {\n",
       "        if (callback != null)\n",
       "          callback();\n",
       "      });\n",
       "    } finally {\n",
       "      delete root._bokeh_onload_callbacks\n",
       "    }\n",
       "    console.debug(\"Bokeh: all callbacks have finished\");\n",
       "  }\n",
       "\n",
       "  function load_libs(css_urls, js_urls, callback) {\n",
       "    if (css_urls == null) css_urls = [];\n",
       "    if (js_urls == null) js_urls = [];\n",
       "\n",
       "    root._bokeh_onload_callbacks.push(callback);\n",
       "    if (root._bokeh_is_loading > 0) {\n",
       "      console.debug(\"Bokeh: BokehJS is being loaded, scheduling callback at\", now());\n",
       "      return null;\n",
       "    }\n",
       "    if (js_urls == null || js_urls.length === 0) {\n",
       "      run_callbacks();\n",
       "      return null;\n",
       "    }\n",
       "    console.debug(\"Bokeh: BokehJS not loaded, scheduling load and callback at\", now());\n",
       "    root._bokeh_is_loading = css_urls.length + js_urls.length;\n",
       "\n",
       "    function on_load() {\n",
       "      root._bokeh_is_loading--;\n",
       "      if (root._bokeh_is_loading === 0) {\n",
       "        console.debug(\"Bokeh: all BokehJS libraries/stylesheets loaded\");\n",
       "        run_callbacks()\n",
       "      }\n",
       "    }\n",
       "\n",
       "    function on_error(url) {\n",
       "      console.error(\"failed to load \" + url);\n",
       "    }\n",
       "\n",
       "    for (let i = 0; i < css_urls.length; i++) {\n",
       "      const url = css_urls[i];\n",
       "      const element = document.createElement(\"link\");\n",
       "      element.onload = on_load;\n",
       "      element.onerror = on_error.bind(null, url);\n",
       "      element.rel = \"stylesheet\";\n",
       "      element.type = \"text/css\";\n",
       "      element.href = url;\n",
       "      console.debug(\"Bokeh: injecting link tag for BokehJS stylesheet: \", url);\n",
       "      document.body.appendChild(element);\n",
       "    }\n",
       "\n",
       "    for (let i = 0; i < js_urls.length; i++) {\n",
       "      const url = js_urls[i];\n",
       "      const element = document.createElement('script');\n",
       "      element.onload = on_load;\n",
       "      element.onerror = on_error.bind(null, url);\n",
       "      element.async = false;\n",
       "      element.src = url;\n",
       "      console.debug(\"Bokeh: injecting script tag for BokehJS library: \", url);\n",
       "      document.head.appendChild(element);\n",
       "    }\n",
       "  };\n",
       "\n",
       "  function inject_raw_css(css) {\n",
       "    const element = document.createElement(\"style\");\n",
       "    element.appendChild(document.createTextNode(css));\n",
       "    document.body.appendChild(element);\n",
       "  }\n",
       "\n",
       "  const js_urls = [\"https://cdn.bokeh.org/bokeh/release/bokeh-3.0.3.min.js\", \"https://cdn.bokeh.org/bokeh/release/bokeh-gl-3.0.3.min.js\", \"https://cdn.bokeh.org/bokeh/release/bokeh-widgets-3.0.3.min.js\", \"https://cdn.bokeh.org/bokeh/release/bokeh-tables-3.0.3.min.js\", \"https://cdn.bokeh.org/bokeh/release/bokeh-mathjax-3.0.3.min.js\"];\n",
       "  const css_urls = [];\n",
       "\n",
       "  const inline_js = [    function(Bokeh) {\n",
       "      Bokeh.set_log_level(\"info\");\n",
       "    },\n",
       "function(Bokeh) {\n",
       "    }\n",
       "  ];\n",
       "\n",
       "  function run_inline_js() {\n",
       "    if (root.Bokeh !== undefined || force === true) {\n",
       "          for (let i = 0; i < inline_js.length; i++) {\n",
       "      inline_js[i].call(root, root.Bokeh);\n",
       "    }\n",
       "if (force === true) {\n",
       "        display_loaded();\n",
       "      }} else if (Date.now() < root._bokeh_timeout) {\n",
       "      setTimeout(run_inline_js, 100);\n",
       "    } else if (!root._bokeh_failed_load) {\n",
       "      console.log(\"Bokeh: BokehJS failed to load within specified timeout.\");\n",
       "      root._bokeh_failed_load = true;\n",
       "    } else if (force !== true) {\n",
       "      const cell = $(document.getElementById(\"p2868\")).parents('.cell').data().cell;\n",
       "      cell.output_area.append_execute_result(NB_LOAD_WARNING)\n",
       "    }\n",
       "  }\n",
       "\n",
       "  if (root._bokeh_is_loading === 0) {\n",
       "    console.debug(\"Bokeh: BokehJS loaded, going straight to plotting\");\n",
       "    run_inline_js();\n",
       "  } else {\n",
       "    load_libs(css_urls, js_urls, function() {\n",
       "      console.debug(\"Bokeh: BokehJS plotting callback run at\", now());\n",
       "      run_inline_js();\n",
       "    });\n",
       "  }\n",
       "}(window));"
      ],
      "application/vnd.bokehjs_load.v0+json": "(function(root) {\n  function now() {\n    return new Date();\n  }\n\n  const force = true;\n\n  if (typeof root._bokeh_onload_callbacks === \"undefined\" || force === true) {\n    root._bokeh_onload_callbacks = [];\n    root._bokeh_is_loading = undefined;\n  }\n\n\n  if (typeof (root._bokeh_timeout) === \"undefined\" || force === true) {\n    root._bokeh_timeout = Date.now() + 5000;\n    root._bokeh_failed_load = false;\n  }\n\n  const NB_LOAD_WARNING = {'data': {'text/html':\n     \"<div style='background-color: #fdd'>\\n\"+\n     \"<p>\\n\"+\n     \"BokehJS does not appear to have successfully loaded. If loading BokehJS from CDN, this \\n\"+\n     \"may be due to a slow or bad network connection. Possible fixes:\\n\"+\n     \"</p>\\n\"+\n     \"<ul>\\n\"+\n     \"<li>re-rerun `output_notebook()` to attempt to load from CDN again, or</li>\\n\"+\n     \"<li>use INLINE resources instead, as so:</li>\\n\"+\n     \"</ul>\\n\"+\n     \"<code>\\n\"+\n     \"from bokeh.resources import INLINE\\n\"+\n     \"output_notebook(resources=INLINE)\\n\"+\n     \"</code>\\n\"+\n     \"</div>\"}};\n\n  function display_loaded() {\n    const el = document.getElementById(\"p2868\");\n    if (el != null) {\n      el.textContent = \"BokehJS is loading...\";\n    }\n    if (root.Bokeh !== undefined) {\n      if (el != null) {\n        el.textContent = \"BokehJS \" + root.Bokeh.version + \" successfully loaded.\";\n      }\n    } else if (Date.now() < root._bokeh_timeout) {\n      setTimeout(display_loaded, 100)\n    }\n  }\n\n  function run_callbacks() {\n    try {\n      root._bokeh_onload_callbacks.forEach(function(callback) {\n        if (callback != null)\n          callback();\n      });\n    } finally {\n      delete root._bokeh_onload_callbacks\n    }\n    console.debug(\"Bokeh: all callbacks have finished\");\n  }\n\n  function load_libs(css_urls, js_urls, callback) {\n    if (css_urls == null) css_urls = [];\n    if (js_urls == null) js_urls = [];\n\n    root._bokeh_onload_callbacks.push(callback);\n    if (root._bokeh_is_loading > 0) {\n      console.debug(\"Bokeh: BokehJS is being loaded, scheduling callback at\", now());\n      return null;\n    }\n    if (js_urls == null || js_urls.length === 0) {\n      run_callbacks();\n      return null;\n    }\n    console.debug(\"Bokeh: BokehJS not loaded, scheduling load and callback at\", now());\n    root._bokeh_is_loading = css_urls.length + js_urls.length;\n\n    function on_load() {\n      root._bokeh_is_loading--;\n      if (root._bokeh_is_loading === 0) {\n        console.debug(\"Bokeh: all BokehJS libraries/stylesheets loaded\");\n        run_callbacks()\n      }\n    }\n\n    function on_error(url) {\n      console.error(\"failed to load \" + url);\n    }\n\n    for (let i = 0; i < css_urls.length; i++) {\n      const url = css_urls[i];\n      const element = document.createElement(\"link\");\n      element.onload = on_load;\n      element.onerror = on_error.bind(null, url);\n      element.rel = \"stylesheet\";\n      element.type = \"text/css\";\n      element.href = url;\n      console.debug(\"Bokeh: injecting link tag for BokehJS stylesheet: \", url);\n      document.body.appendChild(element);\n    }\n\n    for (let i = 0; i < js_urls.length; i++) {\n      const url = js_urls[i];\n      const element = document.createElement('script');\n      element.onload = on_load;\n      element.onerror = on_error.bind(null, url);\n      element.async = false;\n      element.src = url;\n      console.debug(\"Bokeh: injecting script tag for BokehJS library: \", url);\n      document.head.appendChild(element);\n    }\n  };\n\n  function inject_raw_css(css) {\n    const element = document.createElement(\"style\");\n    element.appendChild(document.createTextNode(css));\n    document.body.appendChild(element);\n  }\n\n  const js_urls = [\"https://cdn.bokeh.org/bokeh/release/bokeh-3.0.3.min.js\", \"https://cdn.bokeh.org/bokeh/release/bokeh-gl-3.0.3.min.js\", \"https://cdn.bokeh.org/bokeh/release/bokeh-widgets-3.0.3.min.js\", \"https://cdn.bokeh.org/bokeh/release/bokeh-tables-3.0.3.min.js\", \"https://cdn.bokeh.org/bokeh/release/bokeh-mathjax-3.0.3.min.js\"];\n  const css_urls = [];\n\n  const inline_js = [    function(Bokeh) {\n      Bokeh.set_log_level(\"info\");\n    },\nfunction(Bokeh) {\n    }\n  ];\n\n  function run_inline_js() {\n    if (root.Bokeh !== undefined || force === true) {\n          for (let i = 0; i < inline_js.length; i++) {\n      inline_js[i].call(root, root.Bokeh);\n    }\nif (force === true) {\n        display_loaded();\n      }} else if (Date.now() < root._bokeh_timeout) {\n      setTimeout(run_inline_js, 100);\n    } else if (!root._bokeh_failed_load) {\n      console.log(\"Bokeh: BokehJS failed to load within specified timeout.\");\n      root._bokeh_failed_load = true;\n    } else if (force !== true) {\n      const cell = $(document.getElementById(\"p2868\")).parents('.cell').data().cell;\n      cell.output_area.append_execute_result(NB_LOAD_WARNING)\n    }\n  }\n\n  if (root._bokeh_is_loading === 0) {\n    console.debug(\"Bokeh: BokehJS loaded, going straight to plotting\");\n    run_inline_js();\n  } else {\n    load_libs(css_urls, js_urls, function() {\n      console.debug(\"Bokeh: BokehJS plotting callback run at\", now());\n      run_inline_js();\n    });\n  }\n}(window));"
     },
     "metadata": {},
     "output_type": "display_data"
    },
    {
     "data": {
      "application/vnd.bokehjs_exec.v0+json": "",
      "text/html": [
       "<script id=\"p2869\">\n",
       "  (function() {\n",
       "    const xhr = new XMLHttpRequest()\n",
       "    xhr.responseType = 'blob';\n",
       "    xhr.open('GET', \"http://localhost:53268/autoload.js?bokeh-autoload-element=p2869&bokeh-absolute-url=http://localhost:53268&resources=none\", true);\n",
       "    xhr.onload = function (event) {\n",
       "      const script = document.createElement('script');\n",
       "      const src = URL.createObjectURL(event.target.response);\n",
       "      script.src = src;\n",
       "      document.body.appendChild(script);\n",
       "    };\n",
       "    xhr.send();\n",
       "  })();\n",
       "</script>"
      ]
     },
     "metadata": {
      "application/vnd.bokehjs_exec.v0+json": {
       "server_id": "d773f2610108444bad5f8a4db6c26ae1"
      }
     },
     "output_type": "display_data"
    },
    {
     "name": "stderr",
     "output_type": "stream",
     "text": [
      "ERROR:bokeh.server.protocol_handler:error handling message\n",
      " message: Message 'PATCH-DOC' content: {'events': [{'kind': 'MessageSent', 'msg_type': 'bokeh_event', 'msg_data': {'type': 'event', 'name': 'button_click', 'values': {'type': 'map', 'entries': [['model', {'id': 'p2919'}]]}}}]} \n",
      " error: IndexError('tuple index out of range')\n",
      "Traceback (most recent call last):\n",
      "  File \"c:\\users\\manio\\pycharmprojects\\fairbench\\venv\\lib\\site-packages\\bokeh\\server\\protocol_handler.py\", line 97, in handle\n",
      "    work = await handler(message, connection)\n",
      "  File \"c:\\users\\manio\\pycharmprojects\\fairbench\\venv\\lib\\site-packages\\bokeh\\server\\session.py\", line 93, in _needs_document_lock_wrapper\n",
      "    result = func(self, *args, **kwargs)\n",
      "  File \"c:\\users\\manio\\pycharmprojects\\fairbench\\venv\\lib\\site-packages\\bokeh\\server\\session.py\", line 287, in _handle_patch\n",
      "    message.apply_to_document(self.document, self)\n",
      "  File \"c:\\users\\manio\\pycharmprojects\\fairbench\\venv\\lib\\site-packages\\bokeh\\protocol\\messages\\patch_doc.py\", line 104, in apply_to_document\n",
      "    invoke_with_curdoc(doc, lambda: doc.apply_json_patch(self.payload, setter=setter))\n",
      "  File \"c:\\users\\manio\\pycharmprojects\\fairbench\\venv\\lib\\site-packages\\bokeh\\document\\callbacks.py\", line 426, in invoke_with_curdoc\n",
      "    return f()\n",
      "  File \"c:\\users\\manio\\pycharmprojects\\fairbench\\venv\\lib\\site-packages\\bokeh\\protocol\\messages\\patch_doc.py\", line 104, in <lambda>\n",
      "    invoke_with_curdoc(doc, lambda: doc.apply_json_patch(self.payload, setter=setter))\n",
      "  File \"c:\\users\\manio\\pycharmprojects\\fairbench\\venv\\lib\\site-packages\\bokeh\\document\\document.py\", line 375, in apply_json_patch\n",
      "    DocumentPatchedEvent.handle_event(self, event, setter)\n",
      "  File \"c:\\users\\manio\\pycharmprojects\\fairbench\\venv\\lib\\site-packages\\bokeh\\document\\events.py\", line 246, in handle_event\n",
      "    event_cls._handle_event(doc, event)\n",
      "  File \"c:\\users\\manio\\pycharmprojects\\fairbench\\venv\\lib\\site-packages\\bokeh\\document\\events.py\", line 281, in _handle_event\n",
      "    cb(event.msg_data)\n",
      "  File \"c:\\users\\manio\\pycharmprojects\\fairbench\\venv\\lib\\site-packages\\bokeh\\document\\callbacks.py\", line 373, in trigger_event\n",
      "    model._trigger_event(event)\n",
      "  File \"c:\\users\\manio\\pycharmprojects\\fairbench\\venv\\lib\\site-packages\\bokeh\\util\\callback_manager.py\", line 113, in _trigger_event\n",
      "    self.document.callbacks.notify_event(cast(Model, self), event, invoke)\n",
      "  File \"c:\\users\\manio\\pycharmprojects\\fairbench\\venv\\lib\\site-packages\\bokeh\\document\\callbacks.py\", line 254, in notify_event\n",
      "    invoke_with_curdoc(doc, callback_invoker)\n",
      "  File \"c:\\users\\manio\\pycharmprojects\\fairbench\\venv\\lib\\site-packages\\bokeh\\document\\callbacks.py\", line 426, in invoke_with_curdoc\n",
      "    return f()\n",
      "  File \"c:\\users\\manio\\pycharmprojects\\fairbench\\venv\\lib\\site-packages\\bokeh\\util\\callback_manager.py\", line 109, in invoke\n",
      "    cast(EventCallbackWithEvent, callback)(event)\n",
      "  File \"c:\\users\\manio\\pycharmprojects\\fairbench\\fairbench\\export\\interactive.py\", line 232, in explain_button\n",
      "    select_branch.active = 0\n",
      "  File \"c:\\users\\manio\\pycharmprojects\\fairbench\\venv\\lib\\site-packages\\bokeh\\core\\has_props.py\", line 327, in __setattr__\n",
      "    return super().__setattr__(name, value)\n",
      "  File \"c:\\users\\manio\\pycharmprojects\\fairbench\\venv\\lib\\site-packages\\bokeh\\core\\property\\descriptors.py\", line 290, in __set__\n",
      "    self._set(obj, old, value, setter=setter)\n",
      "  File \"c:\\users\\manio\\pycharmprojects\\fairbench\\venv\\lib\\site-packages\\bokeh\\core\\property\\descriptors.py\", line 575, in _set\n",
      "    self._trigger(obj, old, value, hint=hint, setter=setter)\n",
      "  File \"c:\\users\\manio\\pycharmprojects\\fairbench\\venv\\lib\\site-packages\\bokeh\\core\\property\\descriptors.py\", line 653, in _trigger\n",
      "    obj.trigger(self.name, old, value, hint, setter)\n",
      "  File \"c:\\users\\manio\\pycharmprojects\\fairbench\\venv\\lib\\site-packages\\bokeh\\model\\model.py\", line 562, in trigger\n",
      "    super().trigger(descriptor.name, old, new, hint=hint, setter=setter)\n",
      "  File \"c:\\users\\manio\\pycharmprojects\\fairbench\\venv\\lib\\site-packages\\bokeh\\util\\callback_manager.py\", line 188, in trigger\n",
      "    self.document.callbacks.notify_change(cast(Model, self), attr, old, new, hint, setter, invoke)\n",
      "  File \"c:\\users\\manio\\pycharmprojects\\fairbench\\venv\\lib\\site-packages\\bokeh\\document\\callbacks.py\", line 243, in notify_change\n",
      "    self.trigger_on_change(event)\n",
      "  File \"c:\\users\\manio\\pycharmprojects\\fairbench\\venv\\lib\\site-packages\\bokeh\\document\\callbacks.py\", line 391, in trigger_on_change\n",
      "    invoke_with_curdoc(doc, event.callback_invoker)\n",
      "  File \"c:\\users\\manio\\pycharmprojects\\fairbench\\venv\\lib\\site-packages\\bokeh\\document\\callbacks.py\", line 426, in invoke_with_curdoc\n",
      "    return f()\n",
      "  File \"c:\\users\\manio\\pycharmprojects\\fairbench\\venv\\lib\\site-packages\\bokeh\\util\\callback_manager.py\", line 185, in invoke\n",
      "    callback(attr, old, new)\n",
      "  File \"c:\\users\\manio\\pycharmprojects\\fairbench\\fairbench\\export\\interactive.py\", line 282, in <lambda>\n",
      "    select_branch.on_change(\"active\", lambda attr, old, new: update_value(doc))\n",
      "  File \"c:\\users\\manio\\pycharmprojects\\fairbench\\fairbench\\export\\interactive.py\", line 274, in update_value\n",
      "    update_plot(doc)\n",
      "  File \"c:\\users\\manio\\pycharmprojects\\fairbench\\fairbench\\export\\interactive.py\", line 184, in update_plot\n",
      "    palette=[\n",
      "  File \"c:\\users\\manio\\pycharmprojects\\fairbench\\fairbench\\export\\interactive.py\", line 185, in <listcomp>\n",
      "    Category20[20][i]\n",
      "IndexError: tuple index out of range\n"
     ]
    }
   ],
   "source": [
    "fb.interactive(intersectional_report, width=800)"
   ]
  },
  {
   "cell_type": "code",
   "execution_count": null,
   "id": "03a9b0dc",
   "metadata": {},
   "outputs": [],
   "source": [
    "intersectional_report.min.pr.explain  #zero min ratio due to the complete absense of extremely small intersections from positive predictions"
   ]
  },
  {
   "cell_type": "code",
   "execution_count": null,
   "id": "cd3abf4d",
   "metadata": {},
   "outputs": [],
   "source": [
    "bayesian = fb.reduce(\n",
    "    fb.surrogate_positives(predictions, sensitive),\n",
    "    fb.min,\n",
    "    fb.ratio,\n",
    "    name=None,\n",
    ")\n",
    "all_sensitive = fb.Fork(fb.categories@test[9] & fb.categories@test[8] & fb.categories@test[5])  ### all combinations\n",
    "all_report = fb.multireport(predictions=predictions, labels=y_test, sensitive=all_sensitive)\n",
    "\n",
    "fb.Fork(prule={\"bayesian\": bayesian, \n",
    "               \"empirical\": all_report.minratio[\"pr\"]  ### this will be zero for empty intersections\n",
    "              })"
   ]
  },
  {
   "cell_type": "code",
   "execution_count": null,
   "id": "e6021679",
   "metadata": {},
   "outputs": [],
   "source": []
  }
 ],
 "metadata": {
  "kernelspec": {
   "display_name": "Python 3 (ipykernel)",
   "language": "python",
   "name": "python3"
  },
  "language_info": {
   "codemirror_mode": {
    "name": "ipython",
    "version": 3
   },
   "file_extension": ".py",
   "mimetype": "text/x-python",
   "name": "python",
   "nbconvert_exporter": "python",
   "pygments_lexer": "ipython3",
   "version": "3.10.4"
  }
 },
 "nbformat": 4,
 "nbformat_minor": 5
}
