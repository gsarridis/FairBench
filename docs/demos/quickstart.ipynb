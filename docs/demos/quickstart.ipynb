{
 "cells": [
  {
   "cell_type": "code",
   "execution_count": 35,
   "metadata": {
    "ExecuteTime": {
     "end_time": "2023-07-14T07:10:40.073522400Z",
     "start_time": "2023-07-14T07:10:38.927502500Z"
    }
   },
   "outputs": [],
   "source": [
    "import fairbench as fb"
   ]
  },
  {
   "cell_type": "code",
   "execution_count": 36,
   "metadata": {
    "ExecuteTime": {
     "end_time": "2023-07-14T07:10:54.289177Z",
     "start_time": "2023-07-14T07:10:53.582930600Z"
    }
   },
   "outputs": [],
   "source": [
    "test, y, yhat = fb.demos.adult()\n",
    "scores = fb.demos.adult(predict=\"probabilities\")[2]"
   ]
  },
  {
   "cell_type": "code",
   "execution_count": 69,
   "metadata": {
    "ExecuteTime": {
     "end_time": "2023-07-14T07:11:00.969341400Z",
     "start_time": "2023-07-14T07:11:00.908815300Z"
    }
   },
   "outputs": [
    {
     "data": {
      "text/html": [
       "<table><tr><td><strong>Asian-Pac-Islander</strong></td><td>[0 0 0 ... 0 1 0]</td></tr><tr><td><strong>Black</strong></td><td>[1 0 0 ... 0 0 0]</td></tr><tr><td><strong>Other</strong></td><td>[0 0 0 ... 0 0 0]</td></tr><tr><td><strong>White</strong></td><td>[0 1 1 ... 1 0 1]</td></tr><tr><td><strong>Amer-Indian-Eskimo</strong></td><td>[0 0 0 ... 0 0 0]</td></tr><tr><td><strong>Female</strong></td><td>[0 0 0 ... 0 0 0]</td></tr><tr><td><strong>Female&Asian-Pac-Islander</strong></td><td>[0 0 0 ... 0 0 0]</td></tr><tr><td><strong>Female&Black</strong></td><td>[0 0 0 ... 0 0 0]</td></tr><tr><td><strong>Female&Other</strong></td><td>[0 0 0 ... 0 0 0]</td></tr><tr><td><strong>Female&White</strong></td><td>[0 0 0 ... 0 0 0]</td></tr><tr><td><strong>Female&Amer-Indian-Eskimo</strong></td><td>[0 0 0 ... 0 0 0]</td></tr><tr><td><strong>Male</strong></td><td>[1 1 1 ... 1 1 1]</td></tr><tr><td><strong>Male&Asian-Pac-Islander</strong></td><td>[0 0 0 ... 0 1 0]</td></tr><tr><td><strong>Male&Black</strong></td><td>[1 0 0 ... 0 0 0]</td></tr><tr><td><strong>Male&Other</strong></td><td>[0 0 0 ... 0 0 0]</td></tr><tr><td><strong>Male&White</strong></td><td>[0 1 1 ... 1 0 1]</td></tr><tr><td><strong>Male&Amer-Indian-Eskimo</strong></td><td>[0 0 0 ... 0 0 0]</td></tr></table>"
      ],
      "text/plain": [
       "<fairbench.forks.fork.Fork object at 0x00000249A4B80040>"
      ]
     },
     "execution_count": 69,
     "metadata": {},
     "output_type": "execute_result"
    }
   ],
   "source": [
    "sensitive = fb.Fork(fb.categories@test[9], fb.categories@test[8]).intersectional()\n",
    "sensitive"
   ]
  },
  {
   "cell_type": "code",
   "execution_count": 70,
   "metadata": {},
   "outputs": [
    {
     "data": {
      "text/html": [
       "<div style=\"display: inline-block; float: left;\"><h3>Male&Other</h3><table><tr><td><strong>accuracy</strong></td><td>0.865</td></tr><tr><td><strong>prule</strong></td><td>0.597283599046825</td></tr><tr><td><strong>dfpr</strong></td><td>-0.20334865397242283</td></tr><tr><td><strong>dfnr</strong></td><td>0.00961932878461369</td></tr></table></div><div style=\"display: inline-block; float: left;\"><h3>Amer-Indian-Eskimo</h3><table><tr><td><strong>accuracy</strong></td><td>0.899</td></tr><tr><td><strong>prule</strong></td><td>0.4331748088715828</td></tr><tr><td><strong>dfpr</strong></td><td>0.08228216082307444</td></tr><tr><td><strong>dfnr</strong></td><td>-0.05494272424581076</td></tr></table></div><div style=\"display: inline-block; float: left;\"><h3>Female</h3><table><tr><td><strong>accuracy</strong></td><td>0.917</td></tr><tr><td><strong>prule</strong></td><td>0.2116387709158066</td></tr><tr><td><strong>dfpr</strong></td><td>-0.04310310647661719</td></tr><tr><td><strong>dfnr</strong></td><td>-0.09240016661053899</td></tr></table></div><div style=\"display: inline-block; float: left;\"><h3>Female&Black</h3><table><tr><td><strong>accuracy</strong></td><td>0.952</td></tr><tr><td><strong>prule</strong></td><td>0.17695028466990123</td></tr><tr><td><strong>dfpr</strong></td><td>0.08263518659558267</td></tr><tr><td><strong>dfnr</strong></td><td>-0.09937821138039582</td></tr></table></div><div style=\"display: inline-block; float: left;\"><h3>Female&Other</h3><table><tr><td><strong>accuracy</strong></td><td>0.913</td></tr><tr><td><strong>prule</strong></td><td>0.3468078440308178</td></tr><tr><td><strong>dfpr</strong></td><td>0.03068020526258325</td></tr><tr><td><strong>dfnr</strong></td><td>-0.060106628842007945</td></tr></table></div><div style=\"display: inline-block; float: left;\"><h3>White</h3><table><tr><td><strong>accuracy</strong></td><td>0.830</td></tr><tr><td><strong>prule</strong></td><td>0.6047920983081583</td></tr><tr><td><strong>dfpr</strong></td><td>-0.04681735115898816</td></tr><tr><td><strong>dfnr</strong></td><td>0.05438645777157905</td></tr></table></div><div style=\"display: inline-block; float: left;\"><h3>Male&Asian-Pac-Islander</h3><table><tr><td><strong>accuracy</strong></td><td>0.783</td></tr><tr><td><strong>prule</strong></td><td>0.5280838689929599</td></tr><tr><td><strong>dfpr</strong></td><td>0.012576008844665587</td></tr><tr><td><strong>dfnr</strong></td><td>0.03503291283142029</td></tr></table></div><div style=\"display: inline-block; float: left;\"><h3>Female&White</h3><table><tr><td><strong>accuracy</strong></td><td>0.912</td></tr><tr><td><strong>prule</strong></td><td>0.23330423951265014</td></tr><tr><td><strong>dfpr</strong></td><td>-0.06843292392817493</td></tr><tr><td><strong>dfnr</strong></td><td>-0.07284702368204982</td></tr></table></div><div style=\"display: inline-block; float: left;\"><h3>Male&White</h3><table><tr><td><strong>accuracy</strong></td><td>0.793</td></tr><tr><td><strong>prule</strong></td><td>0.29376533331453386</td></tr><tr><td><strong>dfpr</strong></td><td>0.0076202539480766385</td></tr><tr><td><strong>dfnr</strong></td><td>0.09158839411252384</td></tr></table></div><div style=\"display: inline-block; float: left;\"><h3>Male&Amer-Indian-Eskimo</h3><table><tr><td><strong>accuracy</strong></td><td>0.871</td></tr><tr><td><strong>prule</strong></td><td>0.6861938874994701</td></tr><tr><td><strong>dfpr</strong></td><td>0.030770915462111248</td></tr><tr><td><strong>dfnr</strong></td><td>-0.031103709714989908</td></tr></table></div><div style=\"display: inline-block; float: left;\"><h3>Male&Black</h3><table><tr><td><strong>accuracy</strong></td><td>0.859</td></tr><tr><td><strong>prule</strong></td><td>0.6545262267343486</td></tr><tr><td><strong>dfpr</strong></td><td>0.08630781859911879</td></tr><tr><td><strong>dfnr</strong></td><td>-0.024929306890016156</td></tr></table></div><div style=\"display: inline-block; float: left;\"><h3>Female&Asian-Pac-Islander</h3><table><tr><td><strong>accuracy</strong></td><td>0.883</td></tr><tr><td><strong>prule</strong></td><td>0.6206227030025657</td></tr><tr><td><strong>dfpr</strong></td><td>0.04762845849802372</td></tr><tr><td><strong>dfnr</strong></td><td>-0.0440893254596606</td></tr></table></div><div style=\"display: inline-block; float: left;\"><h3>Other</h3><table><tr><td><strong>accuracy</strong></td><td>0.881</td></tr><tr><td><strong>prule</strong></td><td>0.5109431482090043</td></tr><tr><td><strong>dfpr</strong></td><td>-0.14947293915417476</td></tr><tr><td><strong>dfnr</strong></td><td>-0.01506350066246874</td></tr></table></div><div style=\"display: inline-block; float: left;\"><h3>Male</h3><table><tr><td><strong>accuracy</strong></td><td>0.799</td></tr><tr><td><strong>prule</strong></td><td>0.2116387709158066</td></tr><tr><td><strong>dfpr</strong></td><td>0.04310310647661719</td></tr><tr><td><strong>dfnr</strong></td><td>0.09240016661053899</td></tr></table></div><div style=\"display: inline-block; float: left;\"><h3>Black</h3><table><tr><td><strong>accuracy</strong></td><td>0.904</td></tr><tr><td><strong>prule</strong></td><td>0.4088737752257189</td></tr><tr><td><strong>dfpr</strong></td><td>0.0867485879731063</td></tr><tr><td><strong>dfnr</strong></td><td>-0.06645170707346347</td></tr></table></div><div style=\"display: inline-block; float: left;\"><h3>Asian-Pac-Islander</h3><table><tr><td><strong>accuracy</strong></td><td>0.819</td></tr><tr><td><strong>prule</strong></td><td>0.6948927283083349</td></tr><tr><td><strong>dfpr</strong></td><td>0.01839993169398907</td></tr><tr><td><strong>dfnr</strong></td><td>0.001030610227184453</td></tr></table></div><div style=\"display: inline-block; float: left;\"><h3>Female&Amer-Indian-Eskimo</h3><table><tr><td><strong>accuracy</strong></td><td>0.939</td></tr><tr><td><strong>prule</strong></td><td>0.08041958041958042</td></tr><tr><td><strong>dfpr</strong></td><td>0.6975450081833061</td></tr><tr><td><strong>dfnr</strong></td><td>-0.08393733925648819</td></tr></table></div>"
      ],
      "text/plain": [
       "<fairbench.forks.fork.Fork object at 0x00000249A2FC2320>"
      ]
     },
     "execution_count": 70,
     "metadata": {},
     "output_type": "execute_result"
    }
   ],
   "source": [
    "fb.binreport(predictions=yhat, labels=y, sensitive=sensitive)"
   ]
  },
  {
   "cell_type": "code",
   "execution_count": 71,
   "metadata": {
    "ExecuteTime": {
     "end_time": "2023-07-14T07:11:05.567777100Z",
     "start_time": "2023-07-14T07:11:05.460420800Z"
    }
   },
   "outputs": [
    {
     "data": {
      "text/html": [
       "<div style=\"display: inline-block; float: left;\"><h3>min</h3><table><tr><td><strong>accuracy</strong></td><td>0.783</td></tr><tr><td><strong>pr</strong></td><td>0.015</td></tr><tr><td><strong>tpr</strong></td><td>0.000</td></tr><tr><td><strong>tnr</strong></td><td>0.827</td></tr></table></div><div style=\"display: inline-block; float: left;\"><h3>wmean</h3><table><tr><td><strong>accuracy</strong></td><td>0.838</td></tr><tr><td><strong>pr</strong></td><td>0.188</td></tr><tr><td><strong>tpr</strong></td><td>0.701</td></tr><tr><td><strong>tnr</strong></td><td>0.866</td></tr></table></div><div style=\"display: inline-block; float: left;\"><h3>minratio</h3><table><tr><td><strong>accuracy</strong></td><td>0.822</td></tr><tr><td><strong>pr</strong></td><td>0.043</td></tr><tr><td><strong>tpr</strong></td><td>0.000</td></tr><tr><td><strong>tnr</strong></td><td>0.858</td></tr></table></div><div style=\"display: inline-block; float: left;\"><h3>maxdiff</h3><table><tr><td><strong>accuracy</strong></td><td>0.169</td></tr><tr><td><strong>pr</strong></td><td>0.334</td></tr><tr><td><strong>tpr</strong></td><td>0.900</td></tr><tr><td><strong>tnr</strong></td><td>0.137</td></tr></table></div><div style=\"display: inline-block; float: left;\"><h3>maxbarea</h3><table><tr><td><strong>accuracy</strong></td><td>---</td></tr><tr><td><strong>pr</strong></td><td>---</td></tr><tr><td><strong>tpr</strong></td><td>---</td></tr><tr><td><strong>tnr</strong></td><td>---</td></tr></table></div>"
      ],
      "text/plain": [
       "<fairbench.forks.fork.Fork object at 0x00000249A4D60F10>"
      ]
     },
     "execution_count": 71,
     "metadata": {},
     "output_type": "execute_result"
    }
   ],
   "source": [
    "report = fb.multireport(predictions=yhat, labels=y, sensitive=sensitive)\n",
    "report"
   ]
  },
  {
   "cell_type": "code",
   "execution_count": 74,
   "metadata": {},
   "outputs": [
    {
     "data": {
      "image/png": "[encoded data removed]",
      "text/plain": [
       "<Figure size 640x480 with 1 Axes>"
      ]
     },
     "metadata": {},
     "output_type": "display_data"
    }
   ],
   "source": [
    "fb.visualize(report.min.accuracy.explain)"
   ]
  },
  {
   "cell_type": "code",
   "execution_count": 73,
   "metadata": {
    "ExecuteTime": {
     "end_time": "2023-07-14T07:11:31.998579Z",
     "start_time": "2023-07-14T07:11:31.483266300Z"
    }
   },
   "outputs": [
    {
     "data": {
      "text/html": [
       "<style>\n",
       "        .bk-notebook-logo {\n",
       "            display: block;\n",
       "            width: 20px;\n",
       "            height: 20px;\n",
       "            background-image: url(data:image/png;base64,iVBORw0KGgoAAAANSUhEUgAAABQAAAAUCAYAAACNiR0NAAAABHNCSVQICAgIfAhkiAAAAAlwSFlzAAALEgAACxIB0t1+/AAAABx0RVh0U29mdHdhcmUAQWRvYmUgRmlyZXdvcmtzIENTNui8sowAAAOkSURBVDiNjZRtaJVlGMd/1/08zzln5zjP1LWcU9N0NkN8m2CYjpgQYQXqSs0I84OLIC0hkEKoPtiH3gmKoiJDU7QpLgoLjLIQCpEsNJ1vqUOdO7ppbuec5+V+rj4ctwzd8IIbbi6u+8f1539dt3A78eXC7QizUF7gyV1fD1Yqg4JWz84yffhm0qkFqBogB9rM8tZdtwVsPUhWhGcFJngGeWrPzHm5oaMmkfEg1usvLFyc8jLRqDOMru7AyC8saQr7GG7f5fvDeH7Ej8CM66nIF+8yngt6HWaKh7k49Soy9nXurCi1o3qUbS3zWfrYeQDTB/Qj6kX6Ybhw4B+bOYoLKCC9H3Nu/leUTZ1JdRWkkn2ldcCamzrcf47KKXdAJllSlxAOkRgyHsGC/zRday5Qld9DyoM4/q/rUoy/CXh3jzOu3bHUVZeU+DEn8FInkPBFlu3+nW3Nw0mk6vCDiWg8CeJaxEwuHS3+z5RgY+YBR6V1Z1nxSOfoaPa4LASWxxdNp+VWTk7+4vzaou8v8PN+xo+KY2xsw6une2frhw05CTYOmQvsEhjhWjn0bmXPjpE1+kplmmkP3suftwTubK9Vq22qKmrBhpY4jvd5afdRA3wGjFAgcnTK2s4hY0/GPNIb0nErGMCRxWOOX64Z8RAC4oCXdklmEvcL8o0BfkNK4lUg9HTl+oPlQxdNo3Mg4Nv175e/1LDGzZen30MEjRUtmXSfiTVu1kK8W4txyV6BMKlbgk3lMwYCiusNy9fVfvvwMxv8Ynl6vxoByANLTWplvuj/nF9m2+PDtt1eiHPBr1oIfhCChQMBw6Aw0UulqTKZdfVvfG7VcfIqLG9bcldL/+pdWTLxLUy8Qq38heUIjh4XlzZxzQm19lLFlr8vdQ97rjZVOLf8nclzckbcD4wxXMidpX30sFd37Fv/GtwwhzhxGVAprjbg0gCAEeIgwCZyTV2Z1REEW8O4py0wsjeloKoMr6iCY6dP92H6Vw/oTyICIthibxjm/DfN9lVz8IqtqKYLUXfoKVMVQVVJOElGjrnnUt9T9wbgp8AyYKaGlqingHZU/uG2NTZSVqwHQTWkx9hxjkpWDaCg6Ckj5qebgBVbT3V3NNXMSiWSDdGV3hrtzla7J+duwPOToIg42ChPQOQjspnSlp1V+Gjdged7+8UN5CRAV7a5EdFNwCjEaBR27b3W890TE7g24NAP/mMDXRWrGoFPQI9ls/MWO2dWFAar/xcOIImbbpA3zgAAAABJRU5ErkJggg==);\n",
       "        }\n",
       "    </style>\n",
       "    <div>\n",
       "        <a href=\"https://bokeh.org\" target=\"_blank\" class=\"bk-notebook-logo\"></a>\n",
       "        <span id=\"p14686\">Loading BokehJS ...</span>\n",
       "    </div>\n"
      ]
     },
     "metadata": {},
     "output_type": "display_data"
    },
    {
     "data": {
      "application/javascript": [
       "(function(root) {\n",
       "  function now() {\n",
       "    return new Date();\n",
       "  }\n",
       "\n",
       "  const force = true;\n",
       "\n",
       "  if (typeof root._bokeh_onload_callbacks === \"undefined\" || force === true) {\n",
       "    root._bokeh_onload_callbacks = [];\n",
       "    root._bokeh_is_loading = undefined;\n",
       "  }\n",
       "\n",
       "const JS_MIME_TYPE = 'application/javascript';\n",
       "  const HTML_MIME_TYPE = 'text/html';\n",
       "  const EXEC_MIME_TYPE = 'application/vnd.bokehjs_exec.v0+json';\n",
       "  const CLASS_NAME = 'output_bokeh rendered_html';\n",
       "\n",
       "  /**\n",
       "   * Render data to the DOM node\n",
       "   */\n",
       "  function render(props, node) {\n",
       "    const script = document.createElement(\"script\");\n",
       "    node.appendChild(script);\n",
       "  }\n",
       "\n",
       "  /**\n",
       "   * Handle when an output is cleared or removed\n",
       "   */\n",
       "  function handleClearOutput(event, handle) {\n",
       "    const cell = handle.cell;\n",
       "\n",
       "    const id = cell.output_area._bokeh_element_id;\n",
       "    const server_id = cell.output_area._bokeh_server_id;\n",
       "    // Clean up Bokeh references\n",
       "    if (id != null && id in Bokeh.index) {\n",
       "      Bokeh.index[id].model.document.clear();\n",
       "      delete Bokeh.index[id];\n",
       "    }\n",
       "\n",
       "    if (server_id !== undefined) {\n",
       "      // Clean up Bokeh references\n",
       "      const cmd_clean = \"from bokeh.io.state import curstate; print(curstate().uuid_to_server['\" + server_id + \"'].get_sessions()[0].document.roots[0]._id)\";\n",
       "      cell.notebook.kernel.execute(cmd_clean, {\n",
       "        iopub: {\n",
       "          output: function(msg) {\n",
       "            const id = msg.content.text.trim();\n",
       "            if (id in Bokeh.index) {\n",
       "              Bokeh.index[id].model.document.clear();\n",
       "              delete Bokeh.index[id];\n",
       "            }\n",
       "          }\n",
       "        }\n",
       "      });\n",
       "      // Destroy server and session\n",
       "      const cmd_destroy = \"import bokeh.io.notebook as ion; ion.destroy_server('\" + server_id + \"')\";\n",
       "      cell.notebook.kernel.execute(cmd_destroy);\n",
       "    }\n",
       "  }\n",
       "\n",
       "  /**\n",
       "   * Handle when a new output is added\n",
       "   */\n",
       "  function handleAddOutput(event, handle) {\n",
       "    const output_area = handle.output_area;\n",
       "    const output = handle.output;\n",
       "\n",
       "    // limit handleAddOutput to display_data with EXEC_MIME_TYPE content only\n",
       "    if ((output.output_type != \"display_data\") || (!Object.prototype.hasOwnProperty.call(output.data, EXEC_MIME_TYPE))) {\n",
       "      return\n",
       "    }\n",
       "\n",
       "    const toinsert = output_area.element.find(\".\" + CLASS_NAME.split(' ')[0]);\n",
       "\n",
       "    if (output.metadata[EXEC_MIME_TYPE][\"id\"] !== undefined) {\n",
       "      toinsert[toinsert.length - 1].firstChild.textContent = output.data[JS_MIME_TYPE];\n",
       "      // store reference to embed id on output_area\n",
       "      output_area._bokeh_element_id = output.metadata[EXEC_MIME_TYPE][\"id\"];\n",
       "    }\n",
       "    if (output.metadata[EXEC_MIME_TYPE][\"server_id\"] !== undefined) {\n",
       "      const bk_div = document.createElement(\"div\");\n",
       "      bk_div.innerHTML = output.data[HTML_MIME_TYPE];\n",
       "      const script_attrs = bk_div.children[0].attributes;\n",
       "      for (let i = 0; i < script_attrs.length; i++) {\n",
       "        toinsert[toinsert.length - 1].firstChild.setAttribute(script_attrs[i].name, script_attrs[i].value);\n",
       "        toinsert[toinsert.length - 1].firstChild.textContent = bk_div.children[0].textContent\n",
       "      }\n",
       "      // store reference to server id on output_area\n",
       "      output_area._bokeh_server_id = output.metadata[EXEC_MIME_TYPE][\"server_id\"];\n",
       "    }\n",
       "  }\n",
       "\n",
       "  function register_renderer(events, OutputArea) {\n",
       "\n",
       "    function append_mime(data, metadata, element) {\n",
       "      // create a DOM node to render to\n",
       "      const toinsert = this.create_output_subarea(\n",
       "        metadata,\n",
       "        CLASS_NAME,\n",
       "        EXEC_MIME_TYPE\n",
       "      );\n",
       "      this.keyboard_manager.register_events(toinsert);\n",
       "      // Render to node\n",
       "      const props = {data: data, metadata: metadata[EXEC_MIME_TYPE]};\n",
       "      render(props, toinsert[toinsert.length - 1]);\n",
       "      element.append(toinsert);\n",
       "      return toinsert\n",
       "    }\n",
       "\n",
       "    /* Handle when an output is cleared or removed */\n",
       "    events.on('clear_output.CodeCell', handleClearOutput);\n",
       "    events.on('delete.Cell', handleClearOutput);\n",
       "\n",
       "    /* Handle when a new output is added */\n",
       "    events.on('output_added.OutputArea', handleAddOutput);\n",
       "\n",
       "    /**\n",
       "     * Register the mime type and append_mime function with output_area\n",
       "     */\n",
       "    OutputArea.prototype.register_mime_type(EXEC_MIME_TYPE, append_mime, {\n",
       "      /* Is output safe? */\n",
       "      safe: true,\n",
       "      /* Index of renderer in `output_area.display_order` */\n",
       "      index: 0\n",
       "    });\n",
       "  }\n",
       "\n",
       "  // register the mime type if in Jupyter Notebook environment and previously unregistered\n",
       "  if (root.Jupyter !== undefined) {\n",
       "    const events = require('base/js/events');\n",
       "    const OutputArea = require('notebook/js/outputarea').OutputArea;\n",
       "\n",
       "    if (OutputArea.prototype.mime_types().indexOf(EXEC_MIME_TYPE) == -1) {\n",
       "      register_renderer(events, OutputArea);\n",
       "    }\n",
       "  }\n",
       "  if (typeof (root._bokeh_timeout) === \"undefined\" || force === true) {\n",
       "    root._bokeh_timeout = Date.now() + 5000;\n",
       "    root._bokeh_failed_load = false;\n",
       "  }\n",
       "\n",
       "  const NB_LOAD_WARNING = {'data': {'text/html':\n",
       "     \"<div style='background-color: #fdd'>\\n\"+\n",
       "     \"<p>\\n\"+\n",
       "     \"BokehJS does not appear to have successfully loaded. If loading BokehJS from CDN, this \\n\"+\n",
       "     \"may be due to a slow or bad network connection. Possible fixes:\\n\"+\n",
       "     \"</p>\\n\"+\n",
       "     \"<ul>\\n\"+\n",
       "     \"<li>re-rerun `output_notebook()` to attempt to load from CDN again, or</li>\\n\"+\n",
       "     \"<li>use INLINE resources instead, as so:</li>\\n\"+\n",
       "     \"</ul>\\n\"+\n",
       "     \"<code>\\n\"+\n",
       "     \"from bokeh.resources import INLINE\\n\"+\n",
       "     \"output_notebook(resources=INLINE)\\n\"+\n",
       "     \"</code>\\n\"+\n",
       "     \"</div>\"}};\n",
       "\n",
       "  function display_loaded() {\n",
       "    const el = document.getElementById(\"p14686\");\n",
       "    if (el != null) {\n",
       "      el.textContent = \"BokehJS is loading...\";\n",
       "    }\n",
       "    if (root.Bokeh !== undefined) {\n",
       "      if (el != null) {\n",
       "        el.textContent = \"BokehJS \" + root.Bokeh.version + \" successfully loaded.\";\n",
       "      }\n",
       "    } else if (Date.now() < root._bokeh_timeout) {\n",
       "      setTimeout(display_loaded, 100)\n",
       "    }\n",
       "  }\n",
       "\n",
       "  function run_callbacks() {\n",
       "    try {\n",
       "      root._bokeh_onload_callbacks.forEach(function(callback) {\n",
       "        if (callback != null)\n",
       "          callback();\n",
       "      });\n",
       "    } finally {\n",
       "      delete root._bokeh_onload_callbacks\n",
       "    }\n",
       "    console.debug(\"Bokeh: all callbacks have finished\");\n",
       "  }\n",
       "\n",
       "  function load_libs(css_urls, js_urls, callback) {\n",
       "    if (css_urls == null) css_urls = [];\n",
       "    if (js_urls == null) js_urls = [];\n",
       "\n",
       "    root._bokeh_onload_callbacks.push(callback);\n",
       "    if (root._bokeh_is_loading > 0) {\n",
       "      console.debug(\"Bokeh: BokehJS is being loaded, scheduling callback at\", now());\n",
       "      return null;\n",
       "    }\n",
       "    if (js_urls == null || js_urls.length === 0) {\n",
       "      run_callbacks();\n",
       "      return null;\n",
       "    }\n",
       "    console.debug(\"Bokeh: BokehJS not loaded, scheduling load and callback at\", now());\n",
       "    root._bokeh_is_loading = css_urls.length + js_urls.length;\n",
       "\n",
       "    function on_load() {\n",
       "      root._bokeh_is_loading--;\n",
       "      if (root._bokeh_is_loading === 0) {\n",
       "        console.debug(\"Bokeh: all BokehJS libraries/stylesheets loaded\");\n",
       "        run_callbacks()\n",
       "      }\n",
       "    }\n",
       "\n",
       "    function on_error(url) {\n",
       "      console.error(\"failed to load \" + url);\n",
       "    }\n",
       "\n",
       "    for (let i = 0; i < css_urls.length; i++) {\n",
       "      const url = css_urls[i];\n",
       "      const element = document.createElement(\"link\");\n",
       "      element.onload = on_load;\n",
       "      element.onerror = on_error.bind(null, url);\n",
       "      element.rel = \"stylesheet\";\n",
       "      element.type = \"text/css\";\n",
       "      element.href = url;\n",
       "      console.debug(\"Bokeh: injecting link tag for BokehJS stylesheet: \", url);\n",
       "      document.body.appendChild(element);\n",
       "    }\n",
       "\n",
       "    for (let i = 0; i < js_urls.length; i++) {\n",
       "      const url = js_urls[i];\n",
       "      const element = document.createElement('script');\n",
       "      element.onload = on_load;\n",
       "      element.onerror = on_error.bind(null, url);\n",
       "      element.async = false;\n",
       "      element.src = url;\n",
       "      console.debug(\"Bokeh: injecting script tag for BokehJS library: \", url);\n",
       "      document.head.appendChild(element);\n",
       "    }\n",
       "  };\n",
       "\n",
       "  function inject_raw_css(css) {\n",
       "    const element = document.createElement(\"style\");\n",
       "    element.appendChild(document.createTextNode(css));\n",
       "    document.body.appendChild(element);\n",
       "  }\n",
       "\n",
       "  const js_urls = [\"https://cdn.bokeh.org/bokeh/release/bokeh-3.0.3.min.js\", \"https://cdn.bokeh.org/bokeh/release/bokeh-gl-3.0.3.min.js\", \"https://cdn.bokeh.org/bokeh/release/bokeh-widgets-3.0.3.min.js\", \"https://cdn.bokeh.org/bokeh/release/bokeh-tables-3.0.3.min.js\", \"https://cdn.bokeh.org/bokeh/release/bokeh-mathjax-3.0.3.min.js\"];\n",
       "  const css_urls = [];\n",
       "\n",
       "  const inline_js = [    function(Bokeh) {\n",
       "      Bokeh.set_log_level(\"info\");\n",
       "    },\n",
       "function(Bokeh) {\n",
       "    }\n",
       "  ];\n",
       "\n",
       "  function run_inline_js() {\n",
       "    if (root.Bokeh !== undefined || force === true) {\n",
       "          for (let i = 0; i < inline_js.length; i++) {\n",
       "      inline_js[i].call(root, root.Bokeh);\n",
       "    }\n",
       "if (force === true) {\n",
       "        display_loaded();\n",
       "      }} else if (Date.now() < root._bokeh_timeout) {\n",
       "      setTimeout(run_inline_js, 100);\n",
       "    } else if (!root._bokeh_failed_load) {\n",
       "      console.log(\"Bokeh: BokehJS failed to load within specified timeout.\");\n",
       "      root._bokeh_failed_load = true;\n",
       "    } else if (force !== true) {\n",
       "      const cell = $(document.getElementById(\"p14686\")).parents('.cell').data().cell;\n",
       "      cell.output_area.append_execute_result(NB_LOAD_WARNING)\n",
       "    }\n",
       "  }\n",
       "\n",
       "  if (root._bokeh_is_loading === 0) {\n",
       "    console.debug(\"Bokeh: BokehJS loaded, going straight to plotting\");\n",
       "    run_inline_js();\n",
       "  } else {\n",
       "    load_libs(css_urls, js_urls, function() {\n",
       "      console.debug(\"Bokeh: BokehJS plotting callback run at\", now());\n",
       "      run_inline_js();\n",
       "    });\n",
       "  }\n",
       "}(window));"
      ],
      "application/vnd.bokehjs_load.v0+json": "(function(root) {\n  function now() {\n    return new Date();\n  }\n\n  const force = true;\n\n  if (typeof root._bokeh_onload_callbacks === \"undefined\" || force === true) {\n    root._bokeh_onload_callbacks = [];\n    root._bokeh_is_loading = undefined;\n  }\n\n\n  if (typeof (root._bokeh_timeout) === \"undefined\" || force === true) {\n    root._bokeh_timeout = Date.now() + 5000;\n    root._bokeh_failed_load = false;\n  }\n\n  const NB_LOAD_WARNING = {'data': {'text/html':\n     \"<div style='background-color: #fdd'>\\n\"+\n     \"<p>\\n\"+\n     \"BokehJS does not appear to have successfully loaded. If loading BokehJS from CDN, this \\n\"+\n     \"may be due to a slow or bad network connection. Possible fixes:\\n\"+\n     \"</p>\\n\"+\n     \"<ul>\\n\"+\n     \"<li>re-rerun `output_notebook()` to attempt to load from CDN again, or</li>\\n\"+\n     \"<li>use INLINE resources instead, as so:</li>\\n\"+\n     \"</ul>\\n\"+\n     \"<code>\\n\"+\n     \"from bokeh.resources import INLINE\\n\"+\n     \"output_notebook(resources=INLINE)\\n\"+\n     \"</code>\\n\"+\n     \"</div>\"}};\n\n  function display_loaded() {\n    const el = document.getElementById(\"p14686\");\n    if (el != null) {\n      el.textContent = \"BokehJS is loading...\";\n    }\n    if (root.Bokeh !== undefined) {\n      if (el != null) {\n        el.textContent = \"BokehJS \" + root.Bokeh.version + \" successfully loaded.\";\n      }\n    } else if (Date.now() < root._bokeh_timeout) {\n      setTimeout(display_loaded, 100)\n    }\n  }\n\n  function run_callbacks() {\n    try {\n      root._bokeh_onload_callbacks.forEach(function(callback) {\n        if (callback != null)\n          callback();\n      });\n    } finally {\n      delete root._bokeh_onload_callbacks\n    }\n    console.debug(\"Bokeh: all callbacks have finished\");\n  }\n\n  function load_libs(css_urls, js_urls, callback) {\n    if (css_urls == null) css_urls = [];\n    if (js_urls == null) js_urls = [];\n\n    root._bokeh_onload_callbacks.push(callback);\n    if (root._bokeh_is_loading > 0) {\n      console.debug(\"Bokeh: BokehJS is being loaded, scheduling callback at\", now());\n      return null;\n    }\n    if (js_urls == null || js_urls.length === 0) {\n      run_callbacks();\n      return null;\n    }\n    console.debug(\"Bokeh: BokehJS not loaded, scheduling load and callback at\", now());\n    root._bokeh_is_loading = css_urls.length + js_urls.length;\n\n    function on_load() {\n      root._bokeh_is_loading--;\n      if (root._bokeh_is_loading === 0) {\n        console.debug(\"Bokeh: all BokehJS libraries/stylesheets loaded\");\n        run_callbacks()\n      }\n    }\n\n    function on_error(url) {\n      console.error(\"failed to load \" + url);\n    }\n\n    for (let i = 0; i < css_urls.length; i++) {\n      const url = css_urls[i];\n      const element = document.createElement(\"link\");\n      element.onload = on_load;\n      element.onerror = on_error.bind(null, url);\n      element.rel = \"stylesheet\";\n      element.type = \"text/css\";\n      element.href = url;\n      console.debug(\"Bokeh: injecting link tag for BokehJS stylesheet: \", url);\n      document.body.appendChild(element);\n    }\n\n    for (let i = 0; i < js_urls.length; i++) {\n      const url = js_urls[i];\n      const element = document.createElement('script');\n      element.onload = on_load;\n      element.onerror = on_error.bind(null, url);\n      element.async = false;\n      element.src = url;\n      console.debug(\"Bokeh: injecting script tag for BokehJS library: \", url);\n      document.head.appendChild(element);\n    }\n  };\n\n  function inject_raw_css(css) {\n    const element = document.createElement(\"style\");\n    element.appendChild(document.createTextNode(css));\n    document.body.appendChild(element);\n  }\n\n  const js_urls = [\"https://cdn.bokeh.org/bokeh/release/bokeh-3.0.3.min.js\", \"https://cdn.bokeh.org/bokeh/release/bokeh-gl-3.0.3.min.js\", \"https://cdn.bokeh.org/bokeh/release/bokeh-widgets-3.0.3.min.js\", \"https://cdn.bokeh.org/bokeh/release/bokeh-tables-3.0.3.min.js\", \"https://cdn.bokeh.org/bokeh/release/bokeh-mathjax-3.0.3.min.js\"];\n  const css_urls = [];\n\n  const inline_js = [    function(Bokeh) {\n      Bokeh.set_log_level(\"info\");\n    },\nfunction(Bokeh) {\n    }\n  ];\n\n  function run_inline_js() {\n    if (root.Bokeh !== undefined || force === true) {\n          for (let i = 0; i < inline_js.length; i++) {\n      inline_js[i].call(root, root.Bokeh);\n    }\nif (force === true) {\n        display_loaded();\n      }} else if (Date.now() < root._bokeh_timeout) {\n      setTimeout(run_inline_js, 100);\n    } else if (!root._bokeh_failed_load) {\n      console.log(\"Bokeh: BokehJS failed to load within specified timeout.\");\n      root._bokeh_failed_load = true;\n    } else if (force !== true) {\n      const cell = $(document.getElementById(\"p14686\")).parents('.cell').data().cell;\n      cell.output_area.append_execute_result(NB_LOAD_WARNING)\n    }\n  }\n\n  if (root._bokeh_is_loading === 0) {\n    console.debug(\"Bokeh: BokehJS loaded, going straight to plotting\");\n    run_inline_js();\n  } else {\n    load_libs(css_urls, js_urls, function() {\n      console.debug(\"Bokeh: BokehJS plotting callback run at\", now());\n      run_inline_js();\n    });\n  }\n}(window));"
     },
     "metadata": {},
     "output_type": "display_data"
    },
    {
     "data": {
      "application/vnd.bokehjs_exec.v0+json": "",
      "text/html": [
       "<script id=\"p14687\">\n",
       "  (function() {\n",
       "    const xhr = new XMLHttpRequest()\n",
       "    xhr.responseType = 'blob';\n",
       "    xhr.open('GET', \"http://localhost:65509/autoload.js?bokeh-autoload-element=p14687&bokeh-absolute-url=http://localhost:65509&resources=none\", true);\n",
       "    xhr.onload = function (event) {\n",
       "      const script = document.createElement('script');\n",
       "      const src = URL.createObjectURL(event.target.response);\n",
       "      script.src = src;\n",
       "      document.body.appendChild(script);\n",
       "    };\n",
       "    xhr.send();\n",
       "  })();\n",
       "</script>"
      ]
     },
     "metadata": {
      "application/vnd.bokehjs_exec.v0+json": {
       "server_id": "2bc5dec7edbc49e9b4e81910a31f1ba0"
      }
     },
     "output_type": "display_data"
    }
   ],
   "source": [
    "fb.interactive(report, port=8890, height=200)"
   ]
  },
  {
   "cell_type": "code",
   "execution_count": 63,
   "metadata": {},
   "outputs": [
    {
     "data": {
      "text/plain": [
       "{'p-rule': 0.2116387709158066}"
      ]
     },
     "execution_count": 63,
     "metadata": {},
     "output_type": "execute_result"
    }
   ],
   "source": [
    "fb.stamps.prule(report)"
   ]
  },
  {
   "cell_type": "code",
   "execution_count": 64,
   "metadata": {},
   "outputs": [
    {
     "data": {
      "text/html": [
       "<table><tr><td><strong>p-rule</strong></td><td>0.212</td></tr><tr><td><strong>worst accuracy</strong></td><td>0.799</td></tr><tr><td><strong>4/5 rule</strong></td><td>False</td></tr></table>"
      ],
      "text/plain": [
       "<fairbench.forks.fork.Fork object at 0x00000249A5E73670>"
      ]
     },
     "execution_count": 64,
     "metadata": {},
     "output_type": "execute_result"
    }
   ],
   "source": [
    "stamps = fb.combine(\n",
    "    fb.stamps.prule(report),\n",
    "    fb.stamps.accuracy(report),\n",
    "    fb.stamps.four_fifths(report)\n",
    ")\n",
    "stamps"
   ]
  },
  {
   "cell_type": "code",
   "execution_count": 65,
   "metadata": {},
   "outputs": [
    {
     "data": {
      "text/plain": [
       "'<h2>Factors</h2><ul><li>The groups that are considered for fairness assessment are Female, Male.</li></ul><h2>Metrics</h2><ul><li>Fairness-aware metrics are computed. The <em>p-rule</em> compares the fraction of positive predictions between groups. The worst ratio is reported, so that value of 0 indicates disparate impact, and value of 1 disparate impact mitigation. The <em>worst accuracy</em> computes the worst performance among protected groups; this is the minimum benefit the system brings to any group. The <em>4/5 rule</em> checks whether the fraction of positive predictions for each protected group is at worst four fifths that of any other group (i.e., the p-rule is 0.8 or greater). </li></ul>\\n<h2>Evaluation Results</h2>\\n<table>\\n<tr><th>Metric</th><th>Value</th></tr>\\n<tr><td>p-rule</td><td>0.212</td></tr>\\n<tr><td>worst accuracy</td><td>0.799</td></tr>\\n<tr><td>4/5 rule</td><td>&#10060;</td></tr>\\n</table><h2>Caveats and Recommendations</h2><ul><li>Consider input from affected stakeholders to determine whether the 80% rule is an appropriate fairness criterion.</li><li>Disparate impact may not always be an appropriate fairness consideration.</li><li>The worst accuracy is a lower bound but not an estimation of overall accuracy. There may be different distributions of benefits that could be protected.</li></ul>'"
      ]
     },
     "execution_count": 65,
     "metadata": {},
     "output_type": "execute_result"
    }
   ],
   "source": [
    "fb.modelcards.tohtml(stamps, show=True)"
   ]
  },
  {
   "cell_type": "code",
   "execution_count": null,
   "metadata": {},
   "outputs": [],
   "source": []
  }
 ],
 "metadata": {
  "kernelspec": {
   "display_name": "Python 3 (ipykernel)",
   "language": "python",
   "name": "python3"
  },
  "language_info": {
   "codemirror_mode": {
    "name": "ipython",
    "version": 3
   },
   "file_extension": ".py",
   "mimetype": "text/x-python",
   "name": "python",
   "nbconvert_exporter": "python",
   "pygments_lexer": "ipython3",
   "version": "3.10.4"
  }
 },
 "nbformat": 4,
 "nbformat_minor": 1
}
