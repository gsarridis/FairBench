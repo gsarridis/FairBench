{
 "cells": [
  {
   "cell_type": "markdown",
   "id": "24cc2b21-0174-4d49-a20a-4827a9419b1e",
   "metadata": {},
   "source": [
    "# Graphs"
   ]
  },
  {
   "cell_type": "code",
   "execution_count": 1,
   "id": "631d661e",
   "metadata": {},
   "outputs": [
    {
     "name": "stderr",
     "output_type": "stream",
     "text": [
      "The default pygrank backend has been set to \"numpy\" by the file C:\\Users\\manio\\.pygrank\\config.json\n",
      "Set your preferred backend as one of [\"numpy\", \"pytorch\", \"tensorflow\", \"torch_sparse\", \"matvec\", \"sparse_dot_mkl\"] and \"reminder\": false in that file to remove this message from future runs.\n"
     ]
    }
   ],
   "source": [
    "import pygrank\n",
    "import networkx\n",
    "import fairbench as fb"
   ]
  },
  {
   "cell_type": "markdown",
   "id": "9d857a1e",
   "metadata": {},
   "source": [
    "### Load data"
   ]
  },
  {
   "cell_type": "code",
   "execution_count": 2,
   "id": "e04fc27c",
   "metadata": {},
   "outputs": [
    {
     "name": "stderr",
     "output_type": "stream",
     "text": [
      "REQUIRED CITATION: Please visit the url http://www.sociopatterns.org/datasets/high-school-contact-and-friendship-networks for instructions on how to cite the dataset highschool in your research\n"
     ]
    },
    {
     "name": "stdout",
     "output_type": "stream",
     "text": [
      "Graph with 156 nodes and 1437 edges                     \n"
     ]
    }
   ],
   "source": [
    "_, graph, communities = next(pygrank.load_datasets_multiple_communities([\"highschool\"], graph_api=networkx))\n",
    "print(graph, \" \"*20)"
   ]
  },
  {
   "cell_type": "code",
   "execution_count": 3,
   "id": "26601e13",
   "metadata": {},
   "outputs": [
    {
     "data": {
      "text/plain": [
       "{'1': 0.0,\n",
       " '883': 0.0,\n",
       " '132': 0.0,\n",
       " '339': 0.0,\n",
       " '653': 0.0,\n",
       " '545': 0.0,\n",
       " '171': 0.0,\n",
       " '117': 0.0,\n",
       " '196': 0.0,\n",
       " '587': 0.0,\n",
       " '372': 0.0,\n",
       " '147': 0.0,\n",
       " '55': 0.0,\n",
       " '859': 0.0,\n",
       " '106': 0.0,\n",
       " '504': 0.0,\n",
       " '471': 1.0,\n",
       " '425': 0.0,\n",
       " '170': 0.0,\n",
       " '939': 0.0,\n",
       " '272': 0.0,\n",
       " '3': 0.0,\n",
       " '119': 0.0,\n",
       " '494': 0.0,\n",
       " '205': 0.0,\n",
       " '265': 0.0,\n",
       " '779': 0.0,\n",
       " '364': 0.0,\n",
       " '240': 0.0,\n",
       " '477': 0.0,\n",
       " '101': 0.0,\n",
       " '884': 0.0,\n",
       " '441': 0.0,\n",
       " '9': 0.0,\n",
       " '1594': 0.0,\n",
       " '488': 0.0,\n",
       " '190': 0.0,\n",
       " '325': 0.0,\n",
       " '14': 0.0,\n",
       " '232': 0.0,\n",
       " '520': 0.0,\n",
       " '65': 0.0,\n",
       " '605': 0.0,\n",
       " '621': 0.0,\n",
       " '20': 0.0,\n",
       " '387': 0.0,\n",
       " '615': 0.0,\n",
       " '151': 0.0,\n",
       " '977': 0.0,\n",
       " '1232': 0.0,\n",
       " '513': 0.0,\n",
       " '634': 0.0,\n",
       " '156': 0.0,\n",
       " '691': 0.0,\n",
       " '34': 0.0,\n",
       " '1870': 0.0,\n",
       " '869': 0.0,\n",
       " '452': 0.0,\n",
       " '866': 0.0,\n",
       " '1332': 0.0,\n",
       " '502': 0.0,\n",
       " '454': 0.0,\n",
       " '201': 0.0,\n",
       " '245': 0.0,\n",
       " '687': 0.0,\n",
       " '582': 0.0,\n",
       " '642': 0.0,\n",
       " '564': 0.0,\n",
       " '1401': 0.0,\n",
       " '753': 0.0,\n",
       " '38': 0.0,\n",
       " '159': 0.0,\n",
       " '577': 0.0,\n",
       " '857': 0.0,\n",
       " '124': 0.0,\n",
       " '725': 0.0,\n",
       " '274': 0.0,\n",
       " '871': 0.0,\n",
       " '111': 1.0,\n",
       " '202': 0.0,\n",
       " '62': 0.0,\n",
       " '428': 0.0,\n",
       " '544': 0.0,\n",
       " '122': 0.0,\n",
       " '275': 0.0,\n",
       " '63': 0.0,\n",
       " '991': 0.0,\n",
       " '448': 0.0,\n",
       " '145': 0.0,\n",
       " '343': 0.0,\n",
       " '923': 0.0,\n",
       " '346': 0.0,\n",
       " '70': 0.0,\n",
       " '649': 0.0,\n",
       " '429': 0.0,\n",
       " '763': 0.0,\n",
       " '80': 0.0,\n",
       " '941': 0.0,\n",
       " '85': 0.0,\n",
       " '214': 0.0,\n",
       " '213': 0.0,\n",
       " '650': 0.0,\n",
       " '440': 0.0,\n",
       " '447': 0.0,\n",
       " '184': 0.0,\n",
       " '1218': 0.0,\n",
       " '181': 0.0,\n",
       " '777': 0.0,\n",
       " '525': 0.0,\n",
       " '1214': 0.0,\n",
       " '1828': 0.0,\n",
       " '487': 0.0,\n",
       " '280': 0.0,\n",
       " '1339': 0.0,\n",
       " '149': 0.0,\n",
       " '1212': 0.0,\n",
       " '970': 0.0,\n",
       " '116': 0.0,\n",
       " '836': 0.0,\n",
       " '826': 0.0,\n",
       " '194': 0.0,\n",
       " '601': 0.0,\n",
       " '954': 1.0,\n",
       " '353': 0.0,\n",
       " '179': 0.0,\n",
       " '125': 0.0,\n",
       " '1423': 0.0,\n",
       " '1336': 0.0,\n",
       " '466': 0.0,\n",
       " '797': 0.0,\n",
       " '959': 0.0,\n",
       " '624': 0.0,\n",
       " '769': 0.0,\n",
       " '376': 0.0,\n",
       " '638': 0.0,\n",
       " '1237': 0.0,\n",
       " '1067': 0.0,\n",
       " '694': 0.0,\n",
       " '841': 0.0,\n",
       " '945': 1.0,\n",
       " '984': 0.0,\n",
       " '908': 0.0,\n",
       " '1228': 0.0,\n",
       " '290': 0.0,\n",
       " '576': 0.0,\n",
       " '1201': 0.0,\n",
       " '496': 0.0,\n",
       " '640': 0.0,\n",
       " '219': 0.0,\n",
       " '1238': 0.0,\n",
       " '491': 0.0,\n",
       " '246': 0.0,\n",
       " '1543': 0.0,\n",
       " '1260': 0.0,\n",
       " '1784': 0.0,\n",
       " '335': 0.0}"
      ]
     },
     "execution_count": 3,
     "metadata": {},
     "output_type": "execute_result"
    }
   ],
   "source": [
    "seeds = pygrank.to_signal(graph, communities[0]) ## 2BIO1 class\n",
    "sensitive = pygrank.to_signal(graph, communities[1]) ## females\n",
    "train, test = pygrank.split(seeds, 0.8)\n",
    "dict(test)  ## what graph signals look like"
   ]
  },
  {
   "cell_type": "code",
   "execution_count": 4,
   "id": "1d8c2504",
   "metadata": {},
   "outputs": [
    {
     "data": {
      "text/plain": [
       "array([0., 0., 0., 0., 0., 0., 0., 0., 0., 0., 0., 0., 0., 0., 0., 0., 1.,\n",
       "       0., 0., 0., 0., 0., 0., 0., 0., 0., 0., 0., 0., 0., 0., 0., 0., 0.,\n",
       "       0., 0., 0., 0., 0., 0., 0., 0., 0., 0., 0., 0., 0., 0., 0., 0., 0.,\n",
       "       0., 0., 0., 0., 0., 0., 0., 0., 0., 0., 0., 0., 0., 0., 0., 0., 0.,\n",
       "       0., 0., 0., 0., 0., 0., 0., 0., 0., 0., 1., 0., 0., 0., 0., 0., 0.,\n",
       "       0., 0., 0., 0., 0., 0., 0., 0., 0., 0., 0., 0., 0., 0., 0., 0., 0.,\n",
       "       0., 0., 0., 0., 0., 0., 0., 0., 0., 0., 0., 0., 0., 0., 0., 0., 0.,\n",
       "       0., 0., 0., 1., 0., 0., 0., 0., 0., 0., 0., 0., 0., 0., 0., 0., 0.,\n",
       "       0., 0., 0., 1., 0., 0., 0., 0., 0., 0., 0., 0., 0., 0., 0., 0., 0.,\n",
       "       0., 0., 0.])"
      ]
     },
     "execution_count": 4,
     "metadata": {},
     "output_type": "execute_result"
    }
   ],
   "source": [
    "test.np  ## internal array representation"
   ]
  },
  {
   "cell_type": "code",
   "execution_count": 5,
   "id": "59cea9f1",
   "metadata": {},
   "outputs": [
    {
     "data": {
      "text/plain": [
       "array([0., 0., 0., 0., 0., 0., 0., 0., 0., 0., 0., 0., 0., 0., 0., 1., 0.,\n",
       "       0., 0., 0., 0., 0., 0., 0., 0., 0., 0., 0., 0., 0., 0., 0., 0., 0.,\n",
       "       0., 0., 0., 0., 0., 0., 0., 0., 0., 0., 0., 0., 0., 0., 0., 0., 0.,\n",
       "       0., 0., 0., 0., 0., 0., 0., 0., 0., 0., 0., 0., 0., 0., 0., 0., 0.,\n",
       "       0., 0., 0., 0., 0., 1., 0., 0., 0., 0., 0., 0., 0., 0., 0., 0., 0.,\n",
       "       0., 0., 0., 0., 0., 0., 0., 0., 0., 0., 0., 0., 0., 0., 0., 0., 0.,\n",
       "       0., 0., 0., 0., 0., 0., 0., 0., 1., 0., 0., 0., 0., 0., 0., 0., 0.,\n",
       "       0., 0., 0., 0., 0., 0., 0., 0., 1., 0., 0., 0., 0., 0., 0., 0., 0.,\n",
       "       0., 0., 0., 0., 0., 0., 0.])"
      ]
     },
     "execution_count": 5,
     "metadata": {},
     "output_type": "execute_result"
    }
   ],
   "source": [
    "test.filter(exclude=train)  ## the array representation without elements for which train==1"
   ]
  },
  {
   "cell_type": "markdown",
   "id": "f81b488a",
   "metadata": {},
   "source": [
    "### Run a node ranking algorithm"
   ]
  },
  {
   "cell_type": "code",
   "execution_count": 6,
   "id": "1d869ef6",
   "metadata": {},
   "outputs": [
    {
     "name": "stdout",
     "output_type": "stream",
     "text": [
      "Positive train 13\n",
      "Positive preds 20\n"
     ]
    }
   ],
   "source": [
    "algorithm = pygrank.PageRank(alpha=0.85)\n",
    "predictions = algorithm(train)\n",
    "predictions = predictions*(1-train) >> pygrank.Top(20)  ## set training scores to zero to not suggest them in the top20\n",
    "print(f\"Positive train {train.np.sum():.0f}\")\n",
    "print(f\"Positive preds {predictions.np.sum():.0f}\")"
   ]
  },
  {
   "cell_type": "code",
   "execution_count": 7,
   "id": "0bf19a45",
   "metadata": {},
   "outputs": [
    {
     "data": {
      "text/html": [
       "<table><tr><td><strong>sensitive0.0</strong></td><td>81</td></tr><tr><td><strong>sensitive1.0</strong></td><td>62</td></tr></table>"
      ],
      "text/plain": [
       "<fairbench.forks.fork.Fork object at 0x0000026A566187F0>"
      ]
     },
     "execution_count": 7,
     "metadata": {},
     "output_type": "execute_result"
    }
   ],
   "source": [
    "test_labels = test.filter(exclude=train)\n",
    "test_preds = predictions.filter(exclude=train)\n",
    "test_sensitive = sensitive.filter(exclude=train)\n",
    "test_sensitive = fb.Fork(sensitive=fb.categories@test_sensitive)\n",
    "test_sensitive.sum()"
   ]
  },
  {
   "cell_type": "code",
   "execution_count": 8,
   "id": "daebae38",
   "metadata": {},
   "outputs": [
    {
     "data": {
      "text/html": [
       "<div style=\"display: inline-block; float: left;\"><h3>min</h3><table><tr><td><strong>accuracy</strong></td><td>0.758</td></tr><tr><td><strong>pr</strong></td><td>0.062</td></tr><tr><td><strong>tpr</strong></td><td>0.000</td></tr><tr><td><strong>tnr</strong></td><td>0.957</td></tr></table></div><div style=\"display: inline-block; float: left;\"><h3>wmean</h3><table><tr><td><strong>accuracy</strong></td><td>0.860</td></tr><tr><td><strong>pr</strong></td><td>0.140</td></tr><tr><td><strong>tpr</strong></td><td>0.058</td></tr><tr><td><strong>tnr</strong></td><td>0.982</td></tr></table></div><div style=\"display: inline-block; float: left;\"><h3>minratio</h3><table><tr><td><strong>accuracy</strong></td><td>0.808</td></tr><tr><td><strong>pr</strong></td><td>0.255</td></tr><tr><td><strong>tpr</strong></td><td>0.000</td></tr><tr><td><strong>tnr</strong></td><td>0.957</td></tr></table></div><div style=\"display: inline-block; float: left;\"><h3>maxdiff</h3><table><tr><td><strong>accuracy</strong></td><td>0.180</td></tr><tr><td><strong>pr</strong></td><td>0.180</td></tr><tr><td><strong>tpr</strong></td><td>0.133</td></tr><tr><td><strong>tnr</strong></td><td>0.043</td></tr></table></div><div style=\"display: inline-block; float: left;\"><h3>maxbarea</h3><table><tr><td><strong>accuracy</strong></td><td>---</td></tr><tr><td><strong>pr</strong></td><td>---</td></tr><tr><td><strong>tpr</strong></td><td>---</td></tr><tr><td><strong>tnr</strong></td><td>---</td></tr></table></div>"
      ],
      "text/plain": [
       "<fairbench.forks.fork.Fork object at 0x0000026A566B23E0>"
      ]
     },
     "execution_count": 8,
     "metadata": {},
     "output_type": "execute_result"
    }
   ],
   "source": [
    "report = fb.multireport(labels=test_labels, predictions=test_preds, sensitive=test_sensitive)\n",
    "report"
   ]
  },
  {
   "cell_type": "markdown",
   "id": "32ad3850",
   "metadata": {},
   "source": [
    "### Run fairness-aware node ranking"
   ]
  },
  {
   "cell_type": "code",
   "execution_count": 9,
   "id": "9a8dfd59",
   "metadata": {},
   "outputs": [
    {
     "data": {
      "text/html": [
       "<div style=\"display: inline-block; float: left;\"><h3>min</h3><table><tr><td><strong>accuracy</strong></td><td>0.790</td></tr><tr><td><strong>pr</strong></td><td>0.136</td></tr><tr><td><strong>tpr</strong></td><td>0.000</td></tr><tr><td><strong>tnr</strong></td><td>0.925</td></tr></table></div><div style=\"display: inline-block; float: left;\"><h3>wmean</h3><table><tr><td><strong>accuracy</strong></td><td>0.832</td></tr><tr><td><strong>pr</strong></td><td>0.140</td></tr><tr><td><strong>tpr</strong></td><td>0.000</td></tr><tr><td><strong>tnr</strong></td><td>0.967</td></tr></table></div><div style=\"display: inline-block; float: left;\"><h3>minratio</h3><table><tr><td><strong>accuracy</strong></td><td>0.915</td></tr><tr><td><strong>pr</strong></td><td>0.936</td></tr><tr><td><strong>tpr</strong></td><td>inf</td></tr><tr><td><strong>tnr</strong></td><td>0.925</td></tr></table></div><div style=\"display: inline-block; float: left;\"><h3>maxdiff</h3><table><tr><td><strong>accuracy</strong></td><td>0.074</td></tr><tr><td><strong>pr</strong></td><td>0.009</td></tr><tr><td><strong>tpr</strong></td><td>0.000</td></tr><tr><td><strong>tnr</strong></td><td>0.075</td></tr></table></div><div style=\"display: inline-block; float: left;\"><h3>maxbarea</h3><table><tr><td><strong>accuracy</strong></td><td>---</td></tr><tr><td><strong>pr</strong></td><td>---</td></tr><tr><td><strong>tpr</strong></td><td>---</td></tr><tr><td><strong>tnr</strong></td><td>---</td></tr></table></div>"
      ],
      "text/plain": [
       "<fairbench.forks.fork.Fork object at 0x0000026A566ED3C0>"
      ]
     },
     "execution_count": 9,
     "metadata": {},
     "output_type": "execute_result"
    }
   ],
   "source": [
    "fair_algorithm = pygrank.LFPR(alpha=0.85, redistributor=\"original\")\n",
    "fair_predictions = fair_algorithm(train, sensitive=sensitive)\n",
    "fair_predictions = fair_predictions*(1-train) >> pygrank.Top(20)\n",
    "fair_test_preds = fair_predictions.filter(exclude=train)\n",
    "\n",
    "fair_report = fb.multireport(labels=test_labels, predictions=fair_test_preds, sensitive=test_sensitive)\n",
    "fair_report"
   ]
  },
  {
   "cell_type": "code",
   "execution_count": 10,
   "id": "96c380b8",
   "metadata": {},
   "outputs": [
    {
     "data": {
      "image/png": "[encoded data removed]",
      "text/plain": [
       "<Figure size 640x480 with 2 Axes>"
      ]
     },
     "metadata": {},
     "output_type": "display_data"
    }
   ],
   "source": [
    "compare = fb.Fork(ppr=report, lfpro=fair_report)\n",
    "compare = fb.extract(accuracy=compare.min, pr=compare.minratio)\n",
    "fb.visualize(compare)"
   ]
  },
  {
   "cell_type": "code",
   "execution_count": 11,
   "id": "b546544d",
   "metadata": {},
   "outputs": [
    {
     "data": {
      "text/html": [
       "<style>\n",
       "        .bk-notebook-logo {\n",
       "            display: block;\n",
       "            width: 20px;\n",
       "            height: 20px;\n",
       "            background-image: url(data:image/png;base64,iVBORw0KGgoAAAANSUhEUgAAABQAAAAUCAYAAACNiR0NAAAABHNCSVQICAgIfAhkiAAAAAlwSFlzAAALEgAACxIB0t1+/AAAABx0RVh0U29mdHdhcmUAQWRvYmUgRmlyZXdvcmtzIENTNui8sowAAAOkSURBVDiNjZRtaJVlGMd/1/08zzln5zjP1LWcU9N0NkN8m2CYjpgQYQXqSs0I84OLIC0hkEKoPtiH3gmKoiJDU7QpLgoLjLIQCpEsNJ1vqUOdO7ppbuec5+V+rj4ctwzd8IIbbi6u+8f1539dt3A78eXC7QizUF7gyV1fD1Yqg4JWz84yffhm0qkFqBogB9rM8tZdtwVsPUhWhGcFJngGeWrPzHm5oaMmkfEg1usvLFyc8jLRqDOMru7AyC8saQr7GG7f5fvDeH7Ej8CM66nIF+8yngt6HWaKh7k49Soy9nXurCi1o3qUbS3zWfrYeQDTB/Qj6kX6Ybhw4B+bOYoLKCC9H3Nu/leUTZ1JdRWkkn2ldcCamzrcf47KKXdAJllSlxAOkRgyHsGC/zRday5Qld9DyoM4/q/rUoy/CXh3jzOu3bHUVZeU+DEn8FInkPBFlu3+nW3Nw0mk6vCDiWg8CeJaxEwuHS3+z5RgY+YBR6V1Z1nxSOfoaPa4LASWxxdNp+VWTk7+4vzaou8v8PN+xo+KY2xsw6une2frhw05CTYOmQvsEhjhWjn0bmXPjpE1+kplmmkP3suftwTubK9Vq22qKmrBhpY4jvd5afdRA3wGjFAgcnTK2s4hY0/GPNIb0nErGMCRxWOOX64Z8RAC4oCXdklmEvcL8o0BfkNK4lUg9HTl+oPlQxdNo3Mg4Nv175e/1LDGzZen30MEjRUtmXSfiTVu1kK8W4txyV6BMKlbgk3lMwYCiusNy9fVfvvwMxv8Ynl6vxoByANLTWplvuj/nF9m2+PDtt1eiHPBr1oIfhCChQMBw6Aw0UulqTKZdfVvfG7VcfIqLG9bcldL/+pdWTLxLUy8Qq38heUIjh4XlzZxzQm19lLFlr8vdQ97rjZVOLf8nclzckbcD4wxXMidpX30sFd37Fv/GtwwhzhxGVAprjbg0gCAEeIgwCZyTV2Z1REEW8O4py0wsjeloKoMr6iCY6dP92H6Vw/oTyICIthibxjm/DfN9lVz8IqtqKYLUXfoKVMVQVVJOElGjrnnUt9T9wbgp8AyYKaGlqingHZU/uG2NTZSVqwHQTWkx9hxjkpWDaCg6Ckj5qebgBVbT3V3NNXMSiWSDdGV3hrtzla7J+duwPOToIg42ChPQOQjspnSlp1V+Gjdged7+8UN5CRAV7a5EdFNwCjEaBR27b3W890TE7g24NAP/mMDXRWrGoFPQI9ls/MWO2dWFAar/xcOIImbbpA3zgAAAABJRU5ErkJggg==);\n",
       "        }\n",
       "    </style>\n",
       "    <div>\n",
       "        <a href=\"https://bokeh.org\" target=\"_blank\" class=\"bk-notebook-logo\"></a>\n",
       "        <span id=\"p1001\">Loading BokehJS ...</span>\n",
       "    </div>\n"
      ]
     },
     "metadata": {},
     "output_type": "display_data"
    },
    {
     "data": {
      "application/javascript": [
       "(function(root) {\n",
       "  function now() {\n",
       "    return new Date();\n",
       "  }\n",
       "\n",
       "  const force = true;\n",
       "\n",
       "  if (typeof root._bokeh_onload_callbacks === \"undefined\" || force === true) {\n",
       "    root._bokeh_onload_callbacks = [];\n",
       "    root._bokeh_is_loading = undefined;\n",
       "  }\n",
       "\n",
       "const JS_MIME_TYPE = 'application/javascript';\n",
       "  const HTML_MIME_TYPE = 'text/html';\n",
       "  const EXEC_MIME_TYPE = 'application/vnd.bokehjs_exec.v0+json';\n",
       "  const CLASS_NAME = 'output_bokeh rendered_html';\n",
       "\n",
       "  /**\n",
       "   * Render data to the DOM node\n",
       "   */\n",
       "  function render(props, node) {\n",
       "    const script = document.createElement(\"script\");\n",
       "    node.appendChild(script);\n",
       "  }\n",
       "\n",
       "  /**\n",
       "   * Handle when an output is cleared or removed\n",
       "   */\n",
       "  function handleClearOutput(event, handle) {\n",
       "    const cell = handle.cell;\n",
       "\n",
       "    const id = cell.output_area._bokeh_element_id;\n",
       "    const server_id = cell.output_area._bokeh_server_id;\n",
       "    // Clean up Bokeh references\n",
       "    if (id != null && id in Bokeh.index) {\n",
       "      Bokeh.index[id].model.document.clear();\n",
       "      delete Bokeh.index[id];\n",
       "    }\n",
       "\n",
       "    if (server_id !== undefined) {\n",
       "      // Clean up Bokeh references\n",
       "      const cmd_clean = \"from bokeh.io.state import curstate; print(curstate().uuid_to_server['\" + server_id + \"'].get_sessions()[0].document.roots[0]._id)\";\n",
       "      cell.notebook.kernel.execute(cmd_clean, {\n",
       "        iopub: {\n",
       "          output: function(msg) {\n",
       "            const id = msg.content.text.trim();\n",
       "            if (id in Bokeh.index) {\n",
       "              Bokeh.index[id].model.document.clear();\n",
       "              delete Bokeh.index[id];\n",
       "            }\n",
       "          }\n",
       "        }\n",
       "      });\n",
       "      // Destroy server and session\n",
       "      const cmd_destroy = \"import bokeh.io.notebook as ion; ion.destroy_server('\" + server_id + \"')\";\n",
       "      cell.notebook.kernel.execute(cmd_destroy);\n",
       "    }\n",
       "  }\n",
       "\n",
       "  /**\n",
       "   * Handle when a new output is added\n",
       "   */\n",
       "  function handleAddOutput(event, handle) {\n",
       "    const output_area = handle.output_area;\n",
       "    const output = handle.output;\n",
       "\n",
       "    // limit handleAddOutput to display_data with EXEC_MIME_TYPE content only\n",
       "    if ((output.output_type != \"display_data\") || (!Object.prototype.hasOwnProperty.call(output.data, EXEC_MIME_TYPE))) {\n",
       "      return\n",
       "    }\n",
       "\n",
       "    const toinsert = output_area.element.find(\".\" + CLASS_NAME.split(' ')[0]);\n",
       "\n",
       "    if (output.metadata[EXEC_MIME_TYPE][\"id\"] !== undefined) {\n",
       "      toinsert[toinsert.length - 1].firstChild.textContent = output.data[JS_MIME_TYPE];\n",
       "      // store reference to embed id on output_area\n",
       "      output_area._bokeh_element_id = output.metadata[EXEC_MIME_TYPE][\"id\"];\n",
       "    }\n",
       "    if (output.metadata[EXEC_MIME_TYPE][\"server_id\"] !== undefined) {\n",
       "      const bk_div = document.createElement(\"div\");\n",
       "      bk_div.innerHTML = output.data[HTML_MIME_TYPE];\n",
       "      const script_attrs = bk_div.children[0].attributes;\n",
       "      for (let i = 0; i < script_attrs.length; i++) {\n",
       "        toinsert[toinsert.length - 1].firstChild.setAttribute(script_attrs[i].name, script_attrs[i].value);\n",
       "        toinsert[toinsert.length - 1].firstChild.textContent = bk_div.children[0].textContent\n",
       "      }\n",
       "      // store reference to server id on output_area\n",
       "      output_area._bokeh_server_id = output.metadata[EXEC_MIME_TYPE][\"server_id\"];\n",
       "    }\n",
       "  }\n",
       "\n",
       "  function register_renderer(events, OutputArea) {\n",
       "\n",
       "    function append_mime(data, metadata, element) {\n",
       "      // create a DOM node to render to\n",
       "      const toinsert = this.create_output_subarea(\n",
       "        metadata,\n",
       "        CLASS_NAME,\n",
       "        EXEC_MIME_TYPE\n",
       "      );\n",
       "      this.keyboard_manager.register_events(toinsert);\n",
       "      // Render to node\n",
       "      const props = {data: data, metadata: metadata[EXEC_MIME_TYPE]};\n",
       "      render(props, toinsert[toinsert.length - 1]);\n",
       "      element.append(toinsert);\n",
       "      return toinsert\n",
       "    }\n",
       "\n",
       "    /* Handle when an output is cleared or removed */\n",
       "    events.on('clear_output.CodeCell', handleClearOutput);\n",
       "    events.on('delete.Cell', handleClearOutput);\n",
       "\n",
       "    /* Handle when a new output is added */\n",
       "    events.on('output_added.OutputArea', handleAddOutput);\n",
       "\n",
       "    /**\n",
       "     * Register the mime type and append_mime function with output_area\n",
       "     */\n",
       "    OutputArea.prototype.register_mime_type(EXEC_MIME_TYPE, append_mime, {\n",
       "      /* Is output safe? */\n",
       "      safe: true,\n",
       "      /* Index of renderer in `output_area.display_order` */\n",
       "      index: 0\n",
       "    });\n",
       "  }\n",
       "\n",
       "  // register the mime type if in Jupyter Notebook environment and previously unregistered\n",
       "  if (root.Jupyter !== undefined) {\n",
       "    const events = require('base/js/events');\n",
       "    const OutputArea = require('notebook/js/outputarea').OutputArea;\n",
       "\n",
       "    if (OutputArea.prototype.mime_types().indexOf(EXEC_MIME_TYPE) == -1) {\n",
       "      register_renderer(events, OutputArea);\n",
       "    }\n",
       "  }\n",
       "  if (typeof (root._bokeh_timeout) === \"undefined\" || force === true) {\n",
       "    root._bokeh_timeout = Date.now() + 5000;\n",
       "    root._bokeh_failed_load = false;\n",
       "  }\n",
       "\n",
       "  const NB_LOAD_WARNING = {'data': {'text/html':\n",
       "     \"<div style='background-color: #fdd'>\\n\"+\n",
       "     \"<p>\\n\"+\n",
       "     \"BokehJS does not appear to have successfully loaded. If loading BokehJS from CDN, this \\n\"+\n",
       "     \"may be due to a slow or bad network connection. Possible fixes:\\n\"+\n",
       "     \"</p>\\n\"+\n",
       "     \"<ul>\\n\"+\n",
       "     \"<li>re-rerun `output_notebook()` to attempt to load from CDN again, or</li>\\n\"+\n",
       "     \"<li>use INLINE resources instead, as so:</li>\\n\"+\n",
       "     \"</ul>\\n\"+\n",
       "     \"<code>\\n\"+\n",
       "     \"from bokeh.resources import INLINE\\n\"+\n",
       "     \"output_notebook(resources=INLINE)\\n\"+\n",
       "     \"</code>\\n\"+\n",
       "     \"</div>\"}};\n",
       "\n",
       "  function display_loaded() {\n",
       "    const el = document.getElementById(\"p1001\");\n",
       "    if (el != null) {\n",
       "      el.textContent = \"BokehJS is loading...\";\n",
       "    }\n",
       "    if (root.Bokeh !== undefined) {\n",
       "      if (el != null) {\n",
       "        el.textContent = \"BokehJS \" + root.Bokeh.version + \" successfully loaded.\";\n",
       "      }\n",
       "    } else if (Date.now() < root._bokeh_timeout) {\n",
       "      setTimeout(display_loaded, 100)\n",
       "    }\n",
       "  }\n",
       "\n",
       "  function run_callbacks() {\n",
       "    try {\n",
       "      root._bokeh_onload_callbacks.forEach(function(callback) {\n",
       "        if (callback != null)\n",
       "          callback();\n",
       "      });\n",
       "    } finally {\n",
       "      delete root._bokeh_onload_callbacks\n",
       "    }\n",
       "    console.debug(\"Bokeh: all callbacks have finished\");\n",
       "  }\n",
       "\n",
       "  function load_libs(css_urls, js_urls, callback) {\n",
       "    if (css_urls == null) css_urls = [];\n",
       "    if (js_urls == null) js_urls = [];\n",
       "\n",
       "    root._bokeh_onload_callbacks.push(callback);\n",
       "    if (root._bokeh_is_loading > 0) {\n",
       "      console.debug(\"Bokeh: BokehJS is being loaded, scheduling callback at\", now());\n",
       "      return null;\n",
       "    }\n",
       "    if (js_urls == null || js_urls.length === 0) {\n",
       "      run_callbacks();\n",
       "      return null;\n",
       "    }\n",
       "    console.debug(\"Bokeh: BokehJS not loaded, scheduling load and callback at\", now());\n",
       "    root._bokeh_is_loading = css_urls.length + js_urls.length;\n",
       "\n",
       "    function on_load() {\n",
       "      root._bokeh_is_loading--;\n",
       "      if (root._bokeh_is_loading === 0) {\n",
       "        console.debug(\"Bokeh: all BokehJS libraries/stylesheets loaded\");\n",
       "        run_callbacks()\n",
       "      }\n",
       "    }\n",
       "\n",
       "    function on_error(url) {\n",
       "      console.error(\"failed to load \" + url);\n",
       "    }\n",
       "\n",
       "    for (let i = 0; i < css_urls.length; i++) {\n",
       "      const url = css_urls[i];\n",
       "      const element = document.createElement(\"link\");\n",
       "      element.onload = on_load;\n",
       "      element.onerror = on_error.bind(null, url);\n",
       "      element.rel = \"stylesheet\";\n",
       "      element.type = \"text/css\";\n",
       "      element.href = url;\n",
       "      console.debug(\"Bokeh: injecting link tag for BokehJS stylesheet: \", url);\n",
       "      document.body.appendChild(element);\n",
       "    }\n",
       "\n",
       "    for (let i = 0; i < js_urls.length; i++) {\n",
       "      const url = js_urls[i];\n",
       "      const element = document.createElement('script');\n",
       "      element.onload = on_load;\n",
       "      element.onerror = on_error.bind(null, url);\n",
       "      element.async = false;\n",
       "      element.src = url;\n",
       "      console.debug(\"Bokeh: injecting script tag for BokehJS library: \", url);\n",
       "      document.head.appendChild(element);\n",
       "    }\n",
       "  };\n",
       "\n",
       "  function inject_raw_css(css) {\n",
       "    const element = document.createElement(\"style\");\n",
       "    element.appendChild(document.createTextNode(css));\n",
       "    document.body.appendChild(element);\n",
       "  }\n",
       "\n",
       "  const js_urls = [\"https://cdn.bokeh.org/bokeh/release/bokeh-3.0.3.min.js\", \"https://cdn.bokeh.org/bokeh/release/bokeh-gl-3.0.3.min.js\", \"https://cdn.bokeh.org/bokeh/release/bokeh-widgets-3.0.3.min.js\", \"https://cdn.bokeh.org/bokeh/release/bokeh-tables-3.0.3.min.js\", \"https://cdn.bokeh.org/bokeh/release/bokeh-mathjax-3.0.3.min.js\"];\n",
       "  const css_urls = [];\n",
       "\n",
       "  const inline_js = [    function(Bokeh) {\n",
       "      Bokeh.set_log_level(\"info\");\n",
       "    },\n",
       "function(Bokeh) {\n",
       "    }\n",
       "  ];\n",
       "\n",
       "  function run_inline_js() {\n",
       "    if (root.Bokeh !== undefined || force === true) {\n",
       "          for (let i = 0; i < inline_js.length; i++) {\n",
       "      inline_js[i].call(root, root.Bokeh);\n",
       "    }\n",
       "if (force === true) {\n",
       "        display_loaded();\n",
       "      }} else if (Date.now() < root._bokeh_timeout) {\n",
       "      setTimeout(run_inline_js, 100);\n",
       "    } else if (!root._bokeh_failed_load) {\n",
       "      console.log(\"Bokeh: BokehJS failed to load within specified timeout.\");\n",
       "      root._bokeh_failed_load = true;\n",
       "    } else if (force !== true) {\n",
       "      const cell = $(document.getElementById(\"p1001\")).parents('.cell').data().cell;\n",
       "      cell.output_area.append_execute_result(NB_LOAD_WARNING)\n",
       "    }\n",
       "  }\n",
       "\n",
       "  if (root._bokeh_is_loading === 0) {\n",
       "    console.debug(\"Bokeh: BokehJS loaded, going straight to plotting\");\n",
       "    run_inline_js();\n",
       "  } else {\n",
       "    load_libs(css_urls, js_urls, function() {\n",
       "      console.debug(\"Bokeh: BokehJS plotting callback run at\", now());\n",
       "      run_inline_js();\n",
       "    });\n",
       "  }\n",
       "}(window));"
      ],
      "application/vnd.bokehjs_load.v0+json": "(function(root) {\n  function now() {\n    return new Date();\n  }\n\n  const force = true;\n\n  if (typeof root._bokeh_onload_callbacks === \"undefined\" || force === true) {\n    root._bokeh_onload_callbacks = [];\n    root._bokeh_is_loading = undefined;\n  }\n\n\n  if (typeof (root._bokeh_timeout) === \"undefined\" || force === true) {\n    root._bokeh_timeout = Date.now() + 5000;\n    root._bokeh_failed_load = false;\n  }\n\n  const NB_LOAD_WARNING = {'data': {'text/html':\n     \"<div style='background-color: #fdd'>\\n\"+\n     \"<p>\\n\"+\n     \"BokehJS does not appear to have successfully loaded. If loading BokehJS from CDN, this \\n\"+\n     \"may be due to a slow or bad network connection. Possible fixes:\\n\"+\n     \"</p>\\n\"+\n     \"<ul>\\n\"+\n     \"<li>re-rerun `output_notebook()` to attempt to load from CDN again, or</li>\\n\"+\n     \"<li>use INLINE resources instead, as so:</li>\\n\"+\n     \"</ul>\\n\"+\n     \"<code>\\n\"+\n     \"from bokeh.resources import INLINE\\n\"+\n     \"output_notebook(resources=INLINE)\\n\"+\n     \"</code>\\n\"+\n     \"</div>\"}};\n\n  function display_loaded() {\n    const el = document.getElementById(\"p1001\");\n    if (el != null) {\n      el.textContent = \"BokehJS is loading...\";\n    }\n    if (root.Bokeh !== undefined) {\n      if (el != null) {\n        el.textContent = \"BokehJS \" + root.Bokeh.version + \" successfully loaded.\";\n      }\n    } else if (Date.now() < root._bokeh_timeout) {\n      setTimeout(display_loaded, 100)\n    }\n  }\n\n  function run_callbacks() {\n    try {\n      root._bokeh_onload_callbacks.forEach(function(callback) {\n        if (callback != null)\n          callback();\n      });\n    } finally {\n      delete root._bokeh_onload_callbacks\n    }\n    console.debug(\"Bokeh: all callbacks have finished\");\n  }\n\n  function load_libs(css_urls, js_urls, callback) {\n    if (css_urls == null) css_urls = [];\n    if (js_urls == null) js_urls = [];\n\n    root._bokeh_onload_callbacks.push(callback);\n    if (root._bokeh_is_loading > 0) {\n      console.debug(\"Bokeh: BokehJS is being loaded, scheduling callback at\", now());\n      return null;\n    }\n    if (js_urls == null || js_urls.length === 0) {\n      run_callbacks();\n      return null;\n    }\n    console.debug(\"Bokeh: BokehJS not loaded, scheduling load and callback at\", now());\n    root._bokeh_is_loading = css_urls.length + js_urls.length;\n\n    function on_load() {\n      root._bokeh_is_loading--;\n      if (root._bokeh_is_loading === 0) {\n        console.debug(\"Bokeh: all BokehJS libraries/stylesheets loaded\");\n        run_callbacks()\n      }\n    }\n\n    function on_error(url) {\n      console.error(\"failed to load \" + url);\n    }\n\n    for (let i = 0; i < css_urls.length; i++) {\n      const url = css_urls[i];\n      const element = document.createElement(\"link\");\n      element.onload = on_load;\n      element.onerror = on_error.bind(null, url);\n      element.rel = \"stylesheet\";\n      element.type = \"text/css\";\n      element.href = url;\n      console.debug(\"Bokeh: injecting link tag for BokehJS stylesheet: \", url);\n      document.body.appendChild(element);\n    }\n\n    for (let i = 0; i < js_urls.length; i++) {\n      const url = js_urls[i];\n      const element = document.createElement('script');\n      element.onload = on_load;\n      element.onerror = on_error.bind(null, url);\n      element.async = false;\n      element.src = url;\n      console.debug(\"Bokeh: injecting script tag for BokehJS library: \", url);\n      document.head.appendChild(element);\n    }\n  };\n\n  function inject_raw_css(css) {\n    const element = document.createElement(\"style\");\n    element.appendChild(document.createTextNode(css));\n    document.body.appendChild(element);\n  }\n\n  const js_urls = [\"https://cdn.bokeh.org/bokeh/release/bokeh-3.0.3.min.js\", \"https://cdn.bokeh.org/bokeh/release/bokeh-gl-3.0.3.min.js\", \"https://cdn.bokeh.org/bokeh/release/bokeh-widgets-3.0.3.min.js\", \"https://cdn.bokeh.org/bokeh/release/bokeh-tables-3.0.3.min.js\", \"https://cdn.bokeh.org/bokeh/release/bokeh-mathjax-3.0.3.min.js\"];\n  const css_urls = [];\n\n  const inline_js = [    function(Bokeh) {\n      Bokeh.set_log_level(\"info\");\n    },\nfunction(Bokeh) {\n    }\n  ];\n\n  function run_inline_js() {\n    if (root.Bokeh !== undefined || force === true) {\n          for (let i = 0; i < inline_js.length; i++) {\n      inline_js[i].call(root, root.Bokeh);\n    }\nif (force === true) {\n        display_loaded();\n      }} else if (Date.now() < root._bokeh_timeout) {\n      setTimeout(run_inline_js, 100);\n    } else if (!root._bokeh_failed_load) {\n      console.log(\"Bokeh: BokehJS failed to load within specified timeout.\");\n      root._bokeh_failed_load = true;\n    } else if (force !== true) {\n      const cell = $(document.getElementById(\"p1001\")).parents('.cell').data().cell;\n      cell.output_area.append_execute_result(NB_LOAD_WARNING)\n    }\n  }\n\n  if (root._bokeh_is_loading === 0) {\n    console.debug(\"Bokeh: BokehJS loaded, going straight to plotting\");\n    run_inline_js();\n  } else {\n    load_libs(css_urls, js_urls, function() {\n      console.debug(\"Bokeh: BokehJS plotting callback run at\", now());\n      run_inline_js();\n    });\n  }\n}(window));"
     },
     "metadata": {},
     "output_type": "display_data"
    },
    {
     "data": {
      "application/vnd.bokehjs_exec.v0+json": "",
      "text/html": [
       "<script id=\"p1002\">\n",
       "  (function() {\n",
       "    const xhr = new XMLHttpRequest()\n",
       "    xhr.responseType = 'blob';\n",
       "    xhr.open('GET', \"http://localhost:61932/autoload.js?bokeh-autoload-element=p1002&bokeh-absolute-url=http://localhost:61932&resources=none\", true);\n",
       "    xhr.onload = function (event) {\n",
       "      const script = document.createElement('script');\n",
       "      const src = URL.createObjectURL(event.target.response);\n",
       "      script.src = src;\n",
       "      document.body.appendChild(script);\n",
       "    };\n",
       "    xhr.send();\n",
       "  })();\n",
       "</script>"
      ]
     },
     "metadata": {
      "application/vnd.bokehjs_exec.v0+json": {
       "server_id": "aa6f06a15865456e9178718eae76b7f8"
      }
     },
     "output_type": "display_data"
    }
   ],
   "source": [
    "fb.interactive(fb.Fork(ppr=report, lfpro=fair_report))"
   ]
  },
  {
   "cell_type": "markdown",
   "id": "e5d8b31a",
   "metadata": {},
   "source": [
    "### Cheatsheet on report manipulation\n",
    "\n",
    "#### Fork.branch1 ...\n",
    "Get a view of the fork's branch, if it exists. If it is a fork of forks, `branch1` can be the name of an internal fork branch.\n",
    "\n",
    "#### Fork.attr\n",
    "If `attr` is not a fork branch, this creates a new fork with each branch values the namesake attribute obtained from respective branches. This lets forks overload operations of their branch values, e.g. can call `fork.sum()` if each branch is a numpy array.\n",
    "\n",
    "#### fb.extract\n",
    "Get entries from forks of dicts. All forks should have the same branches. <br>\n",
    "**Example**: Use when gathering measure values from a fork of forks of dicts.\n",
    "\n",
    "#### fb.combine\n",
    "Create a fork that creates a super-fork whose branches are a collection of all individual fork branches.<br>\n",
    "**Example**: Use to add more columns to a fork of dicts.\n",
    "\n",
    "#### dictionary combination |\n",
    "Applies dictionary combination to all branches between forks (the forks should have the same branch names).<br>\n",
    "**Example**: Use to combine reports with the same branches but different metrics.\n",
    "\n",
    "#### fb.reduce\n",
    "Reduce all branches to one with an appropriate procedure. <br>\n",
    "If the fork has dictionary branches, these should have identical key sets. <br>\n",
    "The result will also have the same key set.\n",
    "*If `name=None` is provided, the result will be a raw tensor instead.*\n",
    "**Example**: Aggregate all branch results into one greater result."
   ]
  }
 ],
 "metadata": {
  "kernelspec": {
   "display_name": "Python 3 (ipykernel)",
   "language": "python",
   "name": "python3"
  },
  "language_info": {
   "codemirror_mode": {
    "name": "ipython",
    "version": 3
   },
   "file_extension": ".py",
   "mimetype": "text/x-python",
   "name": "python",
   "nbconvert_exporter": "python",
   "pygments_lexer": "ipython3",
   "version": "3.13.0"
  }
 },
 "nbformat": 4,
 "nbformat_minor": 5
}
